{
 "cells": [
  {
   "cell_type": "code",
   "execution_count": 2,
   "id": "445036ca",
   "metadata": {},
   "outputs": [],
   "source": [
    "import pandas as pd\n",
    "import numpy as np\n",
    "import seaborn as sns\n",
    "import matplotlib.pyplot as plt \n",
    "import keras\n",
    "\n",
    "from sklearn.model_selection import train_test_split, RandomizedSearchCV\n",
    "from sklearn.linear_model import LogisticRegression\n",
    "from sklearn.ensemble import RandomForestClassifier, AdaBoostClassifier\n",
    "from sklearn.svm import OneClassSVM\n",
    "from sklearn.preprocessing import OneHotEncoder\n",
    "from sklearn.feature_extraction.text import TfidfVectorizer\n",
    "from sklearn.metrics import classification_report, plot_confusion_matrix, f1_score, recall_score, precision_score, accuracy_score, confusion_matrix\n",
    "\n",
    "from keras.models import Sequential\n",
    "from keras.layers import Dense, LSTM, Embedding, Dropout\n",
    "from keras.preprocessing.text import Tokenizer\n",
    "from keras.preprocessing import sequence\n",
    "from keras.utils import pad_sequences\n",
    "\n",
    "from imblearn.over_sampling import RandomOverSampler\n",
    "import pickle"
   ]
  },
  {
   "cell_type": "markdown",
   "id": "8fe4481d",
   "metadata": {},
   "source": [
    "## Attribute 14 Test"
   ]
  },
  {
   "cell_type": "code",
   "execution_count": 2,
   "id": "f53e62bb",
   "metadata": {},
   "outputs": [],
   "source": [
    "df = pd.read_csv('ghg_labelled.csv')"
   ]
  },
  {
   "cell_type": "code",
   "execution_count": 3,
   "id": "51bca8df",
   "metadata": {},
   "outputs": [
    {
     "data": {
      "text/html": [
       "<div>\n",
       "<style scoped>\n",
       "    .dataframe tbody tr th:only-of-type {\n",
       "        vertical-align: middle;\n",
       "    }\n",
       "\n",
       "    .dataframe tbody tr th {\n",
       "        vertical-align: top;\n",
       "    }\n",
       "\n",
       "    .dataframe thead th {\n",
       "        text-align: right;\n",
       "    }\n",
       "</style>\n",
       "<table border=\"1\" class=\"dataframe\">\n",
       "  <thead>\n",
       "    <tr style=\"text-align: right;\">\n",
       "      <th></th>\n",
       "      <th>words</th>\n",
       "      <th>GT</th>\n",
       "    </tr>\n",
       "  </thead>\n",
       "  <tbody>\n",
       "    <tr>\n",
       "      <th>0</th>\n",
       "      <td>Definition of Science Based Targets (SBTi) Wit...</td>\n",
       "      <td>1</td>\n",
       "    </tr>\n",
       "    <tr>\n",
       "      <th>1</th>\n",
       "      <td>LOOKING AHEAD Befimmo aims to provide quantita...</td>\n",
       "      <td>1</td>\n",
       "    </tr>\n",
       "    <tr>\n",
       "      <th>2</th>\n",
       "      <td>Target: fully aligned by 2023 DESCRIPTION AND ...</td>\n",
       "      <td>1</td>\n",
       "    </tr>\n",
       "    <tr>\n",
       "      <th>3</th>\n",
       "      <td>The TCFD structured its recommendations around...</td>\n",
       "      <td>0</td>\n",
       "    </tr>\n",
       "    <tr>\n",
       "      <th>4</th>\n",
       "      <td>More details on the TCFD framework and impleme...</td>\n",
       "      <td>1</td>\n",
       "    </tr>\n",
       "  </tbody>\n",
       "</table>\n",
       "</div>"
      ],
      "text/plain": [
       "                                               words  GT\n",
       "0  Definition of Science Based Targets (SBTi) Wit...   1\n",
       "1  LOOKING AHEAD Befimmo aims to provide quantita...   1\n",
       "2  Target: fully aligned by 2023 DESCRIPTION AND ...   1\n",
       "3  The TCFD structured its recommendations around...   0\n",
       "4  More details on the TCFD framework and impleme...   1"
      ]
     },
     "execution_count": 3,
     "metadata": {},
     "output_type": "execute_result"
    }
   ],
   "source": [
    "df.head()"
   ]
  },
  {
   "cell_type": "code",
   "execution_count": 4,
   "id": "b47b5d09",
   "metadata": {},
   "outputs": [
    {
     "data": {
      "text/plain": [
       "751"
      ]
     },
     "execution_count": 4,
     "metadata": {},
     "output_type": "execute_result"
    }
   ],
   "source": [
    "len(df)"
   ]
  },
  {
   "cell_type": "code",
   "execution_count": 5,
   "id": "03fcb014",
   "metadata": {},
   "outputs": [],
   "source": [
    "X = df['words']"
   ]
  },
  {
   "cell_type": "code",
   "execution_count": 6,
   "id": "b55e32f9",
   "metadata": {},
   "outputs": [],
   "source": [
    "y = df['GT']"
   ]
  },
  {
   "cell_type": "markdown",
   "id": "f1d5b58f",
   "metadata": {},
   "source": [
    "### Word Embedding"
   ]
  },
  {
   "cell_type": "code",
   "execution_count": 7,
   "id": "b44b4173",
   "metadata": {},
   "outputs": [],
   "source": [
    "X = X.apply(lambda x: x.lower())"
   ]
  },
  {
   "cell_type": "code",
   "execution_count": 8,
   "id": "a5b42d4c",
   "metadata": {},
   "outputs": [
    {
     "data": {
      "text/plain": [
       "0      definition of science based targets (sbti) wit...\n",
       "1      looking ahead befimmo aims to provide quantita...\n",
       "2      target: fully aligned by 2023 description and ...\n",
       "3      the tcfd structured its recommendations around...\n",
       "4      more details on the tcfd framework and impleme...\n",
       "                             ...                        \n",
       "746    indirect ghg emissions related to the use by c...\n",
       "747    improving detection and measurement satellites...\n",
       "748    as of 2018, transportation generated approxima...\n",
       "749    the company follows the oil & gas industry rep...\n",
       "750    ghg yoto protocol: carbon dioxide (co2), the g...\n",
       "Name: words, Length: 751, dtype: object"
      ]
     },
     "execution_count": 8,
     "metadata": {},
     "output_type": "execute_result"
    }
   ],
   "source": [
    "X"
   ]
  },
  {
   "cell_type": "code",
   "execution_count": 9,
   "id": "2633ba96",
   "metadata": {},
   "outputs": [],
   "source": [
    "tfidf = TfidfVectorizer()"
   ]
  },
  {
   "cell_type": "code",
   "execution_count": 10,
   "id": "df905b4c",
   "metadata": {},
   "outputs": [],
   "source": [
    "x = tfidf.fit_transform(X)"
   ]
  },
  {
   "cell_type": "code",
   "execution_count": 11,
   "id": "1393f2bf",
   "metadata": {},
   "outputs": [],
   "source": [
    "X_encoded = pd.DataFrame(x.toarray())"
   ]
  },
  {
   "cell_type": "markdown",
   "id": "5c30642f",
   "metadata": {},
   "source": [
    "### Train Test Split"
   ]
  },
  {
   "cell_type": "code",
   "execution_count": 12,
   "id": "3bafebda",
   "metadata": {},
   "outputs": [],
   "source": [
    "X_train, X_test, y_train, y_test = train_test_split(X_encoded, y, test_size=0.2, random_state=42)"
   ]
  },
  {
   "cell_type": "code",
   "execution_count": 13,
   "id": "716dc924",
   "metadata": {},
   "outputs": [
    {
     "data": {
      "text/html": [
       "<div>\n",
       "<style scoped>\n",
       "    .dataframe tbody tr th:only-of-type {\n",
       "        vertical-align: middle;\n",
       "    }\n",
       "\n",
       "    .dataframe tbody tr th {\n",
       "        vertical-align: top;\n",
       "    }\n",
       "\n",
       "    .dataframe thead th {\n",
       "        text-align: right;\n",
       "    }\n",
       "</style>\n",
       "<table border=\"1\" class=\"dataframe\">\n",
       "  <thead>\n",
       "    <tr style=\"text-align: right;\">\n",
       "      <th></th>\n",
       "      <th>0</th>\n",
       "      <th>1</th>\n",
       "      <th>2</th>\n",
       "      <th>3</th>\n",
       "      <th>4</th>\n",
       "      <th>5</th>\n",
       "      <th>6</th>\n",
       "      <th>7</th>\n",
       "      <th>8</th>\n",
       "      <th>9</th>\n",
       "      <th>...</th>\n",
       "      <th>2896</th>\n",
       "      <th>2897</th>\n",
       "      <th>2898</th>\n",
       "      <th>2899</th>\n",
       "      <th>2900</th>\n",
       "      <th>2901</th>\n",
       "      <th>2902</th>\n",
       "      <th>2903</th>\n",
       "      <th>2904</th>\n",
       "      <th>2905</th>\n",
       "    </tr>\n",
       "  </thead>\n",
       "  <tbody>\n",
       "    <tr>\n",
       "      <th>131</th>\n",
       "      <td>0.0</td>\n",
       "      <td>0.0</td>\n",
       "      <td>0.0</td>\n",
       "      <td>0.0</td>\n",
       "      <td>0.0</td>\n",
       "      <td>0.0</td>\n",
       "      <td>0.0</td>\n",
       "      <td>0.0</td>\n",
       "      <td>0.0</td>\n",
       "      <td>0.0</td>\n",
       "      <td>...</td>\n",
       "      <td>0.0</td>\n",
       "      <td>0.0</td>\n",
       "      <td>0.0</td>\n",
       "      <td>0.0</td>\n",
       "      <td>0.0</td>\n",
       "      <td>0.0</td>\n",
       "      <td>0.000000</td>\n",
       "      <td>0.0</td>\n",
       "      <td>0.0</td>\n",
       "      <td>0.0</td>\n",
       "    </tr>\n",
       "    <tr>\n",
       "      <th>44</th>\n",
       "      <td>0.0</td>\n",
       "      <td>0.0</td>\n",
       "      <td>0.0</td>\n",
       "      <td>0.0</td>\n",
       "      <td>0.0</td>\n",
       "      <td>0.0</td>\n",
       "      <td>0.0</td>\n",
       "      <td>0.0</td>\n",
       "      <td>0.0</td>\n",
       "      <td>0.0</td>\n",
       "      <td>...</td>\n",
       "      <td>0.0</td>\n",
       "      <td>0.0</td>\n",
       "      <td>0.0</td>\n",
       "      <td>0.0</td>\n",
       "      <td>0.0</td>\n",
       "      <td>0.0</td>\n",
       "      <td>0.000000</td>\n",
       "      <td>0.0</td>\n",
       "      <td>0.0</td>\n",
       "      <td>0.0</td>\n",
       "    </tr>\n",
       "    <tr>\n",
       "      <th>70</th>\n",
       "      <td>0.0</td>\n",
       "      <td>0.0</td>\n",
       "      <td>0.0</td>\n",
       "      <td>0.0</td>\n",
       "      <td>0.0</td>\n",
       "      <td>0.0</td>\n",
       "      <td>0.0</td>\n",
       "      <td>0.0</td>\n",
       "      <td>0.0</td>\n",
       "      <td>0.0</td>\n",
       "      <td>...</td>\n",
       "      <td>0.0</td>\n",
       "      <td>0.0</td>\n",
       "      <td>0.0</td>\n",
       "      <td>0.0</td>\n",
       "      <td>0.0</td>\n",
       "      <td>0.0</td>\n",
       "      <td>0.144078</td>\n",
       "      <td>0.0</td>\n",
       "      <td>0.0</td>\n",
       "      <td>0.0</td>\n",
       "    </tr>\n",
       "    <tr>\n",
       "      <th>673</th>\n",
       "      <td>0.0</td>\n",
       "      <td>0.0</td>\n",
       "      <td>0.0</td>\n",
       "      <td>0.0</td>\n",
       "      <td>0.0</td>\n",
       "      <td>0.0</td>\n",
       "      <td>0.0</td>\n",
       "      <td>0.0</td>\n",
       "      <td>0.0</td>\n",
       "      <td>0.0</td>\n",
       "      <td>...</td>\n",
       "      <td>0.0</td>\n",
       "      <td>0.0</td>\n",
       "      <td>0.0</td>\n",
       "      <td>0.0</td>\n",
       "      <td>0.0</td>\n",
       "      <td>0.0</td>\n",
       "      <td>0.000000</td>\n",
       "      <td>0.0</td>\n",
       "      <td>0.0</td>\n",
       "      <td>0.0</td>\n",
       "    </tr>\n",
       "    <tr>\n",
       "      <th>208</th>\n",
       "      <td>0.0</td>\n",
       "      <td>0.0</td>\n",
       "      <td>0.0</td>\n",
       "      <td>0.0</td>\n",
       "      <td>0.0</td>\n",
       "      <td>0.0</td>\n",
       "      <td>0.0</td>\n",
       "      <td>0.0</td>\n",
       "      <td>0.0</td>\n",
       "      <td>0.0</td>\n",
       "      <td>...</td>\n",
       "      <td>0.0</td>\n",
       "      <td>0.0</td>\n",
       "      <td>0.0</td>\n",
       "      <td>0.0</td>\n",
       "      <td>0.0</td>\n",
       "      <td>0.0</td>\n",
       "      <td>0.000000</td>\n",
       "      <td>0.0</td>\n",
       "      <td>0.0</td>\n",
       "      <td>0.0</td>\n",
       "    </tr>\n",
       "    <tr>\n",
       "      <th>...</th>\n",
       "      <td>...</td>\n",
       "      <td>...</td>\n",
       "      <td>...</td>\n",
       "      <td>...</td>\n",
       "      <td>...</td>\n",
       "      <td>...</td>\n",
       "      <td>...</td>\n",
       "      <td>...</td>\n",
       "      <td>...</td>\n",
       "      <td>...</td>\n",
       "      <td>...</td>\n",
       "      <td>...</td>\n",
       "      <td>...</td>\n",
       "      <td>...</td>\n",
       "      <td>...</td>\n",
       "      <td>...</td>\n",
       "      <td>...</td>\n",
       "      <td>...</td>\n",
       "      <td>...</td>\n",
       "      <td>...</td>\n",
       "      <td>...</td>\n",
       "    </tr>\n",
       "    <tr>\n",
       "      <th>71</th>\n",
       "      <td>0.0</td>\n",
       "      <td>0.0</td>\n",
       "      <td>0.0</td>\n",
       "      <td>0.0</td>\n",
       "      <td>0.0</td>\n",
       "      <td>0.0</td>\n",
       "      <td>0.0</td>\n",
       "      <td>0.0</td>\n",
       "      <td>0.0</td>\n",
       "      <td>0.0</td>\n",
       "      <td>...</td>\n",
       "      <td>0.0</td>\n",
       "      <td>0.0</td>\n",
       "      <td>0.0</td>\n",
       "      <td>0.0</td>\n",
       "      <td>0.0</td>\n",
       "      <td>0.0</td>\n",
       "      <td>0.195542</td>\n",
       "      <td>0.0</td>\n",
       "      <td>0.0</td>\n",
       "      <td>0.0</td>\n",
       "    </tr>\n",
       "    <tr>\n",
       "      <th>106</th>\n",
       "      <td>0.0</td>\n",
       "      <td>0.0</td>\n",
       "      <td>0.0</td>\n",
       "      <td>0.0</td>\n",
       "      <td>0.0</td>\n",
       "      <td>0.0</td>\n",
       "      <td>0.0</td>\n",
       "      <td>0.0</td>\n",
       "      <td>0.0</td>\n",
       "      <td>0.0</td>\n",
       "      <td>...</td>\n",
       "      <td>0.0</td>\n",
       "      <td>0.0</td>\n",
       "      <td>0.0</td>\n",
       "      <td>0.0</td>\n",
       "      <td>0.0</td>\n",
       "      <td>0.0</td>\n",
       "      <td>0.000000</td>\n",
       "      <td>0.0</td>\n",
       "      <td>0.0</td>\n",
       "      <td>0.0</td>\n",
       "    </tr>\n",
       "    <tr>\n",
       "      <th>270</th>\n",
       "      <td>0.0</td>\n",
       "      <td>0.0</td>\n",
       "      <td>0.0</td>\n",
       "      <td>0.0</td>\n",
       "      <td>0.0</td>\n",
       "      <td>0.0</td>\n",
       "      <td>0.0</td>\n",
       "      <td>0.0</td>\n",
       "      <td>0.0</td>\n",
       "      <td>0.0</td>\n",
       "      <td>...</td>\n",
       "      <td>0.0</td>\n",
       "      <td>0.0</td>\n",
       "      <td>0.0</td>\n",
       "      <td>0.0</td>\n",
       "      <td>0.0</td>\n",
       "      <td>0.0</td>\n",
       "      <td>0.000000</td>\n",
       "      <td>0.0</td>\n",
       "      <td>0.0</td>\n",
       "      <td>0.0</td>\n",
       "    </tr>\n",
       "    <tr>\n",
       "      <th>435</th>\n",
       "      <td>0.0</td>\n",
       "      <td>0.0</td>\n",
       "      <td>0.0</td>\n",
       "      <td>0.0</td>\n",
       "      <td>0.0</td>\n",
       "      <td>0.0</td>\n",
       "      <td>0.0</td>\n",
       "      <td>0.0</td>\n",
       "      <td>0.0</td>\n",
       "      <td>0.0</td>\n",
       "      <td>...</td>\n",
       "      <td>0.0</td>\n",
       "      <td>0.0</td>\n",
       "      <td>0.0</td>\n",
       "      <td>0.0</td>\n",
       "      <td>0.0</td>\n",
       "      <td>0.0</td>\n",
       "      <td>0.000000</td>\n",
       "      <td>0.0</td>\n",
       "      <td>0.0</td>\n",
       "      <td>0.0</td>\n",
       "    </tr>\n",
       "    <tr>\n",
       "      <th>102</th>\n",
       "      <td>0.0</td>\n",
       "      <td>0.0</td>\n",
       "      <td>0.0</td>\n",
       "      <td>0.0</td>\n",
       "      <td>0.0</td>\n",
       "      <td>0.0</td>\n",
       "      <td>0.0</td>\n",
       "      <td>0.0</td>\n",
       "      <td>0.0</td>\n",
       "      <td>0.0</td>\n",
       "      <td>...</td>\n",
       "      <td>0.0</td>\n",
       "      <td>0.0</td>\n",
       "      <td>0.0</td>\n",
       "      <td>0.0</td>\n",
       "      <td>0.0</td>\n",
       "      <td>0.0</td>\n",
       "      <td>0.000000</td>\n",
       "      <td>0.0</td>\n",
       "      <td>0.0</td>\n",
       "      <td>0.0</td>\n",
       "    </tr>\n",
       "  </tbody>\n",
       "</table>\n",
       "<p>600 rows × 2906 columns</p>\n",
       "</div>"
      ],
      "text/plain": [
       "     0     1     2     3     4     5     6     7     8     9     ...  2896  \\\n",
       "131   0.0   0.0   0.0   0.0   0.0   0.0   0.0   0.0   0.0   0.0  ...   0.0   \n",
       "44    0.0   0.0   0.0   0.0   0.0   0.0   0.0   0.0   0.0   0.0  ...   0.0   \n",
       "70    0.0   0.0   0.0   0.0   0.0   0.0   0.0   0.0   0.0   0.0  ...   0.0   \n",
       "673   0.0   0.0   0.0   0.0   0.0   0.0   0.0   0.0   0.0   0.0  ...   0.0   \n",
       "208   0.0   0.0   0.0   0.0   0.0   0.0   0.0   0.0   0.0   0.0  ...   0.0   \n",
       "..    ...   ...   ...   ...   ...   ...   ...   ...   ...   ...  ...   ...   \n",
       "71    0.0   0.0   0.0   0.0   0.0   0.0   0.0   0.0   0.0   0.0  ...   0.0   \n",
       "106   0.0   0.0   0.0   0.0   0.0   0.0   0.0   0.0   0.0   0.0  ...   0.0   \n",
       "270   0.0   0.0   0.0   0.0   0.0   0.0   0.0   0.0   0.0   0.0  ...   0.0   \n",
       "435   0.0   0.0   0.0   0.0   0.0   0.0   0.0   0.0   0.0   0.0  ...   0.0   \n",
       "102   0.0   0.0   0.0   0.0   0.0   0.0   0.0   0.0   0.0   0.0  ...   0.0   \n",
       "\n",
       "     2897  2898  2899  2900  2901      2902  2903  2904  2905  \n",
       "131   0.0   0.0   0.0   0.0   0.0  0.000000   0.0   0.0   0.0  \n",
       "44    0.0   0.0   0.0   0.0   0.0  0.000000   0.0   0.0   0.0  \n",
       "70    0.0   0.0   0.0   0.0   0.0  0.144078   0.0   0.0   0.0  \n",
       "673   0.0   0.0   0.0   0.0   0.0  0.000000   0.0   0.0   0.0  \n",
       "208   0.0   0.0   0.0   0.0   0.0  0.000000   0.0   0.0   0.0  \n",
       "..    ...   ...   ...   ...   ...       ...   ...   ...   ...  \n",
       "71    0.0   0.0   0.0   0.0   0.0  0.195542   0.0   0.0   0.0  \n",
       "106   0.0   0.0   0.0   0.0   0.0  0.000000   0.0   0.0   0.0  \n",
       "270   0.0   0.0   0.0   0.0   0.0  0.000000   0.0   0.0   0.0  \n",
       "435   0.0   0.0   0.0   0.0   0.0  0.000000   0.0   0.0   0.0  \n",
       "102   0.0   0.0   0.0   0.0   0.0  0.000000   0.0   0.0   0.0  \n",
       "\n",
       "[600 rows x 2906 columns]"
      ]
     },
     "execution_count": 13,
     "metadata": {},
     "output_type": "execute_result"
    }
   ],
   "source": [
    "X_train"
   ]
  },
  {
   "cell_type": "markdown",
   "id": "62b09f6c",
   "metadata": {},
   "source": [
    "### Logistic Regression"
   ]
  },
  {
   "cell_type": "code",
   "execution_count": 23,
   "id": "25b1ec6d",
   "metadata": {},
   "outputs": [
    {
     "data": {
      "text/plain": [
       "LogisticRegression(random_state=42)"
      ]
     },
     "execution_count": 23,
     "metadata": {},
     "output_type": "execute_result"
    }
   ],
   "source": [
    "model1 = LogisticRegression(random_state=42)\n",
    "model1.fit(X_train, y_train)"
   ]
  },
  {
   "cell_type": "code",
   "execution_count": 24,
   "id": "bce9b270",
   "metadata": {},
   "outputs": [],
   "source": [
    "y_pred = model1.predict(X_test)"
   ]
  },
  {
   "cell_type": "code",
   "execution_count": 25,
   "id": "e846a6f0",
   "metadata": {},
   "outputs": [
    {
     "name": "stderr",
     "output_type": "stream",
     "text": [
      "C:\\Anaconda3\\lib\\site-packages\\sklearn\\utils\\deprecation.py:87: FutureWarning: Function plot_confusion_matrix is deprecated; Function `plot_confusion_matrix` is deprecated in 1.0 and will be removed in 1.2. Use one of the class methods: ConfusionMatrixDisplay.from_predictions or ConfusionMatrixDisplay.from_estimator.\n",
      "  warnings.warn(msg, category=FutureWarning)\n"
     ]
    },
    {
     "data": {
      "text/plain": [
       "<sklearn.metrics._plot.confusion_matrix.ConfusionMatrixDisplay at 0x26439883850>"
      ]
     },
     "execution_count": 25,
     "metadata": {},
     "output_type": "execute_result"
    },
    {
     "data": {
      "image/png": "[encoded data removed]",
      "text/plain": [
       "<Figure size 432x288 with 2 Axes>"
      ]
     },
     "metadata": {
      "needs_background": "light"
     },
     "output_type": "display_data"
    }
   ],
   "source": [
    "plot_confusion_matrix(model1, X_test, y_test)"
   ]
  },
  {
   "cell_type": "code",
   "execution_count": 26,
   "id": "628d19bb",
   "metadata": {},
   "outputs": [
    {
     "name": "stdout",
     "output_type": "stream",
     "text": [
      "              precision    recall  f1-score   support\n",
      "\n",
      "           0       0.79      0.85      0.81        78\n",
      "           1       0.82      0.75      0.79        73\n",
      "\n",
      "    accuracy                           0.80       151\n",
      "   macro avg       0.80      0.80      0.80       151\n",
      "weighted avg       0.80      0.80      0.80       151\n",
      "\n"
     ]
    }
   ],
   "source": [
    "print(classification_report(y_test, y_pred))"
   ]
  },
  {
   "cell_type": "code",
   "execution_count": 27,
   "id": "eb8e38ab",
   "metadata": {},
   "outputs": [],
   "source": [
    "lr_pred = y_pred"
   ]
  },
  {
   "cell_type": "markdown",
   "id": "d462c5fc",
   "metadata": {},
   "source": [
    "## Random Forest"
   ]
  },
  {
   "cell_type": "code",
   "execution_count": 33,
   "id": "6b8e076a",
   "metadata": {},
   "outputs": [],
   "source": [
    "param_grid = {'bootstrap': [True, False],\n",
    " 'max_depth': [10, 20, 30, 40, 50, None],\n",
    " 'max_features': ['auto', 'sqrt'],\n",
    " 'min_samples_leaf': [1, 2, 4, 8, 16],\n",
    " 'min_samples_split': [2, 4, 6, 8, 10],\n",
    " 'n_estimators': [10, 20, 30, 40, 50, 60, 70, 80, 90, 100]}"
   ]
  },
  {
   "cell_type": "code",
   "execution_count": 34,
   "id": "f7cde1f0",
   "metadata": {},
   "outputs": [],
   "source": [
    "model2 = RandomForestClassifier()"
   ]
  },
  {
   "cell_type": "code",
   "execution_count": 35,
   "id": "5928080e",
   "metadata": {},
   "outputs": [],
   "source": [
    "random_search = RandomizedSearchCV(estimator = model2, param_distributions = param_grid,  n_iter = 100, cv = 3, verbose=2, random_state=42)"
   ]
  },
  {
   "cell_type": "code",
   "execution_count": 36,
   "id": "0a07b2ed",
   "metadata": {},
   "outputs": [
    {
     "name": "stdout",
     "output_type": "stream",
     "text": [
      "Fitting 3 folds for each of 100 candidates, totalling 300 fits\n",
      "[CV] END bootstrap=True, max_depth=40, max_features=sqrt, min_samples_leaf=1, min_samples_split=8, n_estimators=30; total time=   0.0s\n",
      "[CV] END bootstrap=True, max_depth=40, max_features=sqrt, min_samples_leaf=1, min_samples_split=8, n_estimators=30; total time=   0.0s\n",
      "[CV] END bootstrap=True, max_depth=40, max_features=sqrt, min_samples_leaf=1, min_samples_split=8, n_estimators=30; total time=   0.0s\n",
      "[CV] END bootstrap=False, max_depth=20, max_features=sqrt, min_samples_leaf=8, min_samples_split=4, n_estimators=80; total time=   0.1s\n",
      "[CV] END bootstrap=False, max_depth=20, max_features=sqrt, min_samples_leaf=8, min_samples_split=4, n_estimators=80; total time=   0.1s\n",
      "[CV] END bootstrap=False, max_depth=20, max_features=sqrt, min_samples_leaf=8, min_samples_split=4, n_estimators=80; total time=   0.1s\n",
      "[CV] END bootstrap=True, max_depth=10, max_features=auto, min_samples_leaf=16, min_samples_split=6, n_estimators=20; total time=   0.0s\n",
      "[CV] END bootstrap=True, max_depth=10, max_features=auto, min_samples_leaf=16, min_samples_split=6, n_estimators=20; total time=   0.0s\n",
      "[CV] END bootstrap=True, max_depth=10, max_features=auto, min_samples_leaf=16, min_samples_split=6, n_estimators=20; total time=   0.0s\n",
      "[CV] END bootstrap=True, max_depth=50, max_features=auto, min_samples_leaf=4, min_samples_split=8, n_estimators=60; total time=   0.1s\n",
      "[CV] END bootstrap=True, max_depth=50, max_features=auto, min_samples_leaf=4, min_samples_split=8, n_estimators=60; total time=   0.1s\n",
      "[CV] END bootstrap=True, max_depth=50, max_features=auto, min_samples_leaf=4, min_samples_split=8, n_estimators=60; total time=   0.0s\n",
      "[CV] END bootstrap=False, max_depth=50, max_features=auto, min_samples_leaf=16, min_samples_split=6, n_estimators=50; total time=   0.0s\n",
      "[CV] END bootstrap=False, max_depth=50, max_features=auto, min_samples_leaf=16, min_samples_split=6, n_estimators=50; total time=   0.1s\n",
      "[CV] END bootstrap=False, max_depth=50, max_features=auto, min_samples_leaf=16, min_samples_split=6, n_estimators=50; total time=   0.0s\n",
      "[CV] END bootstrap=True, max_depth=30, max_features=auto, min_samples_leaf=8, min_samples_split=4, n_estimators=90; total time=   0.1s\n",
      "[CV] END bootstrap=True, max_depth=30, max_features=auto, min_samples_leaf=8, min_samples_split=4, n_estimators=90; total time=   0.0s\n",
      "[CV] END bootstrap=True, max_depth=30, max_features=auto, min_samples_leaf=8, min_samples_split=4, n_estimators=90; total time=   0.1s\n",
      "[CV] END bootstrap=True, max_depth=20, max_features=sqrt, min_samples_leaf=4, min_samples_split=6, n_estimators=100; total time=   0.1s\n",
      "[CV] END bootstrap=True, max_depth=20, max_features=sqrt, min_samples_leaf=4, min_samples_split=6, n_estimators=100; total time=   0.2s\n",
      "[CV] END bootstrap=True, max_depth=20, max_features=sqrt, min_samples_leaf=4, min_samples_split=6, n_estimators=100; total time=   0.1s\n",
      "[CV] END bootstrap=True, max_depth=10, max_features=auto, min_samples_leaf=8, min_samples_split=2, n_estimators=70; total time=   0.0s\n",
      "[CV] END bootstrap=True, max_depth=10, max_features=auto, min_samples_leaf=8, min_samples_split=2, n_estimators=70; total time=   0.1s\n",
      "[CV] END bootstrap=True, max_depth=10, max_features=auto, min_samples_leaf=8, min_samples_split=2, n_estimators=70; total time=   0.0s\n",
      "[CV] END bootstrap=True, max_depth=40, max_features=auto, min_samples_leaf=8, min_samples_split=2, n_estimators=80; total time=   0.1s\n",
      "[CV] END bootstrap=True, max_depth=40, max_features=auto, min_samples_leaf=8, min_samples_split=2, n_estimators=80; total time=   0.1s\n",
      "[CV] END bootstrap=True, max_depth=40, max_features=auto, min_samples_leaf=8, min_samples_split=2, n_estimators=80; total time=   0.1s\n",
      "[CV] END bootstrap=True, max_depth=10, max_features=sqrt, min_samples_leaf=2, min_samples_split=6, n_estimators=40; total time=   0.0s\n",
      "[CV] END bootstrap=True, max_depth=10, max_features=sqrt, min_samples_leaf=2, min_samples_split=6, n_estimators=40; total time=   0.0s\n",
      "[CV] END bootstrap=True, max_depth=10, max_features=sqrt, min_samples_leaf=2, min_samples_split=6, n_estimators=40; total time=   0.0s\n",
      "[CV] END bootstrap=False, max_depth=50, max_features=sqrt, min_samples_leaf=2, min_samples_split=2, n_estimators=30; total time=   0.0s\n",
      "[CV] END bootstrap=False, max_depth=50, max_features=sqrt, min_samples_leaf=2, min_samples_split=2, n_estimators=30; total time=   0.0s\n",
      "[CV] END bootstrap=False, max_depth=50, max_features=sqrt, min_samples_leaf=2, min_samples_split=2, n_estimators=30; total time=   0.0s\n",
      "[CV] END bootstrap=True, max_depth=None, max_features=auto, min_samples_leaf=4, min_samples_split=4, n_estimators=20; total time=   0.0s\n",
      "[CV] END bootstrap=True, max_depth=None, max_features=auto, min_samples_leaf=4, min_samples_split=4, n_estimators=20; total time=   0.0s\n",
      "[CV] END bootstrap=True, max_depth=None, max_features=auto, min_samples_leaf=4, min_samples_split=4, n_estimators=20; total time=   0.0s\n",
      "[CV] END bootstrap=True, max_depth=20, max_features=sqrt, min_samples_leaf=2, min_samples_split=4, n_estimators=20; total time=   0.0s\n",
      "[CV] END bootstrap=True, max_depth=20, max_features=sqrt, min_samples_leaf=2, min_samples_split=4, n_estimators=20; total time=   0.0s\n",
      "[CV] END bootstrap=True, max_depth=20, max_features=sqrt, min_samples_leaf=2, min_samples_split=4, n_estimators=20; total time=   0.0s\n",
      "[CV] END bootstrap=True, max_depth=10, max_features=sqrt, min_samples_leaf=4, min_samples_split=10, n_estimators=40; total time=   0.0s\n",
      "[CV] END bootstrap=True, max_depth=10, max_features=sqrt, min_samples_leaf=4, min_samples_split=10, n_estimators=40; total time=   0.0s\n",
      "[CV] END bootstrap=True, max_depth=10, max_features=sqrt, min_samples_leaf=4, min_samples_split=10, n_estimators=40; total time=   0.0s\n",
      "[CV] END bootstrap=False, max_depth=20, max_features=auto, min_samples_leaf=2, min_samples_split=10, n_estimators=40; total time=   0.0s\n",
      "[CV] END bootstrap=False, max_depth=20, max_features=auto, min_samples_leaf=2, min_samples_split=10, n_estimators=40; total time=   0.0s\n",
      "[CV] END bootstrap=False, max_depth=20, max_features=auto, min_samples_leaf=2, min_samples_split=10, n_estimators=40; total time=   0.0s\n",
      "[CV] END bootstrap=True, max_depth=None, max_features=auto, min_samples_leaf=4, min_samples_split=8, n_estimators=90; total time=   0.1s\n",
      "[CV] END bootstrap=True, max_depth=None, max_features=auto, min_samples_leaf=4, min_samples_split=8, n_estimators=90; total time=   0.1s\n",
      "[CV] END bootstrap=True, max_depth=None, max_features=auto, min_samples_leaf=4, min_samples_split=8, n_estimators=90; total time=   0.1s\n",
      "[CV] END bootstrap=True, max_depth=50, max_features=auto, min_samples_leaf=8, min_samples_split=8, n_estimators=80; total time=   0.1s\n",
      "[CV] END bootstrap=True, max_depth=50, max_features=auto, min_samples_leaf=8, min_samples_split=8, n_estimators=80; total time=   0.1s\n",
      "[CV] END bootstrap=True, max_depth=50, max_features=auto, min_samples_leaf=8, min_samples_split=8, n_estimators=80; total time=   0.1s\n",
      "[CV] END bootstrap=False, max_depth=50, max_features=sqrt, min_samples_leaf=4, min_samples_split=2, n_estimators=20; total time=   0.0s\n",
      "[CV] END bootstrap=False, max_depth=50, max_features=sqrt, min_samples_leaf=4, min_samples_split=2, n_estimators=20; total time=   0.0s\n",
      "[CV] END bootstrap=False, max_depth=50, max_features=sqrt, min_samples_leaf=4, min_samples_split=2, n_estimators=20; total time=   0.0s\n",
      "[CV] END bootstrap=True, max_depth=10, max_features=sqrt, min_samples_leaf=2, min_samples_split=4, n_estimators=100; total time=   0.1s\n",
      "[CV] END bootstrap=True, max_depth=10, max_features=sqrt, min_samples_leaf=2, min_samples_split=4, n_estimators=100; total time=   0.2s\n",
      "[CV] END bootstrap=True, max_depth=10, max_features=sqrt, min_samples_leaf=2, min_samples_split=4, n_estimators=100; total time=   0.1s\n",
      "[CV] END bootstrap=True, max_depth=10, max_features=auto, min_samples_leaf=8, min_samples_split=4, n_estimators=80; total time=   0.1s\n",
      "[CV] END bootstrap=True, max_depth=10, max_features=auto, min_samples_leaf=8, min_samples_split=4, n_estimators=80; total time=   0.1s\n",
      "[CV] END bootstrap=True, max_depth=10, max_features=auto, min_samples_leaf=8, min_samples_split=4, n_estimators=80; total time=   0.1s\n"
     ]
    },
    {
     "name": "stdout",
     "output_type": "stream",
     "text": [
      "[CV] END bootstrap=True, max_depth=20, max_features=auto, min_samples_leaf=16, min_samples_split=10, n_estimators=70; total time=   0.0s\n",
      "[CV] END bootstrap=True, max_depth=20, max_features=auto, min_samples_leaf=16, min_samples_split=10, n_estimators=70; total time=   0.0s\n",
      "[CV] END bootstrap=True, max_depth=20, max_features=auto, min_samples_leaf=16, min_samples_split=10, n_estimators=70; total time=   0.0s\n",
      "[CV] END bootstrap=False, max_depth=50, max_features=sqrt, min_samples_leaf=16, min_samples_split=6, n_estimators=10; total time=   0.0s\n",
      "[CV] END bootstrap=False, max_depth=50, max_features=sqrt, min_samples_leaf=16, min_samples_split=6, n_estimators=10; total time=   0.0s\n",
      "[CV] END bootstrap=False, max_depth=50, max_features=sqrt, min_samples_leaf=16, min_samples_split=6, n_estimators=10; total time=   0.0s\n",
      "[CV] END bootstrap=False, max_depth=20, max_features=auto, min_samples_leaf=16, min_samples_split=2, n_estimators=80; total time=   0.1s\n",
      "[CV] END bootstrap=False, max_depth=20, max_features=auto, min_samples_leaf=16, min_samples_split=2, n_estimators=80; total time=   0.0s\n",
      "[CV] END bootstrap=False, max_depth=20, max_features=auto, min_samples_leaf=16, min_samples_split=2, n_estimators=80; total time=   0.1s\n",
      "[CV] END bootstrap=True, max_depth=None, max_features=sqrt, min_samples_leaf=1, min_samples_split=4, n_estimators=50; total time=   0.1s\n",
      "[CV] END bootstrap=True, max_depth=None, max_features=sqrt, min_samples_leaf=1, min_samples_split=4, n_estimators=50; total time=   0.1s\n",
      "[CV] END bootstrap=True, max_depth=None, max_features=sqrt, min_samples_leaf=1, min_samples_split=4, n_estimators=50; total time=   0.1s\n",
      "[CV] END bootstrap=False, max_depth=50, max_features=auto, min_samples_leaf=4, min_samples_split=4, n_estimators=30; total time=   0.0s\n",
      "[CV] END bootstrap=False, max_depth=50, max_features=auto, min_samples_leaf=4, min_samples_split=4, n_estimators=30; total time=   0.0s\n",
      "[CV] END bootstrap=False, max_depth=50, max_features=auto, min_samples_leaf=4, min_samples_split=4, n_estimators=30; total time=   0.0s\n",
      "[CV] END bootstrap=False, max_depth=30, max_features=auto, min_samples_leaf=1, min_samples_split=2, n_estimators=70; total time=   0.2s\n",
      "[CV] END bootstrap=False, max_depth=30, max_features=auto, min_samples_leaf=1, min_samples_split=2, n_estimators=70; total time=   0.2s\n",
      "[CV] END bootstrap=False, max_depth=30, max_features=auto, min_samples_leaf=1, min_samples_split=2, n_estimators=70; total time=   0.2s\n",
      "[CV] END bootstrap=True, max_depth=40, max_features=sqrt, min_samples_leaf=4, min_samples_split=6, n_estimators=20; total time=   0.0s\n",
      "[CV] END bootstrap=True, max_depth=40, max_features=sqrt, min_samples_leaf=4, min_samples_split=6, n_estimators=20; total time=   0.0s\n",
      "[CV] END bootstrap=True, max_depth=40, max_features=sqrt, min_samples_leaf=4, min_samples_split=6, n_estimators=20; total time=   0.0s\n",
      "[CV] END bootstrap=False, max_depth=None, max_features=sqrt, min_samples_leaf=1, min_samples_split=2, n_estimators=70; total time=   0.2s\n",
      "[CV] END bootstrap=False, max_depth=None, max_features=sqrt, min_samples_leaf=1, min_samples_split=2, n_estimators=70; total time=   0.3s\n",
      "[CV] END bootstrap=False, max_depth=None, max_features=sqrt, min_samples_leaf=1, min_samples_split=2, n_estimators=70; total time=   0.2s\n",
      "[CV] END bootstrap=False, max_depth=10, max_features=auto, min_samples_leaf=8, min_samples_split=10, n_estimators=40; total time=   0.0s\n",
      "[CV] END bootstrap=False, max_depth=10, max_features=auto, min_samples_leaf=8, min_samples_split=10, n_estimators=40; total time=   0.0s\n",
      "[CV] END bootstrap=False, max_depth=10, max_features=auto, min_samples_leaf=8, min_samples_split=10, n_estimators=40; total time=   0.0s\n",
      "[CV] END bootstrap=False, max_depth=20, max_features=sqrt, min_samples_leaf=1, min_samples_split=2, n_estimators=50; total time=   0.1s\n",
      "[CV] END bootstrap=False, max_depth=20, max_features=sqrt, min_samples_leaf=1, min_samples_split=2, n_estimators=50; total time=   0.1s\n",
      "[CV] END bootstrap=False, max_depth=20, max_features=sqrt, min_samples_leaf=1, min_samples_split=2, n_estimators=50; total time=   0.1s\n",
      "[CV] END bootstrap=False, max_depth=None, max_features=auto, min_samples_leaf=4, min_samples_split=6, n_estimators=60; total time=   0.1s\n",
      "[CV] END bootstrap=False, max_depth=None, max_features=auto, min_samples_leaf=4, min_samples_split=6, n_estimators=60; total time=   0.1s\n",
      "[CV] END bootstrap=False, max_depth=None, max_features=auto, min_samples_leaf=4, min_samples_split=6, n_estimators=60; total time=   0.1s\n",
      "[CV] END bootstrap=False, max_depth=40, max_features=sqrt, min_samples_leaf=4, min_samples_split=10, n_estimators=50; total time=   0.1s\n",
      "[CV] END bootstrap=False, max_depth=40, max_features=sqrt, min_samples_leaf=4, min_samples_split=10, n_estimators=50; total time=   0.1s\n",
      "[CV] END bootstrap=False, max_depth=40, max_features=sqrt, min_samples_leaf=4, min_samples_split=10, n_estimators=50; total time=   0.1s\n",
      "[CV] END bootstrap=False, max_depth=30, max_features=auto, min_samples_leaf=4, min_samples_split=2, n_estimators=30; total time=   0.0s\n",
      "[CV] END bootstrap=False, max_depth=30, max_features=auto, min_samples_leaf=4, min_samples_split=2, n_estimators=30; total time=   0.0s\n",
      "[CV] END bootstrap=False, max_depth=30, max_features=auto, min_samples_leaf=4, min_samples_split=2, n_estimators=30; total time=   0.0s\n",
      "[CV] END bootstrap=True, max_depth=30, max_features=sqrt, min_samples_leaf=1, min_samples_split=4, n_estimators=20; total time=   0.0s\n",
      "[CV] END bootstrap=True, max_depth=30, max_features=sqrt, min_samples_leaf=1, min_samples_split=4, n_estimators=20; total time=   0.0s\n",
      "[CV] END bootstrap=True, max_depth=30, max_features=sqrt, min_samples_leaf=1, min_samples_split=4, n_estimators=20; total time=   0.0s\n",
      "[CV] END bootstrap=True, max_depth=50, max_features=sqrt, min_samples_leaf=2, min_samples_split=8, n_estimators=90; total time=   0.1s\n",
      "[CV] END bootstrap=True, max_depth=50, max_features=sqrt, min_samples_leaf=2, min_samples_split=8, n_estimators=90; total time=   0.2s\n",
      "[CV] END bootstrap=True, max_depth=50, max_features=sqrt, min_samples_leaf=2, min_samples_split=8, n_estimators=90; total time=   0.1s\n",
      "[CV] END bootstrap=True, max_depth=10, max_features=auto, min_samples_leaf=2, min_samples_split=8, n_estimators=50; total time=   0.0s\n",
      "[CV] END bootstrap=True, max_depth=10, max_features=auto, min_samples_leaf=2, min_samples_split=8, n_estimators=50; total time=   0.0s\n",
      "[CV] END bootstrap=True, max_depth=10, max_features=auto, min_samples_leaf=2, min_samples_split=8, n_estimators=50; total time=   0.0s\n",
      "[CV] END bootstrap=False, max_depth=20, max_features=sqrt, min_samples_leaf=2, min_samples_split=6, n_estimators=20; total time=   0.0s\n",
      "[CV] END bootstrap=False, max_depth=20, max_features=sqrt, min_samples_leaf=2, min_samples_split=6, n_estimators=20; total time=   0.0s\n",
      "[CV] END bootstrap=False, max_depth=20, max_features=sqrt, min_samples_leaf=2, min_samples_split=6, n_estimators=20; total time=   0.0s\n",
      "[CV] END bootstrap=True, max_depth=None, max_features=auto, min_samples_leaf=8, min_samples_split=2, n_estimators=40; total time=   0.0s\n",
      "[CV] END bootstrap=True, max_depth=None, max_features=auto, min_samples_leaf=8, min_samples_split=2, n_estimators=40; total time=   0.0s\n",
      "[CV] END bootstrap=True, max_depth=None, max_features=auto, min_samples_leaf=8, min_samples_split=2, n_estimators=40; total time=   0.0s\n",
      "[CV] END bootstrap=False, max_depth=None, max_features=auto, min_samples_leaf=1, min_samples_split=10, n_estimators=60; total time=   0.2s\n",
      "[CV] END bootstrap=False, max_depth=None, max_features=auto, min_samples_leaf=1, min_samples_split=10, n_estimators=60; total time=   0.1s\n",
      "[CV] END bootstrap=False, max_depth=None, max_features=auto, min_samples_leaf=1, min_samples_split=10, n_estimators=60; total time=   0.1s\n",
      "[CV] END bootstrap=True, max_depth=None, max_features=auto, min_samples_leaf=16, min_samples_split=10, n_estimators=70; total time=   0.0s\n",
      "[CV] END bootstrap=True, max_depth=None, max_features=auto, min_samples_leaf=16, min_samples_split=10, n_estimators=70; total time=   0.0s\n",
      "[CV] END bootstrap=True, max_depth=None, max_features=auto, min_samples_leaf=16, min_samples_split=10, n_estimators=70; total time=   0.0s\n"
     ]
    },
    {
     "name": "stdout",
     "output_type": "stream",
     "text": [
      "[CV] END bootstrap=True, max_depth=None, max_features=sqrt, min_samples_leaf=4, min_samples_split=2, n_estimators=90; total time=   0.1s\n",
      "[CV] END bootstrap=True, max_depth=None, max_features=sqrt, min_samples_leaf=4, min_samples_split=2, n_estimators=90; total time=   0.1s\n",
      "[CV] END bootstrap=True, max_depth=None, max_features=sqrt, min_samples_leaf=4, min_samples_split=2, n_estimators=90; total time=   0.1s\n",
      "[CV] END bootstrap=True, max_depth=20, max_features=sqrt, min_samples_leaf=16, min_samples_split=10, n_estimators=70; total time=   0.0s\n",
      "[CV] END bootstrap=True, max_depth=20, max_features=sqrt, min_samples_leaf=16, min_samples_split=10, n_estimators=70; total time=   0.0s\n",
      "[CV] END bootstrap=True, max_depth=20, max_features=sqrt, min_samples_leaf=16, min_samples_split=10, n_estimators=70; total time=   0.0s\n",
      "[CV] END bootstrap=True, max_depth=10, max_features=auto, min_samples_leaf=16, min_samples_split=6, n_estimators=90; total time=   0.1s\n",
      "[CV] END bootstrap=True, max_depth=10, max_features=auto, min_samples_leaf=16, min_samples_split=6, n_estimators=90; total time=   0.1s\n",
      "[CV] END bootstrap=True, max_depth=10, max_features=auto, min_samples_leaf=16, min_samples_split=6, n_estimators=90; total time=   0.1s\n",
      "[CV] END bootstrap=False, max_depth=10, max_features=sqrt, min_samples_leaf=1, min_samples_split=4, n_estimators=50; total time=   0.1s\n",
      "[CV] END bootstrap=False, max_depth=10, max_features=sqrt, min_samples_leaf=1, min_samples_split=4, n_estimators=50; total time=   0.1s\n",
      "[CV] END bootstrap=False, max_depth=10, max_features=sqrt, min_samples_leaf=1, min_samples_split=4, n_estimators=50; total time=   0.1s\n",
      "[CV] END bootstrap=False, max_depth=40, max_features=sqrt, min_samples_leaf=2, min_samples_split=6, n_estimators=90; total time=   0.2s\n",
      "[CV] END bootstrap=False, max_depth=40, max_features=sqrt, min_samples_leaf=2, min_samples_split=6, n_estimators=90; total time=   0.2s\n",
      "[CV] END bootstrap=False, max_depth=40, max_features=sqrt, min_samples_leaf=2, min_samples_split=6, n_estimators=90; total time=   0.2s\n",
      "[CV] END bootstrap=False, max_depth=20, max_features=sqrt, min_samples_leaf=8, min_samples_split=10, n_estimators=30; total time=   0.0s\n",
      "[CV] END bootstrap=False, max_depth=20, max_features=sqrt, min_samples_leaf=8, min_samples_split=10, n_estimators=30; total time=   0.0s\n",
      "[CV] END bootstrap=False, max_depth=20, max_features=sqrt, min_samples_leaf=8, min_samples_split=10, n_estimators=30; total time=   0.0s\n",
      "[CV] END bootstrap=False, max_depth=50, max_features=sqrt, min_samples_leaf=16, min_samples_split=2, n_estimators=100; total time=   0.1s\n",
      "[CV] END bootstrap=False, max_depth=50, max_features=sqrt, min_samples_leaf=16, min_samples_split=2, n_estimators=100; total time=   0.1s\n",
      "[CV] END bootstrap=False, max_depth=50, max_features=sqrt, min_samples_leaf=16, min_samples_split=2, n_estimators=100; total time=   0.1s\n",
      "[CV] END bootstrap=False, max_depth=20, max_features=sqrt, min_samples_leaf=2, min_samples_split=8, n_estimators=30; total time=   0.0s\n",
      "[CV] END bootstrap=False, max_depth=20, max_features=sqrt, min_samples_leaf=2, min_samples_split=8, n_estimators=30; total time=   0.0s\n",
      "[CV] END bootstrap=False, max_depth=20, max_features=sqrt, min_samples_leaf=2, min_samples_split=8, n_estimators=30; total time=   0.1s\n",
      "[CV] END bootstrap=True, max_depth=40, max_features=auto, min_samples_leaf=8, min_samples_split=2, n_estimators=30; total time=   0.0s\n",
      "[CV] END bootstrap=True, max_depth=40, max_features=auto, min_samples_leaf=8, min_samples_split=2, n_estimators=30; total time=   0.0s\n",
      "[CV] END bootstrap=True, max_depth=40, max_features=auto, min_samples_leaf=8, min_samples_split=2, n_estimators=30; total time=   0.0s\n",
      "[CV] END bootstrap=True, max_depth=10, max_features=auto, min_samples_leaf=2, min_samples_split=6, n_estimators=100; total time=   0.2s\n",
      "[CV] END bootstrap=True, max_depth=10, max_features=auto, min_samples_leaf=2, min_samples_split=6, n_estimators=100; total time=   0.4s\n",
      "[CV] END bootstrap=True, max_depth=10, max_features=auto, min_samples_leaf=2, min_samples_split=6, n_estimators=100; total time=   0.3s\n",
      "[CV] END bootstrap=True, max_depth=20, max_features=sqrt, min_samples_leaf=16, min_samples_split=4, n_estimators=50; total time=   0.1s\n",
      "[CV] END bootstrap=True, max_depth=20, max_features=sqrt, min_samples_leaf=16, min_samples_split=4, n_estimators=50; total time=   0.1s\n",
      "[CV] END bootstrap=True, max_depth=20, max_features=sqrt, min_samples_leaf=16, min_samples_split=4, n_estimators=50; total time=   0.2s\n",
      "[CV] END bootstrap=True, max_depth=20, max_features=sqrt, min_samples_leaf=8, min_samples_split=6, n_estimators=70; total time=   0.2s\n",
      "[CV] END bootstrap=True, max_depth=20, max_features=sqrt, min_samples_leaf=8, min_samples_split=6, n_estimators=70; total time=   0.1s\n",
      "[CV] END bootstrap=True, max_depth=20, max_features=sqrt, min_samples_leaf=8, min_samples_split=6, n_estimators=70; total time=   0.1s\n",
      "[CV] END bootstrap=True, max_depth=20, max_features=sqrt, min_samples_leaf=1, min_samples_split=10, n_estimators=50; total time=   0.2s\n",
      "[CV] END bootstrap=True, max_depth=20, max_features=sqrt, min_samples_leaf=1, min_samples_split=10, n_estimators=50; total time=   0.1s\n",
      "[CV] END bootstrap=True, max_depth=20, max_features=sqrt, min_samples_leaf=1, min_samples_split=10, n_estimators=50; total time=   0.2s\n",
      "[CV] END bootstrap=False, max_depth=10, max_features=sqrt, min_samples_leaf=4, min_samples_split=6, n_estimators=100; total time=   0.4s\n",
      "[CV] END bootstrap=False, max_depth=10, max_features=sqrt, min_samples_leaf=4, min_samples_split=6, n_estimators=100; total time=   0.4s\n",
      "[CV] END bootstrap=False, max_depth=10, max_features=sqrt, min_samples_leaf=4, min_samples_split=6, n_estimators=100; total time=   0.5s\n",
      "[CV] END bootstrap=False, max_depth=10, max_features=auto, min_samples_leaf=8, min_samples_split=4, n_estimators=50; total time=   0.2s\n",
      "[CV] END bootstrap=False, max_depth=10, max_features=auto, min_samples_leaf=8, min_samples_split=4, n_estimators=50; total time=   0.2s\n",
      "[CV] END bootstrap=False, max_depth=10, max_features=auto, min_samples_leaf=8, min_samples_split=4, n_estimators=50; total time=   0.3s\n",
      "[CV] END bootstrap=False, max_depth=40, max_features=auto, min_samples_leaf=8, min_samples_split=2, n_estimators=80; total time=   0.3s\n",
      "[CV] END bootstrap=False, max_depth=40, max_features=auto, min_samples_leaf=8, min_samples_split=2, n_estimators=80; total time=   0.2s\n",
      "[CV] END bootstrap=False, max_depth=40, max_features=auto, min_samples_leaf=8, min_samples_split=2, n_estimators=80; total time=   0.2s\n",
      "[CV] END bootstrap=False, max_depth=10, max_features=sqrt, min_samples_leaf=2, min_samples_split=4, n_estimators=20; total time=   0.0s\n",
      "[CV] END bootstrap=False, max_depth=10, max_features=sqrt, min_samples_leaf=2, min_samples_split=4, n_estimators=20; total time=   0.0s\n",
      "[CV] END bootstrap=False, max_depth=10, max_features=sqrt, min_samples_leaf=2, min_samples_split=4, n_estimators=20; total time=   0.0s\n",
      "[CV] END bootstrap=False, max_depth=20, max_features=sqrt, min_samples_leaf=8, min_samples_split=8, n_estimators=50; total time=   0.1s\n",
      "[CV] END bootstrap=False, max_depth=20, max_features=sqrt, min_samples_leaf=8, min_samples_split=8, n_estimators=50; total time=   0.1s\n",
      "[CV] END bootstrap=False, max_depth=20, max_features=sqrt, min_samples_leaf=8, min_samples_split=8, n_estimators=50; total time=   0.1s\n",
      "[CV] END bootstrap=True, max_depth=30, max_features=auto, min_samples_leaf=2, min_samples_split=6, n_estimators=50; total time=   0.1s\n",
      "[CV] END bootstrap=True, max_depth=30, max_features=auto, min_samples_leaf=2, min_samples_split=6, n_estimators=50; total time=   0.2s\n",
      "[CV] END bootstrap=True, max_depth=30, max_features=auto, min_samples_leaf=2, min_samples_split=6, n_estimators=50; total time=   0.1s\n",
      "[CV] END bootstrap=False, max_depth=40, max_features=sqrt, min_samples_leaf=2, min_samples_split=10, n_estimators=10; total time=   0.0s\n",
      "[CV] END bootstrap=False, max_depth=40, max_features=sqrt, min_samples_leaf=2, min_samples_split=10, n_estimators=10; total time=   0.0s\n",
      "[CV] END bootstrap=False, max_depth=40, max_features=sqrt, min_samples_leaf=2, min_samples_split=10, n_estimators=10; total time=   0.0s\n",
      "[CV] END bootstrap=False, max_depth=30, max_features=auto, min_samples_leaf=8, min_samples_split=8, n_estimators=40; total time=   0.1s\n",
      "[CV] END bootstrap=False, max_depth=30, max_features=auto, min_samples_leaf=8, min_samples_split=8, n_estimators=40; total time=   0.1s\n"
     ]
    },
    {
     "name": "stdout",
     "output_type": "stream",
     "text": [
      "[CV] END bootstrap=False, max_depth=30, max_features=auto, min_samples_leaf=8, min_samples_split=8, n_estimators=40; total time=   0.1s\n",
      "[CV] END bootstrap=True, max_depth=50, max_features=auto, min_samples_leaf=1, min_samples_split=6, n_estimators=50; total time=   0.2s\n",
      "[CV] END bootstrap=True, max_depth=50, max_features=auto, min_samples_leaf=1, min_samples_split=6, n_estimators=50; total time=   0.3s\n",
      "[CV] END bootstrap=True, max_depth=50, max_features=auto, min_samples_leaf=1, min_samples_split=6, n_estimators=50; total time=   0.2s\n",
      "[CV] END bootstrap=False, max_depth=None, max_features=auto, min_samples_leaf=8, min_samples_split=6, n_estimators=80; total time=   0.2s\n",
      "[CV] END bootstrap=False, max_depth=None, max_features=auto, min_samples_leaf=8, min_samples_split=6, n_estimators=80; total time=   0.1s\n",
      "[CV] END bootstrap=False, max_depth=None, max_features=auto, min_samples_leaf=8, min_samples_split=6, n_estimators=80; total time=   0.1s\n",
      "[CV] END bootstrap=False, max_depth=40, max_features=auto, min_samples_leaf=4, min_samples_split=8, n_estimators=50; total time=   0.2s\n",
      "[CV] END bootstrap=False, max_depth=40, max_features=auto, min_samples_leaf=4, min_samples_split=8, n_estimators=50; total time=   0.1s\n",
      "[CV] END bootstrap=False, max_depth=40, max_features=auto, min_samples_leaf=4, min_samples_split=8, n_estimators=50; total time=   0.1s\n",
      "[CV] END bootstrap=True, max_depth=40, max_features=auto, min_samples_leaf=16, min_samples_split=10, n_estimators=60; total time=   0.1s\n",
      "[CV] END bootstrap=True, max_depth=40, max_features=auto, min_samples_leaf=16, min_samples_split=10, n_estimators=60; total time=   0.0s\n",
      "[CV] END bootstrap=True, max_depth=40, max_features=auto, min_samples_leaf=16, min_samples_split=10, n_estimators=60; total time=   0.1s\n",
      "[CV] END bootstrap=False, max_depth=10, max_features=auto, min_samples_leaf=4, min_samples_split=10, n_estimators=40; total time=   0.1s\n",
      "[CV] END bootstrap=False, max_depth=10, max_features=auto, min_samples_leaf=4, min_samples_split=10, n_estimators=40; total time=   0.0s\n",
      "[CV] END bootstrap=False, max_depth=10, max_features=auto, min_samples_leaf=4, min_samples_split=10, n_estimators=40; total time=   0.1s\n",
      "[CV] END bootstrap=False, max_depth=10, max_features=sqrt, min_samples_leaf=1, min_samples_split=4, n_estimators=40; total time=   0.1s\n",
      "[CV] END bootstrap=False, max_depth=10, max_features=sqrt, min_samples_leaf=1, min_samples_split=4, n_estimators=40; total time=   0.1s\n",
      "[CV] END bootstrap=False, max_depth=10, max_features=sqrt, min_samples_leaf=1, min_samples_split=4, n_estimators=40; total time=   0.1s\n",
      "[CV] END bootstrap=False, max_depth=10, max_features=auto, min_samples_leaf=4, min_samples_split=6, n_estimators=20; total time=   0.0s\n",
      "[CV] END bootstrap=False, max_depth=10, max_features=auto, min_samples_leaf=4, min_samples_split=6, n_estimators=20; total time=   0.0s\n",
      "[CV] END bootstrap=False, max_depth=10, max_features=auto, min_samples_leaf=4, min_samples_split=6, n_estimators=20; total time=   0.0s\n",
      "[CV] END bootstrap=True, max_depth=30, max_features=sqrt, min_samples_leaf=16, min_samples_split=2, n_estimators=20; total time=   0.0s\n",
      "[CV] END bootstrap=True, max_depth=30, max_features=sqrt, min_samples_leaf=16, min_samples_split=2, n_estimators=20; total time=   0.0s\n",
      "[CV] END bootstrap=True, max_depth=30, max_features=sqrt, min_samples_leaf=16, min_samples_split=2, n_estimators=20; total time=   0.0s\n",
      "[CV] END bootstrap=True, max_depth=10, max_features=sqrt, min_samples_leaf=8, min_samples_split=8, n_estimators=100; total time=   0.1s\n",
      "[CV] END bootstrap=True, max_depth=10, max_features=sqrt, min_samples_leaf=8, min_samples_split=8, n_estimators=100; total time=   0.1s\n",
      "[CV] END bootstrap=True, max_depth=10, max_features=sqrt, min_samples_leaf=8, min_samples_split=8, n_estimators=100; total time=   0.2s\n",
      "[CV] END bootstrap=False, max_depth=10, max_features=sqrt, min_samples_leaf=2, min_samples_split=4, n_estimators=70; total time=   0.2s\n",
      "[CV] END bootstrap=False, max_depth=10, max_features=sqrt, min_samples_leaf=2, min_samples_split=4, n_estimators=70; total time=   0.2s\n",
      "[CV] END bootstrap=False, max_depth=10, max_features=sqrt, min_samples_leaf=2, min_samples_split=4, n_estimators=70; total time=   0.1s\n",
      "[CV] END bootstrap=False, max_depth=40, max_features=auto, min_samples_leaf=1, min_samples_split=10, n_estimators=40; total time=   0.1s\n",
      "[CV] END bootstrap=False, max_depth=40, max_features=auto, min_samples_leaf=1, min_samples_split=10, n_estimators=40; total time=   0.1s\n",
      "[CV] END bootstrap=False, max_depth=40, max_features=auto, min_samples_leaf=1, min_samples_split=10, n_estimators=40; total time=   0.2s\n",
      "[CV] END bootstrap=True, max_depth=None, max_features=sqrt, min_samples_leaf=16, min_samples_split=8, n_estimators=20; total time=   0.0s\n",
      "[CV] END bootstrap=True, max_depth=None, max_features=sqrt, min_samples_leaf=16, min_samples_split=8, n_estimators=20; total time=   0.0s\n",
      "[CV] END bootstrap=True, max_depth=None, max_features=sqrt, min_samples_leaf=16, min_samples_split=8, n_estimators=20; total time=   0.0s\n",
      "[CV] END bootstrap=True, max_depth=50, max_features=auto, min_samples_leaf=2, min_samples_split=8, n_estimators=10; total time=   0.0s\n",
      "[CV] END bootstrap=True, max_depth=50, max_features=auto, min_samples_leaf=2, min_samples_split=8, n_estimators=10; total time=   0.0s\n",
      "[CV] END bootstrap=True, max_depth=50, max_features=auto, min_samples_leaf=2, min_samples_split=8, n_estimators=10; total time=   0.0s\n",
      "[CV] END bootstrap=False, max_depth=30, max_features=auto, min_samples_leaf=1, min_samples_split=6, n_estimators=10; total time=   0.0s\n",
      "[CV] END bootstrap=False, max_depth=30, max_features=auto, min_samples_leaf=1, min_samples_split=6, n_estimators=10; total time=   0.0s\n",
      "[CV] END bootstrap=False, max_depth=30, max_features=auto, min_samples_leaf=1, min_samples_split=6, n_estimators=10; total time=   0.0s\n",
      "[CV] END bootstrap=True, max_depth=30, max_features=sqrt, min_samples_leaf=16, min_samples_split=2, n_estimators=50; total time=   0.0s\n",
      "[CV] END bootstrap=True, max_depth=30, max_features=sqrt, min_samples_leaf=16, min_samples_split=2, n_estimators=50; total time=   0.1s\n",
      "[CV] END bootstrap=True, max_depth=30, max_features=sqrt, min_samples_leaf=16, min_samples_split=2, n_estimators=50; total time=   0.0s\n",
      "[CV] END bootstrap=True, max_depth=10, max_features=sqrt, min_samples_leaf=1, min_samples_split=2, n_estimators=50; total time=   0.1s\n",
      "[CV] END bootstrap=True, max_depth=10, max_features=sqrt, min_samples_leaf=1, min_samples_split=2, n_estimators=50; total time=   0.1s\n",
      "[CV] END bootstrap=True, max_depth=10, max_features=sqrt, min_samples_leaf=1, min_samples_split=2, n_estimators=50; total time=   0.1s\n",
      "[CV] END bootstrap=True, max_depth=10, max_features=sqrt, min_samples_leaf=16, min_samples_split=4, n_estimators=60; total time=   0.1s\n",
      "[CV] END bootstrap=True, max_depth=10, max_features=sqrt, min_samples_leaf=16, min_samples_split=4, n_estimators=60; total time=   0.0s\n",
      "[CV] END bootstrap=True, max_depth=10, max_features=sqrt, min_samples_leaf=16, min_samples_split=4, n_estimators=60; total time=   0.1s\n",
      "[CV] END bootstrap=True, max_depth=50, max_features=auto, min_samples_leaf=4, min_samples_split=4, n_estimators=80; total time=   0.1s\n",
      "[CV] END bootstrap=True, max_depth=50, max_features=auto, min_samples_leaf=4, min_samples_split=4, n_estimators=80; total time=   0.1s\n",
      "[CV] END bootstrap=True, max_depth=50, max_features=auto, min_samples_leaf=4, min_samples_split=4, n_estimators=80; total time=   0.1s\n",
      "[CV] END bootstrap=True, max_depth=20, max_features=auto, min_samples_leaf=1, min_samples_split=2, n_estimators=70; total time=   0.2s\n",
      "[CV] END bootstrap=True, max_depth=20, max_features=auto, min_samples_leaf=1, min_samples_split=2, n_estimators=70; total time=   0.2s\n",
      "[CV] END bootstrap=True, max_depth=20, max_features=auto, min_samples_leaf=1, min_samples_split=2, n_estimators=70; total time=   0.2s\n",
      "[CV] END bootstrap=False, max_depth=30, max_features=sqrt, min_samples_leaf=1, min_samples_split=6, n_estimators=20; total time=   0.0s\n",
      "[CV] END bootstrap=False, max_depth=30, max_features=sqrt, min_samples_leaf=1, min_samples_split=6, n_estimators=20; total time=   0.1s\n",
      "[CV] END bootstrap=False, max_depth=30, max_features=sqrt, min_samples_leaf=1, min_samples_split=6, n_estimators=20; total time=   0.0s\n"
     ]
    },
    {
     "name": "stdout",
     "output_type": "stream",
     "text": [
      "[CV] END bootstrap=False, max_depth=30, max_features=sqrt, min_samples_leaf=1, min_samples_split=8, n_estimators=90; total time=   0.3s\n",
      "[CV] END bootstrap=False, max_depth=30, max_features=sqrt, min_samples_leaf=1, min_samples_split=8, n_estimators=90; total time=   0.4s\n",
      "[CV] END bootstrap=False, max_depth=30, max_features=sqrt, min_samples_leaf=1, min_samples_split=8, n_estimators=90; total time=   0.4s\n",
      "[CV] END bootstrap=False, max_depth=30, max_features=auto, min_samples_leaf=16, min_samples_split=4, n_estimators=40; total time=   0.0s\n",
      "[CV] END bootstrap=False, max_depth=30, max_features=auto, min_samples_leaf=16, min_samples_split=4, n_estimators=40; total time=   0.0s\n",
      "[CV] END bootstrap=False, max_depth=30, max_features=auto, min_samples_leaf=16, min_samples_split=4, n_estimators=40; total time=   0.0s\n",
      "[CV] END bootstrap=True, max_depth=10, max_features=auto, min_samples_leaf=16, min_samples_split=8, n_estimators=40; total time=   0.0s\n",
      "[CV] END bootstrap=True, max_depth=10, max_features=auto, min_samples_leaf=16, min_samples_split=8, n_estimators=40; total time=   0.0s\n",
      "[CV] END bootstrap=True, max_depth=10, max_features=auto, min_samples_leaf=16, min_samples_split=8, n_estimators=40; total time=   0.0s\n",
      "[CV] END bootstrap=True, max_depth=20, max_features=auto, min_samples_leaf=2, min_samples_split=2, n_estimators=40; total time=   0.1s\n",
      "[CV] END bootstrap=True, max_depth=20, max_features=auto, min_samples_leaf=2, min_samples_split=2, n_estimators=40; total time=   0.1s\n",
      "[CV] END bootstrap=True, max_depth=20, max_features=auto, min_samples_leaf=2, min_samples_split=2, n_estimators=40; total time=   0.1s\n",
      "[CV] END bootstrap=False, max_depth=50, max_features=sqrt, min_samples_leaf=2, min_samples_split=4, n_estimators=50; total time=   0.2s\n",
      "[CV] END bootstrap=False, max_depth=50, max_features=sqrt, min_samples_leaf=2, min_samples_split=4, n_estimators=50; total time=   0.2s\n",
      "[CV] END bootstrap=False, max_depth=50, max_features=sqrt, min_samples_leaf=2, min_samples_split=4, n_estimators=50; total time=   0.2s\n",
      "[CV] END bootstrap=True, max_depth=20, max_features=auto, min_samples_leaf=1, min_samples_split=10, n_estimators=50; total time=   0.1s\n",
      "[CV] END bootstrap=True, max_depth=20, max_features=auto, min_samples_leaf=1, min_samples_split=10, n_estimators=50; total time=   0.1s\n",
      "[CV] END bootstrap=True, max_depth=20, max_features=auto, min_samples_leaf=1, min_samples_split=10, n_estimators=50; total time=   0.1s\n",
      "[CV] END bootstrap=False, max_depth=20, max_features=auto, min_samples_leaf=16, min_samples_split=2, n_estimators=10; total time=   0.0s\n",
      "[CV] END bootstrap=False, max_depth=20, max_features=auto, min_samples_leaf=16, min_samples_split=2, n_estimators=10; total time=   0.0s\n",
      "[CV] END bootstrap=False, max_depth=20, max_features=auto, min_samples_leaf=16, min_samples_split=2, n_estimators=10; total time=   0.0s\n",
      "[CV] END bootstrap=False, max_depth=20, max_features=auto, min_samples_leaf=1, min_samples_split=10, n_estimators=10; total time=   0.0s\n",
      "[CV] END bootstrap=False, max_depth=20, max_features=auto, min_samples_leaf=1, min_samples_split=10, n_estimators=10; total time=   0.0s\n",
      "[CV] END bootstrap=False, max_depth=20, max_features=auto, min_samples_leaf=1, min_samples_split=10, n_estimators=10; total time=   0.0s\n",
      "[CV] END bootstrap=True, max_depth=None, max_features=sqrt, min_samples_leaf=1, min_samples_split=8, n_estimators=90; total time=   0.3s\n",
      "[CV] END bootstrap=True, max_depth=None, max_features=sqrt, min_samples_leaf=1, min_samples_split=8, n_estimators=90; total time=   0.3s\n",
      "[CV] END bootstrap=True, max_depth=None, max_features=sqrt, min_samples_leaf=1, min_samples_split=8, n_estimators=90; total time=   0.3s\n",
      "[CV] END bootstrap=True, max_depth=None, max_features=sqrt, min_samples_leaf=4, min_samples_split=4, n_estimators=50; total time=   0.1s\n",
      "[CV] END bootstrap=True, max_depth=None, max_features=sqrt, min_samples_leaf=4, min_samples_split=4, n_estimators=50; total time=   0.3s\n",
      "[CV] END bootstrap=True, max_depth=None, max_features=sqrt, min_samples_leaf=4, min_samples_split=4, n_estimators=50; total time=   0.1s\n",
      "[CV] END bootstrap=True, max_depth=50, max_features=auto, min_samples_leaf=2, min_samples_split=8, n_estimators=40; total time=   0.1s\n",
      "[CV] END bootstrap=True, max_depth=50, max_features=auto, min_samples_leaf=2, min_samples_split=8, n_estimators=40; total time=   0.1s\n",
      "[CV] END bootstrap=True, max_depth=50, max_features=auto, min_samples_leaf=2, min_samples_split=8, n_estimators=40; total time=   0.1s\n",
      "[CV] END bootstrap=False, max_depth=None, max_features=auto, min_samples_leaf=1, min_samples_split=10, n_estimators=30; total time=   0.1s\n",
      "[CV] END bootstrap=False, max_depth=None, max_features=auto, min_samples_leaf=1, min_samples_split=10, n_estimators=30; total time=   0.1s\n",
      "[CV] END bootstrap=False, max_depth=None, max_features=auto, min_samples_leaf=1, min_samples_split=10, n_estimators=30; total time=   0.1s\n",
      "[CV] END bootstrap=True, max_depth=10, max_features=sqrt, min_samples_leaf=2, min_samples_split=2, n_estimators=90; total time=   0.2s\n",
      "[CV] END bootstrap=True, max_depth=10, max_features=sqrt, min_samples_leaf=2, min_samples_split=2, n_estimators=90; total time=   0.2s\n",
      "[CV] END bootstrap=True, max_depth=10, max_features=sqrt, min_samples_leaf=2, min_samples_split=2, n_estimators=90; total time=   0.2s\n",
      "[CV] END bootstrap=True, max_depth=20, max_features=auto, min_samples_leaf=16, min_samples_split=4, n_estimators=10; total time=   0.0s\n",
      "[CV] END bootstrap=True, max_depth=20, max_features=auto, min_samples_leaf=16, min_samples_split=4, n_estimators=10; total time=   0.0s\n",
      "[CV] END bootstrap=True, max_depth=20, max_features=auto, min_samples_leaf=16, min_samples_split=4, n_estimators=10; total time=   0.0s\n",
      "[CV] END bootstrap=False, max_depth=30, max_features=auto, min_samples_leaf=4, min_samples_split=2, n_estimators=40; total time=   0.2s\n",
      "[CV] END bootstrap=False, max_depth=30, max_features=auto, min_samples_leaf=4, min_samples_split=2, n_estimators=40; total time=   0.1s\n",
      "[CV] END bootstrap=False, max_depth=30, max_features=auto, min_samples_leaf=4, min_samples_split=2, n_estimators=40; total time=   0.1s\n",
      "[CV] END bootstrap=True, max_depth=40, max_features=auto, min_samples_leaf=2, min_samples_split=8, n_estimators=10; total time=   0.0s\n",
      "[CV] END bootstrap=True, max_depth=40, max_features=auto, min_samples_leaf=2, min_samples_split=8, n_estimators=10; total time=   0.0s\n",
      "[CV] END bootstrap=True, max_depth=40, max_features=auto, min_samples_leaf=2, min_samples_split=8, n_estimators=10; total time=   0.0s\n",
      "[CV] END bootstrap=True, max_depth=30, max_features=sqrt, min_samples_leaf=2, min_samples_split=4, n_estimators=10; total time=   0.0s\n",
      "[CV] END bootstrap=True, max_depth=30, max_features=sqrt, min_samples_leaf=2, min_samples_split=4, n_estimators=10; total time=   0.0s\n",
      "[CV] END bootstrap=True, max_depth=30, max_features=sqrt, min_samples_leaf=2, min_samples_split=4, n_estimators=10; total time=   0.0s\n",
      "[CV] END bootstrap=True, max_depth=20, max_features=auto, min_samples_leaf=4, min_samples_split=6, n_estimators=60; total time=   0.1s\n",
      "[CV] END bootstrap=True, max_depth=20, max_features=auto, min_samples_leaf=4, min_samples_split=6, n_estimators=60; total time=   0.1s\n",
      "[CV] END bootstrap=True, max_depth=20, max_features=auto, min_samples_leaf=4, min_samples_split=6, n_estimators=60; total time=   0.1s\n",
      "[CV] END bootstrap=True, max_depth=10, max_features=auto, min_samples_leaf=1, min_samples_split=6, n_estimators=40; total time=   0.0s\n",
      "[CV] END bootstrap=True, max_depth=10, max_features=auto, min_samples_leaf=1, min_samples_split=6, n_estimators=40; total time=   0.0s\n",
      "[CV] END bootstrap=True, max_depth=10, max_features=auto, min_samples_leaf=1, min_samples_split=6, n_estimators=40; total time=   0.0s\n"
     ]
    },
    {
     "data": {
      "text/plain": [
       "RandomizedSearchCV(cv=3, estimator=RandomForestClassifier(), n_iter=100,\n",
       "                   param_distributions={'bootstrap': [True, False],\n",
       "                                        'max_depth': [10, 20, 30, 40, 50, None],\n",
       "                                        'max_features': ['auto', 'sqrt'],\n",
       "                                        'min_samples_leaf': [1, 2, 4, 8, 16],\n",
       "                                        'min_samples_split': [2, 4, 6, 8, 10],\n",
       "                                        'n_estimators': [10, 20, 30, 40, 50, 60,\n",
       "                                                         70, 80, 90, 100]},\n",
       "                   random_state=42, verbose=2)"
      ]
     },
     "execution_count": 36,
     "metadata": {},
     "output_type": "execute_result"
    }
   ],
   "source": [
    "random_search.fit(X_train, y_train)"
   ]
  },
  {
   "cell_type": "code",
   "execution_count": 37,
   "id": "8570a9bf",
   "metadata": {},
   "outputs": [
    {
     "data": {
      "text/plain": [
       "{'n_estimators': 20,\n",
       " 'min_samples_split': 6,\n",
       " 'min_samples_leaf': 1,\n",
       " 'max_features': 'sqrt',\n",
       " 'max_depth': 30,\n",
       " 'bootstrap': False}"
      ]
     },
     "execution_count": 37,
     "metadata": {},
     "output_type": "execute_result"
    }
   ],
   "source": [
    "res_dict = random_search.best_params_\n",
    "res_dict"
   ]
  },
  {
   "cell_type": "code",
   "execution_count": 38,
   "id": "9a23519a",
   "metadata": {},
   "outputs": [],
   "source": [
    "model2 = RandomForestClassifier(n_estimators=res_dict['n_estimators'], min_samples_split=res_dict['min_samples_split'], \n",
    "                                min_samples_leaf=res_dict['min_samples_leaf'], bootstrap=res_dict['bootstrap'], \n",
    "                                max_depth = res_dict['max_depth'], random_state=42)"
   ]
  },
  {
   "cell_type": "code",
   "execution_count": 39,
   "id": "30132b47",
   "metadata": {},
   "outputs": [],
   "source": [
    "model2.fit(X_train, y_train)\n",
    "y_pred = model2.predict(X_test)"
   ]
  },
  {
   "cell_type": "code",
   "execution_count": 40,
   "id": "204d3b67",
   "metadata": {},
   "outputs": [
    {
     "name": "stderr",
     "output_type": "stream",
     "text": [
      "C:\\Anaconda3\\lib\\site-packages\\sklearn\\utils\\deprecation.py:87: FutureWarning: Function plot_confusion_matrix is deprecated; Function `plot_confusion_matrix` is deprecated in 1.0 and will be removed in 1.2. Use one of the class methods: ConfusionMatrixDisplay.from_predictions or ConfusionMatrixDisplay.from_estimator.\n",
      "  warnings.warn(msg, category=FutureWarning)\n"
     ]
    },
    {
     "data": {
      "text/plain": [
       "<sklearn.metrics._plot.confusion_matrix.ConfusionMatrixDisplay at 0x264399b8520>"
      ]
     },
     "execution_count": 40,
     "metadata": {},
     "output_type": "execute_result"
    },
    {
     "data": {
      "image/png": "[encoded data removed]",
      "text/plain": [
       "<Figure size 432x288 with 2 Axes>"
      ]
     },
     "metadata": {
      "needs_background": "light"
     },
     "output_type": "display_data"
    }
   ],
   "source": [
    "plot_confusion_matrix(model2, X_test, y_test)"
   ]
  },
  {
   "cell_type": "code",
   "execution_count": 41,
   "id": "db70f996",
   "metadata": {},
   "outputs": [
    {
     "name": "stdout",
     "output_type": "stream",
     "text": [
      "              precision    recall  f1-score   support\n",
      "\n",
      "           0       0.78      0.81      0.79        78\n",
      "           1       0.79      0.75      0.77        73\n",
      "\n",
      "    accuracy                           0.78       151\n",
      "   macro avg       0.78      0.78      0.78       151\n",
      "weighted avg       0.78      0.78      0.78       151\n",
      "\n"
     ]
    }
   ],
   "source": [
    "print(classification_report(y_test, y_pred))"
   ]
  },
  {
   "cell_type": "code",
   "execution_count": 42,
   "id": "240fe460",
   "metadata": {},
   "outputs": [],
   "source": [
    "rf_pred = y_pred"
   ]
  },
  {
   "cell_type": "markdown",
   "id": "da4063a8",
   "metadata": {},
   "source": [
    "## LSTM"
   ]
  },
  {
   "cell_type": "code",
   "execution_count": 28,
   "id": "9c54a95d",
   "metadata": {},
   "outputs": [],
   "source": [
    "X_train, X_test, y_train, y_test = train_test_split(X, y, test_size=0.2, random_state=42)"
   ]
  },
  {
   "cell_type": "code",
   "execution_count": 29,
   "id": "60a8880f",
   "metadata": {},
   "outputs": [],
   "source": [
    "max_words = 1000\n",
    "max_len = 100\n",
    "tok = Tokenizer(num_words=max_words)\n",
    "tok.fit_on_texts(X_train)\n",
    "seq = tok.texts_to_sequences(X_train)\n",
    "seq_matrix = pad_sequences(seq, maxlen=max_len)"
   ]
  },
  {
   "cell_type": "code",
   "execution_count": 30,
   "id": "7f0add85",
   "metadata": {},
   "outputs": [],
   "source": [
    "model3 = Sequential()\n",
    "model3.add(Embedding(1000, 64, input_length=100))\n",
    "model3.add(LSTM(64, activation='relu'))\n",
    "model3.add(Dense(128, activation='relu'))\n",
    "model3.add(Dropout(0.2))\n",
    "model3.add(Dense(64, activation='relu'))\n",
    "model3.add(Dropout(0.2))\n",
    "model3.add(Dense(64, activation='relu'))\n",
    "model3.add(Dropout(0.2))\n",
    "model3.add(Dense(1, activation='sigmoid'))\n",
    "model3.compile(loss=keras.losses.BinaryCrossentropy(from_logits=False), optimizer='adam', metrics=['accuracy'])"
   ]
  },
  {
   "cell_type": "code",
   "execution_count": 31,
   "id": "60f9c6ee",
   "metadata": {},
   "outputs": [
    {
     "name": "stdout",
     "output_type": "stream",
     "text": [
      "Model: \"sequential\"\n",
      "_________________________________________________________________\n",
      " Layer (type)                Output Shape              Param #   \n",
      "=================================================================\n",
      " embedding (Embedding)       (None, 100, 64)           64000     \n",
      "                                                                 \n",
      " lstm (LSTM)                 (None, 64)                33024     \n",
      "                                                                 \n",
      " dense (Dense)               (None, 128)               8320      \n",
      "                                                                 \n",
      " dropout (Dropout)           (None, 128)               0         \n",
      "                                                                 \n",
      " dense_1 (Dense)             (None, 64)                8256      \n",
      "                                                                 \n",
      " dropout_1 (Dropout)         (None, 64)                0         \n",
      "                                                                 \n",
      " dense_2 (Dense)             (None, 64)                4160      \n",
      "                                                                 \n",
      " dropout_2 (Dropout)         (None, 64)                0         \n",
      "                                                                 \n",
      " dense_3 (Dense)             (None, 1)                 65        \n",
      "                                                                 \n",
      "=================================================================\n",
      "Total params: 117,825\n",
      "Trainable params: 117,825\n",
      "Non-trainable params: 0\n",
      "_________________________________________________________________\n"
     ]
    }
   ],
   "source": [
    "model3.summary()"
   ]
  },
  {
   "cell_type": "code",
   "execution_count": 32,
   "id": "8d729ecd",
   "metadata": {},
   "outputs": [
    {
     "name": "stdout",
     "output_type": "stream",
     "text": [
      "Epoch 1/25\n",
      "19/19 [==============================] - 5s 67ms/step - loss: 0.6943 - accuracy: 0.4650\n",
      "Epoch 2/25\n",
      "19/19 [==============================] - 2s 81ms/step - loss: 0.6917 - accuracy: 0.5533\n",
      "Epoch 3/25\n",
      "19/19 [==============================] - 2s 81ms/step - loss: 0.6778 - accuracy: 0.6917\n",
      "Epoch 4/25\n",
      "19/19 [==============================] - 1s 79ms/step - loss: 1.0249 - accuracy: 0.7633\n",
      "Epoch 5/25\n",
      "19/19 [==============================] - 2s 86ms/step - loss: 0.4472 - accuracy: 0.8317\n",
      "Epoch 6/25\n",
      "19/19 [==============================] - 2s 82ms/step - loss: 0.3188 - accuracy: 0.8800\n",
      "Epoch 7/25\n",
      "19/19 [==============================] - 2s 82ms/step - loss: 190176.9375 - accuracy: 0.8633\n",
      "Epoch 8/25\n",
      "19/19 [==============================] - 2s 82ms/step - loss: 0.3187 - accuracy: 0.8867\n",
      "Epoch 9/25\n",
      "19/19 [==============================] - 2s 79ms/step - loss: 0.2416 - accuracy: 0.9267\n",
      "Epoch 10/25\n",
      "19/19 [==============================] - 2s 85ms/step - loss: 0.2071 - accuracy: 0.9283\n",
      "Epoch 11/25\n",
      "19/19 [==============================] - 2s 86ms/step - loss: 0.1718 - accuracy: 0.9533\n",
      "Epoch 12/25\n",
      "19/19 [==============================] - 2s 82ms/step - loss: 0.1466 - accuracy: 0.9583\n",
      "Epoch 13/25\n",
      "19/19 [==============================] - 2s 82ms/step - loss: 0.1306 - accuracy: 0.9600\n",
      "Epoch 14/25\n",
      "19/19 [==============================] - 2s 80ms/step - loss: 0.1209 - accuracy: 0.9683\n",
      "Epoch 15/25\n",
      "19/19 [==============================] - 2s 80ms/step - loss: 0.1486 - accuracy: 0.9550\n",
      "Epoch 16/25\n",
      "19/19 [==============================] - 2s 84ms/step - loss: 0.1158 - accuracy: 0.9617\n",
      "Epoch 17/25\n",
      "19/19 [==============================] - 2s 94ms/step - loss: 0.0928 - accuracy: 0.9683\n",
      "Epoch 18/25\n",
      "19/19 [==============================] - 2s 88ms/step - loss: 0.0916 - accuracy: 0.9767\n",
      "Epoch 19/25\n",
      "19/19 [==============================] - 2s 91ms/step - loss: 0.0910 - accuracy: 0.9650\n",
      "Epoch 20/25\n",
      "19/19 [==============================] - 2s 86ms/step - loss: 0.0804 - accuracy: 0.9717\n",
      "Epoch 21/25\n",
      "19/19 [==============================] - 2s 84ms/step - loss: 0.0789 - accuracy: 0.9733\n",
      "Epoch 22/25\n",
      "19/19 [==============================] - 1s 79ms/step - loss: 0.0604 - accuracy: 0.9783\n",
      "Epoch 23/25\n",
      "19/19 [==============================] - 2s 82ms/step - loss: 0.0678 - accuracy: 0.9767\n",
      "Epoch 24/25\n",
      "19/19 [==============================] - 2s 85ms/step - loss: 0.0551 - accuracy: 0.9783\n",
      "Epoch 25/25\n",
      "19/19 [==============================] - 2s 83ms/step - loss: 0.0518 - accuracy: 0.9867\n"
     ]
    },
    {
     "data": {
      "text/plain": [
       "<keras.callbacks.History at 0x2c6a62a8af0>"
      ]
     },
     "execution_count": 32,
     "metadata": {},
     "output_type": "execute_result"
    }
   ],
   "source": [
    "model3.fit(seq_matrix, y_train, batch_size=32, epochs=25)"
   ]
  },
  {
   "cell_type": "code",
   "execution_count": 33,
   "id": "2d67d1ba",
   "metadata": {},
   "outputs": [],
   "source": [
    "test_seq = tok.texts_to_sequences(X_test)\n",
    "test_seq_matrix = pad_sequences(test_seq,maxlen=max_len)"
   ]
  },
  {
   "cell_type": "code",
   "execution_count": 34,
   "id": "487915d4",
   "metadata": {},
   "outputs": [
    {
     "name": "stdout",
     "output_type": "stream",
     "text": [
      "5/5 [==============================] - 1s 27ms/step - loss: 1520.8502 - accuracy: 0.6755\n"
     ]
    }
   ],
   "source": [
    "score = model3.evaluate(test_seq_matrix, y_test)"
   ]
  },
  {
   "cell_type": "code",
   "execution_count": 35,
   "id": "f965be88",
   "metadata": {},
   "outputs": [
    {
     "name": "stdout",
     "output_type": "stream",
     "text": [
      "Test loss: 1520.8502197265625\n",
      "Test accuracy: 0.6754966974258423\n"
     ]
    }
   ],
   "source": [
    "print(\"Test loss:\", score[0])\n",
    "print(\"Test accuracy:\", score[1])"
   ]
  },
  {
   "cell_type": "code",
   "execution_count": 36,
   "id": "aac4010c",
   "metadata": {},
   "outputs": [
    {
     "data": {
      "text/plain": [
       "array([[  0,   0,   0, ...,   3, 141, 324],\n",
       "       [  0,   0,   0, ..., 844,  12, 262],\n",
       "       [  0,   0,   0, ...,  32,   6,   2],\n",
       "       ...,\n",
       "       [  0,   0,   0, ...,   3,   4,   6],\n",
       "       [  0,   0,   0, ...,   3, 151, 136],\n",
       "       [  0,   0,   0, ..., 317,   7, 205]])"
      ]
     },
     "execution_count": 36,
     "metadata": {},
     "output_type": "execute_result"
    }
   ],
   "source": [
    "test_seq_matrix"
   ]
  },
  {
   "cell_type": "code",
   "execution_count": 37,
   "id": "a4ab1de8",
   "metadata": {},
   "outputs": [
    {
     "name": "stdout",
     "output_type": "stream",
     "text": [
      "5/5 [==============================] - 1s 25ms/step\n"
     ]
    }
   ],
   "source": [
    "pred = model3.predict(test_seq_matrix)"
   ]
  },
  {
   "cell_type": "code",
   "execution_count": 38,
   "id": "ba567070",
   "metadata": {},
   "outputs": [
    {
     "data": {
      "text/plain": [
       "array([[9.94550943e-01],\n",
       "       [9.99120891e-01],\n",
       "       [9.77485716e-01],\n",
       "       [9.98370767e-01],\n",
       "       [5.65186610e-07],\n",
       "       [9.11483228e-01],\n",
       "       [9.98395383e-01],\n",
       "       [9.28298056e-01],\n",
       "       [9.81050432e-01],\n",
       "       [6.13506138e-01],\n",
       "       [2.21283899e-05],\n",
       "       [4.16912407e-01],\n",
       "       [9.95447218e-01],\n",
       "       [6.46090019e-04],\n",
       "       [9.96447802e-01],\n",
       "       [9.98347282e-01],\n",
       "       [3.07777838e-27],\n",
       "       [9.87902045e-01],\n",
       "       [9.82519006e-04],\n",
       "       [9.74855006e-01],\n",
       "       [2.42939163e-02],\n",
       "       [1.17793627e-01],\n",
       "       [9.22893763e-01],\n",
       "       [3.12730409e-02],\n",
       "       [9.99822736e-01],\n",
       "       [4.25101425e-05],\n",
       "       [6.03774488e-01],\n",
       "       [9.95836973e-01],\n",
       "       [3.75332911e-06],\n",
       "       [3.70231061e-03],\n",
       "       [9.91002798e-01],\n",
       "       [9.75062549e-01],\n",
       "       [1.72077620e-04],\n",
       "       [9.90391493e-01],\n",
       "       [9.94807780e-01],\n",
       "       [1.06940272e-23],\n",
       "       [6.45254850e-01],\n",
       "       [9.97159481e-01],\n",
       "       [0.00000000e+00],\n",
       "       [6.08406670e-04],\n",
       "       [2.39219472e-38],\n",
       "       [1.73730582e-01],\n",
       "       [7.24402785e-01],\n",
       "       [8.82455133e-05],\n",
       "       [7.53588617e-01],\n",
       "       [6.81558922e-02],\n",
       "       [4.40324306e-01],\n",
       "       [1.30300120e-01],\n",
       "       [3.32714517e-05],\n",
       "       [3.14223114e-03],\n",
       "       [9.72430110e-01],\n",
       "       [2.97385395e-06],\n",
       "       [8.87723756e-04],\n",
       "       [9.96779740e-01],\n",
       "       [4.61580981e-07],\n",
       "       [9.98940945e-01],\n",
       "       [9.10013258e-01],\n",
       "       [4.51202213e-04],\n",
       "       [9.93751407e-01],\n",
       "       [8.09553802e-01],\n",
       "       [2.16979217e-02],\n",
       "       [1.45183061e-04],\n",
       "       [1.74198359e-01],\n",
       "       [7.84388363e-01],\n",
       "       [9.92150426e-01],\n",
       "       [2.14577340e-05],\n",
       "       [7.65809059e-01],\n",
       "       [3.24590539e-04],\n",
       "       [4.65311063e-03],\n",
       "       [9.84840333e-01],\n",
       "       [8.43127668e-01],\n",
       "       [1.15756353e-03],\n",
       "       [9.64890540e-01],\n",
       "       [9.85013783e-01],\n",
       "       [1.98069997e-02],\n",
       "       [9.95712042e-01],\n",
       "       [9.86790180e-01],\n",
       "       [5.31675051e-11],\n",
       "       [1.05475791e-01],\n",
       "       [9.99120891e-01],\n",
       "       [9.56639111e-01],\n",
       "       [9.98642921e-01],\n",
       "       [2.04483422e-05],\n",
       "       [9.85914409e-01],\n",
       "       [0.00000000e+00],\n",
       "       [9.94807780e-01],\n",
       "       [9.84728515e-01],\n",
       "       [9.97336328e-01],\n",
       "       [9.63100493e-01],\n",
       "       [9.99874890e-01],\n",
       "       [1.28779495e-02],\n",
       "       [9.97484088e-01],\n",
       "       [9.96430099e-01],\n",
       "       [8.70991573e-02],\n",
       "       [9.94645596e-01],\n",
       "       [8.04252049e-05],\n",
       "       [7.43464231e-01],\n",
       "       [2.40108420e-04],\n",
       "       [2.32060882e-03],\n",
       "       [3.02608282e-06],\n",
       "       [9.84955072e-01],\n",
       "       [2.98806317e-05],\n",
       "       [3.72266659e-04],\n",
       "       [3.37224215e-01],\n",
       "       [9.85606790e-01],\n",
       "       [9.47081923e-01],\n",
       "       [4.87025027e-05],\n",
       "       [1.39826944e-03],\n",
       "       [2.68555045e-01],\n",
       "       [6.45671680e-04],\n",
       "       [3.45381908e-03],\n",
       "       [7.03620678e-03],\n",
       "       [9.92938340e-01],\n",
       "       [9.50160742e-01],\n",
       "       [5.75521030e-04],\n",
       "       [9.95696187e-01],\n",
       "       [8.15345943e-01],\n",
       "       [4.16912407e-01],\n",
       "       [5.17222822e-01],\n",
       "       [0.00000000e+00],\n",
       "       [9.89427641e-02],\n",
       "       [0.00000000e+00],\n",
       "       [7.94040337e-02],\n",
       "       [9.95265067e-01],\n",
       "       [4.28243214e-03],\n",
       "       [9.93994176e-01],\n",
       "       [9.95135844e-01],\n",
       "       [2.57418789e-02],\n",
       "       [3.40132207e-01],\n",
       "       [5.10980077e-02],\n",
       "       [9.34344888e-01],\n",
       "       [0.00000000e+00],\n",
       "       [1.10998878e-03],\n",
       "       [9.83954310e-01],\n",
       "       [1.83599568e-05],\n",
       "       [9.88636911e-01],\n",
       "       [1.22248225e-01],\n",
       "       [8.04252049e-05],\n",
       "       [9.87730786e-10],\n",
       "       [9.94550943e-01],\n",
       "       [8.87723756e-04],\n",
       "       [7.98074529e-04],\n",
       "       [4.45095822e-04],\n",
       "       [9.97145474e-01],\n",
       "       [9.83264983e-01],\n",
       "       [9.97565448e-01],\n",
       "       [4.89185855e-04],\n",
       "       [6.22203152e-05],\n",
       "       [2.29129754e-03],\n",
       "       [1.65305281e-09],\n",
       "       [8.32299030e-09]], dtype=float32)"
      ]
     },
     "execution_count": 38,
     "metadata": {},
     "output_type": "execute_result"
    }
   ],
   "source": [
    "pred"
   ]
  },
  {
   "cell_type": "code",
   "execution_count": 39,
   "id": "a8f583f7",
   "metadata": {},
   "outputs": [],
   "source": [
    "y_pred = np.where(pred < 0.5, 0, 1)"
   ]
  },
  {
   "cell_type": "code",
   "execution_count": 40,
   "id": "ee1ecdaa",
   "metadata": {},
   "outputs": [
    {
     "name": "stdout",
     "output_type": "stream",
     "text": [
      "              precision    recall  f1-score   support\n",
      "\n",
      "           0       0.68      0.69      0.69        78\n",
      "           1       0.67      0.66      0.66        73\n",
      "\n",
      "    accuracy                           0.68       151\n",
      "   macro avg       0.68      0.67      0.67       151\n",
      "weighted avg       0.68      0.68      0.68       151\n",
      "\n"
     ]
    }
   ],
   "source": [
    "print(classification_report(y_test, y_pred))"
   ]
  },
  {
   "cell_type": "code",
   "execution_count": 41,
   "id": "a20c70b6",
   "metadata": {},
   "outputs": [],
   "source": [
    "lstm_pred = y_pred"
   ]
  },
  {
   "cell_type": "markdown",
   "id": "022b5602",
   "metadata": {},
   "source": [
    "### Using Tfidf"
   ]
  },
  {
   "cell_type": "code",
   "execution_count": 42,
   "id": "1e52333c",
   "metadata": {},
   "outputs": [],
   "source": [
    "X_train, X_test, y_train, y_test = train_test_split(X_encoded, y, test_size=0.2, random_state=42)"
   ]
  },
  {
   "cell_type": "code",
   "execution_count": 43,
   "id": "f4515d57",
   "metadata": {},
   "outputs": [
    {
     "data": {
      "text/plain": [
       "(600, 2906)"
      ]
     },
     "execution_count": 43,
     "metadata": {},
     "output_type": "execute_result"
    }
   ],
   "source": [
    "X_train.shape"
   ]
  },
  {
   "cell_type": "code",
   "execution_count": 44,
   "id": "d5a5f3f5",
   "metadata": {},
   "outputs": [],
   "source": [
    "model3 = Sequential()\n",
    "model3.add(Embedding(256, 64, input_length=X_train.shape[1]))\n",
    "model3.add(LSTM(64, activation='relu'))\n",
    "model3.add(Dense(128, activation='relu'))\n",
    "model3.add(Dropout(0.3))\n",
    "model3.add(Dense(1, activation='sigmoid'))\n",
    "model3.compile(loss='binary_crossentropy', optimizer='rmsprop', metrics=['accuracy'])"
   ]
  },
  {
   "cell_type": "code",
   "execution_count": 45,
   "id": "404b447b",
   "metadata": {},
   "outputs": [
    {
     "name": "stdout",
     "output_type": "stream",
     "text": [
      "Model: \"sequential_1\"\n",
      "_________________________________________________________________\n",
      " Layer (type)                Output Shape              Param #   \n",
      "=================================================================\n",
      " embedding_1 (Embedding)     (None, 2906, 64)          16384     \n",
      "                                                                 \n",
      " lstm_1 (LSTM)               (None, 64)                33024     \n",
      "                                                                 \n",
      " dense_4 (Dense)             (None, 128)               8320      \n",
      "                                                                 \n",
      " dropout_3 (Dropout)         (None, 128)               0         \n",
      "                                                                 \n",
      " dense_5 (Dense)             (None, 1)                 129       \n",
      "                                                                 \n",
      "=================================================================\n",
      "Total params: 57,857\n",
      "Trainable params: 57,857\n",
      "Non-trainable params: 0\n",
      "_________________________________________________________________\n"
     ]
    }
   ],
   "source": [
    "model3.summary()"
   ]
  },
  {
   "cell_type": "code",
   "execution_count": 46,
   "id": "e697225b",
   "metadata": {},
   "outputs": [],
   "source": [
    "#model3.fit(X_train, y_train, batch_size=64, epochs=20)"
   ]
  },
  {
   "cell_type": "code",
   "execution_count": 47,
   "id": "def05b7c",
   "metadata": {},
   "outputs": [],
   "source": [
    "#score = model3.evaluate(X_test, y_test)"
   ]
  },
  {
   "cell_type": "code",
   "execution_count": 48,
   "id": "5d908e39",
   "metadata": {},
   "outputs": [],
   "source": [
    "#print(\"Test loss:\", score[0])\n",
    "#print(\"Test accuracy:\", score[1])"
   ]
  },
  {
   "cell_type": "code",
   "execution_count": 49,
   "id": "cb1f6398",
   "metadata": {},
   "outputs": [],
   "source": [
    "#pred = model3.predict(X_test)\n",
    "#y_pred = np.where(pred < 0.5, 0, 1)"
   ]
  },
  {
   "cell_type": "code",
   "execution_count": 50,
   "id": "9d4eddb7",
   "metadata": {},
   "outputs": [],
   "source": [
    "#y_pred"
   ]
  },
  {
   "cell_type": "code",
   "execution_count": 51,
   "id": "3bcbd988",
   "metadata": {},
   "outputs": [],
   "source": [
    "#print(classification_report(y_test, y_pred))"
   ]
  },
  {
   "cell_type": "markdown",
   "id": "a49bd8eb",
   "metadata": {},
   "source": [
    "### AdaBoost"
   ]
  },
  {
   "cell_type": "code",
   "execution_count": 43,
   "id": "b2901a4b",
   "metadata": {},
   "outputs": [],
   "source": [
    "X_train, X_test, y_train, y_test = train_test_split(X_encoded, y, test_size=0.2, random_state=42)"
   ]
  },
  {
   "cell_type": "code",
   "execution_count": 44,
   "id": "7e30007a",
   "metadata": {},
   "outputs": [],
   "source": [
    "ada = AdaBoostClassifier(random_state=42)"
   ]
  },
  {
   "cell_type": "code",
   "execution_count": 45,
   "id": "59da09dd",
   "metadata": {},
   "outputs": [],
   "source": [
    "param_grid = {\n",
    "    'n_estimators': [10, 20, 30, 40, 50, 60, 70, 80, 90, 100],\n",
    "    'learning_rate': [0.1, 0.2, 0.5, 0.8, 1.0, 10]\n",
    "}"
   ]
  },
  {
   "cell_type": "code",
   "execution_count": 46,
   "id": "8c9a5349",
   "metadata": {},
   "outputs": [],
   "source": [
    "random_search = RandomizedSearchCV(estimator = ada, param_distributions = param_grid,  n_iter = 100, cv = 3, verbose=2, random_state=42)"
   ]
  },
  {
   "cell_type": "code",
   "execution_count": 47,
   "id": "cd89fe5c",
   "metadata": {},
   "outputs": [
    {
     "name": "stdout",
     "output_type": "stream",
     "text": [
      "Fitting 3 folds for each of 60 candidates, totalling 180 fits\n"
     ]
    },
    {
     "name": "stderr",
     "output_type": "stream",
     "text": [
      "C:\\Anaconda3\\lib\\site-packages\\sklearn\\model_selection\\_search.py:292: UserWarning: The total space of parameters 60 is smaller than n_iter=100. Running 60 iterations. For exhaustive searches, use GridSearchCV.\n",
      "  warnings.warn(\n"
     ]
    },
    {
     "name": "stdout",
     "output_type": "stream",
     "text": [
      "[CV] END .................learning_rate=0.1, n_estimators=10; total time=   0.3s\n",
      "[CV] END .................learning_rate=0.1, n_estimators=10; total time=   0.2s\n",
      "[CV] END .................learning_rate=0.1, n_estimators=10; total time=   0.1s\n",
      "[CV] END .................learning_rate=0.1, n_estimators=20; total time=   0.4s\n",
      "[CV] END .................learning_rate=0.1, n_estimators=20; total time=   0.4s\n",
      "[CV] END .................learning_rate=0.1, n_estimators=20; total time=   0.3s\n",
      "[CV] END .................learning_rate=0.1, n_estimators=30; total time=   0.7s\n",
      "[CV] END .................learning_rate=0.1, n_estimators=30; total time=   0.6s\n",
      "[CV] END .................learning_rate=0.1, n_estimators=30; total time=   0.6s\n",
      "[CV] END .................learning_rate=0.1, n_estimators=40; total time=   0.7s\n",
      "[CV] END .................learning_rate=0.1, n_estimators=40; total time=   0.7s\n",
      "[CV] END .................learning_rate=0.1, n_estimators=40; total time=   0.7s\n",
      "[CV] END .................learning_rate=0.1, n_estimators=50; total time=   0.9s\n",
      "[CV] END .................learning_rate=0.1, n_estimators=50; total time=   0.9s\n",
      "[CV] END .................learning_rate=0.1, n_estimators=50; total time=   0.9s\n",
      "[CV] END .................learning_rate=0.1, n_estimators=60; total time=   1.0s\n",
      "[CV] END .................learning_rate=0.1, n_estimators=60; total time=   0.8s\n",
      "[CV] END .................learning_rate=0.1, n_estimators=60; total time=   0.9s\n",
      "[CV] END .................learning_rate=0.1, n_estimators=70; total time=   1.0s\n",
      "[CV] END .................learning_rate=0.1, n_estimators=70; total time=   1.0s\n",
      "[CV] END .................learning_rate=0.1, n_estimators=70; total time=   1.0s\n",
      "[CV] END .................learning_rate=0.1, n_estimators=80; total time=   1.2s\n",
      "[CV] END .................learning_rate=0.1, n_estimators=80; total time=   1.5s\n",
      "[CV] END .................learning_rate=0.1, n_estimators=80; total time=   1.5s\n",
      "[CV] END .................learning_rate=0.1, n_estimators=90; total time=   1.4s\n",
      "[CV] END .................learning_rate=0.1, n_estimators=90; total time=   1.4s\n",
      "[CV] END .................learning_rate=0.1, n_estimators=90; total time=   1.3s\n",
      "[CV] END ................learning_rate=0.1, n_estimators=100; total time=   1.6s\n",
      "[CV] END ................learning_rate=0.1, n_estimators=100; total time=   1.6s\n",
      "[CV] END ................learning_rate=0.1, n_estimators=100; total time=   1.5s\n",
      "[CV] END .................learning_rate=0.2, n_estimators=10; total time=   0.1s\n",
      "[CV] END .................learning_rate=0.2, n_estimators=10; total time=   0.1s\n",
      "[CV] END .................learning_rate=0.2, n_estimators=10; total time=   0.1s\n",
      "[CV] END .................learning_rate=0.2, n_estimators=20; total time=   0.2s\n",
      "[CV] END .................learning_rate=0.2, n_estimators=20; total time=   0.3s\n",
      "[CV] END .................learning_rate=0.2, n_estimators=20; total time=   0.3s\n",
      "[CV] END .................learning_rate=0.2, n_estimators=30; total time=   0.5s\n",
      "[CV] END .................learning_rate=0.2, n_estimators=30; total time=   0.4s\n",
      "[CV] END .................learning_rate=0.2, n_estimators=30; total time=   0.4s\n",
      "[CV] END .................learning_rate=0.2, n_estimators=40; total time=   0.5s\n",
      "[CV] END .................learning_rate=0.2, n_estimators=40; total time=   0.6s\n",
      "[CV] END .................learning_rate=0.2, n_estimators=40; total time=   0.6s\n",
      "[CV] END .................learning_rate=0.2, n_estimators=50; total time=   0.7s\n",
      "[CV] END .................learning_rate=0.2, n_estimators=50; total time=   0.7s\n",
      "[CV] END .................learning_rate=0.2, n_estimators=50; total time=   0.8s\n",
      "[CV] END .................learning_rate=0.2, n_estimators=60; total time=   0.9s\n",
      "[CV] END .................learning_rate=0.2, n_estimators=60; total time=   0.9s\n",
      "[CV] END .................learning_rate=0.2, n_estimators=60; total time=   1.0s\n",
      "[CV] END .................learning_rate=0.2, n_estimators=70; total time=   1.1s\n",
      "[CV] END .................learning_rate=0.2, n_estimators=70; total time=   1.0s\n",
      "[CV] END .................learning_rate=0.2, n_estimators=70; total time=   1.0s\n",
      "[CV] END .................learning_rate=0.2, n_estimators=80; total time=   1.1s\n",
      "[CV] END .................learning_rate=0.2, n_estimators=80; total time=   1.1s\n",
      "[CV] END .................learning_rate=0.2, n_estimators=80; total time=   1.1s\n",
      "[CV] END .................learning_rate=0.2, n_estimators=90; total time=   1.5s\n",
      "[CV] END .................learning_rate=0.2, n_estimators=90; total time=   1.3s\n",
      "[CV] END .................learning_rate=0.2, n_estimators=90; total time=   1.3s\n",
      "[CV] END ................learning_rate=0.2, n_estimators=100; total time=   1.4s\n",
      "[CV] END ................learning_rate=0.2, n_estimators=100; total time=   1.4s\n",
      "[CV] END ................learning_rate=0.2, n_estimators=100; total time=   1.4s\n",
      "[CV] END .................learning_rate=0.5, n_estimators=10; total time=   0.1s\n",
      "[CV] END .................learning_rate=0.5, n_estimators=10; total time=   0.1s\n",
      "[CV] END .................learning_rate=0.5, n_estimators=10; total time=   0.1s\n",
      "[CV] END .................learning_rate=0.5, n_estimators=20; total time=   0.2s\n",
      "[CV] END .................learning_rate=0.5, n_estimators=20; total time=   0.2s\n",
      "[CV] END .................learning_rate=0.5, n_estimators=20; total time=   0.2s\n",
      "[CV] END .................learning_rate=0.5, n_estimators=30; total time=   0.4s\n",
      "[CV] END .................learning_rate=0.5, n_estimators=30; total time=   0.4s\n",
      "[CV] END .................learning_rate=0.5, n_estimators=30; total time=   0.4s\n",
      "[CV] END .................learning_rate=0.5, n_estimators=40; total time=   0.5s\n",
      "[CV] END .................learning_rate=0.5, n_estimators=40; total time=   0.6s\n",
      "[CV] END .................learning_rate=0.5, n_estimators=40; total time=   0.5s\n",
      "[CV] END .................learning_rate=0.5, n_estimators=50; total time=   0.7s\n",
      "[CV] END .................learning_rate=0.5, n_estimators=50; total time=   0.7s\n",
      "[CV] END .................learning_rate=0.5, n_estimators=50; total time=   0.7s\n",
      "[CV] END .................learning_rate=0.5, n_estimators=60; total time=   0.8s\n",
      "[CV] END .................learning_rate=0.5, n_estimators=60; total time=   0.8s\n",
      "[CV] END .................learning_rate=0.5, n_estimators=60; total time=   0.8s\n",
      "[CV] END .................learning_rate=0.5, n_estimators=70; total time=   1.0s\n",
      "[CV] END .................learning_rate=0.5, n_estimators=70; total time=   0.9s\n",
      "[CV] END .................learning_rate=0.5, n_estimators=70; total time=   1.0s\n",
      "[CV] END .................learning_rate=0.5, n_estimators=80; total time=   1.1s\n",
      "[CV] END .................learning_rate=0.5, n_estimators=80; total time=   1.1s\n",
      "[CV] END .................learning_rate=0.5, n_estimators=80; total time=   1.1s\n",
      "[CV] END .................learning_rate=0.5, n_estimators=90; total time=   1.3s\n",
      "[CV] END .................learning_rate=0.5, n_estimators=90; total time=   1.3s\n",
      "[CV] END .................learning_rate=0.5, n_estimators=90; total time=   1.3s\n",
      "[CV] END ................learning_rate=0.5, n_estimators=100; total time=   1.4s\n",
      "[CV] END ................learning_rate=0.5, n_estimators=100; total time=   1.4s\n",
      "[CV] END ................learning_rate=0.5, n_estimators=100; total time=   1.4s\n",
      "[CV] END .................learning_rate=0.8, n_estimators=10; total time=   0.1s\n",
      "[CV] END .................learning_rate=0.8, n_estimators=10; total time=   0.1s\n",
      "[CV] END .................learning_rate=0.8, n_estimators=10; total time=   0.1s\n",
      "[CV] END .................learning_rate=0.8, n_estimators=20; total time=   0.3s\n",
      "[CV] END .................learning_rate=0.8, n_estimators=20; total time=   0.2s\n",
      "[CV] END .................learning_rate=0.8, n_estimators=20; total time=   0.2s\n",
      "[CV] END .................learning_rate=0.8, n_estimators=30; total time=   0.4s\n",
      "[CV] END .................learning_rate=0.8, n_estimators=30; total time=   0.4s\n",
      "[CV] END .................learning_rate=0.8, n_estimators=30; total time=   0.4s\n",
      "[CV] END .................learning_rate=0.8, n_estimators=40; total time=   0.5s\n",
      "[CV] END .................learning_rate=0.8, n_estimators=40; total time=   0.5s\n",
      "[CV] END .................learning_rate=0.8, n_estimators=40; total time=   0.5s\n"
     ]
    },
    {
     "name": "stdout",
     "output_type": "stream",
     "text": [
      "[CV] END .................learning_rate=0.8, n_estimators=50; total time=   0.7s\n",
      "[CV] END .................learning_rate=0.8, n_estimators=50; total time=   0.7s\n",
      "[CV] END .................learning_rate=0.8, n_estimators=50; total time=   0.7s\n",
      "[CV] END .................learning_rate=0.8, n_estimators=60; total time=   0.8s\n",
      "[CV] END .................learning_rate=0.8, n_estimators=60; total time=   0.8s\n",
      "[CV] END .................learning_rate=0.8, n_estimators=60; total time=   1.1s\n",
      "[CV] END .................learning_rate=0.8, n_estimators=70; total time=   1.3s\n",
      "[CV] END .................learning_rate=0.8, n_estimators=70; total time=   1.1s\n",
      "[CV] END .................learning_rate=0.8, n_estimators=70; total time=   1.3s\n",
      "[CV] END .................learning_rate=0.8, n_estimators=80; total time=   1.5s\n",
      "[CV] END .................learning_rate=0.8, n_estimators=80; total time=   1.6s\n",
      "[CV] END .................learning_rate=0.8, n_estimators=80; total time=   1.6s\n",
      "[CV] END .................learning_rate=0.8, n_estimators=90; total time=   1.9s\n",
      "[CV] END .................learning_rate=0.8, n_estimators=90; total time=   1.8s\n",
      "[CV] END .................learning_rate=0.8, n_estimators=90; total time=   1.4s\n",
      "[CV] END ................learning_rate=0.8, n_estimators=100; total time=   1.5s\n",
      "[CV] END ................learning_rate=0.8, n_estimators=100; total time=   1.6s\n",
      "[CV] END ................learning_rate=0.8, n_estimators=100; total time=   1.6s\n",
      "[CV] END .................learning_rate=1.0, n_estimators=10; total time=   0.1s\n",
      "[CV] END .................learning_rate=1.0, n_estimators=10; total time=   0.1s\n",
      "[CV] END .................learning_rate=1.0, n_estimators=10; total time=   0.1s\n",
      "[CV] END .................learning_rate=1.0, n_estimators=20; total time=   0.3s\n",
      "[CV] END .................learning_rate=1.0, n_estimators=20; total time=   0.2s\n",
      "[CV] END .................learning_rate=1.0, n_estimators=20; total time=   0.2s\n",
      "[CV] END .................learning_rate=1.0, n_estimators=30; total time=   0.4s\n",
      "[CV] END .................learning_rate=1.0, n_estimators=30; total time=   0.4s\n",
      "[CV] END .................learning_rate=1.0, n_estimators=30; total time=   0.4s\n",
      "[CV] END .................learning_rate=1.0, n_estimators=40; total time=   0.6s\n",
      "[CV] END .................learning_rate=1.0, n_estimators=40; total time=   0.6s\n",
      "[CV] END .................learning_rate=1.0, n_estimators=40; total time=   0.6s\n",
      "[CV] END .................learning_rate=1.0, n_estimators=50; total time=   0.9s\n",
      "[CV] END .................learning_rate=1.0, n_estimators=50; total time=   0.7s\n",
      "[CV] END .................learning_rate=1.0, n_estimators=50; total time=   0.6s\n",
      "[CV] END .................learning_rate=1.0, n_estimators=60; total time=   0.9s\n",
      "[CV] END .................learning_rate=1.0, n_estimators=60; total time=   0.9s\n",
      "[CV] END .................learning_rate=1.0, n_estimators=60; total time=   0.9s\n",
      "[CV] END .................learning_rate=1.0, n_estimators=70; total time=   1.0s\n",
      "[CV] END .................learning_rate=1.0, n_estimators=70; total time=   1.0s\n",
      "[CV] END .................learning_rate=1.0, n_estimators=70; total time=   1.2s\n",
      "[CV] END .................learning_rate=1.0, n_estimators=80; total time=   1.2s\n",
      "[CV] END .................learning_rate=1.0, n_estimators=80; total time=   1.3s\n",
      "[CV] END .................learning_rate=1.0, n_estimators=80; total time=   1.2s\n",
      "[CV] END .................learning_rate=1.0, n_estimators=90; total time=   1.5s\n",
      "[CV] END .................learning_rate=1.0, n_estimators=90; total time=   1.4s\n",
      "[CV] END .................learning_rate=1.0, n_estimators=90; total time=   1.8s\n",
      "[CV] END ................learning_rate=1.0, n_estimators=100; total time=   1.5s\n",
      "[CV] END ................learning_rate=1.0, n_estimators=100; total time=   1.5s\n",
      "[CV] END ................learning_rate=1.0, n_estimators=100; total time=   1.7s\n",
      "[CV] END ..................learning_rate=10, n_estimators=10; total time=   0.1s\n",
      "[CV] END ..................learning_rate=10, n_estimators=10; total time=   0.0s\n",
      "[CV] END ..................learning_rate=10, n_estimators=10; total time=   0.1s\n",
      "[CV] END ..................learning_rate=10, n_estimators=20; total time=   0.1s\n",
      "[CV] END ..................learning_rate=10, n_estimators=20; total time=   0.1s\n",
      "[CV] END ..................learning_rate=10, n_estimators=20; total time=   0.1s\n",
      "[CV] END ..................learning_rate=10, n_estimators=30; total time=   0.2s\n",
      "[CV] END ..................learning_rate=10, n_estimators=30; total time=   0.2s\n",
      "[CV] END ..................learning_rate=10, n_estimators=30; total time=   0.2s\n",
      "[CV] END ..................learning_rate=10, n_estimators=40; total time=   0.3s\n",
      "[CV] END ..................learning_rate=10, n_estimators=40; total time=   0.4s\n",
      "[CV] END ..................learning_rate=10, n_estimators=40; total time=   0.3s\n",
      "[CV] END ..................learning_rate=10, n_estimators=50; total time=   0.4s\n",
      "[CV] END ..................learning_rate=10, n_estimators=50; total time=   0.4s\n",
      "[CV] END ..................learning_rate=10, n_estimators=50; total time=   0.4s\n",
      "[CV] END ..................learning_rate=10, n_estimators=60; total time=   0.5s\n",
      "[CV] END ..................learning_rate=10, n_estimators=60; total time=   0.5s\n",
      "[CV] END ..................learning_rate=10, n_estimators=60; total time=   0.5s\n",
      "[CV] END ..................learning_rate=10, n_estimators=70; total time=   0.6s\n",
      "[CV] END ..................learning_rate=10, n_estimators=70; total time=   0.6s\n",
      "[CV] END ..................learning_rate=10, n_estimators=70; total time=   0.6s\n",
      "[CV] END ..................learning_rate=10, n_estimators=80; total time=   0.7s\n",
      "[CV] END ..................learning_rate=10, n_estimators=80; total time=   0.7s\n",
      "[CV] END ..................learning_rate=10, n_estimators=80; total time=   0.7s\n",
      "[CV] END ..................learning_rate=10, n_estimators=90; total time=   0.7s\n",
      "[CV] END ..................learning_rate=10, n_estimators=90; total time=   0.7s\n",
      "[CV] END ..................learning_rate=10, n_estimators=90; total time=   0.8s\n",
      "[CV] END .................learning_rate=10, n_estimators=100; total time=   0.9s\n",
      "[CV] END .................learning_rate=10, n_estimators=100; total time=   0.9s\n",
      "[CV] END .................learning_rate=10, n_estimators=100; total time=   0.8s\n"
     ]
    },
    {
     "data": {
      "text/plain": [
       "RandomizedSearchCV(cv=3, estimator=AdaBoostClassifier(random_state=42),\n",
       "                   n_iter=100,\n",
       "                   param_distributions={'learning_rate': [0.1, 0.2, 0.5, 0.8,\n",
       "                                                          1.0, 10],\n",
       "                                        'n_estimators': [10, 20, 30, 40, 50, 60,\n",
       "                                                         70, 80, 90, 100]},\n",
       "                   random_state=42, verbose=2)"
      ]
     },
     "execution_count": 47,
     "metadata": {},
     "output_type": "execute_result"
    }
   ],
   "source": [
    "random_search.fit(X_train, y_train)"
   ]
  },
  {
   "cell_type": "code",
   "execution_count": 48,
   "id": "a416fc6b",
   "metadata": {},
   "outputs": [
    {
     "data": {
      "text/plain": [
       "{'n_estimators': 60, 'learning_rate': 0.2}"
      ]
     },
     "execution_count": 48,
     "metadata": {},
     "output_type": "execute_result"
    }
   ],
   "source": [
    "res_dict = random_search.best_params_\n",
    "res_dict"
   ]
  },
  {
   "cell_type": "code",
   "execution_count": 49,
   "id": "155bb1e4",
   "metadata": {},
   "outputs": [],
   "source": [
    "ada = AdaBoostClassifier(n_estimators = res_dict['n_estimators'], learning_rate = res_dict['learning_rate'], \n",
    "                        random_state=42)"
   ]
  },
  {
   "cell_type": "code",
   "execution_count": 50,
   "id": "59be03b0",
   "metadata": {},
   "outputs": [
    {
     "data": {
      "text/plain": [
       "AdaBoostClassifier(learning_rate=0.2, n_estimators=60, random_state=42)"
      ]
     },
     "execution_count": 50,
     "metadata": {},
     "output_type": "execute_result"
    }
   ],
   "source": [
    "ada.fit(X_train, y_train)"
   ]
  },
  {
   "cell_type": "code",
   "execution_count": 51,
   "id": "c208b23d",
   "metadata": {},
   "outputs": [],
   "source": [
    "y_pred = ada.predict(X_test)"
   ]
  },
  {
   "cell_type": "code",
   "execution_count": 52,
   "id": "e18c0bca",
   "metadata": {},
   "outputs": [
    {
     "name": "stderr",
     "output_type": "stream",
     "text": [
      "C:\\Anaconda3\\lib\\site-packages\\sklearn\\utils\\deprecation.py:87: FutureWarning: Function plot_confusion_matrix is deprecated; Function `plot_confusion_matrix` is deprecated in 1.0 and will be removed in 1.2. Use one of the class methods: ConfusionMatrixDisplay.from_predictions or ConfusionMatrixDisplay.from_estimator.\n",
      "  warnings.warn(msg, category=FutureWarning)\n"
     ]
    },
    {
     "data": {
      "text/plain": [
       "<sklearn.metrics._plot.confusion_matrix.ConfusionMatrixDisplay at 0x26436f7b0a0>"
      ]
     },
     "execution_count": 52,
     "metadata": {},
     "output_type": "execute_result"
    },
    {
     "data": {
      "image/png": "[encoded data removed]",
      "text/plain": [
       "<Figure size 432x288 with 2 Axes>"
      ]
     },
     "metadata": {
      "needs_background": "light"
     },
     "output_type": "display_data"
    }
   ],
   "source": [
    "plot_confusion_matrix(ada, X_test, y_test)"
   ]
  },
  {
   "cell_type": "code",
   "execution_count": 53,
   "id": "abccf243",
   "metadata": {
    "scrolled": true
   },
   "outputs": [
    {
     "name": "stdout",
     "output_type": "stream",
     "text": [
      "              precision    recall  f1-score   support\n",
      "\n",
      "           0       0.82      0.91      0.86        78\n",
      "           1       0.89      0.78      0.83        73\n",
      "\n",
      "    accuracy                           0.85       151\n",
      "   macro avg       0.85      0.85      0.85       151\n",
      "weighted avg       0.85      0.85      0.85       151\n",
      "\n"
     ]
    }
   ],
   "source": [
    "print(classification_report(y_test, y_pred))"
   ]
  },
  {
   "cell_type": "code",
   "execution_count": 54,
   "id": "1dcb762e",
   "metadata": {},
   "outputs": [],
   "source": [
    "ada_pred = y_pred"
   ]
  },
  {
   "cell_type": "markdown",
   "id": "c3bc844c",
   "metadata": {},
   "source": [
    "### BERTQA"
   ]
  },
  {
   "cell_type": "code",
   "execution_count": 64,
   "id": "f682bc7b",
   "metadata": {},
   "outputs": [],
   "source": [
    "import torch\n",
    "from transformers import AutoModelForQuestionAnswering, AutoTokenizer, pipeline"
   ]
  },
  {
   "cell_type": "code",
   "execution_count": 65,
   "id": "92b23851",
   "metadata": {},
   "outputs": [],
   "source": [
    "model_name = \"deepset/roberta-base-squad2\"\n",
    "nlp = pipeline('question-answering', model=model_name, tokenizer=model_name)"
   ]
  },
  {
   "cell_type": "code",
   "execution_count": 66,
   "id": "8b0deb14",
   "metadata": {},
   "outputs": [],
   "source": [
    "ones = df[df['GT'] == 1]"
   ]
  },
  {
   "cell_type": "code",
   "execution_count": 67,
   "id": "30320edc",
   "metadata": {},
   "outputs": [
    {
     "data": {
      "text/html": [
       "<div>\n",
       "<style scoped>\n",
       "    .dataframe tbody tr th:only-of-type {\n",
       "        vertical-align: middle;\n",
       "    }\n",
       "\n",
       "    .dataframe tbody tr th {\n",
       "        vertical-align: top;\n",
       "    }\n",
       "\n",
       "    .dataframe thead th {\n",
       "        text-align: right;\n",
       "    }\n",
       "</style>\n",
       "<table border=\"1\" class=\"dataframe\">\n",
       "  <thead>\n",
       "    <tr style=\"text-align: right;\">\n",
       "      <th></th>\n",
       "      <th>words</th>\n",
       "      <th>GT</th>\n",
       "    </tr>\n",
       "  </thead>\n",
       "  <tbody>\n",
       "    <tr>\n",
       "      <th>0</th>\n",
       "      <td>Definition of Science Based Targets (SBTi) Wit...</td>\n",
       "      <td>1</td>\n",
       "    </tr>\n",
       "    <tr>\n",
       "      <th>1</th>\n",
       "      <td>LOOKING AHEAD Befimmo aims to provide quantita...</td>\n",
       "      <td>1</td>\n",
       "    </tr>\n",
       "    <tr>\n",
       "      <th>2</th>\n",
       "      <td>Target: fully aligned by 2023 DESCRIPTION AND ...</td>\n",
       "      <td>1</td>\n",
       "    </tr>\n",
       "    <tr>\n",
       "      <th>4</th>\n",
       "      <td>More details on the TCFD framework and impleme...</td>\n",
       "      <td>1</td>\n",
       "    </tr>\n",
       "    <tr>\n",
       "      <th>5</th>\n",
       "      <td>Our ESG journey Our 2030 commitments Performan...</td>\n",
       "      <td>1</td>\n",
       "    </tr>\n",
       "    <tr>\n",
       "      <th>...</th>\n",
       "      <td>...</td>\n",
       "      <td>...</td>\n",
       "    </tr>\n",
       "    <tr>\n",
       "      <th>743</th>\n",
       "      <td>To calculate the aforementioned scope 3 emissi...</td>\n",
       "      <td>1</td>\n",
       "    </tr>\n",
       "    <tr>\n",
       "      <th>744</th>\n",
       "      <td>We do not have oil and gas reserves in areas c...</td>\n",
       "      <td>1</td>\n",
       "    </tr>\n",
       "    <tr>\n",
       "      <th>745</th>\n",
       "      <td>This Sustainability &amp; Climate 2022 Progress Re...</td>\n",
       "      <td>1</td>\n",
       "    </tr>\n",
       "    <tr>\n",
       "      <th>749</th>\n",
       "      <td>The Company follows the oil &amp; gas industry rep...</td>\n",
       "      <td>1</td>\n",
       "    </tr>\n",
       "    <tr>\n",
       "      <th>750</th>\n",
       "      <td>GHG yoto Protocol: carbon dioxide (CO2), The g...</td>\n",
       "      <td>1</td>\n",
       "    </tr>\n",
       "  </tbody>\n",
       "</table>\n",
       "<p>355 rows × 2 columns</p>\n",
       "</div>"
      ],
      "text/plain": [
       "                                                 words  GT\n",
       "0    Definition of Science Based Targets (SBTi) Wit...   1\n",
       "1    LOOKING AHEAD Befimmo aims to provide quantita...   1\n",
       "2    Target: fully aligned by 2023 DESCRIPTION AND ...   1\n",
       "4    More details on the TCFD framework and impleme...   1\n",
       "5    Our ESG journey Our 2030 commitments Performan...   1\n",
       "..                                                 ...  ..\n",
       "743  To calculate the aforementioned scope 3 emissi...   1\n",
       "744  We do not have oil and gas reserves in areas c...   1\n",
       "745  This Sustainability & Climate 2022 Progress Re...   1\n",
       "749  The Company follows the oil & gas industry rep...   1\n",
       "750  GHG yoto Protocol: carbon dioxide (CO2), The g...   1\n",
       "\n",
       "[355 rows x 2 columns]"
      ]
     },
     "execution_count": 67,
     "metadata": {},
     "output_type": "execute_result"
    }
   ],
   "source": [
    "ones"
   ]
  },
  {
   "cell_type": "code",
   "execution_count": 65,
   "id": "104b7927",
   "metadata": {},
   "outputs": [],
   "source": [
    "ones.to_csv('ghg_checked.csv', index=False)"
   ]
  },
  {
   "cell_type": "code",
   "execution_count": 66,
   "id": "4aa4f3b6",
   "metadata": {},
   "outputs": [
    {
     "data": {
      "text/html": [
       "<div>\n",
       "<style scoped>\n",
       "    .dataframe tbody tr th:only-of-type {\n",
       "        vertical-align: middle;\n",
       "    }\n",
       "\n",
       "    .dataframe tbody tr th {\n",
       "        vertical-align: top;\n",
       "    }\n",
       "\n",
       "    .dataframe thead th {\n",
       "        text-align: right;\n",
       "    }\n",
       "</style>\n",
       "<table border=\"1\" class=\"dataframe\">\n",
       "  <thead>\n",
       "    <tr style=\"text-align: right;\">\n",
       "      <th></th>\n",
       "      <th>words</th>\n",
       "      <th>GT</th>\n",
       "    </tr>\n",
       "  </thead>\n",
       "  <tbody>\n",
       "    <tr>\n",
       "      <th>0</th>\n",
       "      <td>Definition of Science Based Targets (SBTi) Wit...</td>\n",
       "      <td>1</td>\n",
       "    </tr>\n",
       "    <tr>\n",
       "      <th>1</th>\n",
       "      <td>LOOKING AHEAD Befimmo aims to provide quantita...</td>\n",
       "      <td>1</td>\n",
       "    </tr>\n",
       "    <tr>\n",
       "      <th>2</th>\n",
       "      <td>Target: fully aligned by 2023 DESCRIPTION AND ...</td>\n",
       "      <td>1</td>\n",
       "    </tr>\n",
       "    <tr>\n",
       "      <th>4</th>\n",
       "      <td>More details on the TCFD framework and impleme...</td>\n",
       "      <td>1</td>\n",
       "    </tr>\n",
       "    <tr>\n",
       "      <th>5</th>\n",
       "      <td>Our ESG journey Our 2030 commitments Performan...</td>\n",
       "      <td>1</td>\n",
       "    </tr>\n",
       "    <tr>\n",
       "      <th>...</th>\n",
       "      <td>...</td>\n",
       "      <td>...</td>\n",
       "    </tr>\n",
       "    <tr>\n",
       "      <th>743</th>\n",
       "      <td>To calculate the aforementioned scope 3 emissi...</td>\n",
       "      <td>1</td>\n",
       "    </tr>\n",
       "    <tr>\n",
       "      <th>744</th>\n",
       "      <td>We do not have oil and gas reserves in areas c...</td>\n",
       "      <td>1</td>\n",
       "    </tr>\n",
       "    <tr>\n",
       "      <th>745</th>\n",
       "      <td>This Sustainability &amp; Climate 2022 Progress Re...</td>\n",
       "      <td>1</td>\n",
       "    </tr>\n",
       "    <tr>\n",
       "      <th>749</th>\n",
       "      <td>The Company follows the oil &amp; gas industry rep...</td>\n",
       "      <td>1</td>\n",
       "    </tr>\n",
       "    <tr>\n",
       "      <th>750</th>\n",
       "      <td>GHG yoto Protocol: carbon dioxide (CO2), The g...</td>\n",
       "      <td>1</td>\n",
       "    </tr>\n",
       "  </tbody>\n",
       "</table>\n",
       "<p>355 rows × 2 columns</p>\n",
       "</div>"
      ],
      "text/plain": [
       "                                                 words  GT\n",
       "0    Definition of Science Based Targets (SBTi) Wit...   1\n",
       "1    LOOKING AHEAD Befimmo aims to provide quantita...   1\n",
       "2    Target: fully aligned by 2023 DESCRIPTION AND ...   1\n",
       "4    More details on the TCFD framework and impleme...   1\n",
       "5    Our ESG journey Our 2030 commitments Performan...   1\n",
       "..                                                 ...  ..\n",
       "743  To calculate the aforementioned scope 3 emissi...   1\n",
       "744  We do not have oil and gas reserves in areas c...   1\n",
       "745  This Sustainability & Climate 2022 Progress Re...   1\n",
       "749  The Company follows the oil & gas industry rep...   1\n",
       "750  GHG yoto Protocol: carbon dioxide (CO2), The g...   1\n",
       "\n",
       "[355 rows x 2 columns]"
      ]
     },
     "execution_count": 66,
     "metadata": {},
     "output_type": "execute_result"
    }
   ],
   "source": [
    "ones"
   ]
  },
  {
   "cell_type": "code",
   "execution_count": 70,
   "id": "6150bc56",
   "metadata": {},
   "outputs": [
    {
     "name": "stderr",
     "output_type": "stream",
     "text": [
      "C:\\Users\\Chen Wei\\AppData\\Local\\Temp\\ipykernel_9860\\3832277006.py:1: SettingWithCopyWarning: \n",
      "A value is trying to be set on a copy of a slice from a DataFrame.\n",
      "Try using .loc[row_indexer,col_indexer] = value instead\n",
      "\n",
      "See the caveats in the documentation: https://pandas.pydata.org/pandas-docs/stable/user_guide/indexing.html#returning-a-view-versus-a-copy\n",
      "  ones['keywords'] = None\n"
     ]
    }
   ],
   "source": [
    "ones['keywords'] = None"
   ]
  },
  {
   "cell_type": "code",
   "execution_count": 71,
   "id": "bbb93afc",
   "metadata": {},
   "outputs": [
    {
     "data": {
      "text/html": [
       "<div>\n",
       "<style scoped>\n",
       "    .dataframe tbody tr th:only-of-type {\n",
       "        vertical-align: middle;\n",
       "    }\n",
       "\n",
       "    .dataframe tbody tr th {\n",
       "        vertical-align: top;\n",
       "    }\n",
       "\n",
       "    .dataframe thead th {\n",
       "        text-align: right;\n",
       "    }\n",
       "</style>\n",
       "<table border=\"1\" class=\"dataframe\">\n",
       "  <thead>\n",
       "    <tr style=\"text-align: right;\">\n",
       "      <th></th>\n",
       "      <th>words</th>\n",
       "      <th>GT</th>\n",
       "      <th>keywords</th>\n",
       "    </tr>\n",
       "  </thead>\n",
       "  <tbody>\n",
       "    <tr>\n",
       "      <th>0</th>\n",
       "      <td>Definition of Science Based Targets (SBTi) Wit...</td>\n",
       "      <td>1</td>\n",
       "      <td>None</td>\n",
       "    </tr>\n",
       "    <tr>\n",
       "      <th>1</th>\n",
       "      <td>LOOKING AHEAD Befimmo aims to provide quantita...</td>\n",
       "      <td>1</td>\n",
       "      <td>None</td>\n",
       "    </tr>\n",
       "    <tr>\n",
       "      <th>2</th>\n",
       "      <td>Target: fully aligned by 2023 DESCRIPTION AND ...</td>\n",
       "      <td>1</td>\n",
       "      <td>None</td>\n",
       "    </tr>\n",
       "    <tr>\n",
       "      <th>4</th>\n",
       "      <td>More details on the TCFD framework and impleme...</td>\n",
       "      <td>1</td>\n",
       "      <td>None</td>\n",
       "    </tr>\n",
       "    <tr>\n",
       "      <th>5</th>\n",
       "      <td>Our ESG journey Our 2030 commitments Performan...</td>\n",
       "      <td>1</td>\n",
       "      <td>None</td>\n",
       "    </tr>\n",
       "    <tr>\n",
       "      <th>...</th>\n",
       "      <td>...</td>\n",
       "      <td>...</td>\n",
       "      <td>...</td>\n",
       "    </tr>\n",
       "    <tr>\n",
       "      <th>743</th>\n",
       "      <td>To calculate the aforementioned scope 3 emissi...</td>\n",
       "      <td>1</td>\n",
       "      <td>None</td>\n",
       "    </tr>\n",
       "    <tr>\n",
       "      <th>744</th>\n",
       "      <td>We do not have oil and gas reserves in areas c...</td>\n",
       "      <td>1</td>\n",
       "      <td>None</td>\n",
       "    </tr>\n",
       "    <tr>\n",
       "      <th>745</th>\n",
       "      <td>This Sustainability &amp; Climate 2022 Progress Re...</td>\n",
       "      <td>1</td>\n",
       "      <td>None</td>\n",
       "    </tr>\n",
       "    <tr>\n",
       "      <th>749</th>\n",
       "      <td>The Company follows the oil &amp; gas industry rep...</td>\n",
       "      <td>1</td>\n",
       "      <td>None</td>\n",
       "    </tr>\n",
       "    <tr>\n",
       "      <th>750</th>\n",
       "      <td>GHG yoto Protocol: carbon dioxide (CO2), The g...</td>\n",
       "      <td>1</td>\n",
       "      <td>None</td>\n",
       "    </tr>\n",
       "  </tbody>\n",
       "</table>\n",
       "<p>355 rows × 3 columns</p>\n",
       "</div>"
      ],
      "text/plain": [
       "                                                 words  GT keywords\n",
       "0    Definition of Science Based Targets (SBTi) Wit...   1     None\n",
       "1    LOOKING AHEAD Befimmo aims to provide quantita...   1     None\n",
       "2    Target: fully aligned by 2023 DESCRIPTION AND ...   1     None\n",
       "4    More details on the TCFD framework and impleme...   1     None\n",
       "5    Our ESG journey Our 2030 commitments Performan...   1     None\n",
       "..                                                 ...  ..      ...\n",
       "743  To calculate the aforementioned scope 3 emissi...   1     None\n",
       "744  We do not have oil and gas reserves in areas c...   1     None\n",
       "745  This Sustainability & Climate 2022 Progress Re...   1     None\n",
       "749  The Company follows the oil & gas industry rep...   1     None\n",
       "750  GHG yoto Protocol: carbon dioxide (CO2), The g...   1     None\n",
       "\n",
       "[355 rows x 3 columns]"
      ]
     },
     "execution_count": 71,
     "metadata": {},
     "output_type": "execute_result"
    }
   ],
   "source": [
    "ones"
   ]
  },
  {
   "cell_type": "code",
   "execution_count": 95,
   "id": "fec95347",
   "metadata": {},
   "outputs": [
    {
     "data": {
      "text/plain": [
       "'Definition of Science Based Targets (SBTi) With the help of SBTi and following the complete revision of its carbon footprint in accordance with the GHG Protocol.'"
      ]
     },
     "execution_count": 95,
     "metadata": {},
     "output_type": "execute_result"
    }
   ],
   "source": [
    "ones['words'][0]"
   ]
  },
  {
   "cell_type": "code",
   "execution_count": 109,
   "id": "a1a689a8",
   "metadata": {},
   "outputs": [],
   "source": [
    "from keybert import KeyBERT\n",
    "from tqdm.notebook import tqdm"
   ]
  },
  {
   "cell_type": "code",
   "execution_count": 110,
   "id": "8606bb0b",
   "metadata": {},
   "outputs": [],
   "source": [
    "bert=KeyBERT()"
   ]
  },
  {
   "cell_type": "code",
   "execution_count": 111,
   "id": "84e8ba1d",
   "metadata": {},
   "outputs": [
    {
     "data": {
      "application/vnd.jupyter.widget-view+json": {
       "model_id": "857d73a5b4c349b28a6e8e6bcda8a2ed",
       "version_major": 2,
       "version_minor": 0
      },
      "text/plain": [
       "  0%|          | 0/355 [00:00<?, ?it/s]"
      ]
     },
     "metadata": {},
     "output_type": "display_data"
    }
   ],
   "source": [
    "kw = []\n",
    "for i in tqdm(ones['words']):\n",
    "    kw.append(bert.extract_keywords(i, keyphrase_ngram_range=(1, 1), stop_words='english'))"
   ]
  },
  {
   "cell_type": "code",
   "execution_count": 113,
   "id": "48620a24",
   "metadata": {},
   "outputs": [
    {
     "name": "stderr",
     "output_type": "stream",
     "text": [
      "C:\\Users\\Chen Wei\\AppData\\Local\\Temp\\ipykernel_9860\\4824665.py:1: SettingWithCopyWarning: \n",
      "A value is trying to be set on a copy of a slice from a DataFrame.\n",
      "Try using .loc[row_indexer,col_indexer] = value instead\n",
      "\n",
      "See the caveats in the documentation: https://pandas.pydata.org/pandas-docs/stable/user_guide/indexing.html#returning-a-view-versus-a-copy\n",
      "  ones['kw'] = kw\n"
     ]
    }
   ],
   "source": [
    "ones['kw'] = kw"
   ]
  },
  {
   "cell_type": "code",
   "execution_count": 114,
   "id": "347e8b3a",
   "metadata": {},
   "outputs": [
    {
     "data": {
      "text/html": [
       "<div>\n",
       "<style scoped>\n",
       "    .dataframe tbody tr th:only-of-type {\n",
       "        vertical-align: middle;\n",
       "    }\n",
       "\n",
       "    .dataframe tbody tr th {\n",
       "        vertical-align: top;\n",
       "    }\n",
       "\n",
       "    .dataframe thead th {\n",
       "        text-align: right;\n",
       "    }\n",
       "</style>\n",
       "<table border=\"1\" class=\"dataframe\">\n",
       "  <thead>\n",
       "    <tr style=\"text-align: right;\">\n",
       "      <th></th>\n",
       "      <th>words</th>\n",
       "      <th>GT</th>\n",
       "      <th>keywords</th>\n",
       "      <th>kw</th>\n",
       "    </tr>\n",
       "  </thead>\n",
       "  <tbody>\n",
       "    <tr>\n",
       "      <th>0</th>\n",
       "      <td>Definition of Science Based Targets (SBTi) Wit...</td>\n",
       "      <td>1</td>\n",
       "      <td>['GHG', 'SBTi', 'TCFD', 'SASB']</td>\n",
       "      <td>[(sbti, 0.4794), (targets, 0.4196), (science, ...</td>\n",
       "    </tr>\n",
       "    <tr>\n",
       "      <th>1</th>\n",
       "      <td>LOOKING AHEAD Befimmo aims to provide quantita...</td>\n",
       "      <td>1</td>\n",
       "      <td>['SBTi', 'TCFD', 'SASB']</td>\n",
       "      <td>[(befimmo, 0.4072), (climate, 0.3598), (tcfd, ...</td>\n",
       "    </tr>\n",
       "    <tr>\n",
       "      <th>2</th>\n",
       "      <td>Target: fully aligned by 2023 DESCRIPTION AND ...</td>\n",
       "      <td>1</td>\n",
       "      <td>['SBTi', 'TCFD', 'SASB']</td>\n",
       "      <td>[(tcfd, 0.4205), (befimmo, 0.3972), (2021, 0.3...</td>\n",
       "    </tr>\n",
       "    <tr>\n",
       "      <th>4</th>\n",
       "      <td>More details on the TCFD framework and impleme...</td>\n",
       "      <td>1</td>\n",
       "      <td>['SBTi', 'TCFD', 'SASB']</td>\n",
       "      <td>[(tcfd, 0.6651), (framework, 0.4223), (impleme...</td>\n",
       "    </tr>\n",
       "    <tr>\n",
       "      <th>5</th>\n",
       "      <td>Our ESG journey Our 2030 commitments Performan...</td>\n",
       "      <td>1</td>\n",
       "      <td>['SBTi', 'TCFD', 'SASB']</td>\n",
       "      <td>[(kpis, 0.4649), (esg, 0.3891), (tcfd, 0.3596)...</td>\n",
       "    </tr>\n",
       "    <tr>\n",
       "      <th>...</th>\n",
       "      <td>...</td>\n",
       "      <td>...</td>\n",
       "      <td>...</td>\n",
       "      <td>...</td>\n",
       "    </tr>\n",
       "    <tr>\n",
       "      <th>743</th>\n",
       "      <td>To calculate the aforementioned scope 3 emissi...</td>\n",
       "      <td>1</td>\n",
       "      <td>['GHG', 'SBTi', 'TCFD', 'SASB']</td>\n",
       "      <td>[(emissions, 0.6148), (scope, 0.3511), (produc...</td>\n",
       "    </tr>\n",
       "    <tr>\n",
       "      <th>744</th>\n",
       "      <td>We do not have oil and gas reserves in areas c...</td>\n",
       "      <td>1</td>\n",
       "      <td>['SBTi', 'TCFD', 'SASB']</td>\n",
       "      <td>[(indigenous, 0.3091), (reserves, 0.3001), (la...</td>\n",
       "    </tr>\n",
       "    <tr>\n",
       "      <th>745</th>\n",
       "      <td>This Sustainability &amp; Climate 2022 Progress Re...</td>\n",
       "      <td>1</td>\n",
       "      <td>['SBTi', 'TCFD', 'SASB']</td>\n",
       "      <td>[(2021, 0.4623), (2022, 0.4578), (tcfd1, 0.431...</td>\n",
       "    </tr>\n",
       "    <tr>\n",
       "      <th>749</th>\n",
       "      <td>The Company follows the oil &amp; gas industry rep...</td>\n",
       "      <td>1</td>\n",
       "      <td>['GHG', 'SBTi', 'TCFD', 'SASB']</td>\n",
       "      <td>[(ipieca, 0.389), (guidelines, 0.3779), (ghg, ...</td>\n",
       "    </tr>\n",
       "    <tr>\n",
       "      <th>750</th>\n",
       "      <td>GHG yoto Protocol: carbon dioxide (CO2), The g...</td>\n",
       "      <td>1</td>\n",
       "      <td>['GHG', 'SBTi', 'TCFD', 'SASB']</td>\n",
       "      <td>[(methane, 0.5366), (hydrofluorocarbons, 0.514...</td>\n",
       "    </tr>\n",
       "  </tbody>\n",
       "</table>\n",
       "<p>355 rows × 4 columns</p>\n",
       "</div>"
      ],
      "text/plain": [
       "                                                 words  GT  \\\n",
       "0    Definition of Science Based Targets (SBTi) Wit...   1   \n",
       "1    LOOKING AHEAD Befimmo aims to provide quantita...   1   \n",
       "2    Target: fully aligned by 2023 DESCRIPTION AND ...   1   \n",
       "4    More details on the TCFD framework and impleme...   1   \n",
       "5    Our ESG journey Our 2030 commitments Performan...   1   \n",
       "..                                                 ...  ..   \n",
       "743  To calculate the aforementioned scope 3 emissi...   1   \n",
       "744  We do not have oil and gas reserves in areas c...   1   \n",
       "745  This Sustainability & Climate 2022 Progress Re...   1   \n",
       "749  The Company follows the oil & gas industry rep...   1   \n",
       "750  GHG yoto Protocol: carbon dioxide (CO2), The g...   1   \n",
       "\n",
       "                            keywords  \\\n",
       "0    ['GHG', 'SBTi', 'TCFD', 'SASB']   \n",
       "1           ['SBTi', 'TCFD', 'SASB']   \n",
       "2           ['SBTi', 'TCFD', 'SASB']   \n",
       "4           ['SBTi', 'TCFD', 'SASB']   \n",
       "5           ['SBTi', 'TCFD', 'SASB']   \n",
       "..                               ...   \n",
       "743  ['GHG', 'SBTi', 'TCFD', 'SASB']   \n",
       "744         ['SBTi', 'TCFD', 'SASB']   \n",
       "745         ['SBTi', 'TCFD', 'SASB']   \n",
       "749  ['GHG', 'SBTi', 'TCFD', 'SASB']   \n",
       "750  ['GHG', 'SBTi', 'TCFD', 'SASB']   \n",
       "\n",
       "                                                    kw  \n",
       "0    [(sbti, 0.4794), (targets, 0.4196), (science, ...  \n",
       "1    [(befimmo, 0.4072), (climate, 0.3598), (tcfd, ...  \n",
       "2    [(tcfd, 0.4205), (befimmo, 0.3972), (2021, 0.3...  \n",
       "4    [(tcfd, 0.6651), (framework, 0.4223), (impleme...  \n",
       "5    [(kpis, 0.4649), (esg, 0.3891), (tcfd, 0.3596)...  \n",
       "..                                                 ...  \n",
       "743  [(emissions, 0.6148), (scope, 0.3511), (produc...  \n",
       "744  [(indigenous, 0.3091), (reserves, 0.3001), (la...  \n",
       "745  [(2021, 0.4623), (2022, 0.4578), (tcfd1, 0.431...  \n",
       "749  [(ipieca, 0.389), (guidelines, 0.3779), (ghg, ...  \n",
       "750  [(methane, 0.5366), (hydrofluorocarbons, 0.514...  \n",
       "\n",
       "[355 rows x 4 columns]"
      ]
     },
     "execution_count": 114,
     "metadata": {},
     "output_type": "execute_result"
    }
   ],
   "source": [
    "ones"
   ]
  },
  {
   "cell_type": "code",
   "execution_count": 121,
   "id": "ad24a6bd",
   "metadata": {},
   "outputs": [
    {
     "data": {
      "text/plain": [
       "False"
      ]
     },
     "execution_count": 121,
     "metadata": {},
     "output_type": "execute_result"
    }
   ],
   "source": [
    "'sbti' in ones['kw'][0]"
   ]
  },
  {
   "cell_type": "code",
   "execution_count": 133,
   "id": "c98a2d50",
   "metadata": {},
   "outputs": [
    {
     "name": "stdout",
     "output_type": "stream",
     "text": [
      "['GHG', 'SBTi']\n",
      "['TCFD']\n",
      "['TCFD']\n",
      "['TCFD']\n",
      "['TCFD', 'SASB']\n",
      "['SASB']\n",
      "['GHG']\n",
      "['GHG']\n",
      "['GHG']\n",
      "['GHG']\n",
      "['GHG']\n",
      "['GHG']\n",
      "['GHG']\n",
      "['GHG']\n",
      "['GHG', 'SBTi']\n",
      "['GHG']\n",
      "['SBTi']\n",
      "['SBTi']\n",
      "['GHG']\n",
      "['TCFD', 'SASB']\n",
      "['TCFD', 'SASB']\n",
      "['SBTi']\n",
      "['TCFD', 'SASB']\n",
      "['TCFD', 'SASB']\n",
      "['TCFD', 'SASB']\n",
      "['TCFD']\n",
      "['TCFD']\n",
      "['SBTi']\n",
      "['SBTi']\n",
      "['GHG', 'SBTi']\n",
      "['GHG']\n",
      "['GHG', 'SBTi']\n",
      "['SBTi']\n",
      "['TCFD']\n",
      "['TCFD']\n",
      "['SBTi']\n",
      "['GHG']\n",
      "['GHG', 'TCFD', 'SASB']\n",
      "['GHG']\n",
      "['SBTi']\n",
      "['GHG']\n",
      "['SBTi']\n",
      "['GHG']\n",
      "['SBTi']\n",
      "['TCFD', 'SASB']\n",
      "['SASB']\n",
      "['GHG']\n",
      "['GHG']\n",
      "['GHG']\n",
      "['GHG']\n",
      "['GHG']\n",
      "['GHG']\n",
      "['GHG', 'TCFD', 'SASB']\n",
      "['GHG']\n",
      "['SBTi']\n",
      "['SBTi']\n",
      "['TCFD']\n",
      "['TCFD']\n",
      "['GHG']\n",
      "['GHG']\n",
      "['GHG']\n",
      "['SBTi']\n",
      "['TCFD']\n",
      "['TCFD']\n",
      "['TCFD']\n",
      "['TCFD']\n",
      "['GHG']\n",
      "['TCFD']\n",
      "['TCFD']\n",
      "['TCFD']\n",
      "['TCFD']\n",
      "['TCFD']\n",
      "['TCFD']\n",
      "['SBTi']\n",
      "['TCFD']\n",
      "['GHG']\n",
      "['TCFD']\n",
      "['SASB']\n",
      "['GHG']\n",
      "['GHG']\n",
      "['TCFD', 'SASB']\n",
      "['GHG']\n",
      "['GHG']\n",
      "['SBTi']\n",
      "['GHG']\n",
      "['SASB']\n",
      "['SASB']\n",
      "['GHG', 'TCFD']\n",
      "['TCFD']\n",
      "['TCFD']\n",
      "['TCFD']\n",
      "['GHG']\n",
      "['GHG']\n",
      "['GHG']\n",
      "['GHG']\n",
      "['TCFD']\n",
      "['TCFD']\n",
      "['GHG', 'TCFD']\n",
      "['GHG']\n",
      "['TCFD']\n",
      "['TCFD']\n",
      "['GHG']\n",
      "['TCFD']\n",
      "['GHG']\n",
      "['SBTi']\n",
      "['SBTi']\n",
      "['TCFD']\n",
      "['SBTi']\n",
      "['SBTi']\n",
      "['GHG', 'SBTi']\n",
      "['SBTi']\n",
      "['TCFD']\n",
      "['GHG']\n",
      "['GHG']\n",
      "['TCFD', 'SASB']\n",
      "['GHG']\n",
      "['TCFD']\n",
      "['TCFD']\n",
      "['GHG']\n",
      "['GHG']\n",
      "['GHG']\n",
      "['TCFD']\n",
      "['TCFD', 'SASB']\n",
      "['GHG']\n",
      "['GHG']\n",
      "['GHG']\n",
      "['GHG']\n",
      "['GHG']\n",
      "['GHG']\n",
      "['GHG']\n",
      "['TCFD', 'SASB']\n",
      "['GHG']\n",
      "['TCFD']\n",
      "['GHG']\n",
      "['SBTi']\n",
      "['GHG']\n",
      "['GHG']\n",
      "['GHG']\n",
      "['TCFD']\n",
      "['TCFD', 'SASB']\n",
      "['GHG']\n",
      "['GHG']\n",
      "['GHG']\n",
      "['TCFD', 'SASB']\n",
      "['GHG', 'SBTi']\n",
      "['SBTi']\n",
      "['SBTi']\n",
      "['SBTi']\n",
      "['SBTi']\n",
      "['SBTi']\n",
      "['GHG']\n",
      "['GHG']\n",
      "['GHG']\n",
      "['GHG']\n",
      "['GHG']\n",
      "['GHG']\n",
      "['GHG']\n",
      "['TCFD']\n",
      "['GHG']\n",
      "['GHG']\n",
      "['GHG']\n",
      "['GHG']\n",
      "['GHG']\n",
      "['GHG']\n",
      "['GHG']\n",
      "['GHG']\n",
      "['GHG']\n",
      "['GHG']\n",
      "['GHG']\n",
      "['GHG']\n",
      "['GHG']\n",
      "['GHG']\n",
      "['GHG']\n",
      "['GHG']\n",
      "['GHG']\n",
      "['GHG']\n",
      "['GHG']\n",
      "['GHG']\n",
      "['GHG']\n",
      "['GHG']\n",
      "['GHG']\n",
      "['GHG']\n",
      "['GHG']\n",
      "['GHG']\n",
      "['GHG']\n",
      "['GHG']\n",
      "['TCFD', 'SASB']\n",
      "['TCFD']\n",
      "['GHG']\n",
      "['GHG']\n",
      "['GHG']\n",
      "['GHG']\n",
      "['GHG']\n",
      "['GHG']\n",
      "['GHG']\n",
      "['GHG']\n",
      "['GHG']\n",
      "['GHG']\n",
      "['GHG']\n",
      "['TCFD']\n",
      "['TCFD']\n",
      "['GHG']\n",
      "['TCFD']\n",
      "['TCFD']\n",
      "['GHG']\n",
      "['TCFD']\n",
      "['GHG']\n",
      "['SASB']\n",
      "['SASB']\n",
      "['TCFD', 'SASB']\n",
      "['TCFD']\n",
      "['SBTi']\n",
      "['GHG']\n",
      "['GHG']\n",
      "['GHG']\n",
      "['GHG']\n",
      "['GHG']\n",
      "['GHG']\n",
      "['GHG']\n",
      "['TCFD']\n",
      "['GHG']\n",
      "['GHG']\n",
      "['TCFD']\n",
      "['GHG']\n",
      "['GHG']\n",
      "['GHG']\n",
      "['GHG']\n",
      "['GHG']\n",
      "['GHG']\n",
      "['GHG']\n",
      "['GHG']\n",
      "['SASB']\n",
      "['SASB']\n",
      "['SASB']\n",
      "['TCFD', 'SASB']\n",
      "['TCFD']\n",
      "['GHG']\n",
      "['TCFD']\n",
      "['GHG']\n",
      "['GHG']\n",
      "['GHG']\n",
      "['GHG']\n",
      "['GHG']\n",
      "['GHG']\n",
      "['GHG']\n",
      "['SASB']\n",
      "['GHG']\n",
      "['TCFD']\n",
      "['GHG']\n",
      "['GHG']\n",
      "['GHG']\n",
      "['SASB']\n",
      "['TCFD']\n",
      "['GHG']\n",
      "['TCFD']\n",
      "['TCFD']\n",
      "['GHG']\n",
      "['GHG']\n",
      "['GHG']\n",
      "['SASB']\n",
      "['TCFD']\n",
      "['GHG']\n",
      "['GHG']\n",
      "['GHG']\n",
      "['GHG']\n",
      "['GHG']\n",
      "['TCFD']\n",
      "['TCFD', 'SASB']\n",
      "['SASB']\n",
      "['TCFD']\n",
      "['SBTi']\n",
      "['GHG']\n",
      "['TCFD']\n",
      "['SASB']\n",
      "['GHG']\n",
      "['TCFD', 'SASB']\n",
      "['TCFD', 'SASB']\n",
      "['SASB']\n",
      "['GHG']\n",
      "['GHG']\n",
      "['GHG']\n",
      "['GHG']\n",
      "['GHG']\n",
      "['SASB']\n",
      "['GHG']\n",
      "['GHG']\n",
      "['GHG']\n",
      "['GHG']\n",
      "['GHG']\n",
      "['GHG']\n",
      "['SASB']\n",
      "['TCFD']\n",
      "['GHG']\n",
      "['GHG']\n",
      "['TCFD']\n",
      "['GHG']\n",
      "['TCFD']\n",
      "['TCFD']\n",
      "['GHG']\n",
      "['TCFD']\n",
      "['GHG']\n",
      "['GHG']\n",
      "['TCFD']\n",
      "['GHG']\n",
      "['GHG']\n",
      "['GHG']\n",
      "['SASB']\n",
      "['GHG']\n",
      "['TCFD']\n",
      "['GHG']\n",
      "['TCFD']\n",
      "['TCFD']\n",
      "['TCFD']\n",
      "['TCFD']\n",
      "['GHG']\n",
      "['GHG']\n",
      "['GHG']\n",
      "['GHG']\n",
      "['SBTi']\n",
      "['GHG']\n",
      "['GHG']\n",
      "['GHG']\n",
      "['GHG']\n",
      "['GHG']\n",
      "['GHG']\n",
      "['GHG']\n",
      "['GHG']\n",
      "['GHG']\n",
      "['GHG']\n",
      "['GHG']\n",
      "['GHG']\n",
      "['GHG']\n",
      "['GHG']\n",
      "['GHG']\n",
      "['GHG']\n",
      "['GHG']\n",
      "['SASB']\n",
      "['TCFD']\n",
      "['GHG']\n",
      "['TCFD']\n",
      "['GHG']\n",
      "['TCFD']\n",
      "['TCFD']\n",
      "['SASB']\n",
      "['SASB']\n",
      "['GHG']\n",
      "['TCFD']\n",
      "['GHG']\n",
      "['GHG']\n",
      "['GHG']\n",
      "['GHG']\n",
      "['SASB']\n",
      "['TCFD']\n",
      "['GHG']\n",
      "['GHG']\n"
     ]
    }
   ],
   "source": [
    "for index, rows in ones.iterrows():\n",
    "    res = []\n",
    "    if ('ghg' in rows['words'].lower()) or (r'scope \\d' in rows['words'].lower()):\n",
    "        res.append('GHG')\n",
    "    if ('sbti' in rows['words'].lower()) or ('science based targets' in rows['words'].lower()):\n",
    "        res.append('SBTi')\n",
    "    if ('tcfd' in rows['words'].lower()) or ('climate-related financial disclosures' in rows['words'].lower()):\n",
    "        res.append('TCFD')\n",
    "    if ('sasb' in rows['words'].lower()) or ('sustainability accounting' in rows['words'].lower()):\n",
    "        res.append('SASB')\n",
    "    \n",
    "    print(res)\n",
    "    ones.at[index, 'keywords'] = str(res)"
   ]
  },
  {
   "cell_type": "code",
   "execution_count": 132,
   "id": "5771f6e8",
   "metadata": {},
   "outputs": [
    {
     "data": {
      "text/html": [
       "<div>\n",
       "<style scoped>\n",
       "    .dataframe tbody tr th:only-of-type {\n",
       "        vertical-align: middle;\n",
       "    }\n",
       "\n",
       "    .dataframe tbody tr th {\n",
       "        vertical-align: top;\n",
       "    }\n",
       "\n",
       "    .dataframe thead th {\n",
       "        text-align: right;\n",
       "    }\n",
       "</style>\n",
       "<table border=\"1\" class=\"dataframe\">\n",
       "  <thead>\n",
       "    <tr style=\"text-align: right;\">\n",
       "      <th></th>\n",
       "      <th>words</th>\n",
       "      <th>GT</th>\n",
       "      <th>keywords</th>\n",
       "      <th>kw</th>\n",
       "    </tr>\n",
       "  </thead>\n",
       "  <tbody>\n",
       "    <tr>\n",
       "      <th>0</th>\n",
       "      <td>Definition of Science Based Targets (SBTi) Wit...</td>\n",
       "      <td>1</td>\n",
       "      <td>['GHG', 'SBTi']</td>\n",
       "      <td>[(sbti, 0.4794), (targets, 0.4196), (science, ...</td>\n",
       "    </tr>\n",
       "    <tr>\n",
       "      <th>1</th>\n",
       "      <td>LOOKING AHEAD Befimmo aims to provide quantita...</td>\n",
       "      <td>1</td>\n",
       "      <td>['TCFD']</td>\n",
       "      <td>[(befimmo, 0.4072), (climate, 0.3598), (tcfd, ...</td>\n",
       "    </tr>\n",
       "    <tr>\n",
       "      <th>2</th>\n",
       "      <td>Target: fully aligned by 2023 DESCRIPTION AND ...</td>\n",
       "      <td>1</td>\n",
       "      <td>['TCFD']</td>\n",
       "      <td>[(tcfd, 0.4205), (befimmo, 0.3972), (2021, 0.3...</td>\n",
       "    </tr>\n",
       "    <tr>\n",
       "      <th>4</th>\n",
       "      <td>More details on the TCFD framework and impleme...</td>\n",
       "      <td>1</td>\n",
       "      <td>['TCFD']</td>\n",
       "      <td>[(tcfd, 0.6651), (framework, 0.4223), (impleme...</td>\n",
       "    </tr>\n",
       "    <tr>\n",
       "      <th>5</th>\n",
       "      <td>Our ESG journey Our 2030 commitments Performan...</td>\n",
       "      <td>1</td>\n",
       "      <td>['TCFD', 'SASB']</td>\n",
       "      <td>[(kpis, 0.4649), (esg, 0.3891), (tcfd, 0.3596)...</td>\n",
       "    </tr>\n",
       "    <tr>\n",
       "      <th>...</th>\n",
       "      <td>...</td>\n",
       "      <td>...</td>\n",
       "      <td>...</td>\n",
       "      <td>...</td>\n",
       "    </tr>\n",
       "    <tr>\n",
       "      <th>743</th>\n",
       "      <td>To calculate the aforementioned scope 3 emissi...</td>\n",
       "      <td>1</td>\n",
       "      <td>['GHG']</td>\n",
       "      <td>[(emissions, 0.6148), (scope, 0.3511), (produc...</td>\n",
       "    </tr>\n",
       "    <tr>\n",
       "      <th>744</th>\n",
       "      <td>We do not have oil and gas reserves in areas c...</td>\n",
       "      <td>1</td>\n",
       "      <td>['SASB']</td>\n",
       "      <td>[(indigenous, 0.3091), (reserves, 0.3001), (la...</td>\n",
       "    </tr>\n",
       "    <tr>\n",
       "      <th>745</th>\n",
       "      <td>This Sustainability &amp; Climate 2022 Progress Re...</td>\n",
       "      <td>1</td>\n",
       "      <td>['TCFD']</td>\n",
       "      <td>[(2021, 0.4623), (2022, 0.4578), (tcfd1, 0.431...</td>\n",
       "    </tr>\n",
       "    <tr>\n",
       "      <th>749</th>\n",
       "      <td>The Company follows the oil &amp; gas industry rep...</td>\n",
       "      <td>1</td>\n",
       "      <td>['GHG']</td>\n",
       "      <td>[(ipieca, 0.389), (guidelines, 0.3779), (ghg, ...</td>\n",
       "    </tr>\n",
       "    <tr>\n",
       "      <th>750</th>\n",
       "      <td>GHG yoto Protocol: carbon dioxide (CO2), The g...</td>\n",
       "      <td>1</td>\n",
       "      <td>['GHG']</td>\n",
       "      <td>[(methane, 0.5366), (hydrofluorocarbons, 0.514...</td>\n",
       "    </tr>\n",
       "  </tbody>\n",
       "</table>\n",
       "<p>355 rows × 4 columns</p>\n",
       "</div>"
      ],
      "text/plain": [
       "                                                 words  GT          keywords  \\\n",
       "0    Definition of Science Based Targets (SBTi) Wit...   1   ['GHG', 'SBTi']   \n",
       "1    LOOKING AHEAD Befimmo aims to provide quantita...   1          ['TCFD']   \n",
       "2    Target: fully aligned by 2023 DESCRIPTION AND ...   1          ['TCFD']   \n",
       "4    More details on the TCFD framework and impleme...   1          ['TCFD']   \n",
       "5    Our ESG journey Our 2030 commitments Performan...   1  ['TCFD', 'SASB']   \n",
       "..                                                 ...  ..               ...   \n",
       "743  To calculate the aforementioned scope 3 emissi...   1           ['GHG']   \n",
       "744  We do not have oil and gas reserves in areas c...   1          ['SASB']   \n",
       "745  This Sustainability & Climate 2022 Progress Re...   1          ['TCFD']   \n",
       "749  The Company follows the oil & gas industry rep...   1           ['GHG']   \n",
       "750  GHG yoto Protocol: carbon dioxide (CO2), The g...   1           ['GHG']   \n",
       "\n",
       "                                                    kw  \n",
       "0    [(sbti, 0.4794), (targets, 0.4196), (science, ...  \n",
       "1    [(befimmo, 0.4072), (climate, 0.3598), (tcfd, ...  \n",
       "2    [(tcfd, 0.4205), (befimmo, 0.3972), (2021, 0.3...  \n",
       "4    [(tcfd, 0.6651), (framework, 0.4223), (impleme...  \n",
       "5    [(kpis, 0.4649), (esg, 0.3891), (tcfd, 0.3596)...  \n",
       "..                                                 ...  \n",
       "743  [(emissions, 0.6148), (scope, 0.3511), (produc...  \n",
       "744  [(indigenous, 0.3091), (reserves, 0.3001), (la...  \n",
       "745  [(2021, 0.4623), (2022, 0.4578), (tcfd1, 0.431...  \n",
       "749  [(ipieca, 0.389), (guidelines, 0.3779), (ghg, ...  \n",
       "750  [(methane, 0.5366), (hydrofluorocarbons, 0.514...  \n",
       "\n",
       "[355 rows x 4 columns]"
      ]
     },
     "execution_count": 132,
     "metadata": {},
     "output_type": "execute_result"
    }
   ],
   "source": [
    "ones"
   ]
  },
  {
   "cell_type": "code",
   "execution_count": null,
   "id": "55a1359f",
   "metadata": {},
   "outputs": [],
   "source": []
  },
  {
   "cell_type": "code",
   "execution_count": 65,
   "id": "a5339b7d",
   "metadata": {},
   "outputs": [],
   "source": [
    "res = []\n",
    "q1 = 'Which target was applied?'\n",
    "q2 = 'Which protocol was applied?'\n",
    "q3 = 'What methodology was applied?'\n",
    "q4 = 'What recommendations was applied?'\n",
    "for i in ones['words']:\n",
    "    QA_1 = {\n",
    "        'question': q1,\n",
    "        'context': i\n",
    "    }\n",
    "    QA_2 = {\n",
    "        'question': q2,\n",
    "        'context': i\n",
    "    }\n",
    "    QA_3 = {\n",
    "        'question': q3,\n",
    "        'context': i\n",
    "    }\n",
    "    QA_4 = {\n",
    "        'question': q4,\n",
    "        'context': i\n",
    "    }\n",
    "    \n",
    "    ans1 = nlp(QA_1)['answer']\n",
    "    score1 = nlp(QA_1)['score']\n",
    "    ans2 = nlp(QA_2)['answer']\n",
    "    score2 = nlp(QA_2)['score']\n",
    "    ans3 = nlp(QA_3)['answer']\n",
    "    score3 = nlp(QA_3)['score']\n",
    "    ans4 = nlp(QA_4)['answer']\n",
    "    score4 = nlp(QA_4)['score']\n",
    "    \n",
    "    maxi = max([score1, score2, score3, score4])\n",
    "    if maxi == score1:\n",
    "        res.append(ans1)\n",
    "    elif maxi == score2:\n",
    "        res.append(ans2)\n",
    "    elif maxi == score4:\n",
    "        res.append(ans4)\n",
    "    else:\n",
    "        res.append(ans3)\n",
    "    "
   ]
  },
  {
   "cell_type": "code",
   "execution_count": 66,
   "id": "e93a5af6",
   "metadata": {},
   "outputs": [
    {
     "name": "stderr",
     "output_type": "stream",
     "text": [
      "C:\\Users\\Chen Wei\\AppData\\Local\\Temp\\ipykernel_1580\\612445749.py:1: SettingWithCopyWarning: \n",
      "A value is trying to be set on a copy of a slice from a DataFrame.\n",
      "Try using .loc[row_indexer,col_indexer] = value instead\n",
      "\n",
      "See the caveats in the documentation: https://pandas.pydata.org/pandas-docs/stable/user_guide/indexing.html#returning-a-view-versus-a-copy\n",
      "  ones['answer'] = np.array(res)\n"
     ]
    }
   ],
   "source": [
    "ones['answer'] = np.array(res)"
   ]
  },
  {
   "cell_type": "code",
   "execution_count": 67,
   "id": "dadcbfe1",
   "metadata": {},
   "outputs": [
    {
     "data": {
      "text/html": [
       "<div>\n",
       "<style scoped>\n",
       "    .dataframe tbody tr th:only-of-type {\n",
       "        vertical-align: middle;\n",
       "    }\n",
       "\n",
       "    .dataframe tbody tr th {\n",
       "        vertical-align: top;\n",
       "    }\n",
       "\n",
       "    .dataframe thead th {\n",
       "        text-align: right;\n",
       "    }\n",
       "</style>\n",
       "<table border=\"1\" class=\"dataframe\">\n",
       "  <thead>\n",
       "    <tr style=\"text-align: right;\">\n",
       "      <th></th>\n",
       "      <th>words</th>\n",
       "      <th>GT</th>\n",
       "      <th>answer</th>\n",
       "    </tr>\n",
       "  </thead>\n",
       "  <tbody>\n",
       "    <tr>\n",
       "      <th>0</th>\n",
       "      <td>Definition of Science Based Targets (SBTi) Wit...</td>\n",
       "      <td>1</td>\n",
       "      <td>GHG Protocol</td>\n",
       "    </tr>\n",
       "    <tr>\n",
       "      <th>1</th>\n",
       "      <td>LOOKING AHEAD Befimmo aims to provide quantita...</td>\n",
       "      <td>1</td>\n",
       "      <td>TCFD</td>\n",
       "    </tr>\n",
       "    <tr>\n",
       "      <th>2</th>\n",
       "      <td>Target: fully aligned by 2023 DESCRIPTION AND ...</td>\n",
       "      <td>1</td>\n",
       "      <td>Task Force on Climate-Related Financial Disclo...</td>\n",
       "    </tr>\n",
       "    <tr>\n",
       "      <th>4</th>\n",
       "      <td>More details on the TCFD framework and impleme...</td>\n",
       "      <td>1</td>\n",
       "      <td>recommendations</td>\n",
       "    </tr>\n",
       "    <tr>\n",
       "      <th>5</th>\n",
       "      <td>Our ESG journey Our 2030 commitments Performan...</td>\n",
       "      <td>1</td>\n",
       "      <td>Net Zero carbon Place based approach</td>\n",
       "    </tr>\n",
       "    <tr>\n",
       "      <th>...</th>\n",
       "      <td>...</td>\n",
       "      <td>...</td>\n",
       "      <td>...</td>\n",
       "    </tr>\n",
       "    <tr>\n",
       "      <th>743</th>\n",
       "      <td>To calculate the aforementioned scope 3 emissi...</td>\n",
       "      <td>1</td>\n",
       "      <td>GHG Protocol</td>\n",
       "    </tr>\n",
       "    <tr>\n",
       "      <th>744</th>\n",
       "      <td>We do not have oil and gas reserves in areas c...</td>\n",
       "      <td>1</td>\n",
       "      <td>do not have oil and gas reserves in areas clos...</td>\n",
       "    </tr>\n",
       "    <tr>\n",
       "      <th>745</th>\n",
       "      <td>This Sustainability &amp; Climate 2022 Progress Re...</td>\n",
       "      <td>1</td>\n",
       "      <td>2021</td>\n",
       "    </tr>\n",
       "    <tr>\n",
       "      <th>749</th>\n",
       "      <td>The Company follows the oil &amp; gas industry rep...</td>\n",
       "      <td>1</td>\n",
       "      <td>GHG Protocol</td>\n",
       "    </tr>\n",
       "    <tr>\n",
       "      <th>750</th>\n",
       "      <td>GHG yoto Protocol: carbon dioxide (CO2), The g...</td>\n",
       "      <td>1</td>\n",
       "      <td>GHG yoto Protocol</td>\n",
       "    </tr>\n",
       "  </tbody>\n",
       "</table>\n",
       "<p>355 rows × 3 columns</p>\n",
       "</div>"
      ],
      "text/plain": [
       "                                                 words  GT  \\\n",
       "0    Definition of Science Based Targets (SBTi) Wit...   1   \n",
       "1    LOOKING AHEAD Befimmo aims to provide quantita...   1   \n",
       "2    Target: fully aligned by 2023 DESCRIPTION AND ...   1   \n",
       "4    More details on the TCFD framework and impleme...   1   \n",
       "5    Our ESG journey Our 2030 commitments Performan...   1   \n",
       "..                                                 ...  ..   \n",
       "743  To calculate the aforementioned scope 3 emissi...   1   \n",
       "744  We do not have oil and gas reserves in areas c...   1   \n",
       "745  This Sustainability & Climate 2022 Progress Re...   1   \n",
       "749  The Company follows the oil & gas industry rep...   1   \n",
       "750  GHG yoto Protocol: carbon dioxide (CO2), The g...   1   \n",
       "\n",
       "                                                answer  \n",
       "0                                         GHG Protocol  \n",
       "1                                                 TCFD  \n",
       "2    Task Force on Climate-Related Financial Disclo...  \n",
       "4                                      recommendations  \n",
       "5                 Net Zero carbon Place based approach  \n",
       "..                                                 ...  \n",
       "743                                       GHG Protocol  \n",
       "744  do not have oil and gas reserves in areas clos...  \n",
       "745                                               2021  \n",
       "749                                       GHG Protocol  \n",
       "750                                  GHG yoto Protocol  \n",
       "\n",
       "[355 rows x 3 columns]"
      ]
     },
     "execution_count": 67,
     "metadata": {},
     "output_type": "execute_result"
    }
   ],
   "source": [
    "ones"
   ]
  },
  {
   "cell_type": "code",
   "execution_count": 68,
   "id": "1818866a",
   "metadata": {},
   "outputs": [
    {
     "data": {
      "text/plain": [
       "175"
      ]
     },
     "execution_count": 68,
     "metadata": {},
     "output_type": "execute_result"
    }
   ],
   "source": [
    "ones['answer'].str.lower().str.contains('ghg|tcfd|task force on climate-related financial disclosure|sbti|science-based|sasb').sum()"
   ]
  },
  {
   "cell_type": "markdown",
   "id": "ea1b7146",
   "metadata": {},
   "source": [
    "### One Class SVM"
   ]
  },
  {
   "cell_type": "code",
   "execution_count": 68,
   "id": "3ecd71ca",
   "metadata": {},
   "outputs": [],
   "source": [
    "ocsvm = OneClassSVM()"
   ]
  },
  {
   "cell_type": "code",
   "execution_count": 69,
   "id": "cad3df78",
   "metadata": {},
   "outputs": [],
   "source": [
    "ocsvm = OneClassSVM(kernel = 'rbf')"
   ]
  },
  {
   "cell_type": "code",
   "execution_count": 70,
   "id": "dd560835",
   "metadata": {},
   "outputs": [
    {
     "data": {
      "text/plain": [
       "OneClassSVM()"
      ]
     },
     "execution_count": 70,
     "metadata": {},
     "output_type": "execute_result"
    }
   ],
   "source": [
    "ocsvm.fit(X_train, y_train)"
   ]
  },
  {
   "cell_type": "code",
   "execution_count": 71,
   "id": "605d0799",
   "metadata": {},
   "outputs": [],
   "source": [
    "y_pred = ocsvm.predict(X_test)"
   ]
  },
  {
   "cell_type": "code",
   "execution_count": 72,
   "id": "23f9e073",
   "metadata": {},
   "outputs": [
    {
     "data": {
      "text/plain": [
       "array([-1, -1,  1,  1,  1, -1,  1,  1,  1, -1, -1, -1, -1, -1, -1, -1, -1,\n",
       "        1,  1,  1,  1,  1, -1,  1, -1, -1, -1, -1,  1, -1,  1, -1, -1, -1,\n",
       "       -1, -1,  1, -1, -1,  1,  1, -1, -1, -1, -1, -1, -1, -1, -1,  1,  1,\n",
       "       -1, -1, -1, -1, -1,  1, -1,  1, -1, -1,  1, -1,  1,  1, -1, -1, -1,\n",
       "        1, -1, -1,  1, -1,  1,  1,  1,  1,  1,  1, -1, -1, -1, -1, -1, -1,\n",
       "       -1, -1, -1, -1, -1, -1, -1,  1,  1, -1,  1, -1, -1, -1, -1, -1,  1,\n",
       "       -1, -1, -1,  1, -1, -1, -1, -1, -1, -1, -1, -1, -1,  1,  1, -1,  1,\n",
       "       -1,  1, -1, -1, -1, -1, -1, -1,  1, -1, -1, -1,  1, -1, -1,  1,  1,\n",
       "       -1,  1, -1, -1, -1, -1, -1,  1, -1,  1, -1,  1, -1,  1, -1],\n",
       "      dtype=int64)"
      ]
     },
     "execution_count": 72,
     "metadata": {},
     "output_type": "execute_result"
    }
   ],
   "source": [
    "y_pred"
   ]
  },
  {
   "cell_type": "code",
   "execution_count": 73,
   "id": "544d9579",
   "metadata": {},
   "outputs": [],
   "source": [
    "y_pred = np.vectorize(lambda x: 0 if x == -1 else x)(y_pred)"
   ]
  },
  {
   "cell_type": "code",
   "execution_count": 74,
   "id": "db8a6545",
   "metadata": {
    "scrolled": true
   },
   "outputs": [
    {
     "name": "stdout",
     "output_type": "stream",
     "text": [
      "              precision    recall  f1-score   support\n",
      "\n",
      "           0       0.57      0.74      0.65        78\n",
      "           1       0.60      0.41      0.49        73\n",
      "\n",
      "    accuracy                           0.58       151\n",
      "   macro avg       0.59      0.58      0.57       151\n",
      "weighted avg       0.59      0.58      0.57       151\n",
      "\n"
     ]
    }
   ],
   "source": [
    "print(classification_report(y_test, y_pred))"
   ]
  },
  {
   "cell_type": "code",
   "execution_count": 75,
   "id": "349ab813",
   "metadata": {},
   "outputs": [],
   "source": [
    "ocsvm_pred = y_pred"
   ]
  },
  {
   "cell_type": "code",
   "execution_count": 55,
   "id": "1cfcf3da",
   "metadata": {},
   "outputs": [],
   "source": [
    "res = pd.DataFrame([lr_pred, rf_pred, ada_pred]).transpose()"
   ]
  },
  {
   "cell_type": "code",
   "execution_count": 56,
   "id": "934e40e6",
   "metadata": {},
   "outputs": [
    {
     "data": {
      "text/html": [
       "<div>\n",
       "<style scoped>\n",
       "    .dataframe tbody tr th:only-of-type {\n",
       "        vertical-align: middle;\n",
       "    }\n",
       "\n",
       "    .dataframe tbody tr th {\n",
       "        vertical-align: top;\n",
       "    }\n",
       "\n",
       "    .dataframe thead th {\n",
       "        text-align: right;\n",
       "    }\n",
       "</style>\n",
       "<table border=\"1\" class=\"dataframe\">\n",
       "  <thead>\n",
       "    <tr style=\"text-align: right;\">\n",
       "      <th></th>\n",
       "      <th>0</th>\n",
       "      <th>1</th>\n",
       "      <th>2</th>\n",
       "    </tr>\n",
       "  </thead>\n",
       "  <tbody>\n",
       "    <tr>\n",
       "      <th>0</th>\n",
       "      <td>1</td>\n",
       "      <td>1</td>\n",
       "      <td>1</td>\n",
       "    </tr>\n",
       "    <tr>\n",
       "      <th>1</th>\n",
       "      <td>1</td>\n",
       "      <td>1</td>\n",
       "      <td>0</td>\n",
       "    </tr>\n",
       "    <tr>\n",
       "      <th>2</th>\n",
       "      <td>1</td>\n",
       "      <td>1</td>\n",
       "      <td>0</td>\n",
       "    </tr>\n",
       "    <tr>\n",
       "      <th>3</th>\n",
       "      <td>1</td>\n",
       "      <td>1</td>\n",
       "      <td>1</td>\n",
       "    </tr>\n",
       "    <tr>\n",
       "      <th>4</th>\n",
       "      <td>0</td>\n",
       "      <td>0</td>\n",
       "      <td>0</td>\n",
       "    </tr>\n",
       "    <tr>\n",
       "      <th>...</th>\n",
       "      <td>...</td>\n",
       "      <td>...</td>\n",
       "      <td>...</td>\n",
       "    </tr>\n",
       "    <tr>\n",
       "      <th>146</th>\n",
       "      <td>0</td>\n",
       "      <td>0</td>\n",
       "      <td>0</td>\n",
       "    </tr>\n",
       "    <tr>\n",
       "      <th>147</th>\n",
       "      <td>0</td>\n",
       "      <td>0</td>\n",
       "      <td>0</td>\n",
       "    </tr>\n",
       "    <tr>\n",
       "      <th>148</th>\n",
       "      <td>0</td>\n",
       "      <td>0</td>\n",
       "      <td>0</td>\n",
       "    </tr>\n",
       "    <tr>\n",
       "      <th>149</th>\n",
       "      <td>0</td>\n",
       "      <td>0</td>\n",
       "      <td>0</td>\n",
       "    </tr>\n",
       "    <tr>\n",
       "      <th>150</th>\n",
       "      <td>0</td>\n",
       "      <td>0</td>\n",
       "      <td>0</td>\n",
       "    </tr>\n",
       "  </tbody>\n",
       "</table>\n",
       "<p>151 rows × 3 columns</p>\n",
       "</div>"
      ],
      "text/plain": [
       "     0  1  2\n",
       "0    1  1  1\n",
       "1    1  1  0\n",
       "2    1  1  0\n",
       "3    1  1  1\n",
       "4    0  0  0\n",
       "..  .. .. ..\n",
       "146  0  0  0\n",
       "147  0  0  0\n",
       "148  0  0  0\n",
       "149  0  0  0\n",
       "150  0  0  0\n",
       "\n",
       "[151 rows x 3 columns]"
      ]
     },
     "execution_count": 56,
     "metadata": {},
     "output_type": "execute_result"
    }
   ],
   "source": [
    "res"
   ]
  },
  {
   "cell_type": "code",
   "execution_count": 57,
   "id": "f377a95d",
   "metadata": {},
   "outputs": [
    {
     "data": {
      "text/html": [
       "<div>\n",
       "<style scoped>\n",
       "    .dataframe tbody tr th:only-of-type {\n",
       "        vertical-align: middle;\n",
       "    }\n",
       "\n",
       "    .dataframe tbody tr th {\n",
       "        vertical-align: top;\n",
       "    }\n",
       "\n",
       "    .dataframe thead th {\n",
       "        text-align: right;\n",
       "    }\n",
       "</style>\n",
       "<table border=\"1\" class=\"dataframe\">\n",
       "  <thead>\n",
       "    <tr style=\"text-align: right;\">\n",
       "      <th></th>\n",
       "      <th>0</th>\n",
       "      <th>1</th>\n",
       "      <th>2</th>\n",
       "    </tr>\n",
       "  </thead>\n",
       "  <tbody>\n",
       "    <tr>\n",
       "      <th>0</th>\n",
       "      <td>1</td>\n",
       "      <td>1</td>\n",
       "      <td>1</td>\n",
       "    </tr>\n",
       "    <tr>\n",
       "      <th>1</th>\n",
       "      <td>1</td>\n",
       "      <td>1</td>\n",
       "      <td>0</td>\n",
       "    </tr>\n",
       "    <tr>\n",
       "      <th>2</th>\n",
       "      <td>1</td>\n",
       "      <td>1</td>\n",
       "      <td>0</td>\n",
       "    </tr>\n",
       "    <tr>\n",
       "      <th>3</th>\n",
       "      <td>1</td>\n",
       "      <td>1</td>\n",
       "      <td>1</td>\n",
       "    </tr>\n",
       "    <tr>\n",
       "      <th>4</th>\n",
       "      <td>0</td>\n",
       "      <td>0</td>\n",
       "      <td>0</td>\n",
       "    </tr>\n",
       "    <tr>\n",
       "      <th>...</th>\n",
       "      <td>...</td>\n",
       "      <td>...</td>\n",
       "      <td>...</td>\n",
       "    </tr>\n",
       "    <tr>\n",
       "      <th>146</th>\n",
       "      <td>0</td>\n",
       "      <td>0</td>\n",
       "      <td>0</td>\n",
       "    </tr>\n",
       "    <tr>\n",
       "      <th>147</th>\n",
       "      <td>0</td>\n",
       "      <td>0</td>\n",
       "      <td>0</td>\n",
       "    </tr>\n",
       "    <tr>\n",
       "      <th>148</th>\n",
       "      <td>0</td>\n",
       "      <td>0</td>\n",
       "      <td>0</td>\n",
       "    </tr>\n",
       "    <tr>\n",
       "      <th>149</th>\n",
       "      <td>0</td>\n",
       "      <td>0</td>\n",
       "      <td>0</td>\n",
       "    </tr>\n",
       "    <tr>\n",
       "      <th>150</th>\n",
       "      <td>0</td>\n",
       "      <td>0</td>\n",
       "      <td>0</td>\n",
       "    </tr>\n",
       "  </tbody>\n",
       "</table>\n",
       "<p>151 rows × 3 columns</p>\n",
       "</div>"
      ],
      "text/plain": [
       "     0  1  2\n",
       "0    1  1  1\n",
       "1    1  1  0\n",
       "2    1  1  0\n",
       "3    1  1  1\n",
       "4    0  0  0\n",
       "..  .. .. ..\n",
       "146  0  0  0\n",
       "147  0  0  0\n",
       "148  0  0  0\n",
       "149  0  0  0\n",
       "150  0  0  0\n",
       "\n",
       "[151 rows x 3 columns]"
      ]
     },
     "execution_count": 57,
     "metadata": {},
     "output_type": "execute_result"
    }
   ],
   "source": [
    "res"
   ]
  },
  {
   "cell_type": "code",
   "execution_count": 58,
   "id": "589e4554",
   "metadata": {},
   "outputs": [],
   "source": [
    "res['total'] = res.mode(axis=1)[0]"
   ]
  },
  {
   "cell_type": "code",
   "execution_count": 59,
   "id": "9b3d28de",
   "metadata": {},
   "outputs": [
    {
     "data": {
      "text/plain": [
       "0      1\n",
       "1      1\n",
       "2      1\n",
       "3      1\n",
       "4      0\n",
       "      ..\n",
       "146    0\n",
       "147    0\n",
       "148    0\n",
       "149    0\n",
       "150    0\n",
       "Name: total, Length: 151, dtype: int64"
      ]
     },
     "execution_count": 59,
     "metadata": {},
     "output_type": "execute_result"
    }
   ],
   "source": [
    "res['total']"
   ]
  },
  {
   "cell_type": "code",
   "execution_count": 60,
   "id": "3cc2fb98",
   "metadata": {},
   "outputs": [
    {
     "data": {
      "text/html": [
       "<div>\n",
       "<style scoped>\n",
       "    .dataframe tbody tr th:only-of-type {\n",
       "        vertical-align: middle;\n",
       "    }\n",
       "\n",
       "    .dataframe tbody tr th {\n",
       "        vertical-align: top;\n",
       "    }\n",
       "\n",
       "    .dataframe thead th {\n",
       "        text-align: right;\n",
       "    }\n",
       "</style>\n",
       "<table border=\"1\" class=\"dataframe\">\n",
       "  <thead>\n",
       "    <tr style=\"text-align: right;\">\n",
       "      <th></th>\n",
       "      <th>0</th>\n",
       "      <th>1</th>\n",
       "      <th>2</th>\n",
       "      <th>total</th>\n",
       "    </tr>\n",
       "  </thead>\n",
       "  <tbody>\n",
       "    <tr>\n",
       "      <th>0</th>\n",
       "      <td>1</td>\n",
       "      <td>1</td>\n",
       "      <td>1</td>\n",
       "      <td>1</td>\n",
       "    </tr>\n",
       "    <tr>\n",
       "      <th>1</th>\n",
       "      <td>1</td>\n",
       "      <td>1</td>\n",
       "      <td>0</td>\n",
       "      <td>1</td>\n",
       "    </tr>\n",
       "    <tr>\n",
       "      <th>2</th>\n",
       "      <td>1</td>\n",
       "      <td>1</td>\n",
       "      <td>0</td>\n",
       "      <td>1</td>\n",
       "    </tr>\n",
       "    <tr>\n",
       "      <th>3</th>\n",
       "      <td>1</td>\n",
       "      <td>1</td>\n",
       "      <td>1</td>\n",
       "      <td>1</td>\n",
       "    </tr>\n",
       "    <tr>\n",
       "      <th>4</th>\n",
       "      <td>0</td>\n",
       "      <td>0</td>\n",
       "      <td>0</td>\n",
       "      <td>0</td>\n",
       "    </tr>\n",
       "    <tr>\n",
       "      <th>...</th>\n",
       "      <td>...</td>\n",
       "      <td>...</td>\n",
       "      <td>...</td>\n",
       "      <td>...</td>\n",
       "    </tr>\n",
       "    <tr>\n",
       "      <th>146</th>\n",
       "      <td>0</td>\n",
       "      <td>0</td>\n",
       "      <td>0</td>\n",
       "      <td>0</td>\n",
       "    </tr>\n",
       "    <tr>\n",
       "      <th>147</th>\n",
       "      <td>0</td>\n",
       "      <td>0</td>\n",
       "      <td>0</td>\n",
       "      <td>0</td>\n",
       "    </tr>\n",
       "    <tr>\n",
       "      <th>148</th>\n",
       "      <td>0</td>\n",
       "      <td>0</td>\n",
       "      <td>0</td>\n",
       "      <td>0</td>\n",
       "    </tr>\n",
       "    <tr>\n",
       "      <th>149</th>\n",
       "      <td>0</td>\n",
       "      <td>0</td>\n",
       "      <td>0</td>\n",
       "      <td>0</td>\n",
       "    </tr>\n",
       "    <tr>\n",
       "      <th>150</th>\n",
       "      <td>0</td>\n",
       "      <td>0</td>\n",
       "      <td>0</td>\n",
       "      <td>0</td>\n",
       "    </tr>\n",
       "  </tbody>\n",
       "</table>\n",
       "<p>151 rows × 4 columns</p>\n",
       "</div>"
      ],
      "text/plain": [
       "     0  1  2  total\n",
       "0    1  1  1      1\n",
       "1    1  1  0      1\n",
       "2    1  1  0      1\n",
       "3    1  1  1      1\n",
       "4    0  0  0      0\n",
       "..  .. .. ..    ...\n",
       "146  0  0  0      0\n",
       "147  0  0  0      0\n",
       "148  0  0  0      0\n",
       "149  0  0  0      0\n",
       "150  0  0  0      0\n",
       "\n",
       "[151 rows x 4 columns]"
      ]
     },
     "execution_count": 60,
     "metadata": {},
     "output_type": "execute_result"
    }
   ],
   "source": [
    "res"
   ]
  },
  {
   "cell_type": "code",
   "execution_count": 61,
   "id": "e0905db0",
   "metadata": {},
   "outputs": [
    {
     "name": "stdout",
     "output_type": "stream",
     "text": [
      "0.8145695364238411\n",
      "0.835820895522388\n",
      "0.7671232876712328\n",
      "0.8\n"
     ]
    }
   ],
   "source": [
    "print(accuracy_score(y_test, res['total']))\n",
    "print(precision_score(y_test, res['total']))\n",
    "print(recall_score(y_test, res['total']))\n",
    "print(f1_score(y_test, res['total']))"
   ]
  },
  {
   "cell_type": "code",
   "execution_count": 83,
   "id": "100e1ce2",
   "metadata": {},
   "outputs": [],
   "source": [
    "lr_14 = 'lr_14_model.sav'\n",
    "rf_14 = 'rf_14_model.sav'\n",
    "ada_14 = 'ada_14_model.sav'\n",
    "tfidf_14 = 'tfidf_14_model.sav'"
   ]
  },
  {
   "cell_type": "code",
   "execution_count": 84,
   "id": "330a4daa",
   "metadata": {},
   "outputs": [],
   "source": [
    "pickle.dump(tfidf, open(tfidf_14, 'wb'))"
   ]
  },
  {
   "cell_type": "code",
   "execution_count": 85,
   "id": "3206f4ef",
   "metadata": {},
   "outputs": [],
   "source": [
    "pickle.dump(model1, open(lr_14, 'wb'))"
   ]
  },
  {
   "cell_type": "code",
   "execution_count": 86,
   "id": "a1367966",
   "metadata": {},
   "outputs": [],
   "source": [
    "pickle.dump(model2, open(rf_14, 'wb'))\n",
    "pickle.dump(ada, open(ada_14, 'wb'))"
   ]
  },
  {
   "cell_type": "markdown",
   "id": "cd26e6d4",
   "metadata": {},
   "source": [
    "## Attribute 15 Test"
   ]
  },
  {
   "cell_type": "code",
   "execution_count": 3,
   "id": "9bb6e034",
   "metadata": {},
   "outputs": [],
   "source": [
    "df_ext = pd.read_csv('ext_labelled.csv')"
   ]
  },
  {
   "cell_type": "code",
   "execution_count": 4,
   "id": "018e3cb5",
   "metadata": {},
   "outputs": [
    {
     "data": {
      "text/html": [
       "<div>\n",
       "<style scoped>\n",
       "    .dataframe tbody tr th:only-of-type {\n",
       "        vertical-align: middle;\n",
       "    }\n",
       "\n",
       "    .dataframe tbody tr th {\n",
       "        vertical-align: top;\n",
       "    }\n",
       "\n",
       "    .dataframe thead th {\n",
       "        text-align: right;\n",
       "    }\n",
       "</style>\n",
       "<table border=\"1\" class=\"dataframe\">\n",
       "  <thead>\n",
       "    <tr style=\"text-align: right;\">\n",
       "      <th></th>\n",
       "      <th>words</th>\n",
       "      <th>GT</th>\n",
       "    </tr>\n",
       "  </thead>\n",
       "  <tbody>\n",
       "    <tr>\n",
       "      <th>0</th>\n",
       "      <td>Compliance with and implementation of the BMW ...</td>\n",
       "      <td>0</td>\n",
       "    </tr>\n",
       "    <tr>\n",
       "      <th>1</th>\n",
       "      <td>In addition, we want to foster transparency in...</td>\n",
       "      <td>0</td>\n",
       "    </tr>\n",
       "    <tr>\n",
       "      <th>2</th>\n",
       "      <td>In future, it will be possible to acknowledge ...</td>\n",
       "      <td>0</td>\n",
       "    </tr>\n",
       "    <tr>\n",
       "      <th>3</th>\n",
       "      <td>In collaboration with the RMI and the Chinese ...</td>\n",
       "      <td>0</td>\n",
       "    </tr>\n",
       "    <tr>\n",
       "      <th>4</th>\n",
       "      <td>The certified locations are audited by externa...</td>\n",
       "      <td>1</td>\n",
       "    </tr>\n",
       "    <tr>\n",
       "      <th>...</th>\n",
       "      <td>...</td>\n",
       "      <td>...</td>\n",
       "    </tr>\n",
       "    <tr>\n",
       "      <th>514</th>\n",
       "      <td>The Sustainable Development Office team Certai...</td>\n",
       "      <td>1</td>\n",
       "    </tr>\n",
       "    <tr>\n",
       "      <th>515</th>\n",
       "      <td>Please see the Limited Assurance Statement.</td>\n",
       "      <td>0</td>\n",
       "    </tr>\n",
       "    <tr>\n",
       "      <th>516</th>\n",
       "      <td>The results determine which suppliers need to ...</td>\n",
       "      <td>0</td>\n",
       "    </tr>\n",
       "    <tr>\n",
       "      <th>517</th>\n",
       "      <td>Please refer to the independent limited assura...</td>\n",
       "      <td>0</td>\n",
       "    </tr>\n",
       "    <tr>\n",
       "      <th>518</th>\n",
       "      <td>Description of quality assurance process and r...</td>\n",
       "      <td>0</td>\n",
       "    </tr>\n",
       "  </tbody>\n",
       "</table>\n",
       "<p>519 rows × 2 columns</p>\n",
       "</div>"
      ],
      "text/plain": [
       "                                                 words  GT\n",
       "0    Compliance with and implementation of the BMW ...   0\n",
       "1    In addition, we want to foster transparency in...   0\n",
       "2    In future, it will be possible to acknowledge ...   0\n",
       "3    In collaboration with the RMI and the Chinese ...   0\n",
       "4    The certified locations are audited by externa...   1\n",
       "..                                                 ...  ..\n",
       "514  The Sustainable Development Office team Certai...   1\n",
       "515        Please see the Limited Assurance Statement.   0\n",
       "516  The results determine which suppliers need to ...   0\n",
       "517  Please refer to the independent limited assura...   0\n",
       "518  Description of quality assurance process and r...   0\n",
       "\n",
       "[519 rows x 2 columns]"
      ]
     },
     "execution_count": 4,
     "metadata": {},
     "output_type": "execute_result"
    }
   ],
   "source": [
    "df_ext"
   ]
  },
  {
   "cell_type": "code",
   "execution_count": 24,
   "id": "3753d24c",
   "metadata": {},
   "outputs": [],
   "source": [
    "df_ext_o = df_ext[df_ext['GT'] == 1]"
   ]
  },
  {
   "cell_type": "code",
   "execution_count": 25,
   "id": "dab3d667",
   "metadata": {},
   "outputs": [],
   "source": [
    "df_ext_o.to_csv('ext_ones.csv', index=False)"
   ]
  },
  {
   "cell_type": "code",
   "execution_count": 5,
   "id": "f91dabbb",
   "metadata": {},
   "outputs": [],
   "source": [
    "X = df_ext['words']\n",
    "y = df_ext['GT']"
   ]
  },
  {
   "cell_type": "markdown",
   "id": "ebeee44e",
   "metadata": {},
   "source": [
    "### Word Embedding"
   ]
  },
  {
   "cell_type": "code",
   "execution_count": 6,
   "id": "7bd1a2fa",
   "metadata": {},
   "outputs": [
    {
     "data": {
      "text/plain": [
       "0      compliance with and implementation of the bmw ...\n",
       "1      in addition, we want to foster transparency in...\n",
       "2      in future, it will be possible to acknowledge ...\n",
       "3      in collaboration with the rmi and the chinese ...\n",
       "4      the certified locations are audited by externa...\n",
       "                             ...                        \n",
       "514    the sustainable development office team certai...\n",
       "515          please see the limited assurance statement.\n",
       "516    the results determine which suppliers need to ...\n",
       "517    please refer to the independent limited assura...\n",
       "518    description of quality assurance process and r...\n",
       "Name: words, Length: 519, dtype: object"
      ]
     },
     "execution_count": 6,
     "metadata": {},
     "output_type": "execute_result"
    }
   ],
   "source": [
    "X = X.apply(lambda x: x.lower())\n",
    "X"
   ]
  },
  {
   "cell_type": "code",
   "execution_count": 7,
   "id": "163937d5",
   "metadata": {},
   "outputs": [],
   "source": [
    "tfidf = TfidfVectorizer()\n",
    "x = tfidf.fit_transform(X)\n",
    "X_encoded = pd.DataFrame(x.toarray())"
   ]
  },
  {
   "cell_type": "markdown",
   "id": "bae2b944",
   "metadata": {},
   "source": [
    "### Train Test Split"
   ]
  },
  {
   "cell_type": "code",
   "execution_count": 8,
   "id": "e3c2cc69",
   "metadata": {},
   "outputs": [],
   "source": [
    "X_train, X_test, y_train, y_test = train_test_split(X_encoded, y, test_size=0.2, random_state=42)"
   ]
  },
  {
   "cell_type": "code",
   "execution_count": 9,
   "id": "2f698b9a",
   "metadata": {},
   "outputs": [
    {
     "data": {
      "text/html": [
       "<div>\n",
       "<style scoped>\n",
       "    .dataframe tbody tr th:only-of-type {\n",
       "        vertical-align: middle;\n",
       "    }\n",
       "\n",
       "    .dataframe tbody tr th {\n",
       "        vertical-align: top;\n",
       "    }\n",
       "\n",
       "    .dataframe thead th {\n",
       "        text-align: right;\n",
       "    }\n",
       "</style>\n",
       "<table border=\"1\" class=\"dataframe\">\n",
       "  <thead>\n",
       "    <tr style=\"text-align: right;\">\n",
       "      <th></th>\n",
       "      <th>0</th>\n",
       "      <th>1</th>\n",
       "      <th>2</th>\n",
       "      <th>3</th>\n",
       "      <th>4</th>\n",
       "      <th>5</th>\n",
       "      <th>6</th>\n",
       "      <th>7</th>\n",
       "      <th>8</th>\n",
       "      <th>9</th>\n",
       "      <th>...</th>\n",
       "      <th>2183</th>\n",
       "      <th>2184</th>\n",
       "      <th>2185</th>\n",
       "      <th>2186</th>\n",
       "      <th>2187</th>\n",
       "      <th>2188</th>\n",
       "      <th>2189</th>\n",
       "      <th>2190</th>\n",
       "      <th>2191</th>\n",
       "      <th>2192</th>\n",
       "    </tr>\n",
       "  </thead>\n",
       "  <tbody>\n",
       "    <tr>\n",
       "      <th>433</th>\n",
       "      <td>0.0</td>\n",
       "      <td>0.0</td>\n",
       "      <td>0.0</td>\n",
       "      <td>0.0</td>\n",
       "      <td>0.0</td>\n",
       "      <td>0.0</td>\n",
       "      <td>0.0</td>\n",
       "      <td>0.0</td>\n",
       "      <td>0.0</td>\n",
       "      <td>0.0</td>\n",
       "      <td>...</td>\n",
       "      <td>0.0</td>\n",
       "      <td>0.0</td>\n",
       "      <td>0.0</td>\n",
       "      <td>0.0</td>\n",
       "      <td>0.0</td>\n",
       "      <td>0.0</td>\n",
       "      <td>0.0</td>\n",
       "      <td>0.0</td>\n",
       "      <td>0.0</td>\n",
       "      <td>0.0</td>\n",
       "    </tr>\n",
       "    <tr>\n",
       "      <th>517</th>\n",
       "      <td>0.0</td>\n",
       "      <td>0.0</td>\n",
       "      <td>0.0</td>\n",
       "      <td>0.0</td>\n",
       "      <td>0.0</td>\n",
       "      <td>0.0</td>\n",
       "      <td>0.0</td>\n",
       "      <td>0.0</td>\n",
       "      <td>0.0</td>\n",
       "      <td>0.0</td>\n",
       "      <td>...</td>\n",
       "      <td>0.0</td>\n",
       "      <td>0.0</td>\n",
       "      <td>0.0</td>\n",
       "      <td>0.0</td>\n",
       "      <td>0.0</td>\n",
       "      <td>0.0</td>\n",
       "      <td>0.0</td>\n",
       "      <td>0.0</td>\n",
       "      <td>0.0</td>\n",
       "      <td>0.0</td>\n",
       "    </tr>\n",
       "    <tr>\n",
       "      <th>208</th>\n",
       "      <td>0.0</td>\n",
       "      <td>0.0</td>\n",
       "      <td>0.0</td>\n",
       "      <td>0.0</td>\n",
       "      <td>0.0</td>\n",
       "      <td>0.0</td>\n",
       "      <td>0.0</td>\n",
       "      <td>0.0</td>\n",
       "      <td>0.0</td>\n",
       "      <td>0.0</td>\n",
       "      <td>...</td>\n",
       "      <td>0.0</td>\n",
       "      <td>0.0</td>\n",
       "      <td>0.0</td>\n",
       "      <td>0.0</td>\n",
       "      <td>0.0</td>\n",
       "      <td>0.0</td>\n",
       "      <td>0.0</td>\n",
       "      <td>0.0</td>\n",
       "      <td>0.0</td>\n",
       "      <td>0.0</td>\n",
       "    </tr>\n",
       "    <tr>\n",
       "      <th>332</th>\n",
       "      <td>0.0</td>\n",
       "      <td>0.0</td>\n",
       "      <td>0.0</td>\n",
       "      <td>0.0</td>\n",
       "      <td>0.0</td>\n",
       "      <td>0.0</td>\n",
       "      <td>0.0</td>\n",
       "      <td>0.0</td>\n",
       "      <td>0.0</td>\n",
       "      <td>0.0</td>\n",
       "      <td>...</td>\n",
       "      <td>0.0</td>\n",
       "      <td>0.0</td>\n",
       "      <td>0.0</td>\n",
       "      <td>0.0</td>\n",
       "      <td>0.0</td>\n",
       "      <td>0.0</td>\n",
       "      <td>0.0</td>\n",
       "      <td>0.0</td>\n",
       "      <td>0.0</td>\n",
       "      <td>0.0</td>\n",
       "    </tr>\n",
       "    <tr>\n",
       "      <th>220</th>\n",
       "      <td>0.0</td>\n",
       "      <td>0.0</td>\n",
       "      <td>0.0</td>\n",
       "      <td>0.0</td>\n",
       "      <td>0.0</td>\n",
       "      <td>0.0</td>\n",
       "      <td>0.0</td>\n",
       "      <td>0.0</td>\n",
       "      <td>0.0</td>\n",
       "      <td>0.0</td>\n",
       "      <td>...</td>\n",
       "      <td>0.0</td>\n",
       "      <td>0.0</td>\n",
       "      <td>0.0</td>\n",
       "      <td>0.0</td>\n",
       "      <td>0.0</td>\n",
       "      <td>0.0</td>\n",
       "      <td>0.0</td>\n",
       "      <td>0.0</td>\n",
       "      <td>0.0</td>\n",
       "      <td>0.0</td>\n",
       "    </tr>\n",
       "    <tr>\n",
       "      <th>...</th>\n",
       "      <td>...</td>\n",
       "      <td>...</td>\n",
       "      <td>...</td>\n",
       "      <td>...</td>\n",
       "      <td>...</td>\n",
       "      <td>...</td>\n",
       "      <td>...</td>\n",
       "      <td>...</td>\n",
       "      <td>...</td>\n",
       "      <td>...</td>\n",
       "      <td>...</td>\n",
       "      <td>...</td>\n",
       "      <td>...</td>\n",
       "      <td>...</td>\n",
       "      <td>...</td>\n",
       "      <td>...</td>\n",
       "      <td>...</td>\n",
       "      <td>...</td>\n",
       "      <td>...</td>\n",
       "      <td>...</td>\n",
       "      <td>...</td>\n",
       "    </tr>\n",
       "    <tr>\n",
       "      <th>71</th>\n",
       "      <td>0.0</td>\n",
       "      <td>0.0</td>\n",
       "      <td>0.0</td>\n",
       "      <td>0.0</td>\n",
       "      <td>0.0</td>\n",
       "      <td>0.0</td>\n",
       "      <td>0.0</td>\n",
       "      <td>0.0</td>\n",
       "      <td>0.0</td>\n",
       "      <td>0.0</td>\n",
       "      <td>...</td>\n",
       "      <td>0.0</td>\n",
       "      <td>0.0</td>\n",
       "      <td>0.0</td>\n",
       "      <td>0.0</td>\n",
       "      <td>0.0</td>\n",
       "      <td>0.0</td>\n",
       "      <td>0.0</td>\n",
       "      <td>0.0</td>\n",
       "      <td>0.0</td>\n",
       "      <td>0.0</td>\n",
       "    </tr>\n",
       "    <tr>\n",
       "      <th>106</th>\n",
       "      <td>0.0</td>\n",
       "      <td>0.0</td>\n",
       "      <td>0.0</td>\n",
       "      <td>0.0</td>\n",
       "      <td>0.0</td>\n",
       "      <td>0.0</td>\n",
       "      <td>0.0</td>\n",
       "      <td>0.0</td>\n",
       "      <td>0.0</td>\n",
       "      <td>0.0</td>\n",
       "      <td>...</td>\n",
       "      <td>0.0</td>\n",
       "      <td>0.0</td>\n",
       "      <td>0.0</td>\n",
       "      <td>0.0</td>\n",
       "      <td>0.0</td>\n",
       "      <td>0.0</td>\n",
       "      <td>0.0</td>\n",
       "      <td>0.0</td>\n",
       "      <td>0.0</td>\n",
       "      <td>0.0</td>\n",
       "    </tr>\n",
       "    <tr>\n",
       "      <th>270</th>\n",
       "      <td>0.0</td>\n",
       "      <td>0.0</td>\n",
       "      <td>0.0</td>\n",
       "      <td>0.0</td>\n",
       "      <td>0.0</td>\n",
       "      <td>0.0</td>\n",
       "      <td>0.0</td>\n",
       "      <td>0.0</td>\n",
       "      <td>0.0</td>\n",
       "      <td>0.0</td>\n",
       "      <td>...</td>\n",
       "      <td>0.0</td>\n",
       "      <td>0.0</td>\n",
       "      <td>0.0</td>\n",
       "      <td>0.0</td>\n",
       "      <td>0.0</td>\n",
       "      <td>0.0</td>\n",
       "      <td>0.0</td>\n",
       "      <td>0.0</td>\n",
       "      <td>0.0</td>\n",
       "      <td>0.0</td>\n",
       "    </tr>\n",
       "    <tr>\n",
       "      <th>435</th>\n",
       "      <td>0.0</td>\n",
       "      <td>0.0</td>\n",
       "      <td>0.0</td>\n",
       "      <td>0.0</td>\n",
       "      <td>0.0</td>\n",
       "      <td>0.0</td>\n",
       "      <td>0.0</td>\n",
       "      <td>0.0</td>\n",
       "      <td>0.0</td>\n",
       "      <td>0.0</td>\n",
       "      <td>...</td>\n",
       "      <td>0.0</td>\n",
       "      <td>0.0</td>\n",
       "      <td>0.0</td>\n",
       "      <td>0.0</td>\n",
       "      <td>0.0</td>\n",
       "      <td>0.0</td>\n",
       "      <td>0.0</td>\n",
       "      <td>0.0</td>\n",
       "      <td>0.0</td>\n",
       "      <td>0.0</td>\n",
       "    </tr>\n",
       "    <tr>\n",
       "      <th>102</th>\n",
       "      <td>0.0</td>\n",
       "      <td>0.0</td>\n",
       "      <td>0.0</td>\n",
       "      <td>0.0</td>\n",
       "      <td>0.0</td>\n",
       "      <td>0.0</td>\n",
       "      <td>0.0</td>\n",
       "      <td>0.0</td>\n",
       "      <td>0.0</td>\n",
       "      <td>0.0</td>\n",
       "      <td>...</td>\n",
       "      <td>0.0</td>\n",
       "      <td>0.0</td>\n",
       "      <td>0.0</td>\n",
       "      <td>0.0</td>\n",
       "      <td>0.0</td>\n",
       "      <td>0.0</td>\n",
       "      <td>0.0</td>\n",
       "      <td>0.0</td>\n",
       "      <td>0.0</td>\n",
       "      <td>0.0</td>\n",
       "    </tr>\n",
       "  </tbody>\n",
       "</table>\n",
       "<p>415 rows × 2193 columns</p>\n",
       "</div>"
      ],
      "text/plain": [
       "     0     1     2     3     4     5     6     7     8     9     ...  2183  \\\n",
       "433   0.0   0.0   0.0   0.0   0.0   0.0   0.0   0.0   0.0   0.0  ...   0.0   \n",
       "517   0.0   0.0   0.0   0.0   0.0   0.0   0.0   0.0   0.0   0.0  ...   0.0   \n",
       "208   0.0   0.0   0.0   0.0   0.0   0.0   0.0   0.0   0.0   0.0  ...   0.0   \n",
       "332   0.0   0.0   0.0   0.0   0.0   0.0   0.0   0.0   0.0   0.0  ...   0.0   \n",
       "220   0.0   0.0   0.0   0.0   0.0   0.0   0.0   0.0   0.0   0.0  ...   0.0   \n",
       "..    ...   ...   ...   ...   ...   ...   ...   ...   ...   ...  ...   ...   \n",
       "71    0.0   0.0   0.0   0.0   0.0   0.0   0.0   0.0   0.0   0.0  ...   0.0   \n",
       "106   0.0   0.0   0.0   0.0   0.0   0.0   0.0   0.0   0.0   0.0  ...   0.0   \n",
       "270   0.0   0.0   0.0   0.0   0.0   0.0   0.0   0.0   0.0   0.0  ...   0.0   \n",
       "435   0.0   0.0   0.0   0.0   0.0   0.0   0.0   0.0   0.0   0.0  ...   0.0   \n",
       "102   0.0   0.0   0.0   0.0   0.0   0.0   0.0   0.0   0.0   0.0  ...   0.0   \n",
       "\n",
       "     2184  2185  2186  2187  2188  2189  2190  2191  2192  \n",
       "433   0.0   0.0   0.0   0.0   0.0   0.0   0.0   0.0   0.0  \n",
       "517   0.0   0.0   0.0   0.0   0.0   0.0   0.0   0.0   0.0  \n",
       "208   0.0   0.0   0.0   0.0   0.0   0.0   0.0   0.0   0.0  \n",
       "332   0.0   0.0   0.0   0.0   0.0   0.0   0.0   0.0   0.0  \n",
       "220   0.0   0.0   0.0   0.0   0.0   0.0   0.0   0.0   0.0  \n",
       "..    ...   ...   ...   ...   ...   ...   ...   ...   ...  \n",
       "71    0.0   0.0   0.0   0.0   0.0   0.0   0.0   0.0   0.0  \n",
       "106   0.0   0.0   0.0   0.0   0.0   0.0   0.0   0.0   0.0  \n",
       "270   0.0   0.0   0.0   0.0   0.0   0.0   0.0   0.0   0.0  \n",
       "435   0.0   0.0   0.0   0.0   0.0   0.0   0.0   0.0   0.0  \n",
       "102   0.0   0.0   0.0   0.0   0.0   0.0   0.0   0.0   0.0  \n",
       "\n",
       "[415 rows x 2193 columns]"
      ]
     },
     "execution_count": 9,
     "metadata": {},
     "output_type": "execute_result"
    }
   ],
   "source": [
    "X_train"
   ]
  },
  {
   "cell_type": "markdown",
   "id": "eeebcb55",
   "metadata": {},
   "source": []
  },
  {
   "cell_type": "code",
   "execution_count": 10,
   "id": "7a270e02",
   "metadata": {},
   "outputs": [],
   "source": [
    "ros = RandomOverSampler(sampling_strategy=1, random_state=42)"
   ]
  },
  {
   "cell_type": "code",
   "execution_count": 11,
   "id": "2181a1e3",
   "metadata": {},
   "outputs": [],
   "source": [
    "X_res, y_res = ros.fit_resample(X_train, y_train)"
   ]
  },
  {
   "cell_type": "code",
   "execution_count": 12,
   "id": "a1ac3876",
   "metadata": {},
   "outputs": [
    {
     "data": {
      "text/plain": [
       "0    354\n",
       "1    354\n",
       "Name: GT, dtype: int64"
      ]
     },
     "execution_count": 12,
     "metadata": {},
     "output_type": "execute_result"
    }
   ],
   "source": [
    "y_res.value_counts()"
   ]
  },
  {
   "cell_type": "code",
   "execution_count": 13,
   "id": "b35bfc4d",
   "metadata": {},
   "outputs": [
    {
     "data": {
      "text/plain": [
       "0    87\n",
       "1    17\n",
       "Name: GT, dtype: int64"
      ]
     },
     "execution_count": 13,
     "metadata": {},
     "output_type": "execute_result"
    }
   ],
   "source": [
    "y_test.value_counts()"
   ]
  },
  {
   "cell_type": "code",
   "execution_count": 14,
   "id": "9b61cdfb",
   "metadata": {},
   "outputs": [
    {
     "data": {
      "text/plain": [
       "441"
      ]
     },
     "execution_count": 14,
     "metadata": {},
     "output_type": "execute_result"
    }
   ],
   "source": [
    "354+87"
   ]
  },
  {
   "cell_type": "markdown",
   "id": "5e227e81",
   "metadata": {},
   "source": [
    "### Logistic Regression"
   ]
  },
  {
   "cell_type": "code",
   "execution_count": 15,
   "id": "f389c941",
   "metadata": {},
   "outputs": [
    {
     "data": {
      "text/plain": [
       "LogisticRegression(random_state=42)"
      ]
     },
     "execution_count": 15,
     "metadata": {},
     "output_type": "execute_result"
    }
   ],
   "source": [
    "model1 = LogisticRegression(random_state=42)\n",
    "model1.fit(X_res, y_res)"
   ]
  },
  {
   "cell_type": "code",
   "execution_count": 16,
   "id": "7b14bdde",
   "metadata": {},
   "outputs": [],
   "source": [
    "y_pred = model1.predict(X_test)"
   ]
  },
  {
   "cell_type": "code",
   "execution_count": 17,
   "id": "4a012488",
   "metadata": {},
   "outputs": [
    {
     "name": "stderr",
     "output_type": "stream",
     "text": [
      "C:\\Anaconda3\\lib\\site-packages\\sklearn\\utils\\deprecation.py:87: FutureWarning: Function plot_confusion_matrix is deprecated; Function `plot_confusion_matrix` is deprecated in 1.0 and will be removed in 1.2. Use one of the class methods: ConfusionMatrixDisplay.from_predictions or ConfusionMatrixDisplay.from_estimator.\n",
      "  warnings.warn(msg, category=FutureWarning)\n"
     ]
    },
    {
     "data": {
      "text/plain": [
       "<sklearn.metrics._plot.confusion_matrix.ConfusionMatrixDisplay at 0x2ae02c04b20>"
      ]
     },
     "execution_count": 17,
     "metadata": {},
     "output_type": "execute_result"
    },
    {
     "data": {
      "image/png": "[encoded data removed]",
      "text/plain": [
       "<Figure size 432x288 with 2 Axes>"
      ]
     },
     "metadata": {
      "needs_background": "light"
     },
     "output_type": "display_data"
    }
   ],
   "source": [
    "plot_confusion_matrix(model1, X_test, y_test)"
   ]
  },
  {
   "cell_type": "code",
   "execution_count": 18,
   "id": "2e47d338",
   "metadata": {},
   "outputs": [
    {
     "name": "stdout",
     "output_type": "stream",
     "text": [
      "              precision    recall  f1-score   support\n",
      "\n",
      "           0       0.94      0.93      0.94        87\n",
      "           1       0.67      0.71      0.69        17\n",
      "\n",
      "    accuracy                           0.89       104\n",
      "   macro avg       0.80      0.82      0.81       104\n",
      "weighted avg       0.90      0.89      0.90       104\n",
      "\n"
     ]
    }
   ],
   "source": [
    "print(classification_report(y_test, y_pred))"
   ]
  },
  {
   "cell_type": "code",
   "execution_count": 19,
   "id": "4a82f061",
   "metadata": {},
   "outputs": [
    {
     "name": "stdout",
     "output_type": "stream",
     "text": [
      "0.8942307692307693\n",
      "0.6666666666666666\n",
      "0.7058823529411765\n",
      "0.6857142857142857\n"
     ]
    }
   ],
   "source": [
    "print(accuracy_score(y_test, y_pred))\n",
    "print(precision_score(y_test, y_pred))\n",
    "print(recall_score(y_test, y_pred))\n",
    "print(f1_score(y_test, y_pred))"
   ]
  },
  {
   "cell_type": "code",
   "execution_count": 20,
   "id": "71f526f1",
   "metadata": {},
   "outputs": [],
   "source": [
    "lr_pred = y_pred"
   ]
  },
  {
   "cell_type": "markdown",
   "id": "e86b562e",
   "metadata": {},
   "source": [
    "### Random Forest"
   ]
  },
  {
   "cell_type": "code",
   "execution_count": 103,
   "id": "3857717c",
   "metadata": {},
   "outputs": [],
   "source": [
    "param_grid = {'bootstrap': [True, False],\n",
    " 'max_depth': [10, 20, 30, 40, 50, None],\n",
    " 'max_features': ['auto', 'sqrt'],\n",
    " 'min_samples_leaf': [1, 2, 4, 8, 16],\n",
    " 'min_samples_split': [2, 4, 6, 8, 10],\n",
    " 'n_estimators': [10, 20, 30, 40, 50, 60, 70, 80, 90, 100]}"
   ]
  },
  {
   "cell_type": "code",
   "execution_count": 104,
   "id": "8f89ae86",
   "metadata": {},
   "outputs": [
    {
     "name": "stdout",
     "output_type": "stream",
     "text": [
      "Fitting 3 folds for each of 100 candidates, totalling 300 fits\n",
      "[CV] END bootstrap=True, max_depth=40, max_features=sqrt, min_samples_leaf=1, min_samples_split=8, n_estimators=30; total time=   0.0s\n",
      "[CV] END bootstrap=True, max_depth=40, max_features=sqrt, min_samples_leaf=1, min_samples_split=8, n_estimators=30; total time=   0.0s\n",
      "[CV] END bootstrap=True, max_depth=40, max_features=sqrt, min_samples_leaf=1, min_samples_split=8, n_estimators=30; total time=   0.0s\n",
      "[CV] END bootstrap=False, max_depth=20, max_features=sqrt, min_samples_leaf=8, min_samples_split=4, n_estimators=80; total time=   0.1s\n",
      "[CV] END bootstrap=False, max_depth=20, max_features=sqrt, min_samples_leaf=8, min_samples_split=4, n_estimators=80; total time=   0.1s\n",
      "[CV] END bootstrap=False, max_depth=20, max_features=sqrt, min_samples_leaf=8, min_samples_split=4, n_estimators=80; total time=   0.1s\n",
      "[CV] END bootstrap=True, max_depth=10, max_features=auto, min_samples_leaf=16, min_samples_split=6, n_estimators=20; total time=   0.0s\n",
      "[CV] END bootstrap=True, max_depth=10, max_features=auto, min_samples_leaf=16, min_samples_split=6, n_estimators=20; total time=   0.0s\n",
      "[CV] END bootstrap=True, max_depth=10, max_features=auto, min_samples_leaf=16, min_samples_split=6, n_estimators=20; total time=   0.0s\n",
      "[CV] END bootstrap=True, max_depth=50, max_features=auto, min_samples_leaf=4, min_samples_split=8, n_estimators=60; total time=   0.1s\n",
      "[CV] END bootstrap=True, max_depth=50, max_features=auto, min_samples_leaf=4, min_samples_split=8, n_estimators=60; total time=   0.0s\n",
      "[CV] END bootstrap=True, max_depth=50, max_features=auto, min_samples_leaf=4, min_samples_split=8, n_estimators=60; total time=   0.0s\n",
      "[CV] END bootstrap=False, max_depth=50, max_features=auto, min_samples_leaf=16, min_samples_split=6, n_estimators=50; total time=   0.0s\n",
      "[CV] END bootstrap=False, max_depth=50, max_features=auto, min_samples_leaf=16, min_samples_split=6, n_estimators=50; total time=   0.0s\n",
      "[CV] END bootstrap=False, max_depth=50, max_features=auto, min_samples_leaf=16, min_samples_split=6, n_estimators=50; total time=   0.0s\n",
      "[CV] END bootstrap=True, max_depth=30, max_features=auto, min_samples_leaf=8, min_samples_split=4, n_estimators=90; total time=   0.1s\n",
      "[CV] END bootstrap=True, max_depth=30, max_features=auto, min_samples_leaf=8, min_samples_split=4, n_estimators=90; total time=   0.1s\n",
      "[CV] END bootstrap=True, max_depth=30, max_features=auto, min_samples_leaf=8, min_samples_split=4, n_estimators=90; total time=   0.1s\n",
      "[CV] END bootstrap=True, max_depth=20, max_features=sqrt, min_samples_leaf=4, min_samples_split=6, n_estimators=100; total time=   0.1s\n",
      "[CV] END bootstrap=True, max_depth=20, max_features=sqrt, min_samples_leaf=4, min_samples_split=6, n_estimators=100; total time=   0.1s\n",
      "[CV] END bootstrap=True, max_depth=20, max_features=sqrt, min_samples_leaf=4, min_samples_split=6, n_estimators=100; total time=   0.1s\n",
      "[CV] END bootstrap=True, max_depth=10, max_features=auto, min_samples_leaf=8, min_samples_split=2, n_estimators=70; total time=   0.0s\n",
      "[CV] END bootstrap=True, max_depth=10, max_features=auto, min_samples_leaf=8, min_samples_split=2, n_estimators=70; total time=   0.0s\n",
      "[CV] END bootstrap=True, max_depth=10, max_features=auto, min_samples_leaf=8, min_samples_split=2, n_estimators=70; total time=   0.0s\n",
      "[CV] END bootstrap=True, max_depth=40, max_features=auto, min_samples_leaf=8, min_samples_split=2, n_estimators=80; total time=   0.1s\n",
      "[CV] END bootstrap=True, max_depth=40, max_features=auto, min_samples_leaf=8, min_samples_split=2, n_estimators=80; total time=   0.0s\n",
      "[CV] END bootstrap=True, max_depth=40, max_features=auto, min_samples_leaf=8, min_samples_split=2, n_estimators=80; total time=   0.1s\n",
      "[CV] END bootstrap=True, max_depth=10, max_features=sqrt, min_samples_leaf=2, min_samples_split=6, n_estimators=40; total time=   0.0s\n",
      "[CV] END bootstrap=True, max_depth=10, max_features=sqrt, min_samples_leaf=2, min_samples_split=6, n_estimators=40; total time=   0.0s\n",
      "[CV] END bootstrap=True, max_depth=10, max_features=sqrt, min_samples_leaf=2, min_samples_split=6, n_estimators=40; total time=   0.0s\n",
      "[CV] END bootstrap=False, max_depth=50, max_features=sqrt, min_samples_leaf=2, min_samples_split=2, n_estimators=30; total time=   0.0s\n",
      "[CV] END bootstrap=False, max_depth=50, max_features=sqrt, min_samples_leaf=2, min_samples_split=2, n_estimators=30; total time=   0.0s\n",
      "[CV] END bootstrap=False, max_depth=50, max_features=sqrt, min_samples_leaf=2, min_samples_split=2, n_estimators=30; total time=   0.0s\n",
      "[CV] END bootstrap=True, max_depth=None, max_features=auto, min_samples_leaf=4, min_samples_split=4, n_estimators=20; total time=   0.0s\n",
      "[CV] END bootstrap=True, max_depth=None, max_features=auto, min_samples_leaf=4, min_samples_split=4, n_estimators=20; total time=   0.0s\n",
      "[CV] END bootstrap=True, max_depth=None, max_features=auto, min_samples_leaf=4, min_samples_split=4, n_estimators=20; total time=   0.0s\n",
      "[CV] END bootstrap=True, max_depth=20, max_features=sqrt, min_samples_leaf=2, min_samples_split=4, n_estimators=20; total time=   0.0s\n",
      "[CV] END bootstrap=True, max_depth=20, max_features=sqrt, min_samples_leaf=2, min_samples_split=4, n_estimators=20; total time=   0.0s\n",
      "[CV] END bootstrap=True, max_depth=20, max_features=sqrt, min_samples_leaf=2, min_samples_split=4, n_estimators=20; total time=   0.0s\n",
      "[CV] END bootstrap=True, max_depth=10, max_features=sqrt, min_samples_leaf=4, min_samples_split=10, n_estimators=40; total time=   0.0s\n",
      "[CV] END bootstrap=True, max_depth=10, max_features=sqrt, min_samples_leaf=4, min_samples_split=10, n_estimators=40; total time=   0.0s\n",
      "[CV] END bootstrap=True, max_depth=10, max_features=sqrt, min_samples_leaf=4, min_samples_split=10, n_estimators=40; total time=   0.0s\n",
      "[CV] END bootstrap=False, max_depth=20, max_features=auto, min_samples_leaf=2, min_samples_split=10, n_estimators=40; total time=   0.0s\n",
      "[CV] END bootstrap=False, max_depth=20, max_features=auto, min_samples_leaf=2, min_samples_split=10, n_estimators=40; total time=   0.0s\n",
      "[CV] END bootstrap=False, max_depth=20, max_features=auto, min_samples_leaf=2, min_samples_split=10, n_estimators=40; total time=   0.0s\n",
      "[CV] END bootstrap=True, max_depth=None, max_features=auto, min_samples_leaf=4, min_samples_split=8, n_estimators=90; total time=   0.1s\n",
      "[CV] END bootstrap=True, max_depth=None, max_features=auto, min_samples_leaf=4, min_samples_split=8, n_estimators=90; total time=   0.1s\n",
      "[CV] END bootstrap=True, max_depth=None, max_features=auto, min_samples_leaf=4, min_samples_split=8, n_estimators=90; total time=   0.1s\n",
      "[CV] END bootstrap=True, max_depth=50, max_features=auto, min_samples_leaf=8, min_samples_split=8, n_estimators=80; total time=   0.0s\n",
      "[CV] END bootstrap=True, max_depth=50, max_features=auto, min_samples_leaf=8, min_samples_split=8, n_estimators=80; total time=   0.0s\n",
      "[CV] END bootstrap=True, max_depth=50, max_features=auto, min_samples_leaf=8, min_samples_split=8, n_estimators=80; total time=   0.0s\n",
      "[CV] END bootstrap=False, max_depth=50, max_features=sqrt, min_samples_leaf=4, min_samples_split=2, n_estimators=20; total time=   0.0s\n",
      "[CV] END bootstrap=False, max_depth=50, max_features=sqrt, min_samples_leaf=4, min_samples_split=2, n_estimators=20; total time=   0.0s\n",
      "[CV] END bootstrap=False, max_depth=50, max_features=sqrt, min_samples_leaf=4, min_samples_split=2, n_estimators=20; total time=   0.0s\n",
      "[CV] END bootstrap=True, max_depth=10, max_features=sqrt, min_samples_leaf=2, min_samples_split=4, n_estimators=100; total time=   0.1s\n",
      "[CV] END bootstrap=True, max_depth=10, max_features=sqrt, min_samples_leaf=2, min_samples_split=4, n_estimators=100; total time=   0.1s\n",
      "[CV] END bootstrap=True, max_depth=10, max_features=sqrt, min_samples_leaf=2, min_samples_split=4, n_estimators=100; total time=   0.1s\n",
      "[CV] END bootstrap=True, max_depth=10, max_features=auto, min_samples_leaf=8, min_samples_split=4, n_estimators=80; total time=   0.0s\n",
      "[CV] END bootstrap=True, max_depth=10, max_features=auto, min_samples_leaf=8, min_samples_split=4, n_estimators=80; total time=   0.0s\n",
      "[CV] END bootstrap=True, max_depth=10, max_features=auto, min_samples_leaf=8, min_samples_split=4, n_estimators=80; total time=   0.0s\n"
     ]
    },
    {
     "name": "stdout",
     "output_type": "stream",
     "text": [
      "[CV] END bootstrap=True, max_depth=20, max_features=auto, min_samples_leaf=16, min_samples_split=10, n_estimators=70; total time=   0.0s\n",
      "[CV] END bootstrap=True, max_depth=20, max_features=auto, min_samples_leaf=16, min_samples_split=10, n_estimators=70; total time=   0.0s\n",
      "[CV] END bootstrap=True, max_depth=20, max_features=auto, min_samples_leaf=16, min_samples_split=10, n_estimators=70; total time=   0.0s\n",
      "[CV] END bootstrap=False, max_depth=50, max_features=sqrt, min_samples_leaf=16, min_samples_split=6, n_estimators=10; total time=   0.0s\n",
      "[CV] END bootstrap=False, max_depth=50, max_features=sqrt, min_samples_leaf=16, min_samples_split=6, n_estimators=10; total time=   0.0s\n",
      "[CV] END bootstrap=False, max_depth=50, max_features=sqrt, min_samples_leaf=16, min_samples_split=6, n_estimators=10; total time=   0.0s\n",
      "[CV] END bootstrap=False, max_depth=20, max_features=auto, min_samples_leaf=16, min_samples_split=2, n_estimators=80; total time=   0.0s\n",
      "[CV] END bootstrap=False, max_depth=20, max_features=auto, min_samples_leaf=16, min_samples_split=2, n_estimators=80; total time=   0.0s\n",
      "[CV] END bootstrap=False, max_depth=20, max_features=auto, min_samples_leaf=16, min_samples_split=2, n_estimators=80; total time=   0.0s\n",
      "[CV] END bootstrap=True, max_depth=None, max_features=sqrt, min_samples_leaf=1, min_samples_split=4, n_estimators=50; total time=   0.0s\n",
      "[CV] END bootstrap=True, max_depth=None, max_features=sqrt, min_samples_leaf=1, min_samples_split=4, n_estimators=50; total time=   0.1s\n",
      "[CV] END bootstrap=True, max_depth=None, max_features=sqrt, min_samples_leaf=1, min_samples_split=4, n_estimators=50; total time=   0.1s\n",
      "[CV] END bootstrap=False, max_depth=50, max_features=auto, min_samples_leaf=4, min_samples_split=4, n_estimators=30; total time=   0.0s\n",
      "[CV] END bootstrap=False, max_depth=50, max_features=auto, min_samples_leaf=4, min_samples_split=4, n_estimators=30; total time=   0.0s\n",
      "[CV] END bootstrap=False, max_depth=50, max_features=auto, min_samples_leaf=4, min_samples_split=4, n_estimators=30; total time=   0.0s\n",
      "[CV] END bootstrap=False, max_depth=30, max_features=auto, min_samples_leaf=1, min_samples_split=2, n_estimators=70; total time=   0.1s\n",
      "[CV] END bootstrap=False, max_depth=30, max_features=auto, min_samples_leaf=1, min_samples_split=2, n_estimators=70; total time=   0.1s\n",
      "[CV] END bootstrap=False, max_depth=30, max_features=auto, min_samples_leaf=1, min_samples_split=2, n_estimators=70; total time=   0.1s\n",
      "[CV] END bootstrap=True, max_depth=40, max_features=sqrt, min_samples_leaf=4, min_samples_split=6, n_estimators=20; total time=   0.0s\n",
      "[CV] END bootstrap=True, max_depth=40, max_features=sqrt, min_samples_leaf=4, min_samples_split=6, n_estimators=20; total time=   0.0s\n",
      "[CV] END bootstrap=True, max_depth=40, max_features=sqrt, min_samples_leaf=4, min_samples_split=6, n_estimators=20; total time=   0.0s\n",
      "[CV] END bootstrap=False, max_depth=None, max_features=sqrt, min_samples_leaf=1, min_samples_split=2, n_estimators=70; total time=   0.2s\n",
      "[CV] END bootstrap=False, max_depth=None, max_features=sqrt, min_samples_leaf=1, min_samples_split=2, n_estimators=70; total time=   0.1s\n",
      "[CV] END bootstrap=False, max_depth=None, max_features=sqrt, min_samples_leaf=1, min_samples_split=2, n_estimators=70; total time=   0.1s\n",
      "[CV] END bootstrap=False, max_depth=10, max_features=auto, min_samples_leaf=8, min_samples_split=10, n_estimators=40; total time=   0.0s\n",
      "[CV] END bootstrap=False, max_depth=10, max_features=auto, min_samples_leaf=8, min_samples_split=10, n_estimators=40; total time=   0.0s\n",
      "[CV] END bootstrap=False, max_depth=10, max_features=auto, min_samples_leaf=8, min_samples_split=10, n_estimators=40; total time=   0.0s\n",
      "[CV] END bootstrap=False, max_depth=20, max_features=sqrt, min_samples_leaf=1, min_samples_split=2, n_estimators=50; total time=   0.0s\n",
      "[CV] END bootstrap=False, max_depth=20, max_features=sqrt, min_samples_leaf=1, min_samples_split=2, n_estimators=50; total time=   0.0s\n",
      "[CV] END bootstrap=False, max_depth=20, max_features=sqrt, min_samples_leaf=1, min_samples_split=2, n_estimators=50; total time=   0.0s\n",
      "[CV] END bootstrap=False, max_depth=None, max_features=auto, min_samples_leaf=4, min_samples_split=6, n_estimators=60; total time=   0.0s\n",
      "[CV] END bootstrap=False, max_depth=None, max_features=auto, min_samples_leaf=4, min_samples_split=6, n_estimators=60; total time=   0.1s\n",
      "[CV] END bootstrap=False, max_depth=None, max_features=auto, min_samples_leaf=4, min_samples_split=6, n_estimators=60; total time=   0.1s\n",
      "[CV] END bootstrap=False, max_depth=40, max_features=sqrt, min_samples_leaf=4, min_samples_split=10, n_estimators=50; total time=   0.0s\n",
      "[CV] END bootstrap=False, max_depth=40, max_features=sqrt, min_samples_leaf=4, min_samples_split=10, n_estimators=50; total time=   0.0s\n",
      "[CV] END bootstrap=False, max_depth=40, max_features=sqrt, min_samples_leaf=4, min_samples_split=10, n_estimators=50; total time=   0.0s\n",
      "[CV] END bootstrap=False, max_depth=30, max_features=auto, min_samples_leaf=4, min_samples_split=2, n_estimators=30; total time=   0.0s\n",
      "[CV] END bootstrap=False, max_depth=30, max_features=auto, min_samples_leaf=4, min_samples_split=2, n_estimators=30; total time=   0.0s\n",
      "[CV] END bootstrap=False, max_depth=30, max_features=auto, min_samples_leaf=4, min_samples_split=2, n_estimators=30; total time=   0.0s\n",
      "[CV] END bootstrap=True, max_depth=30, max_features=sqrt, min_samples_leaf=1, min_samples_split=4, n_estimators=20; total time=   0.0s\n",
      "[CV] END bootstrap=True, max_depth=30, max_features=sqrt, min_samples_leaf=1, min_samples_split=4, n_estimators=20; total time=   0.0s\n",
      "[CV] END bootstrap=True, max_depth=30, max_features=sqrt, min_samples_leaf=1, min_samples_split=4, n_estimators=20; total time=   0.0s\n",
      "[CV] END bootstrap=True, max_depth=50, max_features=sqrt, min_samples_leaf=2, min_samples_split=8, n_estimators=90; total time=   0.1s\n",
      "[CV] END bootstrap=True, max_depth=50, max_features=sqrt, min_samples_leaf=2, min_samples_split=8, n_estimators=90; total time=   0.1s\n",
      "[CV] END bootstrap=True, max_depth=50, max_features=sqrt, min_samples_leaf=2, min_samples_split=8, n_estimators=90; total time=   0.1s\n",
      "[CV] END bootstrap=True, max_depth=10, max_features=auto, min_samples_leaf=2, min_samples_split=8, n_estimators=50; total time=   0.0s\n",
      "[CV] END bootstrap=True, max_depth=10, max_features=auto, min_samples_leaf=2, min_samples_split=8, n_estimators=50; total time=   0.0s\n",
      "[CV] END bootstrap=True, max_depth=10, max_features=auto, min_samples_leaf=2, min_samples_split=8, n_estimators=50; total time=   0.0s\n",
      "[CV] END bootstrap=False, max_depth=20, max_features=sqrt, min_samples_leaf=2, min_samples_split=6, n_estimators=20; total time=   0.0s\n",
      "[CV] END bootstrap=False, max_depth=20, max_features=sqrt, min_samples_leaf=2, min_samples_split=6, n_estimators=20; total time=   0.0s\n",
      "[CV] END bootstrap=False, max_depth=20, max_features=sqrt, min_samples_leaf=2, min_samples_split=6, n_estimators=20; total time=   0.0s\n",
      "[CV] END bootstrap=True, max_depth=None, max_features=auto, min_samples_leaf=8, min_samples_split=2, n_estimators=40; total time=   0.0s\n",
      "[CV] END bootstrap=True, max_depth=None, max_features=auto, min_samples_leaf=8, min_samples_split=2, n_estimators=40; total time=   0.0s\n",
      "[CV] END bootstrap=True, max_depth=None, max_features=auto, min_samples_leaf=8, min_samples_split=2, n_estimators=40; total time=   0.0s\n",
      "[CV] END bootstrap=False, max_depth=None, max_features=auto, min_samples_leaf=1, min_samples_split=10, n_estimators=60; total time=   0.1s\n",
      "[CV] END bootstrap=False, max_depth=None, max_features=auto, min_samples_leaf=1, min_samples_split=10, n_estimators=60; total time=   0.1s\n",
      "[CV] END bootstrap=False, max_depth=None, max_features=auto, min_samples_leaf=1, min_samples_split=10, n_estimators=60; total time=   0.1s\n",
      "[CV] END bootstrap=True, max_depth=None, max_features=auto, min_samples_leaf=16, min_samples_split=10, n_estimators=70; total time=   0.0s\n",
      "[CV] END bootstrap=True, max_depth=None, max_features=auto, min_samples_leaf=16, min_samples_split=10, n_estimators=70; total time=   0.0s\n",
      "[CV] END bootstrap=True, max_depth=None, max_features=auto, min_samples_leaf=16, min_samples_split=10, n_estimators=70; total time=   0.0s\n"
     ]
    },
    {
     "name": "stdout",
     "output_type": "stream",
     "text": [
      "[CV] END bootstrap=True, max_depth=None, max_features=sqrt, min_samples_leaf=4, min_samples_split=2, n_estimators=90; total time=   0.1s\n",
      "[CV] END bootstrap=True, max_depth=None, max_features=sqrt, min_samples_leaf=4, min_samples_split=2, n_estimators=90; total time=   0.1s\n",
      "[CV] END bootstrap=True, max_depth=None, max_features=sqrt, min_samples_leaf=4, min_samples_split=2, n_estimators=90; total time=   0.1s\n",
      "[CV] END bootstrap=True, max_depth=20, max_features=sqrt, min_samples_leaf=16, min_samples_split=10, n_estimators=70; total time=   0.0s\n",
      "[CV] END bootstrap=True, max_depth=20, max_features=sqrt, min_samples_leaf=16, min_samples_split=10, n_estimators=70; total time=   0.0s\n",
      "[CV] END bootstrap=True, max_depth=20, max_features=sqrt, min_samples_leaf=16, min_samples_split=10, n_estimators=70; total time=   0.0s\n",
      "[CV] END bootstrap=True, max_depth=10, max_features=auto, min_samples_leaf=16, min_samples_split=6, n_estimators=90; total time=   0.0s\n",
      "[CV] END bootstrap=True, max_depth=10, max_features=auto, min_samples_leaf=16, min_samples_split=6, n_estimators=90; total time=   0.1s\n",
      "[CV] END bootstrap=True, max_depth=10, max_features=auto, min_samples_leaf=16, min_samples_split=6, n_estimators=90; total time=   0.0s\n",
      "[CV] END bootstrap=False, max_depth=10, max_features=sqrt, min_samples_leaf=1, min_samples_split=4, n_estimators=50; total time=   0.0s\n",
      "[CV] END bootstrap=False, max_depth=10, max_features=sqrt, min_samples_leaf=1, min_samples_split=4, n_estimators=50; total time=   0.0s\n",
      "[CV] END bootstrap=False, max_depth=10, max_features=sqrt, min_samples_leaf=1, min_samples_split=4, n_estimators=50; total time=   0.1s\n",
      "[CV] END bootstrap=False, max_depth=40, max_features=sqrt, min_samples_leaf=2, min_samples_split=6, n_estimators=90; total time=   0.2s\n",
      "[CV] END bootstrap=False, max_depth=40, max_features=sqrt, min_samples_leaf=2, min_samples_split=6, n_estimators=90; total time=   0.1s\n",
      "[CV] END bootstrap=False, max_depth=40, max_features=sqrt, min_samples_leaf=2, min_samples_split=6, n_estimators=90; total time=   0.2s\n",
      "[CV] END bootstrap=False, max_depth=20, max_features=sqrt, min_samples_leaf=8, min_samples_split=10, n_estimators=30; total time=   0.0s\n",
      "[CV] END bootstrap=False, max_depth=20, max_features=sqrt, min_samples_leaf=8, min_samples_split=10, n_estimators=30; total time=   0.0s\n",
      "[CV] END bootstrap=False, max_depth=20, max_features=sqrt, min_samples_leaf=8, min_samples_split=10, n_estimators=30; total time=   0.0s\n",
      "[CV] END bootstrap=False, max_depth=50, max_features=sqrt, min_samples_leaf=16, min_samples_split=2, n_estimators=100; total time=   0.2s\n",
      "[CV] END bootstrap=False, max_depth=50, max_features=sqrt, min_samples_leaf=16, min_samples_split=2, n_estimators=100; total time=   0.3s\n",
      "[CV] END bootstrap=False, max_depth=50, max_features=sqrt, min_samples_leaf=16, min_samples_split=2, n_estimators=100; total time=   0.2s\n",
      "[CV] END bootstrap=False, max_depth=20, max_features=sqrt, min_samples_leaf=2, min_samples_split=8, n_estimators=30; total time=   0.0s\n",
      "[CV] END bootstrap=False, max_depth=20, max_features=sqrt, min_samples_leaf=2, min_samples_split=8, n_estimators=30; total time=   0.1s\n",
      "[CV] END bootstrap=False, max_depth=20, max_features=sqrt, min_samples_leaf=2, min_samples_split=8, n_estimators=30; total time=   0.0s\n",
      "[CV] END bootstrap=True, max_depth=40, max_features=auto, min_samples_leaf=8, min_samples_split=2, n_estimators=30; total time=   0.0s\n",
      "[CV] END bootstrap=True, max_depth=40, max_features=auto, min_samples_leaf=8, min_samples_split=2, n_estimators=30; total time=   0.0s\n",
      "[CV] END bootstrap=True, max_depth=40, max_features=auto, min_samples_leaf=8, min_samples_split=2, n_estimators=30; total time=   0.0s\n",
      "[CV] END bootstrap=True, max_depth=10, max_features=auto, min_samples_leaf=2, min_samples_split=6, n_estimators=100; total time=   0.1s\n",
      "[CV] END bootstrap=True, max_depth=10, max_features=auto, min_samples_leaf=2, min_samples_split=6, n_estimators=100; total time=   0.1s\n",
      "[CV] END bootstrap=True, max_depth=10, max_features=auto, min_samples_leaf=2, min_samples_split=6, n_estimators=100; total time=   0.1s\n",
      "[CV] END bootstrap=True, max_depth=20, max_features=sqrt, min_samples_leaf=16, min_samples_split=4, n_estimators=50; total time=   0.0s\n",
      "[CV] END bootstrap=True, max_depth=20, max_features=sqrt, min_samples_leaf=16, min_samples_split=4, n_estimators=50; total time=   0.0s\n",
      "[CV] END bootstrap=True, max_depth=20, max_features=sqrt, min_samples_leaf=16, min_samples_split=4, n_estimators=50; total time=   0.0s\n",
      "[CV] END bootstrap=True, max_depth=20, max_features=sqrt, min_samples_leaf=8, min_samples_split=6, n_estimators=70; total time=   0.0s\n",
      "[CV] END bootstrap=True, max_depth=20, max_features=sqrt, min_samples_leaf=8, min_samples_split=6, n_estimators=70; total time=   0.0s\n",
      "[CV] END bootstrap=True, max_depth=20, max_features=sqrt, min_samples_leaf=8, min_samples_split=6, n_estimators=70; total time=   0.0s\n",
      "[CV] END bootstrap=True, max_depth=20, max_features=sqrt, min_samples_leaf=1, min_samples_split=10, n_estimators=50; total time=   0.0s\n",
      "[CV] END bootstrap=True, max_depth=20, max_features=sqrt, min_samples_leaf=1, min_samples_split=10, n_estimators=50; total time=   0.0s\n",
      "[CV] END bootstrap=True, max_depth=20, max_features=sqrt, min_samples_leaf=1, min_samples_split=10, n_estimators=50; total time=   0.0s\n",
      "[CV] END bootstrap=False, max_depth=10, max_features=sqrt, min_samples_leaf=4, min_samples_split=6, n_estimators=100; total time=   0.1s\n",
      "[CV] END bootstrap=False, max_depth=10, max_features=sqrt, min_samples_leaf=4, min_samples_split=6, n_estimators=100; total time=   0.1s\n",
      "[CV] END bootstrap=False, max_depth=10, max_features=sqrt, min_samples_leaf=4, min_samples_split=6, n_estimators=100; total time=   0.1s\n",
      "[CV] END bootstrap=False, max_depth=10, max_features=auto, min_samples_leaf=8, min_samples_split=4, n_estimators=50; total time=   0.0s\n",
      "[CV] END bootstrap=False, max_depth=10, max_features=auto, min_samples_leaf=8, min_samples_split=4, n_estimators=50; total time=   0.0s\n",
      "[CV] END bootstrap=False, max_depth=10, max_features=auto, min_samples_leaf=8, min_samples_split=4, n_estimators=50; total time=   0.1s\n",
      "[CV] END bootstrap=False, max_depth=40, max_features=auto, min_samples_leaf=8, min_samples_split=2, n_estimators=80; total time=   0.1s\n",
      "[CV] END bootstrap=False, max_depth=40, max_features=auto, min_samples_leaf=8, min_samples_split=2, n_estimators=80; total time=   0.1s\n",
      "[CV] END bootstrap=False, max_depth=40, max_features=auto, min_samples_leaf=8, min_samples_split=2, n_estimators=80; total time=   0.1s\n",
      "[CV] END bootstrap=False, max_depth=10, max_features=sqrt, min_samples_leaf=2, min_samples_split=4, n_estimators=20; total time=   0.0s\n",
      "[CV] END bootstrap=False, max_depth=10, max_features=sqrt, min_samples_leaf=2, min_samples_split=4, n_estimators=20; total time=   0.0s\n",
      "[CV] END bootstrap=False, max_depth=10, max_features=sqrt, min_samples_leaf=2, min_samples_split=4, n_estimators=20; total time=   0.0s\n",
      "[CV] END bootstrap=False, max_depth=20, max_features=sqrt, min_samples_leaf=8, min_samples_split=8, n_estimators=50; total time=   0.0s\n",
      "[CV] END bootstrap=False, max_depth=20, max_features=sqrt, min_samples_leaf=8, min_samples_split=8, n_estimators=50; total time=   0.0s\n",
      "[CV] END bootstrap=False, max_depth=20, max_features=sqrt, min_samples_leaf=8, min_samples_split=8, n_estimators=50; total time=   0.0s\n",
      "[CV] END bootstrap=True, max_depth=30, max_features=auto, min_samples_leaf=2, min_samples_split=6, n_estimators=50; total time=   0.0s\n",
      "[CV] END bootstrap=True, max_depth=30, max_features=auto, min_samples_leaf=2, min_samples_split=6, n_estimators=50; total time=   0.0s\n",
      "[CV] END bootstrap=True, max_depth=30, max_features=auto, min_samples_leaf=2, min_samples_split=6, n_estimators=50; total time=   0.0s\n",
      "[CV] END bootstrap=False, max_depth=40, max_features=sqrt, min_samples_leaf=2, min_samples_split=10, n_estimators=10; total time=   0.0s\n",
      "[CV] END bootstrap=False, max_depth=40, max_features=sqrt, min_samples_leaf=2, min_samples_split=10, n_estimators=10; total time=   0.0s\n",
      "[CV] END bootstrap=False, max_depth=40, max_features=sqrt, min_samples_leaf=2, min_samples_split=10, n_estimators=10; total time=   0.0s\n",
      "[CV] END bootstrap=False, max_depth=30, max_features=auto, min_samples_leaf=8, min_samples_split=8, n_estimators=40; total time=   0.0s\n"
     ]
    },
    {
     "name": "stdout",
     "output_type": "stream",
     "text": [
      "[CV] END bootstrap=False, max_depth=30, max_features=auto, min_samples_leaf=8, min_samples_split=8, n_estimators=40; total time=   0.0s\n",
      "[CV] END bootstrap=False, max_depth=30, max_features=auto, min_samples_leaf=8, min_samples_split=8, n_estimators=40; total time=   0.0s\n",
      "[CV] END bootstrap=True, max_depth=50, max_features=auto, min_samples_leaf=1, min_samples_split=6, n_estimators=50; total time=   0.1s\n",
      "[CV] END bootstrap=True, max_depth=50, max_features=auto, min_samples_leaf=1, min_samples_split=6, n_estimators=50; total time=   0.1s\n",
      "[CV] END bootstrap=True, max_depth=50, max_features=auto, min_samples_leaf=1, min_samples_split=6, n_estimators=50; total time=   0.0s\n",
      "[CV] END bootstrap=False, max_depth=None, max_features=auto, min_samples_leaf=8, min_samples_split=6, n_estimators=80; total time=   0.1s\n",
      "[CV] END bootstrap=False, max_depth=None, max_features=auto, min_samples_leaf=8, min_samples_split=6, n_estimators=80; total time=   0.1s\n",
      "[CV] END bootstrap=False, max_depth=None, max_features=auto, min_samples_leaf=8, min_samples_split=6, n_estimators=80; total time=   0.1s\n",
      "[CV] END bootstrap=False, max_depth=40, max_features=auto, min_samples_leaf=4, min_samples_split=8, n_estimators=50; total time=   0.0s\n",
      "[CV] END bootstrap=False, max_depth=40, max_features=auto, min_samples_leaf=4, min_samples_split=8, n_estimators=50; total time=   0.1s\n",
      "[CV] END bootstrap=False, max_depth=40, max_features=auto, min_samples_leaf=4, min_samples_split=8, n_estimators=50; total time=   0.1s\n",
      "[CV] END bootstrap=True, max_depth=40, max_features=auto, min_samples_leaf=16, min_samples_split=10, n_estimators=60; total time=   0.0s\n",
      "[CV] END bootstrap=True, max_depth=40, max_features=auto, min_samples_leaf=16, min_samples_split=10, n_estimators=60; total time=   0.0s\n",
      "[CV] END bootstrap=True, max_depth=40, max_features=auto, min_samples_leaf=16, min_samples_split=10, n_estimators=60; total time=   0.0s\n",
      "[CV] END bootstrap=False, max_depth=10, max_features=auto, min_samples_leaf=4, min_samples_split=10, n_estimators=40; total time=   0.0s\n",
      "[CV] END bootstrap=False, max_depth=10, max_features=auto, min_samples_leaf=4, min_samples_split=10, n_estimators=40; total time=   0.0s\n",
      "[CV] END bootstrap=False, max_depth=10, max_features=auto, min_samples_leaf=4, min_samples_split=10, n_estimators=40; total time=   0.0s\n",
      "[CV] END bootstrap=False, max_depth=10, max_features=sqrt, min_samples_leaf=1, min_samples_split=4, n_estimators=40; total time=   0.0s\n",
      "[CV] END bootstrap=False, max_depth=10, max_features=sqrt, min_samples_leaf=1, min_samples_split=4, n_estimators=40; total time=   0.0s\n",
      "[CV] END bootstrap=False, max_depth=10, max_features=sqrt, min_samples_leaf=1, min_samples_split=4, n_estimators=40; total time=   0.0s\n",
      "[CV] END bootstrap=False, max_depth=10, max_features=auto, min_samples_leaf=4, min_samples_split=6, n_estimators=20; total time=   0.0s\n",
      "[CV] END bootstrap=False, max_depth=10, max_features=auto, min_samples_leaf=4, min_samples_split=6, n_estimators=20; total time=   0.0s\n",
      "[CV] END bootstrap=False, max_depth=10, max_features=auto, min_samples_leaf=4, min_samples_split=6, n_estimators=20; total time=   0.0s\n",
      "[CV] END bootstrap=True, max_depth=30, max_features=sqrt, min_samples_leaf=16, min_samples_split=2, n_estimators=20; total time=   0.0s\n",
      "[CV] END bootstrap=True, max_depth=30, max_features=sqrt, min_samples_leaf=16, min_samples_split=2, n_estimators=20; total time=   0.0s\n",
      "[CV] END bootstrap=True, max_depth=30, max_features=sqrt, min_samples_leaf=16, min_samples_split=2, n_estimators=20; total time=   0.0s\n",
      "[CV] END bootstrap=True, max_depth=10, max_features=sqrt, min_samples_leaf=8, min_samples_split=8, n_estimators=100; total time=   0.1s\n",
      "[CV] END bootstrap=True, max_depth=10, max_features=sqrt, min_samples_leaf=8, min_samples_split=8, n_estimators=100; total time=   0.1s\n",
      "[CV] END bootstrap=True, max_depth=10, max_features=sqrt, min_samples_leaf=8, min_samples_split=8, n_estimators=100; total time=   0.1s\n",
      "[CV] END bootstrap=False, max_depth=10, max_features=sqrt, min_samples_leaf=2, min_samples_split=4, n_estimators=70; total time=   0.1s\n",
      "[CV] END bootstrap=False, max_depth=10, max_features=sqrt, min_samples_leaf=2, min_samples_split=4, n_estimators=70; total time=   0.1s\n",
      "[CV] END bootstrap=False, max_depth=10, max_features=sqrt, min_samples_leaf=2, min_samples_split=4, n_estimators=70; total time=   0.1s\n",
      "[CV] END bootstrap=False, max_depth=40, max_features=auto, min_samples_leaf=1, min_samples_split=10, n_estimators=40; total time=   0.0s\n",
      "[CV] END bootstrap=False, max_depth=40, max_features=auto, min_samples_leaf=1, min_samples_split=10, n_estimators=40; total time=   0.0s\n",
      "[CV] END bootstrap=False, max_depth=40, max_features=auto, min_samples_leaf=1, min_samples_split=10, n_estimators=40; total time=   0.0s\n",
      "[CV] END bootstrap=True, max_depth=None, max_features=sqrt, min_samples_leaf=16, min_samples_split=8, n_estimators=20; total time=   0.0s\n",
      "[CV] END bootstrap=True, max_depth=None, max_features=sqrt, min_samples_leaf=16, min_samples_split=8, n_estimators=20; total time=   0.0s\n",
      "[CV] END bootstrap=True, max_depth=None, max_features=sqrt, min_samples_leaf=16, min_samples_split=8, n_estimators=20; total time=   0.0s\n",
      "[CV] END bootstrap=True, max_depth=50, max_features=auto, min_samples_leaf=2, min_samples_split=8, n_estimators=10; total time=   0.0s\n",
      "[CV] END bootstrap=True, max_depth=50, max_features=auto, min_samples_leaf=2, min_samples_split=8, n_estimators=10; total time=   0.0s\n",
      "[CV] END bootstrap=True, max_depth=50, max_features=auto, min_samples_leaf=2, min_samples_split=8, n_estimators=10; total time=   0.0s\n",
      "[CV] END bootstrap=False, max_depth=30, max_features=auto, min_samples_leaf=1, min_samples_split=6, n_estimators=10; total time=   0.0s\n",
      "[CV] END bootstrap=False, max_depth=30, max_features=auto, min_samples_leaf=1, min_samples_split=6, n_estimators=10; total time=   0.0s\n",
      "[CV] END bootstrap=False, max_depth=30, max_features=auto, min_samples_leaf=1, min_samples_split=6, n_estimators=10; total time=   0.1s\n",
      "[CV] END bootstrap=True, max_depth=30, max_features=sqrt, min_samples_leaf=16, min_samples_split=2, n_estimators=50; total time=   0.0s\n",
      "[CV] END bootstrap=True, max_depth=30, max_features=sqrt, min_samples_leaf=16, min_samples_split=2, n_estimators=50; total time=   0.0s\n",
      "[CV] END bootstrap=True, max_depth=30, max_features=sqrt, min_samples_leaf=16, min_samples_split=2, n_estimators=50; total time=   0.0s\n",
      "[CV] END bootstrap=True, max_depth=10, max_features=sqrt, min_samples_leaf=1, min_samples_split=2, n_estimators=50; total time=   0.0s\n",
      "[CV] END bootstrap=True, max_depth=10, max_features=sqrt, min_samples_leaf=1, min_samples_split=2, n_estimators=50; total time=   0.0s\n",
      "[CV] END bootstrap=True, max_depth=10, max_features=sqrt, min_samples_leaf=1, min_samples_split=2, n_estimators=50; total time=   0.0s\n",
      "[CV] END bootstrap=True, max_depth=10, max_features=sqrt, min_samples_leaf=16, min_samples_split=4, n_estimators=60; total time=   0.0s\n",
      "[CV] END bootstrap=True, max_depth=10, max_features=sqrt, min_samples_leaf=16, min_samples_split=4, n_estimators=60; total time=   0.0s\n",
      "[CV] END bootstrap=True, max_depth=10, max_features=sqrt, min_samples_leaf=16, min_samples_split=4, n_estimators=60; total time=   0.0s\n",
      "[CV] END bootstrap=True, max_depth=50, max_features=auto, min_samples_leaf=4, min_samples_split=4, n_estimators=80; total time=   0.1s\n",
      "[CV] END bootstrap=True, max_depth=50, max_features=auto, min_samples_leaf=4, min_samples_split=4, n_estimators=80; total time=   0.1s\n",
      "[CV] END bootstrap=True, max_depth=50, max_features=auto, min_samples_leaf=4, min_samples_split=4, n_estimators=80; total time=   0.1s\n",
      "[CV] END bootstrap=True, max_depth=20, max_features=auto, min_samples_leaf=1, min_samples_split=2, n_estimators=70; total time=   0.1s\n",
      "[CV] END bootstrap=True, max_depth=20, max_features=auto, min_samples_leaf=1, min_samples_split=2, n_estimators=70; total time=   0.1s\n",
      "[CV] END bootstrap=True, max_depth=20, max_features=auto, min_samples_leaf=1, min_samples_split=2, n_estimators=70; total time=   0.1s\n",
      "[CV] END bootstrap=False, max_depth=30, max_features=sqrt, min_samples_leaf=1, min_samples_split=6, n_estimators=20; total time=   0.0s\n",
      "[CV] END bootstrap=False, max_depth=30, max_features=sqrt, min_samples_leaf=1, min_samples_split=6, n_estimators=20; total time=   0.0s\n",
      "[CV] END bootstrap=False, max_depth=30, max_features=sqrt, min_samples_leaf=1, min_samples_split=6, n_estimators=20; total time=   0.0s\n"
     ]
    },
    {
     "name": "stdout",
     "output_type": "stream",
     "text": [
      "[CV] END bootstrap=False, max_depth=30, max_features=sqrt, min_samples_leaf=1, min_samples_split=8, n_estimators=90; total time=   0.1s\n",
      "[CV] END bootstrap=False, max_depth=30, max_features=sqrt, min_samples_leaf=1, min_samples_split=8, n_estimators=90; total time=   0.1s\n",
      "[CV] END bootstrap=False, max_depth=30, max_features=sqrt, min_samples_leaf=1, min_samples_split=8, n_estimators=90; total time=   0.1s\n",
      "[CV] END bootstrap=False, max_depth=30, max_features=auto, min_samples_leaf=16, min_samples_split=4, n_estimators=40; total time=   0.0s\n",
      "[CV] END bootstrap=False, max_depth=30, max_features=auto, min_samples_leaf=16, min_samples_split=4, n_estimators=40; total time=   0.0s\n",
      "[CV] END bootstrap=False, max_depth=30, max_features=auto, min_samples_leaf=16, min_samples_split=4, n_estimators=40; total time=   0.0s\n",
      "[CV] END bootstrap=True, max_depth=10, max_features=auto, min_samples_leaf=16, min_samples_split=8, n_estimators=40; total time=   0.0s\n",
      "[CV] END bootstrap=True, max_depth=10, max_features=auto, min_samples_leaf=16, min_samples_split=8, n_estimators=40; total time=   0.0s\n",
      "[CV] END bootstrap=True, max_depth=10, max_features=auto, min_samples_leaf=16, min_samples_split=8, n_estimators=40; total time=   0.0s\n",
      "[CV] END bootstrap=True, max_depth=20, max_features=auto, min_samples_leaf=2, min_samples_split=2, n_estimators=40; total time=   0.0s\n",
      "[CV] END bootstrap=True, max_depth=20, max_features=auto, min_samples_leaf=2, min_samples_split=2, n_estimators=40; total time=   0.0s\n",
      "[CV] END bootstrap=True, max_depth=20, max_features=auto, min_samples_leaf=2, min_samples_split=2, n_estimators=40; total time=   0.0s\n",
      "[CV] END bootstrap=False, max_depth=50, max_features=sqrt, min_samples_leaf=2, min_samples_split=4, n_estimators=50; total time=   0.0s\n",
      "[CV] END bootstrap=False, max_depth=50, max_features=sqrt, min_samples_leaf=2, min_samples_split=4, n_estimators=50; total time=   0.0s\n",
      "[CV] END bootstrap=False, max_depth=50, max_features=sqrt, min_samples_leaf=2, min_samples_split=4, n_estimators=50; total time=   0.0s\n",
      "[CV] END bootstrap=True, max_depth=20, max_features=auto, min_samples_leaf=1, min_samples_split=10, n_estimators=50; total time=   0.0s\n",
      "[CV] END bootstrap=True, max_depth=20, max_features=auto, min_samples_leaf=1, min_samples_split=10, n_estimators=50; total time=   0.0s\n",
      "[CV] END bootstrap=True, max_depth=20, max_features=auto, min_samples_leaf=1, min_samples_split=10, n_estimators=50; total time=   0.0s\n",
      "[CV] END bootstrap=False, max_depth=20, max_features=auto, min_samples_leaf=16, min_samples_split=2, n_estimators=10; total time=   0.0s\n",
      "[CV] END bootstrap=False, max_depth=20, max_features=auto, min_samples_leaf=16, min_samples_split=2, n_estimators=10; total time=   0.0s\n",
      "[CV] END bootstrap=False, max_depth=20, max_features=auto, min_samples_leaf=16, min_samples_split=2, n_estimators=10; total time=   0.0s\n",
      "[CV] END bootstrap=False, max_depth=20, max_features=auto, min_samples_leaf=1, min_samples_split=10, n_estimators=10; total time=   0.0s\n",
      "[CV] END bootstrap=False, max_depth=20, max_features=auto, min_samples_leaf=1, min_samples_split=10, n_estimators=10; total time=   0.0s\n",
      "[CV] END bootstrap=False, max_depth=20, max_features=auto, min_samples_leaf=1, min_samples_split=10, n_estimators=10; total time=   0.0s\n",
      "[CV] END bootstrap=True, max_depth=None, max_features=sqrt, min_samples_leaf=1, min_samples_split=8, n_estimators=90; total time=   0.1s\n",
      "[CV] END bootstrap=True, max_depth=None, max_features=sqrt, min_samples_leaf=1, min_samples_split=8, n_estimators=90; total time=   0.1s\n",
      "[CV] END bootstrap=True, max_depth=None, max_features=sqrt, min_samples_leaf=1, min_samples_split=8, n_estimators=90; total time=   0.1s\n",
      "[CV] END bootstrap=True, max_depth=None, max_features=sqrt, min_samples_leaf=4, min_samples_split=4, n_estimators=50; total time=   0.0s\n",
      "[CV] END bootstrap=True, max_depth=None, max_features=sqrt, min_samples_leaf=4, min_samples_split=4, n_estimators=50; total time=   0.0s\n",
      "[CV] END bootstrap=True, max_depth=None, max_features=sqrt, min_samples_leaf=4, min_samples_split=4, n_estimators=50; total time=   0.0s\n",
      "[CV] END bootstrap=True, max_depth=50, max_features=auto, min_samples_leaf=2, min_samples_split=8, n_estimators=40; total time=   0.0s\n",
      "[CV] END bootstrap=True, max_depth=50, max_features=auto, min_samples_leaf=2, min_samples_split=8, n_estimators=40; total time=   0.0s\n",
      "[CV] END bootstrap=True, max_depth=50, max_features=auto, min_samples_leaf=2, min_samples_split=8, n_estimators=40; total time=   0.0s\n",
      "[CV] END bootstrap=False, max_depth=None, max_features=auto, min_samples_leaf=1, min_samples_split=10, n_estimators=30; total time=   0.0s\n",
      "[CV] END bootstrap=False, max_depth=None, max_features=auto, min_samples_leaf=1, min_samples_split=10, n_estimators=30; total time=   0.0s\n",
      "[CV] END bootstrap=False, max_depth=None, max_features=auto, min_samples_leaf=1, min_samples_split=10, n_estimators=30; total time=   0.0s\n",
      "[CV] END bootstrap=True, max_depth=10, max_features=sqrt, min_samples_leaf=2, min_samples_split=2, n_estimators=90; total time=   0.1s\n",
      "[CV] END bootstrap=True, max_depth=10, max_features=sqrt, min_samples_leaf=2, min_samples_split=2, n_estimators=90; total time=   0.1s\n",
      "[CV] END bootstrap=True, max_depth=10, max_features=sqrt, min_samples_leaf=2, min_samples_split=2, n_estimators=90; total time=   0.1s\n",
      "[CV] END bootstrap=True, max_depth=20, max_features=auto, min_samples_leaf=16, min_samples_split=4, n_estimators=10; total time=   0.0s\n",
      "[CV] END bootstrap=True, max_depth=20, max_features=auto, min_samples_leaf=16, min_samples_split=4, n_estimators=10; total time=   0.0s\n",
      "[CV] END bootstrap=True, max_depth=20, max_features=auto, min_samples_leaf=16, min_samples_split=4, n_estimators=10; total time=   0.0s\n",
      "[CV] END bootstrap=False, max_depth=30, max_features=auto, min_samples_leaf=4, min_samples_split=2, n_estimators=40; total time=   0.0s\n",
      "[CV] END bootstrap=False, max_depth=30, max_features=auto, min_samples_leaf=4, min_samples_split=2, n_estimators=40; total time=   0.0s\n",
      "[CV] END bootstrap=False, max_depth=30, max_features=auto, min_samples_leaf=4, min_samples_split=2, n_estimators=40; total time=   0.0s\n",
      "[CV] END bootstrap=True, max_depth=40, max_features=auto, min_samples_leaf=2, min_samples_split=8, n_estimators=10; total time=   0.0s\n",
      "[CV] END bootstrap=True, max_depth=40, max_features=auto, min_samples_leaf=2, min_samples_split=8, n_estimators=10; total time=   0.0s\n",
      "[CV] END bootstrap=True, max_depth=40, max_features=auto, min_samples_leaf=2, min_samples_split=8, n_estimators=10; total time=   0.0s\n",
      "[CV] END bootstrap=True, max_depth=30, max_features=sqrt, min_samples_leaf=2, min_samples_split=4, n_estimators=10; total time=   0.0s\n",
      "[CV] END bootstrap=True, max_depth=30, max_features=sqrt, min_samples_leaf=2, min_samples_split=4, n_estimators=10; total time=   0.0s\n",
      "[CV] END bootstrap=True, max_depth=30, max_features=sqrt, min_samples_leaf=2, min_samples_split=4, n_estimators=10; total time=   0.0s\n",
      "[CV] END bootstrap=True, max_depth=20, max_features=auto, min_samples_leaf=4, min_samples_split=6, n_estimators=60; total time=   0.0s\n",
      "[CV] END bootstrap=True, max_depth=20, max_features=auto, min_samples_leaf=4, min_samples_split=6, n_estimators=60; total time=   0.1s\n",
      "[CV] END bootstrap=True, max_depth=20, max_features=auto, min_samples_leaf=4, min_samples_split=6, n_estimators=60; total time=   0.1s\n",
      "[CV] END bootstrap=True, max_depth=10, max_features=auto, min_samples_leaf=1, min_samples_split=6, n_estimators=40; total time=   0.0s\n",
      "[CV] END bootstrap=True, max_depth=10, max_features=auto, min_samples_leaf=1, min_samples_split=6, n_estimators=40; total time=   0.0s\n",
      "[CV] END bootstrap=True, max_depth=10, max_features=auto, min_samples_leaf=1, min_samples_split=6, n_estimators=40; total time=   0.0s\n"
     ]
    },
    {
     "data": {
      "text/plain": [
       "RandomizedSearchCV(cv=3, estimator=RandomForestClassifier(), n_iter=100,\n",
       "                   param_distributions={'bootstrap': [True, False],\n",
       "                                        'max_depth': [10, 20, 30, 40, 50, None],\n",
       "                                        'max_features': ['auto', 'sqrt'],\n",
       "                                        'min_samples_leaf': [1, 2, 4, 8, 16],\n",
       "                                        'min_samples_split': [2, 4, 6, 8, 10],\n",
       "                                        'n_estimators': [10, 20, 30, 40, 50, 60,\n",
       "                                                         70, 80, 90, 100]},\n",
       "                   random_state=42, verbose=2)"
      ]
     },
     "execution_count": 104,
     "metadata": {},
     "output_type": "execute_result"
    }
   ],
   "source": [
    "model2 = RandomForestClassifier()\n",
    "random_search = RandomizedSearchCV(estimator = model2, param_distributions = param_grid,  \n",
    "                                   n_iter = 100, cv = 3, verbose=2, random_state=42)\n",
    "random_search.fit(X_res, y_res)"
   ]
  },
  {
   "cell_type": "code",
   "execution_count": 105,
   "id": "d5108737",
   "metadata": {},
   "outputs": [
    {
     "data": {
      "text/plain": [
       "{'n_estimators': 70,\n",
       " 'min_samples_split': 2,\n",
       " 'min_samples_leaf': 1,\n",
       " 'max_features': 'auto',\n",
       " 'max_depth': 30,\n",
       " 'bootstrap': False}"
      ]
     },
     "execution_count": 105,
     "metadata": {},
     "output_type": "execute_result"
    }
   ],
   "source": [
    "random_search.best_params_"
   ]
  },
  {
   "cell_type": "code",
   "execution_count": 106,
   "id": "2d7d518d",
   "metadata": {},
   "outputs": [],
   "source": [
    "model2 = RandomForestClassifier(n_estimators=70, min_samples_split=2, min_samples_leaf=1, bootstrap=False, random_state=42)"
   ]
  },
  {
   "cell_type": "code",
   "execution_count": 107,
   "id": "da04453d",
   "metadata": {},
   "outputs": [],
   "source": [
    "model2.fit(X_res, y_res)\n",
    "y_pred = model2.predict(X_test)"
   ]
  },
  {
   "cell_type": "code",
   "execution_count": 108,
   "id": "f57177e9",
   "metadata": {},
   "outputs": [
    {
     "name": "stderr",
     "output_type": "stream",
     "text": [
      "C:\\Anaconda3\\lib\\site-packages\\sklearn\\utils\\deprecation.py:87: FutureWarning: Function plot_confusion_matrix is deprecated; Function `plot_confusion_matrix` is deprecated in 1.0 and will be removed in 1.2. Use one of the class methods: ConfusionMatrixDisplay.from_predictions or ConfusionMatrixDisplay.from_estimator.\n",
      "  warnings.warn(msg, category=FutureWarning)\n"
     ]
    },
    {
     "data": {
      "text/plain": [
       "<sklearn.metrics._plot.confusion_matrix.ConfusionMatrixDisplay at 0x2c6b3038f70>"
      ]
     },
     "execution_count": 108,
     "metadata": {},
     "output_type": "execute_result"
    },
    {
     "data": {
      "image/png": "[encoded data removed]",
      "text/plain": [
       "<Figure size 432x288 with 2 Axes>"
      ]
     },
     "metadata": {
      "needs_background": "light"
     },
     "output_type": "display_data"
    }
   ],
   "source": [
    "plot_confusion_matrix(model2, X_test, y_test)"
   ]
  },
  {
   "cell_type": "code",
   "execution_count": 109,
   "id": "268cfd61",
   "metadata": {},
   "outputs": [
    {
     "name": "stdout",
     "output_type": "stream",
     "text": [
      "              precision    recall  f1-score   support\n",
      "\n",
      "           0       0.87      0.98      0.92        87\n",
      "           1       0.67      0.24      0.35        17\n",
      "\n",
      "    accuracy                           0.86       104\n",
      "   macro avg       0.77      0.61      0.63       104\n",
      "weighted avg       0.83      0.86      0.83       104\n",
      "\n"
     ]
    }
   ],
   "source": [
    "print(classification_report(y_test, y_pred))"
   ]
  },
  {
   "cell_type": "code",
   "execution_count": 110,
   "id": "b21fad34",
   "metadata": {},
   "outputs": [],
   "source": [
    "rf_pred = y_pred"
   ]
  },
  {
   "cell_type": "markdown",
   "id": "6f91333c",
   "metadata": {},
   "source": [
    "### LSTM"
   ]
  },
  {
   "cell_type": "code",
   "execution_count": 95,
   "id": "70bc2d17",
   "metadata": {},
   "outputs": [],
   "source": [
    "X_train, X_test, y_train, y_test = train_test_split(X, y, test_size=0.2, random_state=42)"
   ]
  },
  {
   "cell_type": "code",
   "execution_count": 96,
   "id": "08c8478c",
   "metadata": {},
   "outputs": [],
   "source": [
    "max_words = 1000\n",
    "max_len = 100\n",
    "tok = Tokenizer(num_words=max_words)\n",
    "tok.fit_on_texts(X_train)\n",
    "seq = tok.texts_to_sequences(X_train)\n",
    "seq_matrix = pad_sequences(seq, maxlen=max_len)"
   ]
  },
  {
   "cell_type": "code",
   "execution_count": 106,
   "id": "a326168e",
   "metadata": {},
   "outputs": [],
   "source": [
    "model3 = Sequential()\n",
    "model3.add(Embedding(1000, 64, input_length=100))\n",
    "model3.add(LSTM(64, activation='relu'))\n",
    "model3.add(Dense(256, activation='relu'))\n",
    "model3.add(Dropout(0.2))\n",
    "model3.add(Dense(128, activation='relu'))\n",
    "model3.add(Dropout(0.2))\n",
    "model3.add(Dense(64, activation='relu'))\n",
    "model3.add(Dropout(0.2))\n",
    "model3.add(Dense(632, activation='relu'))\n",
    "model3.add(Dropout(0.2))\n",
    "model3.add(Dense(1, activation='sigmoid'))\n",
    "model3.compile(loss=keras.losses.BinaryCrossentropy(from_logits=False), optimizer='adam', metrics=['accuracy'])"
   ]
  },
  {
   "cell_type": "code",
   "execution_count": 107,
   "id": "5877e74b",
   "metadata": {},
   "outputs": [
    {
     "name": "stdout",
     "output_type": "stream",
     "text": [
      "Model: \"sequential_1\"\n",
      "_________________________________________________________________\n",
      " Layer (type)                Output Shape              Param #   \n",
      "=================================================================\n",
      " embedding_1 (Embedding)     (None, 100, 64)           64000     \n",
      "                                                                 \n",
      " lstm_1 (LSTM)               (None, 64)                33024     \n",
      "                                                                 \n",
      " dense_4 (Dense)             (None, 256)               16640     \n",
      "                                                                 \n",
      " dropout_3 (Dropout)         (None, 256)               0         \n",
      "                                                                 \n",
      " dense_5 (Dense)             (None, 128)               32896     \n",
      "                                                                 \n",
      " dropout_4 (Dropout)         (None, 128)               0         \n",
      "                                                                 \n",
      " dense_6 (Dense)             (None, 64)                8256      \n",
      "                                                                 \n",
      " dropout_5 (Dropout)         (None, 64)                0         \n",
      "                                                                 \n",
      " dense_7 (Dense)             (None, 632)               41080     \n",
      "                                                                 \n",
      " dropout_6 (Dropout)         (None, 632)               0         \n",
      "                                                                 \n",
      " dense_8 (Dense)             (None, 1)                 633       \n",
      "                                                                 \n",
      "=================================================================\n",
      "Total params: 196,529\n",
      "Trainable params: 196,529\n",
      "Non-trainable params: 0\n",
      "_________________________________________________________________\n"
     ]
    }
   ],
   "source": [
    "model3.summary()"
   ]
  },
  {
   "cell_type": "code",
   "execution_count": 108,
   "id": "949571e0",
   "metadata": {},
   "outputs": [
    {
     "name": "stdout",
     "output_type": "stream",
     "text": [
      "Epoch 1/25\n",
      "13/13 [==============================] - 3s 59ms/step - loss: 0.6064 - accuracy: 0.8217\n",
      "Epoch 2/25\n",
      "13/13 [==============================] - 1s 83ms/step - loss: 0.4130 - accuracy: 0.8530\n",
      "Epoch 3/25\n",
      "13/13 [==============================] - 1s 91ms/step - loss: 0.3658 - accuracy: 0.8530\n",
      "Epoch 4/25\n",
      "13/13 [==============================] - 1s 91ms/step - loss: 0.2788 - accuracy: 0.8530\n",
      "Epoch 5/25\n",
      "13/13 [==============================] - 1s 92ms/step - loss: 127783788544.0000 - accuracy: 0.8530\n",
      "Epoch 6/25\n",
      "13/13 [==============================] - 1s 91ms/step - loss: 0.2351 - accuracy: 0.8530\n",
      "Epoch 7/25\n",
      "13/13 [==============================] - 1s 91ms/step - loss: 0.1725 - accuracy: 0.8530\n",
      "Epoch 8/25\n",
      "13/13 [==============================] - 1s 86ms/step - loss: 0.1400 - accuracy: 0.8723\n",
      "Epoch 9/25\n",
      "13/13 [==============================] - 1s 90ms/step - loss: 0.1302 - accuracy: 0.9542\n",
      "Epoch 10/25\n",
      "13/13 [==============================] - 1s 88ms/step - loss: 0.1169 - accuracy: 0.9759\n",
      "Epoch 11/25\n",
      "13/13 [==============================] - 1s 87ms/step - loss: 0.1074 - accuracy: 0.9711\n",
      "Epoch 12/25\n",
      "13/13 [==============================] - 1s 87ms/step - loss: 0.0812 - accuracy: 0.9783\n",
      "Epoch 13/25\n",
      "13/13 [==============================] - 1s 89ms/step - loss: 0.0680 - accuracy: 0.9807\n",
      "Epoch 14/25\n",
      "13/13 [==============================] - 1s 90ms/step - loss: 0.0566 - accuracy: 0.9831\n",
      "Epoch 15/25\n",
      "13/13 [==============================] - 1s 83ms/step - loss: 0.0557 - accuracy: 0.9831\n",
      "Epoch 16/25\n",
      "13/13 [==============================] - 1s 88ms/step - loss: 0.0505 - accuracy: 0.9855\n",
      "Epoch 17/25\n",
      "13/13 [==============================] - 1s 100ms/step - loss: 0.0525 - accuracy: 0.9807\n",
      "Epoch 18/25\n",
      "13/13 [==============================] - 1s 87ms/step - loss: 0.0415 - accuracy: 0.9880\n",
      "Epoch 19/25\n",
      "13/13 [==============================] - 1s 88ms/step - loss: 0.0454 - accuracy: 0.9880\n",
      "Epoch 20/25\n",
      "13/13 [==============================] - 1s 85ms/step - loss: 0.0381 - accuracy: 0.9904\n",
      "Epoch 21/25\n",
      "13/13 [==============================] - 1s 89ms/step - loss: 0.0388 - accuracy: 0.9855\n",
      "Epoch 22/25\n",
      "13/13 [==============================] - 1s 86ms/step - loss: 0.0418 - accuracy: 0.9855\n",
      "Epoch 23/25\n",
      "13/13 [==============================] - 1s 88ms/step - loss: 0.0417 - accuracy: 0.9831\n",
      "Epoch 24/25\n",
      "13/13 [==============================] - 1s 87ms/step - loss: 0.0306 - accuracy: 0.9904\n",
      "Epoch 25/25\n",
      "13/13 [==============================] - 1s 87ms/step - loss: 0.0173 - accuracy: 0.9952\n"
     ]
    },
    {
     "data": {
      "text/plain": [
       "<keras.callbacks.History at 0x2643bba52b0>"
      ]
     },
     "execution_count": 108,
     "metadata": {},
     "output_type": "execute_result"
    }
   ],
   "source": [
    "model3.fit(seq_matrix, y_train, batch_size=32, epochs=25)"
   ]
  },
  {
   "cell_type": "code",
   "execution_count": 109,
   "id": "f4d5d65d",
   "metadata": {},
   "outputs": [],
   "source": [
    "test_seq = tok.texts_to_sequences(X_test)\n",
    "test_seq_matrix = pad_sequences(test_seq,maxlen=max_len)"
   ]
  },
  {
   "cell_type": "code",
   "execution_count": 110,
   "id": "104e91d2",
   "metadata": {},
   "outputs": [
    {
     "name": "stdout",
     "output_type": "stream",
     "text": [
      "4/4 [==============================] - 1s 27ms/step - loss: 1.3542 - accuracy: 0.8750\n",
      "Test loss: 1.3541897535324097\n",
      "Test accuracy: 0.875\n"
     ]
    }
   ],
   "source": [
    "score = model3.evaluate(test_seq_matrix, y_test)\n",
    "print(\"Test loss:\", score[0])\n",
    "print(\"Test accuracy:\", score[1])"
   ]
  },
  {
   "cell_type": "code",
   "execution_count": 111,
   "id": "5c982b40",
   "metadata": {},
   "outputs": [
    {
     "name": "stdout",
     "output_type": "stream",
     "text": [
      "4/4 [==============================] - 1s 22ms/step\n"
     ]
    }
   ],
   "source": [
    "pred = model3.predict(test_seq_matrix)\n",
    "y_pred = np.where(pred < 0.5, 0, 1)"
   ]
  },
  {
   "cell_type": "code",
   "execution_count": 112,
   "id": "26b6e373",
   "metadata": {},
   "outputs": [
    {
     "data": {
      "text/plain": [
       "array([[83,  4],\n",
       "       [ 9,  8]], dtype=int64)"
      ]
     },
     "execution_count": 112,
     "metadata": {},
     "output_type": "execute_result"
    }
   ],
   "source": [
    "confusion_matrix(y_test, y_pred)"
   ]
  },
  {
   "cell_type": "code",
   "execution_count": 113,
   "id": "0d6480cf",
   "metadata": {},
   "outputs": [
    {
     "name": "stdout",
     "output_type": "stream",
     "text": [
      "              precision    recall  f1-score   support\n",
      "\n",
      "           0       0.90      0.95      0.93        87\n",
      "           1       0.67      0.47      0.55        17\n",
      "\n",
      "    accuracy                           0.88       104\n",
      "   macro avg       0.78      0.71      0.74       104\n",
      "weighted avg       0.86      0.88      0.87       104\n",
      "\n"
     ]
    }
   ],
   "source": [
    "print(classification_report(y_test, y_pred))"
   ]
  },
  {
   "cell_type": "code",
   "execution_count": 114,
   "id": "ada64f42",
   "metadata": {},
   "outputs": [],
   "source": [
    "lstm_pred = y_pred"
   ]
  },
  {
   "cell_type": "markdown",
   "id": "4d2bbcab",
   "metadata": {},
   "source": [
    "### BERTQA"
   ]
  },
  {
   "cell_type": "code",
   "execution_count": 259,
   "id": "c4a95dbf",
   "metadata": {},
   "outputs": [],
   "source": [
    "import torch\n",
    "from transformers import AutoModelForQuestionAnswering, AutoTokenizer, pipeline"
   ]
  },
  {
   "cell_type": "code",
   "execution_count": 260,
   "id": "c93f5bef",
   "metadata": {},
   "outputs": [],
   "source": [
    "model_name = \"deepset/roberta-base-squad2\"\n",
    "nlp = pipeline('question-answering', model=model_name, tokenizer=model_name)"
   ]
  },
  {
   "cell_type": "code",
   "execution_count": 261,
   "id": "c6445d57",
   "metadata": {},
   "outputs": [],
   "source": [
    "ones = df_ext[df_ext['GT'] == 1]"
   ]
  },
  {
   "cell_type": "code",
   "execution_count": 262,
   "id": "6ae533b0",
   "metadata": {},
   "outputs": [
    {
     "data": {
      "text/html": [
       "<div>\n",
       "<style scoped>\n",
       "    .dataframe tbody tr th:only-of-type {\n",
       "        vertical-align: middle;\n",
       "    }\n",
       "\n",
       "    .dataframe tbody tr th {\n",
       "        vertical-align: top;\n",
       "    }\n",
       "\n",
       "    .dataframe thead th {\n",
       "        text-align: right;\n",
       "    }\n",
       "</style>\n",
       "<table border=\"1\" class=\"dataframe\">\n",
       "  <thead>\n",
       "    <tr style=\"text-align: right;\">\n",
       "      <th></th>\n",
       "      <th>words</th>\n",
       "      <th>GT</th>\n",
       "    </tr>\n",
       "  </thead>\n",
       "  <tbody>\n",
       "    <tr>\n",
       "      <th>4</th>\n",
       "      <td>The certified locations are audited by external certification organisations.</td>\n",
       "      <td>1</td>\n",
       "    </tr>\n",
       "    <tr>\n",
       "      <th>5</th>\n",
       "      <td>GRI 102-56 see Assurance Report With the exception of the auditors of the legislation-rele-vant information who were selected by the Supervisory Board of BMW AG the Corporate Reporting, Corporate Communications and Policy as well as Corporate Planning and Product Strategy departments selected the external auditors for the Sustainable Value Report.</td>\n",
       "      <td>1</td>\n",
       "    </tr>\n",
       "    <tr>\n",
       "      <th>7</th>\n",
       "      <td>We conducted our assurance engagement in accordance with the Interna-tional Standard on Assurance Engagements (ISAE) 3000 (Revised): Assur-ance Engagements other than Audits or Reviews of Historical Financial Infor-mation, issued by the IAASB.</td>\n",
       "      <td>1</td>\n",
       "    </tr>\n",
       "    <tr>\n",
       "      <th>15</th>\n",
       "      <td>Tian LLP has provided limited assurance on selected key data in this Report.</td>\n",
       "      <td>1</td>\n",
       "    </tr>\n",
       "    <tr>\n",
       "      <th>18</th>\n",
       "      <td>And the result will be audited by a third party, which is a key reference to grant the title.</td>\n",
       "      <td>1</td>\n",
       "    </tr>\n",
       "    <tr>\n",
       "      <th>...</th>\n",
       "      <td>...</td>\n",
       "      <td>...</td>\n",
       "    </tr>\n",
       "    <tr>\n",
       "      <th>471</th>\n",
       "      <td>In addition, Deloitte assures key sustainability indicators and targets included in both our Annual Report and Sustainability Report, to the International Standard on Assurance Engagement 3000 (ISAE 3000).</td>\n",
       "      <td>1</td>\n",
       "    </tr>\n",
       "    <tr>\n",
       "      <th>472</th>\n",
       "      <td>Here we provide Deloitte LLPs limited assurance statement for our 2021 sustainability data.</td>\n",
       "      <td>1</td>\n",
       "    </tr>\n",
       "    <tr>\n",
       "      <th>473</th>\n",
       "      <td>The scope of our independent assurance and the data assured in 2021 is also shared in our Sustainability Basis of Reporting 2021.</td>\n",
       "      <td>1</td>\n",
       "    </tr>\n",
       "    <tr>\n",
       "      <th>511</th>\n",
       "      <td>Key performance data has been independently assured by Deloitte.</td>\n",
       "      <td>1</td>\n",
       "    </tr>\n",
       "    <tr>\n",
       "      <th>514</th>\n",
       "      <td>The Sustainable Development Office team Certain data points are the subject of limited assurance by Deloitte.</td>\n",
       "      <td>1</td>\n",
       "    </tr>\n",
       "  </tbody>\n",
       "</table>\n",
       "<p>78 rows × 2 columns</p>\n",
       "</div>"
      ],
      "text/plain": [
       "                                                                                                                                                                                                                                                                                                                                                             words  GT\n",
       "4                                                                                                                                                                                                                                                                                     The certified locations are audited by external certification organisations.   1\n",
       "5    GRI 102-56 see Assurance Report With the exception of the auditors of the legislation-rele-vant information who were selected by the Supervisory Board of BMW AG the Corporate Reporting, Corporate Communications and Policy as well as Corporate Planning and Product Strategy departments selected the external auditors for the Sustainable Value Report.   1\n",
       "7                                                                                                              We conducted our assurance engagement in accordance with the Interna-tional Standard on Assurance Engagements (ISAE) 3000 (Revised): Assur-ance Engagements other than Audits or Reviews of Historical Financial Infor-mation, issued by the IAASB.   1\n",
       "15                                                                                                                                                                                                                                                                                    Tian LLP has provided limited assurance on selected key data in this Report.   1\n",
       "18                                                                                                                                                                                                                                                                   And the result will be audited by a third party, which is a key reference to grant the title.   1\n",
       "..                                                                                                                                                                                                                                                                                                                                                             ...  ..\n",
       "471                                                                                                                                                  In addition, Deloitte assures key sustainability indicators and targets included in both our Annual Report and Sustainability Report, to the International Standard on Assurance Engagement 3000 (ISAE 3000).   1\n",
       "472                                                                                                                                                                                                                                                                    Here we provide Deloitte LLPs limited assurance statement for our 2021 sustainability data.   1\n",
       "473                                                                                                                                                                                                                              The scope of our independent assurance and the data assured in 2021 is also shared in our Sustainability Basis of Reporting 2021.   1\n",
       "511                                                                                                                                                                                                                                                                                               Key performance data has been independently assured by Deloitte.   1\n",
       "514                                                                                                                                                                                                                                                  The Sustainable Development Office team Certain data points are the subject of limited assurance by Deloitte.   1\n",
       "\n",
       "[78 rows x 2 columns]"
      ]
     },
     "execution_count": 262,
     "metadata": {},
     "output_type": "execute_result"
    }
   ],
   "source": [
    "ones"
   ]
  },
  {
   "cell_type": "code",
   "execution_count": 263,
   "id": "47d4c2ce",
   "metadata": {},
   "outputs": [
    {
     "data": {
      "text/plain": [
       "'The certified locations are audited by external certification organisations.'"
      ]
     },
     "execution_count": 263,
     "metadata": {},
     "output_type": "execute_result"
    }
   ],
   "source": [
    "ones['words'][4]"
   ]
  },
  {
   "cell_type": "code",
   "execution_count": 264,
   "id": "02c0e96a",
   "metadata": {},
   "outputs": [],
   "source": [
    "QA = {\n",
    "    'question': 'who audited the targets?',\n",
    "    'context': 'The certified locations are audited by external certification organisations.'\n",
    "}"
   ]
  },
  {
   "cell_type": "code",
   "execution_count": 265,
   "id": "13e9f4f6",
   "metadata": {},
   "outputs": [],
   "source": [
    "res = []\n",
    "q1 = 'Who audited the targets?'\n",
    "q2 = 'Who assured the targets?'\n",
    "q3 = 'Who verified the targets?'\n",
    "for i in ones['words']:\n",
    "    QA_1 = {\n",
    "        'question': q1,\n",
    "        'context': i\n",
    "    }\n",
    "    QA_2 = {\n",
    "        'question': q2,\n",
    "        'context': i\n",
    "    }\n",
    "    QA_3 = {\n",
    "        'question': q3,\n",
    "        'context': i\n",
    "    }\n",
    "    \n",
    "    ans1 = nlp(QA_1)['answer']\n",
    "    score1 = nlp(QA_1)['score']\n",
    "    ans2 = nlp(QA_2)['answer']\n",
    "    score2 = nlp(QA_2)['score']\n",
    "    ans3 = nlp(QA_3)['answer']\n",
    "    score3 = nlp(QA_3)['score']\n",
    "    \n",
    "    maxi = max([score1, score2, score3])\n",
    "    if maxi == score1:\n",
    "        res.append(ans1)\n",
    "    elif maxi == score2:\n",
    "        res.append(ans2)\n",
    "    else:\n",
    "        res.append(ans3)\n",
    "    "
   ]
  },
  {
   "cell_type": "code",
   "execution_count": 266,
   "id": "e0cf8d31",
   "metadata": {},
   "outputs": [
    {
     "name": "stderr",
     "output_type": "stream",
     "text": [
      "C:\\Users\\Chen Wei\\AppData\\Local\\Temp\\ipykernel_1580\\612445749.py:1: SettingWithCopyWarning: \n",
      "A value is trying to be set on a copy of a slice from a DataFrame.\n",
      "Try using .loc[row_indexer,col_indexer] = value instead\n",
      "\n",
      "See the caveats in the documentation: https://pandas.pydata.org/pandas-docs/stable/user_guide/indexing.html#returning-a-view-versus-a-copy\n",
      "  ones['answer'] = np.array(res)\n"
     ]
    }
   ],
   "source": [
    "ones['answer'] = np.array(res)"
   ]
  },
  {
   "cell_type": "code",
   "execution_count": 267,
   "id": "efb32749",
   "metadata": {},
   "outputs": [
    {
     "data": {
      "text/html": [
       "<div>\n",
       "<style scoped>\n",
       "    .dataframe tbody tr th:only-of-type {\n",
       "        vertical-align: middle;\n",
       "    }\n",
       "\n",
       "    .dataframe tbody tr th {\n",
       "        vertical-align: top;\n",
       "    }\n",
       "\n",
       "    .dataframe thead th {\n",
       "        text-align: right;\n",
       "    }\n",
       "</style>\n",
       "<table border=\"1\" class=\"dataframe\">\n",
       "  <thead>\n",
       "    <tr style=\"text-align: right;\">\n",
       "      <th></th>\n",
       "      <th>words</th>\n",
       "      <th>GT</th>\n",
       "      <th>answer</th>\n",
       "    </tr>\n",
       "  </thead>\n",
       "  <tbody>\n",
       "    <tr>\n",
       "      <th>4</th>\n",
       "      <td>The certified locations are audited by external certification organisations.</td>\n",
       "      <td>1</td>\n",
       "      <td>external certification organisations</td>\n",
       "    </tr>\n",
       "    <tr>\n",
       "      <th>5</th>\n",
       "      <td>GRI 102-56 see Assurance Report With the exception of the auditors of the legislation-rele-vant information who were selected by the Supervisory Board of BMW AG the Corporate Reporting, Corporate Communications and Policy as well as Corporate Planning and Product Strategy departments selected the external auditors for the Sustainable Value Report.</td>\n",
       "      <td>1</td>\n",
       "      <td>external auditors</td>\n",
       "    </tr>\n",
       "    <tr>\n",
       "      <th>7</th>\n",
       "      <td>We conducted our assurance engagement in accordance with the Interna-tional Standard on Assurance Engagements (ISAE) 3000 (Revised): Assur-ance Engagements other than Audits or Reviews of Historical Financial Infor-mation, issued by the IAASB.</td>\n",
       "      <td>1</td>\n",
       "      <td>IAASB</td>\n",
       "    </tr>\n",
       "    <tr>\n",
       "      <th>15</th>\n",
       "      <td>Tian LLP has provided limited assurance on selected key data in this Report.</td>\n",
       "      <td>1</td>\n",
       "      <td>Tian LLP</td>\n",
       "    </tr>\n",
       "    <tr>\n",
       "      <th>18</th>\n",
       "      <td>And the result will be audited by a third party, which is a key reference to grant the title.</td>\n",
       "      <td>1</td>\n",
       "      <td>a third party</td>\n",
       "    </tr>\n",
       "    <tr>\n",
       "      <th>25</th>\n",
       "      <td>All (100 percent) of Fords 2019 global facility GHG emissions will be third-party verified to a limited level of assurance in conformance with ISO -1:2018.</td>\n",
       "      <td>1</td>\n",
       "      <td>third-party</td>\n",
       "    </tr>\n",
       "    <tr>\n",
       "      <th>28</th>\n",
       "      <td>As completed for 2018, 100 percent of Fords 2019 GHG emissions from our operations will be third-party verified to a limited level of assurance in accordance with ISO -3.</td>\n",
       "      <td>1</td>\n",
       "      <td>third-party</td>\n",
       "    </tr>\n",
       "    <tr>\n",
       "      <th>30</th>\n",
       "      <td>To demonstrate our commitment to responsibly sourced copper, we have partnered with the Copper Mark, a new, comprehensive social and environmental assurance program.</td>\n",
       "      <td>1</td>\n",
       "      <td>Copper Mark</td>\n",
       "    </tr>\n",
       "    <tr>\n",
       "      <th>31</th>\n",
       "      <td>For 2019, Stantec conducted limited independent assurance of operational management topics such as: waste, water, carbon and energy data for global facilities.</td>\n",
       "      <td>1</td>\n",
       "      <td>Stantec</td>\n",
       "    </tr>\n",
       "    <tr>\n",
       "      <th>32</th>\n",
       "      <td>See Stantecs full statement of assurance on page 171.</td>\n",
       "      <td>1</td>\n",
       "      <td>Stantecs</td>\n",
       "    </tr>\n",
       "  </tbody>\n",
       "</table>\n",
       "</div>"
      ],
      "text/plain": [
       "                                                                                                                                                                                                                                                                                                                                                            words  GT                                answer\n",
       "4                                                                                                                                                                                                                                                                                    The certified locations are audited by external certification organisations.   1  external certification organisations\n",
       "5   GRI 102-56 see Assurance Report With the exception of the auditors of the legislation-rele-vant information who were selected by the Supervisory Board of BMW AG the Corporate Reporting, Corporate Communications and Policy as well as Corporate Planning and Product Strategy departments selected the external auditors for the Sustainable Value Report.   1                     external auditors\n",
       "7                                                                                                             We conducted our assurance engagement in accordance with the Interna-tional Standard on Assurance Engagements (ISAE) 3000 (Revised): Assur-ance Engagements other than Audits or Reviews of Historical Financial Infor-mation, issued by the IAASB.   1                                 IAASB\n",
       "15                                                                                                                                                                                                                                                                                   Tian LLP has provided limited assurance on selected key data in this Report.   1                              Tian LLP\n",
       "18                                                                                                                                                                                                                                                                  And the result will be audited by a third party, which is a key reference to grant the title.   1                         a third party\n",
       "25                                                                                                                                                                                                    All (100 percent) of Fords 2019 global facility GHG emissions will be third-party verified to a limited level of assurance in conformance with ISO -1:2018.   1                           third-party\n",
       "28                                                                                                                                                                                     As completed for 2018, 100 percent of Fords 2019 GHG emissions from our operations will be third-party verified to a limited level of assurance in accordance with ISO -3.   1                           third-party\n",
       "30                                                                                                                                                                                          To demonstrate our commitment to responsibly sourced copper, we have partnered with the Copper Mark, a new, comprehensive social and environmental assurance program.   1                           Copper Mark\n",
       "31                                                                                                                                                                                                For 2019, Stantec conducted limited independent assurance of operational management topics such as: waste, water, carbon and energy data for global facilities.   1                               Stantec\n",
       "32                                                                                                                                                                                                                                                                                                          See Stantecs full statement of assurance on page 171.   1                              Stantecs"
      ]
     },
     "execution_count": 267,
     "metadata": {},
     "output_type": "execute_result"
    }
   ],
   "source": [
    "ones.head(10)"
   ]
  },
  {
   "cell_type": "code",
   "execution_count": 117,
   "id": "865221cb",
   "metadata": {},
   "outputs": [
    {
     "data": {
      "text/plain": [
       "['external certification organisations',\n",
       " 'external auditors',\n",
       " 'IAASB',\n",
       " 'Tian LLP',\n",
       " 'a third party',\n",
       " 'third-party',\n",
       " 'third-party',\n",
       " 'Copper Mark',\n",
       " 'Stantec',\n",
       " 'Stantecs',\n",
       " 'Stantec',\n",
       " 'Stantec',\n",
       " 'Stantec',\n",
       " 'Stantecs',\n",
       " 'Stantec',\n",
       " 'independent practitioners',\n",
       " 'independent practitioners',\n",
       " 'independent practitioners',\n",
       " 'independent practitioners',\n",
       " 'the management of HMC',\n",
       " 'the client',\n",
       " 'DNV GL',\n",
       " 'an independent team of sustainability assurance professionals',\n",
       " 'DNV GL',\n",
       " 'DNV GL',\n",
       " 'Lloyds Register Quality Assurance Ltd',\n",
       " 'DNV GL',\n",
       " 'DNV GLs',\n",
       " 'DNV)',\n",
       " 'DNV',\n",
       " 'third-party assurance providers',\n",
       " 'independent auditor',\n",
       " 'independent auditor',\n",
       " 'Grant Thornton',\n",
       " 'Grant Thornton',\n",
       " 'KPMG',\n",
       " 'Ernst &Young Assurance Services SRL (EY Romania)',\n",
       " 'independent limited assurance',\n",
       " 'internal and external',\n",
       " 'Independent Practitioner',\n",
       " 'Independent Practitioner JSC \"KPMG',\n",
       " 'public assurance',\n",
       " 'Deloitte',\n",
       " 'Deloitte',\n",
       " 'Deloitte LLP',\n",
       " 'third-party',\n",
       " '2021',\n",
       " 'LRQA',\n",
       " 'PwC',\n",
       " 'third-party',\n",
       " 'third-party',\n",
       " 'third-party',\n",
       " 'Russell Reynolds Associates',\n",
       " 'KPMG',\n",
       " 'DNVs',\n",
       " 'DNVs',\n",
       " 'DNVs',\n",
       " 'DNV',\n",
       " 'DNV Business Assurance Services UK Limited',\n",
       " 'an independent team of sustainability assurance professionals',\n",
       " 'external',\n",
       " 'GRI Standards, SASB Standards',\n",
       " 'CDL',\n",
       " 'audits',\n",
       " 'Ernst and Young',\n",
       " 'externally',\n",
       " 'Ernst & Young LLP',\n",
       " 'CDL',\n",
       " 'LRQAs',\n",
       " 'CDL',\n",
       " 'external assurance',\n",
       " 'CapitaLand Group Sustainability Report',\n",
       " 'Deloitte',\n",
       " 'Deloitte',\n",
       " 'Deloitte LLPs',\n",
       " 'independent',\n",
       " 'Deloitte',\n",
       " 'Deloitte']"
      ]
     },
     "execution_count": 117,
     "metadata": {},
     "output_type": "execute_result"
    }
   ],
   "source": [
    "list(ones['answer'])"
   ]
  },
  {
   "cell_type": "code",
   "execution_count": 118,
   "id": "0d1e8f03",
   "metadata": {},
   "outputs": [
    {
     "data": {
      "text/plain": [
       "1"
      ]
     },
     "execution_count": 118,
     "metadata": {},
     "output_type": "execute_result"
    }
   ],
   "source": [
    "ones['answer'].str.lower().str.contains('ghg|tcfd|task force on climate-related financial disclosure|sbti|science-based|sasb').sum()"
   ]
  },
  {
   "cell_type": "markdown",
   "id": "b3515ce9",
   "metadata": {},
   "source": [
    "### AdaBoost"
   ]
  },
  {
   "cell_type": "code",
   "execution_count": 79,
   "id": "297bc0bd",
   "metadata": {},
   "outputs": [],
   "source": [
    "X_train, X_test, y_train, y_test = train_test_split(X_encoded, y, test_size=0.2, random_state=42)"
   ]
  },
  {
   "cell_type": "code",
   "execution_count": 80,
   "id": "85abaaeb",
   "metadata": {},
   "outputs": [],
   "source": [
    "ada = AdaBoostClassifier(random_state=42)"
   ]
  },
  {
   "cell_type": "code",
   "execution_count": 81,
   "id": "06ae85fc",
   "metadata": {},
   "outputs": [],
   "source": [
    "param_grid = {\n",
    "    'n_estimators': [10, 20, 30, 40, 50, 60, 70, 80, 90, 100],\n",
    "    'learning_rate': [0.1, 0.2, 0.5, 0.8, 1.0, 10]\n",
    "}"
   ]
  },
  {
   "cell_type": "code",
   "execution_count": 82,
   "id": "8f516814",
   "metadata": {},
   "outputs": [],
   "source": [
    "random_search = RandomizedSearchCV(estimator = ada, param_distributions = param_grid,  n_iter = 100, cv = 3, verbose=2, random_state=42)"
   ]
  },
  {
   "cell_type": "code",
   "execution_count": 83,
   "id": "c599c0f3",
   "metadata": {},
   "outputs": [
    {
     "name": "stderr",
     "output_type": "stream",
     "text": [
      "C:\\Anaconda3\\lib\\site-packages\\sklearn\\model_selection\\_search.py:292: UserWarning: The total space of parameters 60 is smaller than n_iter=100. Running 60 iterations. For exhaustive searches, use GridSearchCV.\n",
      "  warnings.warn(\n"
     ]
    },
    {
     "name": "stdout",
     "output_type": "stream",
     "text": [
      "Fitting 3 folds for each of 60 candidates, totalling 180 fits\n",
      "[CV] END .................learning_rate=0.1, n_estimators=10; total time=   0.1s\n",
      "[CV] END .................learning_rate=0.1, n_estimators=10; total time=   0.1s\n",
      "[CV] END .................learning_rate=0.1, n_estimators=10; total time=   0.1s\n",
      "[CV] END .................learning_rate=0.1, n_estimators=20; total time=   0.2s\n",
      "[CV] END .................learning_rate=0.1, n_estimators=20; total time=   0.2s\n",
      "[CV] END .................learning_rate=0.1, n_estimators=20; total time=   0.2s\n",
      "[CV] END .................learning_rate=0.1, n_estimators=30; total time=   0.3s\n",
      "[CV] END .................learning_rate=0.1, n_estimators=30; total time=   0.3s\n",
      "[CV] END .................learning_rate=0.1, n_estimators=30; total time=   0.3s\n",
      "[CV] END .................learning_rate=0.1, n_estimators=40; total time=   0.4s\n",
      "[CV] END .................learning_rate=0.1, n_estimators=40; total time=   0.4s\n",
      "[CV] END .................learning_rate=0.1, n_estimators=40; total time=   0.4s\n",
      "[CV] END .................learning_rate=0.1, n_estimators=50; total time=   0.5s\n",
      "[CV] END .................learning_rate=0.1, n_estimators=50; total time=   0.6s\n",
      "[CV] END .................learning_rate=0.1, n_estimators=50; total time=   0.6s\n",
      "[CV] END .................learning_rate=0.1, n_estimators=60; total time=   0.6s\n",
      "[CV] END .................learning_rate=0.1, n_estimators=60; total time=   0.7s\n",
      "[CV] END .................learning_rate=0.1, n_estimators=60; total time=   0.7s\n",
      "[CV] END .................learning_rate=0.1, n_estimators=70; total time=   0.7s\n",
      "[CV] END .................learning_rate=0.1, n_estimators=70; total time=   0.8s\n",
      "[CV] END .................learning_rate=0.1, n_estimators=70; total time=   0.8s\n",
      "[CV] END .................learning_rate=0.1, n_estimators=80; total time=   0.9s\n",
      "[CV] END .................learning_rate=0.1, n_estimators=80; total time=   0.9s\n",
      "[CV] END .................learning_rate=0.1, n_estimators=80; total time=   0.9s\n",
      "[CV] END .................learning_rate=0.1, n_estimators=90; total time=   1.0s\n",
      "[CV] END .................learning_rate=0.1, n_estimators=90; total time=   1.0s\n",
      "[CV] END .................learning_rate=0.1, n_estimators=90; total time=   1.0s\n",
      "[CV] END ................learning_rate=0.1, n_estimators=100; total time=   1.1s\n",
      "[CV] END ................learning_rate=0.1, n_estimators=100; total time=   1.2s\n",
      "[CV] END ................learning_rate=0.1, n_estimators=100; total time=   1.2s\n",
      "[CV] END .................learning_rate=0.2, n_estimators=10; total time=   0.0s\n",
      "[CV] END .................learning_rate=0.2, n_estimators=10; total time=   0.0s\n",
      "[CV] END .................learning_rate=0.2, n_estimators=10; total time=   0.1s\n",
      "[CV] END .................learning_rate=0.2, n_estimators=20; total time=   0.2s\n",
      "[CV] END .................learning_rate=0.2, n_estimators=20; total time=   0.2s\n",
      "[CV] END .................learning_rate=0.2, n_estimators=20; total time=   0.2s\n",
      "[CV] END .................learning_rate=0.2, n_estimators=30; total time=   0.3s\n",
      "[CV] END .................learning_rate=0.2, n_estimators=30; total time=   0.3s\n",
      "[CV] END .................learning_rate=0.2, n_estimators=30; total time=   0.3s\n",
      "[CV] END .................learning_rate=0.2, n_estimators=40; total time=   0.4s\n",
      "[CV] END .................learning_rate=0.2, n_estimators=40; total time=   0.4s\n",
      "[CV] END .................learning_rate=0.2, n_estimators=40; total time=   0.4s\n",
      "[CV] END .................learning_rate=0.2, n_estimators=50; total time=   0.5s\n",
      "[CV] END .................learning_rate=0.2, n_estimators=50; total time=   0.5s\n",
      "[CV] END .................learning_rate=0.2, n_estimators=50; total time=   0.5s\n",
      "[CV] END .................learning_rate=0.2, n_estimators=60; total time=   0.7s\n",
      "[CV] END .................learning_rate=0.2, n_estimators=60; total time=   0.7s\n",
      "[CV] END .................learning_rate=0.2, n_estimators=60; total time=   0.7s\n",
      "[CV] END .................learning_rate=0.2, n_estimators=70; total time=   0.8s\n",
      "[CV] END .................learning_rate=0.2, n_estimators=70; total time=   0.8s\n",
      "[CV] END .................learning_rate=0.2, n_estimators=70; total time=   0.8s\n",
      "[CV] END .................learning_rate=0.2, n_estimators=80; total time=   0.9s\n",
      "[CV] END .................learning_rate=0.2, n_estimators=80; total time=   0.9s\n",
      "[CV] END .................learning_rate=0.2, n_estimators=80; total time=   0.9s\n",
      "[CV] END .................learning_rate=0.2, n_estimators=90; total time=   1.0s\n",
      "[CV] END .................learning_rate=0.2, n_estimators=90; total time=   1.1s\n",
      "[CV] END .................learning_rate=0.2, n_estimators=90; total time=   1.0s\n",
      "[CV] END ................learning_rate=0.2, n_estimators=100; total time=   1.1s\n",
      "[CV] END ................learning_rate=0.2, n_estimators=100; total time=   1.2s\n",
      "[CV] END ................learning_rate=0.2, n_estimators=100; total time=   1.1s\n",
      "[CV] END .................learning_rate=0.5, n_estimators=10; total time=   0.1s\n",
      "[CV] END .................learning_rate=0.5, n_estimators=10; total time=   0.1s\n",
      "[CV] END .................learning_rate=0.5, n_estimators=10; total time=   0.0s\n",
      "[CV] END .................learning_rate=0.5, n_estimators=20; total time=   0.2s\n",
      "[CV] END .................learning_rate=0.5, n_estimators=20; total time=   0.2s\n",
      "[CV] END .................learning_rate=0.5, n_estimators=20; total time=   0.2s\n",
      "[CV] END .................learning_rate=0.5, n_estimators=30; total time=   0.3s\n",
      "[CV] END .................learning_rate=0.5, n_estimators=30; total time=   0.3s\n",
      "[CV] END .................learning_rate=0.5, n_estimators=30; total time=   0.3s\n",
      "[CV] END .................learning_rate=0.5, n_estimators=40; total time=   0.4s\n",
      "[CV] END .................learning_rate=0.5, n_estimators=40; total time=   0.4s\n",
      "[CV] END .................learning_rate=0.5, n_estimators=40; total time=   0.4s\n",
      "[CV] END .................learning_rate=0.5, n_estimators=50; total time=   0.5s\n",
      "[CV] END .................learning_rate=0.5, n_estimators=50; total time=   0.5s\n",
      "[CV] END .................learning_rate=0.5, n_estimators=50; total time=   0.5s\n",
      "[CV] END .................learning_rate=0.5, n_estimators=60; total time=   0.6s\n",
      "[CV] END .................learning_rate=0.5, n_estimators=60; total time=   0.6s\n",
      "[CV] END .................learning_rate=0.5, n_estimators=60; total time=   0.6s\n",
      "[CV] END .................learning_rate=0.5, n_estimators=70; total time=   0.8s\n",
      "[CV] END .................learning_rate=0.5, n_estimators=70; total time=   0.8s\n",
      "[CV] END .................learning_rate=0.5, n_estimators=70; total time=   0.8s\n",
      "[CV] END .................learning_rate=0.5, n_estimators=80; total time=   0.9s\n",
      "[CV] END .................learning_rate=0.5, n_estimators=80; total time=   0.9s\n",
      "[CV] END .................learning_rate=0.5, n_estimators=80; total time=   0.9s\n",
      "[CV] END .................learning_rate=0.5, n_estimators=90; total time=   1.0s\n",
      "[CV] END .................learning_rate=0.5, n_estimators=90; total time=   1.1s\n",
      "[CV] END .................learning_rate=0.5, n_estimators=90; total time=   1.1s\n",
      "[CV] END ................learning_rate=0.5, n_estimators=100; total time=   1.1s\n",
      "[CV] END ................learning_rate=0.5, n_estimators=100; total time=   1.1s\n",
      "[CV] END ................learning_rate=0.5, n_estimators=100; total time=   1.1s\n",
      "[CV] END .................learning_rate=0.8, n_estimators=10; total time=   0.0s\n",
      "[CV] END .................learning_rate=0.8, n_estimators=10; total time=   0.1s\n",
      "[CV] END .................learning_rate=0.8, n_estimators=10; total time=   0.0s\n",
      "[CV] END .................learning_rate=0.8, n_estimators=20; total time=   0.2s\n",
      "[CV] END .................learning_rate=0.8, n_estimators=20; total time=   0.2s\n",
      "[CV] END .................learning_rate=0.8, n_estimators=20; total time=   0.2s\n",
      "[CV] END .................learning_rate=0.8, n_estimators=30; total time=   0.3s\n",
      "[CV] END .................learning_rate=0.8, n_estimators=30; total time=   0.3s\n",
      "[CV] END .................learning_rate=0.8, n_estimators=30; total time=   0.3s\n",
      "[CV] END .................learning_rate=0.8, n_estimators=40; total time=   0.4s\n",
      "[CV] END .................learning_rate=0.8, n_estimators=40; total time=   0.4s\n"
     ]
    },
    {
     "name": "stdout",
     "output_type": "stream",
     "text": [
      "[CV] END .................learning_rate=0.8, n_estimators=40; total time=   0.4s\n",
      "[CV] END .................learning_rate=0.8, n_estimators=50; total time=   0.5s\n",
      "[CV] END .................learning_rate=0.8, n_estimators=50; total time=   0.5s\n",
      "[CV] END .................learning_rate=0.8, n_estimators=50; total time=   0.5s\n",
      "[CV] END .................learning_rate=0.8, n_estimators=60; total time=   0.7s\n",
      "[CV] END .................learning_rate=0.8, n_estimators=60; total time=   0.6s\n",
      "[CV] END .................learning_rate=0.8, n_estimators=60; total time=   0.7s\n",
      "[CV] END .................learning_rate=0.8, n_estimators=70; total time=   0.8s\n",
      "[CV] END .................learning_rate=0.8, n_estimators=70; total time=   0.8s\n",
      "[CV] END .................learning_rate=0.8, n_estimators=70; total time=   0.8s\n",
      "[CV] END .................learning_rate=0.8, n_estimators=80; total time=   1.0s\n",
      "[CV] END .................learning_rate=0.8, n_estimators=80; total time=   0.9s\n",
      "[CV] END .................learning_rate=0.8, n_estimators=80; total time=   0.9s\n",
      "[CV] END .................learning_rate=0.8, n_estimators=90; total time=   1.0s\n",
      "[CV] END .................learning_rate=0.8, n_estimators=90; total time=   1.0s\n",
      "[CV] END .................learning_rate=0.8, n_estimators=90; total time=   1.1s\n",
      "[CV] END ................learning_rate=0.8, n_estimators=100; total time=   1.1s\n",
      "[CV] END ................learning_rate=0.8, n_estimators=100; total time=   1.2s\n",
      "[CV] END ................learning_rate=0.8, n_estimators=100; total time=   1.1s\n",
      "[CV] END .................learning_rate=1.0, n_estimators=10; total time=   0.0s\n",
      "[CV] END .................learning_rate=1.0, n_estimators=10; total time=   0.1s\n",
      "[CV] END .................learning_rate=1.0, n_estimators=10; total time=   0.0s\n",
      "[CV] END .................learning_rate=1.0, n_estimators=20; total time=   0.2s\n",
      "[CV] END .................learning_rate=1.0, n_estimators=20; total time=   0.2s\n",
      "[CV] END .................learning_rate=1.0, n_estimators=20; total time=   0.2s\n",
      "[CV] END .................learning_rate=1.0, n_estimators=30; total time=   0.3s\n",
      "[CV] END .................learning_rate=1.0, n_estimators=30; total time=   0.3s\n",
      "[CV] END .................learning_rate=1.0, n_estimators=30; total time=   0.3s\n",
      "[CV] END .................learning_rate=1.0, n_estimators=40; total time=   0.4s\n",
      "[CV] END .................learning_rate=1.0, n_estimators=40; total time=   0.4s\n",
      "[CV] END .................learning_rate=1.0, n_estimators=40; total time=   0.4s\n",
      "[CV] END .................learning_rate=1.0, n_estimators=50; total time=   0.5s\n",
      "[CV] END .................learning_rate=1.0, n_estimators=50; total time=   0.5s\n",
      "[CV] END .................learning_rate=1.0, n_estimators=50; total time=   0.5s\n",
      "[CV] END .................learning_rate=1.0, n_estimators=60; total time=   0.7s\n",
      "[CV] END .................learning_rate=1.0, n_estimators=60; total time=   0.7s\n",
      "[CV] END .................learning_rate=1.0, n_estimators=60; total time=   0.6s\n",
      "[CV] END .................learning_rate=1.0, n_estimators=70; total time=   0.8s\n",
      "[CV] END .................learning_rate=1.0, n_estimators=70; total time=   0.8s\n",
      "[CV] END .................learning_rate=1.0, n_estimators=70; total time=   0.8s\n",
      "[CV] END .................learning_rate=1.0, n_estimators=80; total time=   0.9s\n",
      "[CV] END .................learning_rate=1.0, n_estimators=80; total time=   0.8s\n",
      "[CV] END .................learning_rate=1.0, n_estimators=80; total time=   0.9s\n",
      "[CV] END .................learning_rate=1.0, n_estimators=90; total time=   1.0s\n",
      "[CV] END .................learning_rate=1.0, n_estimators=90; total time=   1.0s\n",
      "[CV] END .................learning_rate=1.0, n_estimators=90; total time=   1.0s\n",
      "[CV] END ................learning_rate=1.0, n_estimators=100; total time=   1.1s\n",
      "[CV] END ................learning_rate=1.0, n_estimators=100; total time=   1.1s\n",
      "[CV] END ................learning_rate=1.0, n_estimators=100; total time=   1.1s\n",
      "[CV] END ..................learning_rate=10, n_estimators=10; total time=   0.0s\n",
      "[CV] END ..................learning_rate=10, n_estimators=10; total time=   0.0s\n",
      "[CV] END ..................learning_rate=10, n_estimators=10; total time=   0.0s\n",
      "[CV] END ..................learning_rate=10, n_estimators=20; total time=   0.1s\n",
      "[CV] END ..................learning_rate=10, n_estimators=20; total time=   0.1s\n",
      "[CV] END ..................learning_rate=10, n_estimators=20; total time=   0.1s\n",
      "[CV] END ..................learning_rate=10, n_estimators=30; total time=   0.2s\n",
      "[CV] END ..................learning_rate=10, n_estimators=30; total time=   0.2s\n",
      "[CV] END ..................learning_rate=10, n_estimators=30; total time=   0.2s\n",
      "[CV] END ..................learning_rate=10, n_estimators=40; total time=   0.2s\n",
      "[CV] END ..................learning_rate=10, n_estimators=40; total time=   0.2s\n",
      "[CV] END ..................learning_rate=10, n_estimators=40; total time=   0.3s\n",
      "[CV] END ..................learning_rate=10, n_estimators=50; total time=   0.3s\n",
      "[CV] END ..................learning_rate=10, n_estimators=50; total time=   0.3s\n",
      "[CV] END ..................learning_rate=10, n_estimators=50; total time=   0.3s\n",
      "[CV] END ..................learning_rate=10, n_estimators=60; total time=   0.4s\n",
      "[CV] END ..................learning_rate=10, n_estimators=60; total time=   0.4s\n",
      "[CV] END ..................learning_rate=10, n_estimators=60; total time=   0.4s\n",
      "[CV] END ..................learning_rate=10, n_estimators=70; total time=   0.5s\n",
      "[CV] END ..................learning_rate=10, n_estimators=70; total time=   0.5s\n",
      "[CV] END ..................learning_rate=10, n_estimators=70; total time=   0.5s\n",
      "[CV] END ..................learning_rate=10, n_estimators=80; total time=   0.6s\n",
      "[CV] END ..................learning_rate=10, n_estimators=80; total time=   0.6s\n",
      "[CV] END ..................learning_rate=10, n_estimators=80; total time=   0.6s\n",
      "[CV] END ..................learning_rate=10, n_estimators=90; total time=   0.6s\n",
      "[CV] END ..................learning_rate=10, n_estimators=90; total time=   0.6s\n",
      "[CV] END ..................learning_rate=10, n_estimators=90; total time=   0.7s\n",
      "[CV] END .................learning_rate=10, n_estimators=100; total time=   0.7s\n",
      "[CV] END .................learning_rate=10, n_estimators=100; total time=   0.7s\n",
      "[CV] END .................learning_rate=10, n_estimators=100; total time=   0.7s\n"
     ]
    },
    {
     "data": {
      "text/plain": [
       "RandomizedSearchCV(cv=3, estimator=AdaBoostClassifier(random_state=42),\n",
       "                   n_iter=100,\n",
       "                   param_distributions={'learning_rate': [0.1, 0.2, 0.5, 0.8,\n",
       "                                                          1.0, 10],\n",
       "                                        'n_estimators': [10, 20, 30, 40, 50, 60,\n",
       "                                                         70, 80, 90, 100]},\n",
       "                   random_state=42, verbose=2)"
      ]
     },
     "execution_count": 83,
     "metadata": {},
     "output_type": "execute_result"
    }
   ],
   "source": [
    "random_search.fit(X_res, y_res)"
   ]
  },
  {
   "cell_type": "code",
   "execution_count": 84,
   "id": "d26225c6",
   "metadata": {},
   "outputs": [
    {
     "data": {
      "text/plain": [
       "{'n_estimators': 90, 'learning_rate': 1.0}"
      ]
     },
     "execution_count": 84,
     "metadata": {},
     "output_type": "execute_result"
    }
   ],
   "source": [
    "res_dict = random_search.best_params_\n",
    "res_dict"
   ]
  },
  {
   "cell_type": "code",
   "execution_count": 85,
   "id": "20b2753a",
   "metadata": {},
   "outputs": [],
   "source": [
    "ada = AdaBoostClassifier(n_estimators = res_dict['n_estimators'], learning_rate = res_dict['learning_rate'], \n",
    "                        random_state=42)"
   ]
  },
  {
   "cell_type": "code",
   "execution_count": 86,
   "id": "0b7f0ecd",
   "metadata": {},
   "outputs": [
    {
     "data": {
      "text/plain": [
       "AdaBoostClassifier(n_estimators=90, random_state=42)"
      ]
     },
     "execution_count": 86,
     "metadata": {},
     "output_type": "execute_result"
    }
   ],
   "source": [
    "ada.fit(X_res, y_res)"
   ]
  },
  {
   "cell_type": "code",
   "execution_count": 87,
   "id": "988db9c8",
   "metadata": {},
   "outputs": [],
   "source": [
    "y_pred = ada.predict(X_test)"
   ]
  },
  {
   "cell_type": "code",
   "execution_count": 88,
   "id": "097d81a6",
   "metadata": {},
   "outputs": [
    {
     "name": "stderr",
     "output_type": "stream",
     "text": [
      "C:\\Anaconda3\\lib\\site-packages\\sklearn\\utils\\deprecation.py:87: FutureWarning: Function plot_confusion_matrix is deprecated; Function `plot_confusion_matrix` is deprecated in 1.0 and will be removed in 1.2. Use one of the class methods: ConfusionMatrixDisplay.from_predictions or ConfusionMatrixDisplay.from_estimator.\n",
      "  warnings.warn(msg, category=FutureWarning)\n"
     ]
    },
    {
     "data": {
      "text/plain": [
       "<sklearn.metrics._plot.confusion_matrix.ConfusionMatrixDisplay at 0x26427feb730>"
      ]
     },
     "execution_count": 88,
     "metadata": {},
     "output_type": "execute_result"
    },
    {
     "data": {
      "image/png": "[encoded data removed]",
      "text/plain": [
       "<Figure size 432x288 with 2 Axes>"
      ]
     },
     "metadata": {
      "needs_background": "light"
     },
     "output_type": "display_data"
    }
   ],
   "source": [
    "plot_confusion_matrix(ada, X_test, y_test)"
   ]
  },
  {
   "cell_type": "code",
   "execution_count": 89,
   "id": "3fc9273c",
   "metadata": {
    "scrolled": true
   },
   "outputs": [
    {
     "name": "stdout",
     "output_type": "stream",
     "text": [
      "              precision    recall  f1-score   support\n",
      "\n",
      "           0       0.95      0.92      0.94        87\n",
      "           1       0.65      0.76      0.70        17\n",
      "\n",
      "    accuracy                           0.89       104\n",
      "   macro avg       0.80      0.84      0.82       104\n",
      "weighted avg       0.90      0.89      0.90       104\n",
      "\n"
     ]
    }
   ],
   "source": [
    "print(classification_report(y_test, y_pred))"
   ]
  },
  {
   "cell_type": "code",
   "execution_count": 90,
   "id": "c7cb2914",
   "metadata": {},
   "outputs": [],
   "source": [
    "ada_pred = y_pred"
   ]
  },
  {
   "cell_type": "markdown",
   "id": "ac377bcd",
   "metadata": {},
   "source": [
    "### One Class SVM"
   ]
  },
  {
   "cell_type": "code",
   "execution_count": 134,
   "id": "fcd0a9ee",
   "metadata": {},
   "outputs": [],
   "source": [
    "ocsvm = OneClassSVM()"
   ]
  },
  {
   "cell_type": "code",
   "execution_count": 135,
   "id": "5307fd15",
   "metadata": {},
   "outputs": [],
   "source": [
    "ocsvm = OneClassSVM(kernel = 'rbf')"
   ]
  },
  {
   "cell_type": "code",
   "execution_count": 136,
   "id": "c579b75d",
   "metadata": {},
   "outputs": [
    {
     "data": {
      "text/plain": [
       "OneClassSVM()"
      ]
     },
     "execution_count": 136,
     "metadata": {},
     "output_type": "execute_result"
    }
   ],
   "source": [
    "ocsvm.fit(X_res, y_res)"
   ]
  },
  {
   "cell_type": "code",
   "execution_count": 137,
   "id": "e7c798f0",
   "metadata": {},
   "outputs": [],
   "source": [
    "y_pred = ocsvm.predict(X_test)"
   ]
  },
  {
   "cell_type": "code",
   "execution_count": 138,
   "id": "4057574e",
   "metadata": {},
   "outputs": [
    {
     "data": {
      "text/plain": [
       "array([ 1,  1,  1, -1, -1, -1,  1,  1, -1, -1, -1,  1, -1, -1,  1, -1, -1,\n",
       "       -1,  1, -1, -1,  1,  1, -1, -1, -1, -1, -1, -1,  1, -1, -1, -1, -1,\n",
       "       -1, -1, -1, -1, -1, -1, -1, -1, -1, -1, -1,  1,  1, -1, -1, -1, -1,\n",
       "        1, -1, -1, -1, -1, -1, -1, -1, -1,  1, -1, -1, -1,  1,  1, -1, -1,\n",
       "       -1, -1, -1, -1, -1, -1, -1,  1, -1, -1,  1,  1, -1, -1, -1, -1,  1,\n",
       "        1,  1, -1, -1, -1, -1, -1, -1,  1, -1, -1, -1, -1, -1, -1, -1,  1,\n",
       "       -1,  1], dtype=int64)"
      ]
     },
     "execution_count": 138,
     "metadata": {},
     "output_type": "execute_result"
    }
   ],
   "source": [
    "y_pred"
   ]
  },
  {
   "cell_type": "code",
   "execution_count": 139,
   "id": "f8bb3ec8",
   "metadata": {},
   "outputs": [],
   "source": [
    "y_pred = np.vectorize(lambda x: 0 if x == -1 else x)(y_pred)"
   ]
  },
  {
   "cell_type": "code",
   "execution_count": 140,
   "id": "e87fc5fa",
   "metadata": {
    "scrolled": true
   },
   "outputs": [
    {
     "name": "stdout",
     "output_type": "stream",
     "text": [
      "              precision    recall  f1-score   support\n",
      "\n",
      "           0       0.86      0.77      0.81        87\n",
      "           1       0.23      0.35      0.28        17\n",
      "\n",
      "    accuracy                           0.70       104\n",
      "   macro avg       0.54      0.56      0.55       104\n",
      "weighted avg       0.76      0.70      0.72       104\n",
      "\n"
     ]
    }
   ],
   "source": [
    "print(classification_report(y_test, y_pred))"
   ]
  },
  {
   "cell_type": "code",
   "execution_count": 141,
   "id": "fa630818",
   "metadata": {},
   "outputs": [],
   "source": [
    "ocsvm_pred = y_pred"
   ]
  },
  {
   "cell_type": "code",
   "execution_count": 21,
   "id": "e373412e",
   "metadata": {},
   "outputs": [
    {
     "data": {
      "text/plain": [
       "array([1, 1, 0, 0, 0, 0, 0, 0, 0, 0, 0, 0, 0, 0, 0, 0, 0, 0, 0, 0, 0, 0,\n",
       "       1, 0, 0, 0, 0, 0, 0, 0, 1, 0, 0, 0, 0, 0, 0, 0, 1, 0, 0, 0, 0, 0,\n",
       "       0, 0, 0, 0, 0, 0, 0, 0, 0, 1, 0, 0, 1, 0, 0, 1, 0, 0, 0, 0, 0, 1,\n",
       "       0, 0, 0, 0, 0, 1, 0, 0, 0, 0, 0, 1, 0, 0, 0, 1, 1, 0, 1, 0, 1, 1,\n",
       "       1, 0, 0, 0, 0, 0, 1, 0, 0, 0, 0, 0, 0, 0, 0, 0], dtype=int64)"
      ]
     },
     "execution_count": 21,
     "metadata": {},
     "output_type": "execute_result"
    }
   ],
   "source": [
    "lr_pred"
   ]
  },
  {
   "cell_type": "code",
   "execution_count": 23,
   "id": "00cbe97c",
   "metadata": {},
   "outputs": [
    {
     "data": {
      "text/html": [
       "<div>\n",
       "<style scoped>\n",
       "    .dataframe tbody tr th:only-of-type {\n",
       "        vertical-align: middle;\n",
       "    }\n",
       "\n",
       "    .dataframe tbody tr th {\n",
       "        vertical-align: top;\n",
       "    }\n",
       "\n",
       "    .dataframe thead th {\n",
       "        text-align: right;\n",
       "    }\n",
       "</style>\n",
       "<table border=\"1\" class=\"dataframe\">\n",
       "  <thead>\n",
       "    <tr style=\"text-align: right;\">\n",
       "      <th></th>\n",
       "      <th>0</th>\n",
       "      <th>1</th>\n",
       "      <th>2</th>\n",
       "      <th>3</th>\n",
       "      <th>4</th>\n",
       "      <th>5</th>\n",
       "      <th>6</th>\n",
       "      <th>7</th>\n",
       "      <th>8</th>\n",
       "      <th>9</th>\n",
       "      <th>...</th>\n",
       "      <th>2183</th>\n",
       "      <th>2184</th>\n",
       "      <th>2185</th>\n",
       "      <th>2186</th>\n",
       "      <th>2187</th>\n",
       "      <th>2188</th>\n",
       "      <th>2189</th>\n",
       "      <th>2190</th>\n",
       "      <th>2191</th>\n",
       "      <th>2192</th>\n",
       "    </tr>\n",
       "  </thead>\n",
       "  <tbody>\n",
       "    <tr>\n",
       "      <th>275</th>\n",
       "      <td>0.0</td>\n",
       "      <td>0.0</td>\n",
       "      <td>0.0</td>\n",
       "      <td>0.0</td>\n",
       "      <td>0.0</td>\n",
       "      <td>0.0</td>\n",
       "      <td>0.0</td>\n",
       "      <td>0.0</td>\n",
       "      <td>0.0</td>\n",
       "      <td>0.0</td>\n",
       "      <td>...</td>\n",
       "      <td>0.0</td>\n",
       "      <td>0.0</td>\n",
       "      <td>0.0</td>\n",
       "      <td>0.000000</td>\n",
       "      <td>0.10882</td>\n",
       "      <td>0.0</td>\n",
       "      <td>0.0</td>\n",
       "      <td>0.0</td>\n",
       "      <td>0.0</td>\n",
       "      <td>0.0</td>\n",
       "    </tr>\n",
       "    <tr>\n",
       "      <th>93</th>\n",
       "      <td>0.0</td>\n",
       "      <td>0.0</td>\n",
       "      <td>0.0</td>\n",
       "      <td>0.0</td>\n",
       "      <td>0.0</td>\n",
       "      <td>0.0</td>\n",
       "      <td>0.0</td>\n",
       "      <td>0.0</td>\n",
       "      <td>0.0</td>\n",
       "      <td>0.0</td>\n",
       "      <td>...</td>\n",
       "      <td>0.0</td>\n",
       "      <td>0.0</td>\n",
       "      <td>0.0</td>\n",
       "      <td>0.000000</td>\n",
       "      <td>0.00000</td>\n",
       "      <td>0.0</td>\n",
       "      <td>0.0</td>\n",
       "      <td>0.0</td>\n",
       "      <td>0.0</td>\n",
       "      <td>0.0</td>\n",
       "    </tr>\n",
       "    <tr>\n",
       "      <th>6</th>\n",
       "      <td>0.0</td>\n",
       "      <td>0.0</td>\n",
       "      <td>0.0</td>\n",
       "      <td>0.0</td>\n",
       "      <td>0.0</td>\n",
       "      <td>0.0</td>\n",
       "      <td>0.0</td>\n",
       "      <td>0.0</td>\n",
       "      <td>0.0</td>\n",
       "      <td>0.0</td>\n",
       "      <td>...</td>\n",
       "      <td>0.0</td>\n",
       "      <td>0.0</td>\n",
       "      <td>0.0</td>\n",
       "      <td>0.000000</td>\n",
       "      <td>0.00000</td>\n",
       "      <td>0.0</td>\n",
       "      <td>0.0</td>\n",
       "      <td>0.0</td>\n",
       "      <td>0.0</td>\n",
       "      <td>0.0</td>\n",
       "    </tr>\n",
       "    <tr>\n",
       "      <th>167</th>\n",
       "      <td>0.0</td>\n",
       "      <td>0.0</td>\n",
       "      <td>0.0</td>\n",
       "      <td>0.0</td>\n",
       "      <td>0.0</td>\n",
       "      <td>0.0</td>\n",
       "      <td>0.0</td>\n",
       "      <td>0.0</td>\n",
       "      <td>0.0</td>\n",
       "      <td>0.0</td>\n",
       "      <td>...</td>\n",
       "      <td>0.0</td>\n",
       "      <td>0.0</td>\n",
       "      <td>0.0</td>\n",
       "      <td>0.000000</td>\n",
       "      <td>0.00000</td>\n",
       "      <td>0.0</td>\n",
       "      <td>0.0</td>\n",
       "      <td>0.0</td>\n",
       "      <td>0.0</td>\n",
       "      <td>0.0</td>\n",
       "    </tr>\n",
       "    <tr>\n",
       "      <th>90</th>\n",
       "      <td>0.0</td>\n",
       "      <td>0.0</td>\n",
       "      <td>0.0</td>\n",
       "      <td>0.0</td>\n",
       "      <td>0.0</td>\n",
       "      <td>0.0</td>\n",
       "      <td>0.0</td>\n",
       "      <td>0.0</td>\n",
       "      <td>0.0</td>\n",
       "      <td>0.0</td>\n",
       "      <td>...</td>\n",
       "      <td>0.0</td>\n",
       "      <td>0.0</td>\n",
       "      <td>0.0</td>\n",
       "      <td>0.000000</td>\n",
       "      <td>0.00000</td>\n",
       "      <td>0.0</td>\n",
       "      <td>0.0</td>\n",
       "      <td>0.0</td>\n",
       "      <td>0.0</td>\n",
       "      <td>0.0</td>\n",
       "    </tr>\n",
       "    <tr>\n",
       "      <th>...</th>\n",
       "      <td>...</td>\n",
       "      <td>...</td>\n",
       "      <td>...</td>\n",
       "      <td>...</td>\n",
       "      <td>...</td>\n",
       "      <td>...</td>\n",
       "      <td>...</td>\n",
       "      <td>...</td>\n",
       "      <td>...</td>\n",
       "      <td>...</td>\n",
       "      <td>...</td>\n",
       "      <td>...</td>\n",
       "      <td>...</td>\n",
       "      <td>...</td>\n",
       "      <td>...</td>\n",
       "      <td>...</td>\n",
       "      <td>...</td>\n",
       "      <td>...</td>\n",
       "      <td>...</td>\n",
       "      <td>...</td>\n",
       "      <td>...</td>\n",
       "    </tr>\n",
       "    <tr>\n",
       "      <th>69</th>\n",
       "      <td>0.0</td>\n",
       "      <td>0.0</td>\n",
       "      <td>0.0</td>\n",
       "      <td>0.0</td>\n",
       "      <td>0.0</td>\n",
       "      <td>0.0</td>\n",
       "      <td>0.0</td>\n",
       "      <td>0.0</td>\n",
       "      <td>0.0</td>\n",
       "      <td>0.0</td>\n",
       "      <td>...</td>\n",
       "      <td>0.0</td>\n",
       "      <td>0.0</td>\n",
       "      <td>0.0</td>\n",
       "      <td>0.000000</td>\n",
       "      <td>0.00000</td>\n",
       "      <td>0.0</td>\n",
       "      <td>0.0</td>\n",
       "      <td>0.0</td>\n",
       "      <td>0.0</td>\n",
       "      <td>0.0</td>\n",
       "    </tr>\n",
       "    <tr>\n",
       "      <th>357</th>\n",
       "      <td>0.0</td>\n",
       "      <td>0.0</td>\n",
       "      <td>0.0</td>\n",
       "      <td>0.0</td>\n",
       "      <td>0.0</td>\n",
       "      <td>0.0</td>\n",
       "      <td>0.0</td>\n",
       "      <td>0.0</td>\n",
       "      <td>0.0</td>\n",
       "      <td>0.0</td>\n",
       "      <td>...</td>\n",
       "      <td>0.0</td>\n",
       "      <td>0.0</td>\n",
       "      <td>0.0</td>\n",
       "      <td>0.000000</td>\n",
       "      <td>0.00000</td>\n",
       "      <td>0.0</td>\n",
       "      <td>0.0</td>\n",
       "      <td>0.0</td>\n",
       "      <td>0.0</td>\n",
       "      <td>0.0</td>\n",
       "    </tr>\n",
       "    <tr>\n",
       "      <th>422</th>\n",
       "      <td>0.0</td>\n",
       "      <td>0.0</td>\n",
       "      <td>0.0</td>\n",
       "      <td>0.0</td>\n",
       "      <td>0.0</td>\n",
       "      <td>0.0</td>\n",
       "      <td>0.0</td>\n",
       "      <td>0.0</td>\n",
       "      <td>0.0</td>\n",
       "      <td>0.0</td>\n",
       "      <td>...</td>\n",
       "      <td>0.0</td>\n",
       "      <td>0.0</td>\n",
       "      <td>0.0</td>\n",
       "      <td>0.000000</td>\n",
       "      <td>0.00000</td>\n",
       "      <td>0.0</td>\n",
       "      <td>0.0</td>\n",
       "      <td>0.0</td>\n",
       "      <td>0.0</td>\n",
       "      <td>0.0</td>\n",
       "    </tr>\n",
       "    <tr>\n",
       "      <th>334</th>\n",
       "      <td>0.0</td>\n",
       "      <td>0.0</td>\n",
       "      <td>0.0</td>\n",
       "      <td>0.0</td>\n",
       "      <td>0.0</td>\n",
       "      <td>0.0</td>\n",
       "      <td>0.0</td>\n",
       "      <td>0.0</td>\n",
       "      <td>0.0</td>\n",
       "      <td>0.0</td>\n",
       "      <td>...</td>\n",
       "      <td>0.0</td>\n",
       "      <td>0.0</td>\n",
       "      <td>0.0</td>\n",
       "      <td>0.000000</td>\n",
       "      <td>0.00000</td>\n",
       "      <td>0.0</td>\n",
       "      <td>0.0</td>\n",
       "      <td>0.0</td>\n",
       "      <td>0.0</td>\n",
       "      <td>0.0</td>\n",
       "    </tr>\n",
       "    <tr>\n",
       "      <th>227</th>\n",
       "      <td>0.0</td>\n",
       "      <td>0.0</td>\n",
       "      <td>0.0</td>\n",
       "      <td>0.0</td>\n",
       "      <td>0.0</td>\n",
       "      <td>0.0</td>\n",
       "      <td>0.0</td>\n",
       "      <td>0.0</td>\n",
       "      <td>0.0</td>\n",
       "      <td>0.0</td>\n",
       "      <td>...</td>\n",
       "      <td>0.0</td>\n",
       "      <td>0.0</td>\n",
       "      <td>0.0</td>\n",
       "      <td>0.233142</td>\n",
       "      <td>0.00000</td>\n",
       "      <td>0.0</td>\n",
       "      <td>0.0</td>\n",
       "      <td>0.0</td>\n",
       "      <td>0.0</td>\n",
       "      <td>0.0</td>\n",
       "    </tr>\n",
       "  </tbody>\n",
       "</table>\n",
       "<p>104 rows × 2193 columns</p>\n",
       "</div>"
      ],
      "text/plain": [
       "     0     1     2     3     4     5     6     7     8     9     ...  2183  \\\n",
       "275   0.0   0.0   0.0   0.0   0.0   0.0   0.0   0.0   0.0   0.0  ...   0.0   \n",
       "93    0.0   0.0   0.0   0.0   0.0   0.0   0.0   0.0   0.0   0.0  ...   0.0   \n",
       "6     0.0   0.0   0.0   0.0   0.0   0.0   0.0   0.0   0.0   0.0  ...   0.0   \n",
       "167   0.0   0.0   0.0   0.0   0.0   0.0   0.0   0.0   0.0   0.0  ...   0.0   \n",
       "90    0.0   0.0   0.0   0.0   0.0   0.0   0.0   0.0   0.0   0.0  ...   0.0   \n",
       "..    ...   ...   ...   ...   ...   ...   ...   ...   ...   ...  ...   ...   \n",
       "69    0.0   0.0   0.0   0.0   0.0   0.0   0.0   0.0   0.0   0.0  ...   0.0   \n",
       "357   0.0   0.0   0.0   0.0   0.0   0.0   0.0   0.0   0.0   0.0  ...   0.0   \n",
       "422   0.0   0.0   0.0   0.0   0.0   0.0   0.0   0.0   0.0   0.0  ...   0.0   \n",
       "334   0.0   0.0   0.0   0.0   0.0   0.0   0.0   0.0   0.0   0.0  ...   0.0   \n",
       "227   0.0   0.0   0.0   0.0   0.0   0.0   0.0   0.0   0.0   0.0  ...   0.0   \n",
       "\n",
       "     2184  2185      2186     2187  2188  2189  2190  2191  2192  \n",
       "275   0.0   0.0  0.000000  0.10882   0.0   0.0   0.0   0.0   0.0  \n",
       "93    0.0   0.0  0.000000  0.00000   0.0   0.0   0.0   0.0   0.0  \n",
       "6     0.0   0.0  0.000000  0.00000   0.0   0.0   0.0   0.0   0.0  \n",
       "167   0.0   0.0  0.000000  0.00000   0.0   0.0   0.0   0.0   0.0  \n",
       "90    0.0   0.0  0.000000  0.00000   0.0   0.0   0.0   0.0   0.0  \n",
       "..    ...   ...       ...      ...   ...   ...   ...   ...   ...  \n",
       "69    0.0   0.0  0.000000  0.00000   0.0   0.0   0.0   0.0   0.0  \n",
       "357   0.0   0.0  0.000000  0.00000   0.0   0.0   0.0   0.0   0.0  \n",
       "422   0.0   0.0  0.000000  0.00000   0.0   0.0   0.0   0.0   0.0  \n",
       "334   0.0   0.0  0.000000  0.00000   0.0   0.0   0.0   0.0   0.0  \n",
       "227   0.0   0.0  0.233142  0.00000   0.0   0.0   0.0   0.0   0.0  \n",
       "\n",
       "[104 rows x 2193 columns]"
      ]
     },
     "execution_count": 23,
     "metadata": {},
     "output_type": "execute_result"
    }
   ],
   "source": [
    "X_test"
   ]
  },
  {
   "cell_type": "code",
   "execution_count": 122,
   "id": "a0ce9597",
   "metadata": {},
   "outputs": [],
   "source": [
    "res = pd.DataFrame([lr_pred, lstm_pred, ada_pred]).transpose()"
   ]
  },
  {
   "cell_type": "code",
   "execution_count": 123,
   "id": "51b1db1a",
   "metadata": {},
   "outputs": [
    {
     "data": {
      "text/html": [
       "<div>\n",
       "<style scoped>\n",
       "    .dataframe tbody tr th:only-of-type {\n",
       "        vertical-align: middle;\n",
       "    }\n",
       "\n",
       "    .dataframe tbody tr th {\n",
       "        vertical-align: top;\n",
       "    }\n",
       "\n",
       "    .dataframe thead th {\n",
       "        text-align: right;\n",
       "    }\n",
       "</style>\n",
       "<table border=\"1\" class=\"dataframe\">\n",
       "  <thead>\n",
       "    <tr style=\"text-align: right;\">\n",
       "      <th></th>\n",
       "      <th>lr_pred</th>\n",
       "      <th>lstm_pred</th>\n",
       "      <th>ada_pred</th>\n",
       "    </tr>\n",
       "  </thead>\n",
       "  <tbody>\n",
       "    <tr>\n",
       "      <th>0</th>\n",
       "      <td>1</td>\n",
       "      <td>[0]</td>\n",
       "      <td>1</td>\n",
       "    </tr>\n",
       "    <tr>\n",
       "      <th>1</th>\n",
       "      <td>1</td>\n",
       "      <td>[1]</td>\n",
       "      <td>1</td>\n",
       "    </tr>\n",
       "    <tr>\n",
       "      <th>2</th>\n",
       "      <td>0</td>\n",
       "      <td>[0]</td>\n",
       "      <td>0</td>\n",
       "    </tr>\n",
       "    <tr>\n",
       "      <th>3</th>\n",
       "      <td>0</td>\n",
       "      <td>[0]</td>\n",
       "      <td>0</td>\n",
       "    </tr>\n",
       "    <tr>\n",
       "      <th>4</th>\n",
       "      <td>0</td>\n",
       "      <td>[0]</td>\n",
       "      <td>0</td>\n",
       "    </tr>\n",
       "    <tr>\n",
       "      <th>...</th>\n",
       "      <td>...</td>\n",
       "      <td>...</td>\n",
       "      <td>...</td>\n",
       "    </tr>\n",
       "    <tr>\n",
       "      <th>99</th>\n",
       "      <td>0</td>\n",
       "      <td>[0]</td>\n",
       "      <td>0</td>\n",
       "    </tr>\n",
       "    <tr>\n",
       "      <th>100</th>\n",
       "      <td>0</td>\n",
       "      <td>[0]</td>\n",
       "      <td>0</td>\n",
       "    </tr>\n",
       "    <tr>\n",
       "      <th>101</th>\n",
       "      <td>0</td>\n",
       "      <td>[0]</td>\n",
       "      <td>1</td>\n",
       "    </tr>\n",
       "    <tr>\n",
       "      <th>102</th>\n",
       "      <td>0</td>\n",
       "      <td>[0]</td>\n",
       "      <td>0</td>\n",
       "    </tr>\n",
       "    <tr>\n",
       "      <th>103</th>\n",
       "      <td>0</td>\n",
       "      <td>[0]</td>\n",
       "      <td>0</td>\n",
       "    </tr>\n",
       "  </tbody>\n",
       "</table>\n",
       "<p>104 rows × 3 columns</p>\n",
       "</div>"
      ],
      "text/plain": [
       "    lr_pred lstm_pred ada_pred\n",
       "0         1       [0]        1\n",
       "1         1       [1]        1\n",
       "2         0       [0]        0\n",
       "3         0       [0]        0\n",
       "4         0       [0]        0\n",
       "..      ...       ...      ...\n",
       "99        0       [0]        0\n",
       "100       0       [0]        0\n",
       "101       0       [0]        1\n",
       "102       0       [0]        0\n",
       "103       0       [0]        0\n",
       "\n",
       "[104 rows x 3 columns]"
      ]
     },
     "execution_count": 123,
     "metadata": {},
     "output_type": "execute_result"
    }
   ],
   "source": [
    "res.columns = ['lr_pred', 'lstm_pred', 'ada_pred']\n",
    "\n",
    "res"
   ]
  },
  {
   "cell_type": "code",
   "execution_count": 125,
   "id": "39759639",
   "metadata": {},
   "outputs": [],
   "source": [
    "res['lstm_pred'] = res['lstm_pred'].apply(lambda x: x[0])"
   ]
  },
  {
   "cell_type": "code",
   "execution_count": 126,
   "id": "479adae4",
   "metadata": {},
   "outputs": [],
   "source": [
    "res['total'] = res.mode(axis=1)[0]"
   ]
  },
  {
   "cell_type": "code",
   "execution_count": 127,
   "id": "ac974486",
   "metadata": {},
   "outputs": [
    {
     "data": {
      "text/html": [
       "<div>\n",
       "<style scoped>\n",
       "    .dataframe tbody tr th:only-of-type {\n",
       "        vertical-align: middle;\n",
       "    }\n",
       "\n",
       "    .dataframe tbody tr th {\n",
       "        vertical-align: top;\n",
       "    }\n",
       "\n",
       "    .dataframe thead th {\n",
       "        text-align: right;\n",
       "    }\n",
       "</style>\n",
       "<table border=\"1\" class=\"dataframe\">\n",
       "  <thead>\n",
       "    <tr style=\"text-align: right;\">\n",
       "      <th></th>\n",
       "      <th>lr_pred</th>\n",
       "      <th>lstm_pred</th>\n",
       "      <th>ada_pred</th>\n",
       "      <th>total</th>\n",
       "    </tr>\n",
       "  </thead>\n",
       "  <tbody>\n",
       "    <tr>\n",
       "      <th>0</th>\n",
       "      <td>1</td>\n",
       "      <td>0</td>\n",
       "      <td>1</td>\n",
       "      <td>1</td>\n",
       "    </tr>\n",
       "    <tr>\n",
       "      <th>1</th>\n",
       "      <td>1</td>\n",
       "      <td>1</td>\n",
       "      <td>1</td>\n",
       "      <td>1</td>\n",
       "    </tr>\n",
       "    <tr>\n",
       "      <th>2</th>\n",
       "      <td>0</td>\n",
       "      <td>0</td>\n",
       "      <td>0</td>\n",
       "      <td>0</td>\n",
       "    </tr>\n",
       "    <tr>\n",
       "      <th>3</th>\n",
       "      <td>0</td>\n",
       "      <td>0</td>\n",
       "      <td>0</td>\n",
       "      <td>0</td>\n",
       "    </tr>\n",
       "    <tr>\n",
       "      <th>4</th>\n",
       "      <td>0</td>\n",
       "      <td>0</td>\n",
       "      <td>0</td>\n",
       "      <td>0</td>\n",
       "    </tr>\n",
       "    <tr>\n",
       "      <th>...</th>\n",
       "      <td>...</td>\n",
       "      <td>...</td>\n",
       "      <td>...</td>\n",
       "      <td>...</td>\n",
       "    </tr>\n",
       "    <tr>\n",
       "      <th>99</th>\n",
       "      <td>0</td>\n",
       "      <td>0</td>\n",
       "      <td>0</td>\n",
       "      <td>0</td>\n",
       "    </tr>\n",
       "    <tr>\n",
       "      <th>100</th>\n",
       "      <td>0</td>\n",
       "      <td>0</td>\n",
       "      <td>0</td>\n",
       "      <td>0</td>\n",
       "    </tr>\n",
       "    <tr>\n",
       "      <th>101</th>\n",
       "      <td>0</td>\n",
       "      <td>0</td>\n",
       "      <td>1</td>\n",
       "      <td>0</td>\n",
       "    </tr>\n",
       "    <tr>\n",
       "      <th>102</th>\n",
       "      <td>0</td>\n",
       "      <td>0</td>\n",
       "      <td>0</td>\n",
       "      <td>0</td>\n",
       "    </tr>\n",
       "    <tr>\n",
       "      <th>103</th>\n",
       "      <td>0</td>\n",
       "      <td>0</td>\n",
       "      <td>0</td>\n",
       "      <td>0</td>\n",
       "    </tr>\n",
       "  </tbody>\n",
       "</table>\n",
       "<p>104 rows × 4 columns</p>\n",
       "</div>"
      ],
      "text/plain": [
       "    lr_pred  lstm_pred ada_pred  total\n",
       "0         1          0        1      1\n",
       "1         1          1        1      1\n",
       "2         0          0        0      0\n",
       "3         0          0        0      0\n",
       "4         0          0        0      0\n",
       "..      ...        ...      ...    ...\n",
       "99        0          0        0      0\n",
       "100       0          0        0      0\n",
       "101       0          0        1      0\n",
       "102       0          0        0      0\n",
       "103       0          0        0      0\n",
       "\n",
       "[104 rows x 4 columns]"
      ]
     },
     "execution_count": 127,
     "metadata": {},
     "output_type": "execute_result"
    }
   ],
   "source": [
    "res"
   ]
  },
  {
   "cell_type": "code",
   "execution_count": 128,
   "id": "d4c1ae0c",
   "metadata": {},
   "outputs": [
    {
     "name": "stdout",
     "output_type": "stream",
     "text": [
      "0.9038461538461539\n",
      "0.7333333333333333\n",
      "0.6470588235294118\n",
      "0.6875\n"
     ]
    }
   ],
   "source": [
    "print(accuracy_score(y_test, res['total']))\n",
    "print(precision_score(y_test, res['total']))\n",
    "print(recall_score(y_test, res['total']))\n",
    "print(f1_score(y_test, res['total']))"
   ]
  },
  {
   "cell_type": "code",
   "execution_count": 129,
   "id": "d724924a",
   "metadata": {},
   "outputs": [],
   "source": [
    "lr_15 = 'lr_15_model.sav'\n",
    "lstm_15 = 'lstm_15_model.pkl'\n",
    "ada_15 = 'ada_15_model.pkl'\n",
    "tfidf_15 = 'tfidf_15_model.sav'\n",
    "tok_15 = 'tok_15_model.pkl'"
   ]
  },
  {
   "cell_type": "code",
   "execution_count": 130,
   "id": "52583a32",
   "metadata": {},
   "outputs": [],
   "source": [
    "pickle.dump(tfidf, open(tfidf_15, 'wb'))\n",
    "pickle.dump(model1, open(lr_15, 'wb'))\n",
    "model3.save('lstm_15_model.h5')\n",
    "pickle.dump(ada, open(ada_15, 'wb'))\n",
    "pickle.dump(tok, open(tok_15, 'wb'))"
   ]
  },
  {
   "cell_type": "markdown",
   "id": "03fb2b4a",
   "metadata": {},
   "source": [
    "## Ensemble"
   ]
  },
  {
   "cell_type": "code",
   "execution_count": 146,
   "id": "d0eb2fe6",
   "metadata": {},
   "outputs": [
    {
     "data": {
      "text/html": [
       "<div>\n",
       "<style scoped>\n",
       "    .dataframe tbody tr th:only-of-type {\n",
       "        vertical-align: middle;\n",
       "    }\n",
       "\n",
       "    .dataframe tbody tr th {\n",
       "        vertical-align: top;\n",
       "    }\n",
       "\n",
       "    .dataframe thead th {\n",
       "        text-align: right;\n",
       "    }\n",
       "</style>\n",
       "<table border=\"1\" class=\"dataframe\">\n",
       "  <thead>\n",
       "    <tr style=\"text-align: right;\">\n",
       "      <th></th>\n",
       "      <th>0</th>\n",
       "    </tr>\n",
       "  </thead>\n",
       "  <tbody>\n",
       "    <tr>\n",
       "      <th>0</th>\n",
       "      <td>1</td>\n",
       "    </tr>\n",
       "    <tr>\n",
       "      <th>1</th>\n",
       "      <td>1</td>\n",
       "    </tr>\n",
       "    <tr>\n",
       "      <th>2</th>\n",
       "      <td>0</td>\n",
       "    </tr>\n",
       "    <tr>\n",
       "      <th>3</th>\n",
       "      <td>0</td>\n",
       "    </tr>\n",
       "    <tr>\n",
       "      <th>4</th>\n",
       "      <td>0</td>\n",
       "    </tr>\n",
       "    <tr>\n",
       "      <th>...</th>\n",
       "      <td>...</td>\n",
       "    </tr>\n",
       "    <tr>\n",
       "      <th>99</th>\n",
       "      <td>0</td>\n",
       "    </tr>\n",
       "    <tr>\n",
       "      <th>100</th>\n",
       "      <td>0</td>\n",
       "    </tr>\n",
       "    <tr>\n",
       "      <th>101</th>\n",
       "      <td>0</td>\n",
       "    </tr>\n",
       "    <tr>\n",
       "      <th>102</th>\n",
       "      <td>0</td>\n",
       "    </tr>\n",
       "    <tr>\n",
       "      <th>103</th>\n",
       "      <td>0</td>\n",
       "    </tr>\n",
       "  </tbody>\n",
       "</table>\n",
       "<p>104 rows × 1 columns</p>\n",
       "</div>"
      ],
      "text/plain": [
       "     0\n",
       "0    1\n",
       "1    1\n",
       "2    0\n",
       "3    0\n",
       "4    0\n",
       "..  ..\n",
       "99   0\n",
       "100  0\n",
       "101  0\n",
       "102  0\n",
       "103  0\n",
       "\n",
       "[104 rows x 1 columns]"
      ]
     },
     "execution_count": 146,
     "metadata": {},
     "output_type": "execute_result"
    }
   ],
   "source": [
    "res"
   ]
  },
  {
   "cell_type": "code",
   "execution_count": 115,
   "id": "f4e449bc",
   "metadata": {},
   "outputs": [],
   "source": [
    "res['total'] = res.mode(axis=1)[0]"
   ]
  },
  {
   "cell_type": "code",
   "execution_count": 116,
   "id": "52f962c0",
   "metadata": {},
   "outputs": [
    {
     "data": {
      "text/plain": [
       "0      1.0\n",
       "1      1.0\n",
       "2      0.0\n",
       "3      0.0\n",
       "4      0.0\n",
       "      ... \n",
       "99     0.0\n",
       "100    0.0\n",
       "101    0.0\n",
       "102    0.0\n",
       "103    0.0\n",
       "Name: total, Length: 104, dtype: float64"
      ]
     },
     "execution_count": 116,
     "metadata": {},
     "output_type": "execute_result"
    }
   ],
   "source": [
    "res['total']"
   ]
  },
  {
   "cell_type": "code",
   "execution_count": 149,
   "id": "239ed366",
   "metadata": {},
   "outputs": [
    {
     "data": {
      "text/html": [
       "<div>\n",
       "<style scoped>\n",
       "    .dataframe tbody tr th:only-of-type {\n",
       "        vertical-align: middle;\n",
       "    }\n",
       "\n",
       "    .dataframe tbody tr th {\n",
       "        vertical-align: top;\n",
       "    }\n",
       "\n",
       "    .dataframe thead th {\n",
       "        text-align: right;\n",
       "    }\n",
       "</style>\n",
       "<table border=\"1\" class=\"dataframe\">\n",
       "  <thead>\n",
       "    <tr style=\"text-align: right;\">\n",
       "      <th></th>\n",
       "      <th>0</th>\n",
       "      <th>total</th>\n",
       "    </tr>\n",
       "  </thead>\n",
       "  <tbody>\n",
       "    <tr>\n",
       "      <th>0</th>\n",
       "      <td>1</td>\n",
       "      <td>1</td>\n",
       "    </tr>\n",
       "    <tr>\n",
       "      <th>1</th>\n",
       "      <td>1</td>\n",
       "      <td>1</td>\n",
       "    </tr>\n",
       "    <tr>\n",
       "      <th>2</th>\n",
       "      <td>0</td>\n",
       "      <td>0</td>\n",
       "    </tr>\n",
       "    <tr>\n",
       "      <th>3</th>\n",
       "      <td>0</td>\n",
       "      <td>0</td>\n",
       "    </tr>\n",
       "    <tr>\n",
       "      <th>4</th>\n",
       "      <td>0</td>\n",
       "      <td>0</td>\n",
       "    </tr>\n",
       "    <tr>\n",
       "      <th>...</th>\n",
       "      <td>...</td>\n",
       "      <td>...</td>\n",
       "    </tr>\n",
       "    <tr>\n",
       "      <th>99</th>\n",
       "      <td>0</td>\n",
       "      <td>0</td>\n",
       "    </tr>\n",
       "    <tr>\n",
       "      <th>100</th>\n",
       "      <td>0</td>\n",
       "      <td>0</td>\n",
       "    </tr>\n",
       "    <tr>\n",
       "      <th>101</th>\n",
       "      <td>0</td>\n",
       "      <td>0</td>\n",
       "    </tr>\n",
       "    <tr>\n",
       "      <th>102</th>\n",
       "      <td>0</td>\n",
       "      <td>0</td>\n",
       "    </tr>\n",
       "    <tr>\n",
       "      <th>103</th>\n",
       "      <td>0</td>\n",
       "      <td>0</td>\n",
       "    </tr>\n",
       "  </tbody>\n",
       "</table>\n",
       "<p>104 rows × 2 columns</p>\n",
       "</div>"
      ],
      "text/plain": [
       "     0  total\n",
       "0    1      1\n",
       "1    1      1\n",
       "2    0      0\n",
       "3    0      0\n",
       "4    0      0\n",
       "..  ..    ...\n",
       "99   0      0\n",
       "100  0      0\n",
       "101  0      0\n",
       "102  0      0\n",
       "103  0      0\n",
       "\n",
       "[104 rows x 2 columns]"
      ]
     },
     "execution_count": 149,
     "metadata": {},
     "output_type": "execute_result"
    }
   ],
   "source": [
    "res"
   ]
  },
  {
   "cell_type": "code",
   "execution_count": 150,
   "id": "63bb23f2",
   "metadata": {},
   "outputs": [
    {
     "data": {
      "text/plain": [
       "275    1\n",
       "93     1\n",
       "6      0\n",
       "167    0\n",
       "90     0\n",
       "      ..\n",
       "69     0\n",
       "357    0\n",
       "422    0\n",
       "334    0\n",
       "227    0\n",
       "Name: GT, Length: 104, dtype: int64"
      ]
     },
     "execution_count": 150,
     "metadata": {},
     "output_type": "execute_result"
    }
   ],
   "source": [
    "y_test"
   ]
  },
  {
   "cell_type": "code",
   "execution_count": 151,
   "id": "a75ea934",
   "metadata": {
    "scrolled": true
   },
   "outputs": [
    {
     "data": {
      "text/plain": [
       "0.6857142857142857"
      ]
     },
     "execution_count": 151,
     "metadata": {},
     "output_type": "execute_result"
    }
   ],
   "source": [
    "f1_score(y_test, res['total'])"
   ]
  },
  {
   "cell_type": "markdown",
   "id": "aa029d0d",
   "metadata": {},
   "source": [
    "## Attribute 17"
   ]
  },
  {
   "cell_type": "code",
   "execution_count": 141,
   "id": "ade539b4",
   "metadata": {},
   "outputs": [],
   "source": [
    "df_gov = pd.read_csv('comp_labelled.csv')"
   ]
  },
  {
   "cell_type": "code",
   "execution_count": 142,
   "id": "84ba8ed2",
   "metadata": {},
   "outputs": [
    {
     "data": {
      "text/html": [
       "<div>\n",
       "<style scoped>\n",
       "    .dataframe tbody tr th:only-of-type {\n",
       "        vertical-align: middle;\n",
       "    }\n",
       "\n",
       "    .dataframe tbody tr th {\n",
       "        vertical-align: top;\n",
       "    }\n",
       "\n",
       "    .dataframe thead th {\n",
       "        text-align: right;\n",
       "    }\n",
       "</style>\n",
       "<table border=\"1\" class=\"dataframe\">\n",
       "  <thead>\n",
       "    <tr style=\"text-align: right;\">\n",
       "      <th></th>\n",
       "      <th>words</th>\n",
       "      <th>GT</th>\n",
       "    </tr>\n",
       "  </thead>\n",
       "  <tbody>\n",
       "    <tr>\n",
       "      <th>0</th>\n",
       "      <td>As a result, the personal targets set for managers include sustainability aspectsandcriteriawhichhaveaneffectontheirperform-ance-based remuneration.</td>\n",
       "      <td>1</td>\n",
       "    </tr>\n",
       "    <tr>\n",
       "      <th>1</th>\n",
       "      <td>The Supervisory Board decides on the level of compensation received by members of the Board of Management, orient-ing its decisions on the sustainable development of the BMW Group.</td>\n",
       "      <td>1</td>\n",
       "    </tr>\n",
       "    <tr>\n",
       "      <th>2</th>\n",
       "      <td>In order to guar-antee that the BMW Group remains an attractive employer, we aim to ensure that the total compensation package is above the average for the respective labour market.</td>\n",
       "      <td>0</td>\n",
       "    </tr>\n",
       "    <tr>\n",
       "      <th>3</th>\n",
       "      <td>To ver-ify this, we carry out annual compensation studies world-wide.</td>\n",
       "      <td>0</td>\n",
       "    </tr>\n",
       "    <tr>\n",
       "      <th>4</th>\n",
       "      <td>The total compensation package is made up of monthly remuneration and a variable compensation com-ponent;andthereareawiderangeofadditionalbenefits, such as a company pension.</td>\n",
       "      <td>0</td>\n",
       "    </tr>\n",
       "    <tr>\n",
       "      <th>...</th>\n",
       "      <td>...</td>\n",
       "      <td>...</td>\n",
       "    </tr>\n",
       "    <tr>\n",
       "      <th>811</th>\n",
       "      <td>Following all applicable laws and regulations that govern working hours, guarantee fair and equal compensation, and protect the right to collective bargaining and freedom of association.</td>\n",
       "      <td>0</td>\n",
       "    </tr>\n",
       "    <tr>\n",
       "      <th>812</th>\n",
       "      <td>When we find differences in compensation not explained by relevant job factors, we adjust compensation accordingly.</td>\n",
       "      <td>0</td>\n",
       "    </tr>\n",
       "    <tr>\n",
       "      <th>813</th>\n",
       "      <td>We provide competitive remuneration and benefits designed to attract, motivate and retain talent at all levels.</td>\n",
       "      <td>0</td>\n",
       "    </tr>\n",
       "    <tr>\n",
       "      <th>814</th>\n",
       "      <td>Attracting and retaining talent We offer competitive remuneration and employee benefits, including medical benefits, retirement schemes, and bonuses.</td>\n",
       "      <td>0</td>\n",
       "    </tr>\n",
       "    <tr>\n",
       "      <th>815</th>\n",
       "      <td>Remuneration decisions are based on roles and responsibilities, individual and business performance, and conditions in the employment markets and economies in which we operate.</td>\n",
       "      <td>0</td>\n",
       "    </tr>\n",
       "  </tbody>\n",
       "</table>\n",
       "<p>816 rows × 2 columns</p>\n",
       "</div>"
      ],
      "text/plain": [
       "                                                                                                                                                                                          words  \\\n",
       "0                                          As a result, the personal targets set for managers include sustainability aspectsandcriteriawhichhaveaneffectontheirperform-ance-based remuneration.   \n",
       "1          The Supervisory Board decides on the level of compensation received by members of the Board of Management, orient-ing its decisions on the sustainable development of the BMW Group.   \n",
       "2         In order to guar-antee that the BMW Group remains an attractive employer, we aim to ensure that the total compensation package is above the average for the respective labour market.   \n",
       "3                                                                                                                         To ver-ify this, we carry out annual compensation studies world-wide.   \n",
       "4                The total compensation package is made up of monthly remuneration and a variable compensation com-ponent;andthereareawiderangeofadditionalbenefits, such as a company pension.   \n",
       "..                                                                                                                                                                                          ...   \n",
       "811  Following all applicable laws and regulations that govern working hours, guarantee fair and equal compensation, and protect the right to collective bargaining and freedom of association.   \n",
       "812                                                                         When we find differences in compensation not explained by relevant job factors, we adjust compensation accordingly.   \n",
       "813                                                                             We provide competitive remuneration and benefits designed to attract, motivate and retain talent at all levels.   \n",
       "814                                       Attracting and retaining talent We offer competitive remuneration and employee benefits, including medical benefits, retirement schemes, and bonuses.   \n",
       "815            Remuneration decisions are based on roles and responsibilities, individual and business performance, and conditions in the employment markets and economies in which we operate.   \n",
       "\n",
       "     GT  \n",
       "0     1  \n",
       "1     1  \n",
       "2     0  \n",
       "3     0  \n",
       "4     0  \n",
       "..   ..  \n",
       "811   0  \n",
       "812   0  \n",
       "813   0  \n",
       "814   0  \n",
       "815   0  \n",
       "\n",
       "[816 rows x 2 columns]"
      ]
     },
     "execution_count": 142,
     "metadata": {},
     "output_type": "execute_result"
    }
   ],
   "source": [
    "df_gov"
   ]
  },
  {
   "cell_type": "code",
   "execution_count": 143,
   "id": "4a9686d6",
   "metadata": {},
   "outputs": [],
   "source": [
    "X = df_gov['words']\n",
    "y = df_gov['GT']"
   ]
  },
  {
   "cell_type": "code",
   "execution_count": 144,
   "id": "154231db",
   "metadata": {},
   "outputs": [
    {
     "data": {
      "text/plain": [
       "0    758\n",
       "1     58\n",
       "Name: GT, dtype: int64"
      ]
     },
     "execution_count": 144,
     "metadata": {},
     "output_type": "execute_result"
    }
   ],
   "source": [
    "y.value_counts()"
   ]
  },
  {
   "cell_type": "code",
   "execution_count": 145,
   "id": "71c42c44",
   "metadata": {},
   "outputs": [],
   "source": [
    "pd.set_option('max_colwidth', 1000)"
   ]
  },
  {
   "cell_type": "code",
   "execution_count": 146,
   "id": "4a6b6521",
   "metadata": {},
   "outputs": [
    {
     "data": {
      "text/html": [
       "<div>\n",
       "<style scoped>\n",
       "    .dataframe tbody tr th:only-of-type {\n",
       "        vertical-align: middle;\n",
       "    }\n",
       "\n",
       "    .dataframe tbody tr th {\n",
       "        vertical-align: top;\n",
       "    }\n",
       "\n",
       "    .dataframe thead th {\n",
       "        text-align: right;\n",
       "    }\n",
       "</style>\n",
       "<table border=\"1\" class=\"dataframe\">\n",
       "  <thead>\n",
       "    <tr style=\"text-align: right;\">\n",
       "      <th></th>\n",
       "      <th>words</th>\n",
       "      <th>GT</th>\n",
       "    </tr>\n",
       "  </thead>\n",
       "  <tbody>\n",
       "    <tr>\n",
       "      <th>2</th>\n",
       "      <td>In order to guar-antee that the BMW Group remains an attractive employer, we aim to ensure that the total compensation package is above the average for the respective labour market.</td>\n",
       "      <td>0</td>\n",
       "    </tr>\n",
       "    <tr>\n",
       "      <th>3</th>\n",
       "      <td>To ver-ify this, we carry out annual compensation studies world-wide.</td>\n",
       "      <td>0</td>\n",
       "    </tr>\n",
       "    <tr>\n",
       "      <th>4</th>\n",
       "      <td>The total compensation package is made up of monthly remuneration and a variable compensation com-ponent;andthereareawiderangeofadditionalbenefits, such as a company pension.</td>\n",
       "      <td>0</td>\n",
       "    </tr>\n",
       "    <tr>\n",
       "      <th>5</th>\n",
       "      <td>The variable remuneration component was reviewed in 2019 and brought back to a levelthatisinlinewiththemarketwitheffectfrom2020, thus ensuring that it remains competitive.</td>\n",
       "      <td>0</td>\n",
       "    </tr>\n",
       "    <tr>\n",
       "      <th>6</th>\n",
       "      <td>The same remuneration policies apply for all of the BMW Group companies regardless of employees gender, religion, origin, age, disability, sexual orientation or an integral part of a consistent and transparent process of employee development worldwide.</td>\n",
       "      <td>0</td>\n",
       "    </tr>\n",
       "    <tr>\n",
       "      <th>...</th>\n",
       "      <td>...</td>\n",
       "      <td>...</td>\n",
       "    </tr>\n",
       "    <tr>\n",
       "      <th>811</th>\n",
       "      <td>Following all applicable laws and regulations that govern working hours, guarantee fair and equal compensation, and protect the right to collective bargaining and freedom of association.</td>\n",
       "      <td>0</td>\n",
       "    </tr>\n",
       "    <tr>\n",
       "      <th>812</th>\n",
       "      <td>When we find differences in compensation not explained by relevant job factors, we adjust compensation accordingly.</td>\n",
       "      <td>0</td>\n",
       "    </tr>\n",
       "    <tr>\n",
       "      <th>813</th>\n",
       "      <td>We provide competitive remuneration and benefits designed to attract, motivate and retain talent at all levels.</td>\n",
       "      <td>0</td>\n",
       "    </tr>\n",
       "    <tr>\n",
       "      <th>814</th>\n",
       "      <td>Attracting and retaining talent We offer competitive remuneration and employee benefits, including medical benefits, retirement schemes, and bonuses.</td>\n",
       "      <td>0</td>\n",
       "    </tr>\n",
       "    <tr>\n",
       "      <th>815</th>\n",
       "      <td>Remuneration decisions are based on roles and responsibilities, individual and business performance, and conditions in the employment markets and economies in which we operate.</td>\n",
       "      <td>0</td>\n",
       "    </tr>\n",
       "  </tbody>\n",
       "</table>\n",
       "<p>758 rows × 2 columns</p>\n",
       "</div>"
      ],
      "text/plain": [
       "                                                                                                                                                                                                                                                            words  \\\n",
       "2                                                                           In order to guar-antee that the BMW Group remains an attractive employer, we aim to ensure that the total compensation package is above the average for the respective labour market.   \n",
       "3                                                                                                                                                                                           To ver-ify this, we carry out annual compensation studies world-wide.   \n",
       "4                                                                                  The total compensation package is made up of monthly remuneration and a variable compensation com-ponent;andthereareawiderangeofadditionalbenefits, such as a company pension.   \n",
       "5                                                                                     The variable remuneration component was reviewed in 2019 and brought back to a levelthatisinlinewiththemarketwitheffectfrom2020, thus ensuring that it remains competitive.   \n",
       "6    The same remuneration policies apply for all of the BMW Group companies regardless of employees gender, religion, origin, age, disability, sexual orientation or an integral part of a consistent and transparent process of employee development worldwide.   \n",
       "..                                                                                                                                                                                                                                                            ...   \n",
       "811                                                                    Following all applicable laws and regulations that govern working hours, guarantee fair and equal compensation, and protect the right to collective bargaining and freedom of association.   \n",
       "812                                                                                                                                           When we find differences in compensation not explained by relevant job factors, we adjust compensation accordingly.   \n",
       "813                                                                                                                                               We provide competitive remuneration and benefits designed to attract, motivate and retain talent at all levels.   \n",
       "814                                                                                                         Attracting and retaining talent We offer competitive remuneration and employee benefits, including medical benefits, retirement schemes, and bonuses.   \n",
       "815                                                                              Remuneration decisions are based on roles and responsibilities, individual and business performance, and conditions in the employment markets and economies in which we operate.   \n",
       "\n",
       "     GT  \n",
       "2     0  \n",
       "3     0  \n",
       "4     0  \n",
       "5     0  \n",
       "6     0  \n",
       "..   ..  \n",
       "811   0  \n",
       "812   0  \n",
       "813   0  \n",
       "814   0  \n",
       "815   0  \n",
       "\n",
       "[758 rows x 2 columns]"
      ]
     },
     "execution_count": 146,
     "metadata": {},
     "output_type": "execute_result"
    }
   ],
   "source": [
    "df_gov[df_gov['GT'] == 0]"
   ]
  },
  {
   "cell_type": "markdown",
   "id": "70456a6c",
   "metadata": {},
   "source": [
    "### Word Embedding"
   ]
  },
  {
   "cell_type": "code",
   "execution_count": 147,
   "id": "6adb7c39",
   "metadata": {},
   "outputs": [
    {
     "data": {
      "text/plain": [
       "0                                            as a result, the personal targets set for managers include sustainability aspectsandcriteriawhichhaveaneffectontheirperform-ance-based remuneration.\n",
       "1            the supervisory board decides on the level of compensation received by members of the board of management, orient-ing its decisions on the sustainable development of the bmw group.\n",
       "2           in order to guar-antee that the bmw group remains an attractive employer, we aim to ensure that the total compensation package is above the average for the respective labour market.\n",
       "3                                                                                                                           to ver-ify this, we carry out annual compensation studies world-wide.\n",
       "4                  the total compensation package is made up of monthly remuneration and a variable compensation com-ponent;andthereareawiderangeofadditionalbenefits, such as a company pension.\n",
       "                                                                                                  ...                                                                                            \n",
       "811    following all applicable laws and regulations that govern working hours, guarantee fair and equal compensation, and protect the right to collective bargaining and freedom of association.\n",
       "812                                                                           when we find differences in compensation not explained by relevant job factors, we adjust compensation accordingly.\n",
       "813                                                                               we provide competitive remuneration and benefits designed to attract, motivate and retain talent at all levels.\n",
       "814                                         attracting and retaining talent we offer competitive remuneration and employee benefits, including medical benefits, retirement schemes, and bonuses.\n",
       "815              remuneration decisions are based on roles and responsibilities, individual and business performance, and conditions in the employment markets and economies in which we operate.\n",
       "Name: words, Length: 816, dtype: object"
      ]
     },
     "execution_count": 147,
     "metadata": {},
     "output_type": "execute_result"
    }
   ],
   "source": [
    "X = X.apply(lambda x: x.lower())\n",
    "X"
   ]
  },
  {
   "cell_type": "code",
   "execution_count": 148,
   "id": "3c553ced",
   "metadata": {},
   "outputs": [],
   "source": [
    "tfidf = TfidfVectorizer()\n",
    "x = tfidf.fit_transform(X)\n",
    "X_encoded = pd.DataFrame(x.toarray())"
   ]
  },
  {
   "cell_type": "markdown",
   "id": "ca55c734",
   "metadata": {},
   "source": [
    "### Train Test Split"
   ]
  },
  {
   "cell_type": "code",
   "execution_count": 149,
   "id": "bafe720b",
   "metadata": {},
   "outputs": [],
   "source": [
    "X_train, X_test, y_train, y_test = train_test_split(X_encoded, y, test_size=0.3, random_state=42)"
   ]
  },
  {
   "cell_type": "code",
   "execution_count": 150,
   "id": "1b3958a4",
   "metadata": {
    "scrolled": true
   },
   "outputs": [
    {
     "data": {
      "text/html": [
       "<div>\n",
       "<style scoped>\n",
       "    .dataframe tbody tr th:only-of-type {\n",
       "        vertical-align: middle;\n",
       "    }\n",
       "\n",
       "    .dataframe tbody tr th {\n",
       "        vertical-align: top;\n",
       "    }\n",
       "\n",
       "    .dataframe thead th {\n",
       "        text-align: right;\n",
       "    }\n",
       "</style>\n",
       "<table border=\"1\" class=\"dataframe\">\n",
       "  <thead>\n",
       "    <tr style=\"text-align: right;\">\n",
       "      <th></th>\n",
       "      <th>0</th>\n",
       "      <th>1</th>\n",
       "      <th>2</th>\n",
       "      <th>3</th>\n",
       "      <th>4</th>\n",
       "      <th>5</th>\n",
       "      <th>6</th>\n",
       "      <th>7</th>\n",
       "      <th>8</th>\n",
       "      <th>9</th>\n",
       "      <th>...</th>\n",
       "      <th>2984</th>\n",
       "      <th>2985</th>\n",
       "      <th>2986</th>\n",
       "      <th>2987</th>\n",
       "      <th>2988</th>\n",
       "      <th>2989</th>\n",
       "      <th>2990</th>\n",
       "      <th>2991</th>\n",
       "      <th>2992</th>\n",
       "      <th>2993</th>\n",
       "    </tr>\n",
       "  </thead>\n",
       "  <tbody>\n",
       "    <tr>\n",
       "      <th>323</th>\n",
       "      <td>0.0</td>\n",
       "      <td>0.0</td>\n",
       "      <td>0.0</td>\n",
       "      <td>0.0</td>\n",
       "      <td>0.0</td>\n",
       "      <td>0.0</td>\n",
       "      <td>0.0</td>\n",
       "      <td>0.0</td>\n",
       "      <td>0.0</td>\n",
       "      <td>0.0</td>\n",
       "      <td>...</td>\n",
       "      <td>0.0</td>\n",
       "      <td>0.0</td>\n",
       "      <td>0.0</td>\n",
       "      <td>0.0</td>\n",
       "      <td>0.0</td>\n",
       "      <td>0.000000</td>\n",
       "      <td>0.0</td>\n",
       "      <td>0.0</td>\n",
       "      <td>0.0</td>\n",
       "      <td>0.0</td>\n",
       "    </tr>\n",
       "    <tr>\n",
       "      <th>132</th>\n",
       "      <td>0.0</td>\n",
       "      <td>0.0</td>\n",
       "      <td>0.0</td>\n",
       "      <td>0.0</td>\n",
       "      <td>0.0</td>\n",
       "      <td>0.0</td>\n",
       "      <td>0.0</td>\n",
       "      <td>0.0</td>\n",
       "      <td>0.0</td>\n",
       "      <td>0.0</td>\n",
       "      <td>...</td>\n",
       "      <td>0.0</td>\n",
       "      <td>0.0</td>\n",
       "      <td>0.0</td>\n",
       "      <td>0.0</td>\n",
       "      <td>0.0</td>\n",
       "      <td>0.000000</td>\n",
       "      <td>0.0</td>\n",
       "      <td>0.0</td>\n",
       "      <td>0.0</td>\n",
       "      <td>0.0</td>\n",
       "    </tr>\n",
       "    <tr>\n",
       "      <th>382</th>\n",
       "      <td>0.0</td>\n",
       "      <td>0.0</td>\n",
       "      <td>0.0</td>\n",
       "      <td>0.0</td>\n",
       "      <td>0.0</td>\n",
       "      <td>0.0</td>\n",
       "      <td>0.0</td>\n",
       "      <td>0.0</td>\n",
       "      <td>0.0</td>\n",
       "      <td>0.0</td>\n",
       "      <td>...</td>\n",
       "      <td>0.0</td>\n",
       "      <td>0.0</td>\n",
       "      <td>0.0</td>\n",
       "      <td>0.0</td>\n",
       "      <td>0.0</td>\n",
       "      <td>0.000000</td>\n",
       "      <td>0.0</td>\n",
       "      <td>0.0</td>\n",
       "      <td>0.0</td>\n",
       "      <td>0.0</td>\n",
       "    </tr>\n",
       "    <tr>\n",
       "      <th>265</th>\n",
       "      <td>0.0</td>\n",
       "      <td>0.0</td>\n",
       "      <td>0.0</td>\n",
       "      <td>0.0</td>\n",
       "      <td>0.0</td>\n",
       "      <td>0.0</td>\n",
       "      <td>0.0</td>\n",
       "      <td>0.0</td>\n",
       "      <td>0.0</td>\n",
       "      <td>0.0</td>\n",
       "      <td>...</td>\n",
       "      <td>0.0</td>\n",
       "      <td>0.0</td>\n",
       "      <td>0.0</td>\n",
       "      <td>0.0</td>\n",
       "      <td>0.0</td>\n",
       "      <td>0.000000</td>\n",
       "      <td>0.0</td>\n",
       "      <td>0.0</td>\n",
       "      <td>0.0</td>\n",
       "      <td>0.0</td>\n",
       "    </tr>\n",
       "    <tr>\n",
       "      <th>444</th>\n",
       "      <td>0.0</td>\n",
       "      <td>0.0</td>\n",
       "      <td>0.0</td>\n",
       "      <td>0.0</td>\n",
       "      <td>0.0</td>\n",
       "      <td>0.0</td>\n",
       "      <td>0.0</td>\n",
       "      <td>0.0</td>\n",
       "      <td>0.0</td>\n",
       "      <td>0.0</td>\n",
       "      <td>...</td>\n",
       "      <td>0.0</td>\n",
       "      <td>0.0</td>\n",
       "      <td>0.0</td>\n",
       "      <td>0.0</td>\n",
       "      <td>0.0</td>\n",
       "      <td>0.000000</td>\n",
       "      <td>0.0</td>\n",
       "      <td>0.0</td>\n",
       "      <td>0.0</td>\n",
       "      <td>0.0</td>\n",
       "    </tr>\n",
       "    <tr>\n",
       "      <th>...</th>\n",
       "      <td>...</td>\n",
       "      <td>...</td>\n",
       "      <td>...</td>\n",
       "      <td>...</td>\n",
       "      <td>...</td>\n",
       "      <td>...</td>\n",
       "      <td>...</td>\n",
       "      <td>...</td>\n",
       "      <td>...</td>\n",
       "      <td>...</td>\n",
       "      <td>...</td>\n",
       "      <td>...</td>\n",
       "      <td>...</td>\n",
       "      <td>...</td>\n",
       "      <td>...</td>\n",
       "      <td>...</td>\n",
       "      <td>...</td>\n",
       "      <td>...</td>\n",
       "      <td>...</td>\n",
       "      <td>...</td>\n",
       "      <td>...</td>\n",
       "    </tr>\n",
       "    <tr>\n",
       "      <th>71</th>\n",
       "      <td>0.0</td>\n",
       "      <td>0.0</td>\n",
       "      <td>0.0</td>\n",
       "      <td>0.0</td>\n",
       "      <td>0.0</td>\n",
       "      <td>0.0</td>\n",
       "      <td>0.0</td>\n",
       "      <td>0.0</td>\n",
       "      <td>0.0</td>\n",
       "      <td>0.0</td>\n",
       "      <td>...</td>\n",
       "      <td>0.0</td>\n",
       "      <td>0.0</td>\n",
       "      <td>0.0</td>\n",
       "      <td>0.0</td>\n",
       "      <td>0.0</td>\n",
       "      <td>0.147646</td>\n",
       "      <td>0.0</td>\n",
       "      <td>0.0</td>\n",
       "      <td>0.0</td>\n",
       "      <td>0.0</td>\n",
       "    </tr>\n",
       "    <tr>\n",
       "      <th>106</th>\n",
       "      <td>0.0</td>\n",
       "      <td>0.0</td>\n",
       "      <td>0.0</td>\n",
       "      <td>0.0</td>\n",
       "      <td>0.0</td>\n",
       "      <td>0.0</td>\n",
       "      <td>0.0</td>\n",
       "      <td>0.0</td>\n",
       "      <td>0.0</td>\n",
       "      <td>0.0</td>\n",
       "      <td>...</td>\n",
       "      <td>0.0</td>\n",
       "      <td>0.0</td>\n",
       "      <td>0.0</td>\n",
       "      <td>0.0</td>\n",
       "      <td>0.0</td>\n",
       "      <td>0.000000</td>\n",
       "      <td>0.0</td>\n",
       "      <td>0.0</td>\n",
       "      <td>0.0</td>\n",
       "      <td>0.0</td>\n",
       "    </tr>\n",
       "    <tr>\n",
       "      <th>270</th>\n",
       "      <td>0.0</td>\n",
       "      <td>0.0</td>\n",
       "      <td>0.0</td>\n",
       "      <td>0.0</td>\n",
       "      <td>0.0</td>\n",
       "      <td>0.0</td>\n",
       "      <td>0.0</td>\n",
       "      <td>0.0</td>\n",
       "      <td>0.0</td>\n",
       "      <td>0.0</td>\n",
       "      <td>...</td>\n",
       "      <td>0.0</td>\n",
       "      <td>0.0</td>\n",
       "      <td>0.0</td>\n",
       "      <td>0.0</td>\n",
       "      <td>0.0</td>\n",
       "      <td>0.000000</td>\n",
       "      <td>0.0</td>\n",
       "      <td>0.0</td>\n",
       "      <td>0.0</td>\n",
       "      <td>0.0</td>\n",
       "    </tr>\n",
       "    <tr>\n",
       "      <th>435</th>\n",
       "      <td>0.0</td>\n",
       "      <td>0.0</td>\n",
       "      <td>0.0</td>\n",
       "      <td>0.0</td>\n",
       "      <td>0.0</td>\n",
       "      <td>0.0</td>\n",
       "      <td>0.0</td>\n",
       "      <td>0.0</td>\n",
       "      <td>0.0</td>\n",
       "      <td>0.0</td>\n",
       "      <td>...</td>\n",
       "      <td>0.0</td>\n",
       "      <td>0.0</td>\n",
       "      <td>0.0</td>\n",
       "      <td>0.0</td>\n",
       "      <td>0.0</td>\n",
       "      <td>0.000000</td>\n",
       "      <td>0.0</td>\n",
       "      <td>0.0</td>\n",
       "      <td>0.0</td>\n",
       "      <td>0.0</td>\n",
       "    </tr>\n",
       "    <tr>\n",
       "      <th>102</th>\n",
       "      <td>0.0</td>\n",
       "      <td>0.0</td>\n",
       "      <td>0.0</td>\n",
       "      <td>0.0</td>\n",
       "      <td>0.0</td>\n",
       "      <td>0.0</td>\n",
       "      <td>0.0</td>\n",
       "      <td>0.0</td>\n",
       "      <td>0.0</td>\n",
       "      <td>0.0</td>\n",
       "      <td>...</td>\n",
       "      <td>0.0</td>\n",
       "      <td>0.0</td>\n",
       "      <td>0.0</td>\n",
       "      <td>0.0</td>\n",
       "      <td>0.0</td>\n",
       "      <td>0.000000</td>\n",
       "      <td>0.0</td>\n",
       "      <td>0.0</td>\n",
       "      <td>0.0</td>\n",
       "      <td>0.0</td>\n",
       "    </tr>\n",
       "  </tbody>\n",
       "</table>\n",
       "<p>571 rows × 2994 columns</p>\n",
       "</div>"
      ],
      "text/plain": [
       "     0     1     2     3     4     5     6     7     8     9     ...  2984  \\\n",
       "323   0.0   0.0   0.0   0.0   0.0   0.0   0.0   0.0   0.0   0.0  ...   0.0   \n",
       "132   0.0   0.0   0.0   0.0   0.0   0.0   0.0   0.0   0.0   0.0  ...   0.0   \n",
       "382   0.0   0.0   0.0   0.0   0.0   0.0   0.0   0.0   0.0   0.0  ...   0.0   \n",
       "265   0.0   0.0   0.0   0.0   0.0   0.0   0.0   0.0   0.0   0.0  ...   0.0   \n",
       "444   0.0   0.0   0.0   0.0   0.0   0.0   0.0   0.0   0.0   0.0  ...   0.0   \n",
       "..    ...   ...   ...   ...   ...   ...   ...   ...   ...   ...  ...   ...   \n",
       "71    0.0   0.0   0.0   0.0   0.0   0.0   0.0   0.0   0.0   0.0  ...   0.0   \n",
       "106   0.0   0.0   0.0   0.0   0.0   0.0   0.0   0.0   0.0   0.0  ...   0.0   \n",
       "270   0.0   0.0   0.0   0.0   0.0   0.0   0.0   0.0   0.0   0.0  ...   0.0   \n",
       "435   0.0   0.0   0.0   0.0   0.0   0.0   0.0   0.0   0.0   0.0  ...   0.0   \n",
       "102   0.0   0.0   0.0   0.0   0.0   0.0   0.0   0.0   0.0   0.0  ...   0.0   \n",
       "\n",
       "     2985  2986  2987  2988      2989  2990  2991  2992  2993  \n",
       "323   0.0   0.0   0.0   0.0  0.000000   0.0   0.0   0.0   0.0  \n",
       "132   0.0   0.0   0.0   0.0  0.000000   0.0   0.0   0.0   0.0  \n",
       "382   0.0   0.0   0.0   0.0  0.000000   0.0   0.0   0.0   0.0  \n",
       "265   0.0   0.0   0.0   0.0  0.000000   0.0   0.0   0.0   0.0  \n",
       "444   0.0   0.0   0.0   0.0  0.000000   0.0   0.0   0.0   0.0  \n",
       "..    ...   ...   ...   ...       ...   ...   ...   ...   ...  \n",
       "71    0.0   0.0   0.0   0.0  0.147646   0.0   0.0   0.0   0.0  \n",
       "106   0.0   0.0   0.0   0.0  0.000000   0.0   0.0   0.0   0.0  \n",
       "270   0.0   0.0   0.0   0.0  0.000000   0.0   0.0   0.0   0.0  \n",
       "435   0.0   0.0   0.0   0.0  0.000000   0.0   0.0   0.0   0.0  \n",
       "102   0.0   0.0   0.0   0.0  0.000000   0.0   0.0   0.0   0.0  \n",
       "\n",
       "[571 rows x 2994 columns]"
      ]
     },
     "execution_count": 150,
     "metadata": {},
     "output_type": "execute_result"
    }
   ],
   "source": [
    "X_train"
   ]
  },
  {
   "cell_type": "code",
   "execution_count": 151,
   "id": "9aee1a6a",
   "metadata": {},
   "outputs": [
    {
     "data": {
      "text/plain": [
       "0    526\n",
       "1     45\n",
       "Name: GT, dtype: int64"
      ]
     },
     "execution_count": 151,
     "metadata": {},
     "output_type": "execute_result"
    }
   ],
   "source": [
    "y_train.value_counts()"
   ]
  },
  {
   "cell_type": "code",
   "execution_count": 152,
   "id": "19e215dd",
   "metadata": {},
   "outputs": [],
   "source": [
    "ros = RandomOverSampler(sampling_strategy=1, random_state=42)"
   ]
  },
  {
   "cell_type": "code",
   "execution_count": 153,
   "id": "54d79ccd",
   "metadata": {},
   "outputs": [],
   "source": [
    "X_res, y_res = ros.fit_resample(X_train, y_train)"
   ]
  },
  {
   "cell_type": "code",
   "execution_count": 154,
   "id": "817d55f5",
   "metadata": {},
   "outputs": [
    {
     "data": {
      "text/plain": [
       "0    526\n",
       "1    526\n",
       "Name: GT, dtype: int64"
      ]
     },
     "execution_count": 154,
     "metadata": {},
     "output_type": "execute_result"
    }
   ],
   "source": [
    "y_res.value_counts()"
   ]
  },
  {
   "cell_type": "code",
   "execution_count": 155,
   "id": "13fcf3a5",
   "metadata": {},
   "outputs": [
    {
     "data": {
      "text/plain": [
       "0    232\n",
       "1     13\n",
       "Name: GT, dtype: int64"
      ]
     },
     "execution_count": 155,
     "metadata": {},
     "output_type": "execute_result"
    }
   ],
   "source": [
    "y_test.value_counts()"
   ]
  },
  {
   "cell_type": "markdown",
   "id": "24a5e219",
   "metadata": {},
   "source": [
    "### Logistic Regression"
   ]
  },
  {
   "cell_type": "code",
   "execution_count": 156,
   "id": "920c6805",
   "metadata": {},
   "outputs": [
    {
     "data": {
      "text/plain": [
       "LogisticRegression(random_state=42)"
      ]
     },
     "execution_count": 156,
     "metadata": {},
     "output_type": "execute_result"
    }
   ],
   "source": [
    "model1 = LogisticRegression(random_state=42)\n",
    "model1.fit(X_res, y_res)"
   ]
  },
  {
   "cell_type": "code",
   "execution_count": 157,
   "id": "82fe8d5e",
   "metadata": {},
   "outputs": [],
   "source": [
    "y_pred = model1.predict(X_test)"
   ]
  },
  {
   "cell_type": "code",
   "execution_count": 158,
   "id": "76873f5d",
   "metadata": {},
   "outputs": [
    {
     "name": "stderr",
     "output_type": "stream",
     "text": [
      "C:\\Anaconda3\\lib\\site-packages\\sklearn\\utils\\deprecation.py:87: FutureWarning: Function plot_confusion_matrix is deprecated; Function `plot_confusion_matrix` is deprecated in 1.0 and will be removed in 1.2. Use one of the class methods: ConfusionMatrixDisplay.from_predictions or ConfusionMatrixDisplay.from_estimator.\n",
      "  warnings.warn(msg, category=FutureWarning)\n"
     ]
    },
    {
     "data": {
      "text/plain": [
       "<sklearn.metrics._plot.confusion_matrix.ConfusionMatrixDisplay at 0x264398ed250>"
      ]
     },
     "execution_count": 158,
     "metadata": {},
     "output_type": "execute_result"
    },
    {
     "data": {
      "image/png": "[encoded data removed]",
      "text/plain": [
       "<Figure size 432x288 with 2 Axes>"
      ]
     },
     "metadata": {
      "needs_background": "light"
     },
     "output_type": "display_data"
    }
   ],
   "source": [
    "plot_confusion_matrix(model1, X_test, y_test)"
   ]
  },
  {
   "cell_type": "code",
   "execution_count": 159,
   "id": "658738cc",
   "metadata": {},
   "outputs": [
    {
     "name": "stdout",
     "output_type": "stream",
     "text": [
      "              precision    recall  f1-score   support\n",
      "\n",
      "           0       0.97      0.97      0.97       232\n",
      "           1       0.54      0.54      0.54        13\n",
      "\n",
      "    accuracy                           0.95       245\n",
      "   macro avg       0.76      0.76      0.76       245\n",
      "weighted avg       0.95      0.95      0.95       245\n",
      "\n"
     ]
    }
   ],
   "source": [
    "print(classification_report(y_test, y_pred))"
   ]
  },
  {
   "cell_type": "code",
   "execution_count": 160,
   "id": "fed11114",
   "metadata": {},
   "outputs": [],
   "source": [
    "lr_pred = y_pred"
   ]
  },
  {
   "cell_type": "markdown",
   "id": "cf39d37e",
   "metadata": {},
   "source": [
    "### Random Forest"
   ]
  },
  {
   "cell_type": "code",
   "execution_count": 161,
   "id": "aced410d",
   "metadata": {},
   "outputs": [],
   "source": [
    "param_grid = {'bootstrap': [True, False],\n",
    " 'max_depth': [10, 20, 30, 40, 50, None],\n",
    " 'max_features': ['auto', 'sqrt'],\n",
    " 'min_samples_leaf': [1, 2, 4, 8, 16],\n",
    " 'min_samples_split': [2, 4, 6, 8, 10],\n",
    " 'n_estimators': [10, 20, 30, 40, 50, 60, 70, 80, 90, 100]}"
   ]
  },
  {
   "cell_type": "code",
   "execution_count": 162,
   "id": "dc1fa53b",
   "metadata": {},
   "outputs": [
    {
     "name": "stdout",
     "output_type": "stream",
     "text": [
      "Fitting 3 folds for each of 100 candidates, totalling 300 fits\n",
      "[CV] END bootstrap=True, max_depth=40, max_features=sqrt, min_samples_leaf=1, min_samples_split=8, n_estimators=30; total time=   0.0s\n",
      "[CV] END bootstrap=True, max_depth=40, max_features=sqrt, min_samples_leaf=1, min_samples_split=8, n_estimators=30; total time=   0.0s\n",
      "[CV] END bootstrap=True, max_depth=40, max_features=sqrt, min_samples_leaf=1, min_samples_split=8, n_estimators=30; total time=   0.1s\n",
      "[CV] END bootstrap=False, max_depth=20, max_features=sqrt, min_samples_leaf=8, min_samples_split=4, n_estimators=80; total time=   0.2s\n",
      "[CV] END bootstrap=False, max_depth=20, max_features=sqrt, min_samples_leaf=8, min_samples_split=4, n_estimators=80; total time=   0.2s\n",
      "[CV] END bootstrap=False, max_depth=20, max_features=sqrt, min_samples_leaf=8, min_samples_split=4, n_estimators=80; total time=   0.2s\n",
      "[CV] END bootstrap=True, max_depth=10, max_features=auto, min_samples_leaf=16, min_samples_split=6, n_estimators=20; total time=   0.0s\n",
      "[CV] END bootstrap=True, max_depth=10, max_features=auto, min_samples_leaf=16, min_samples_split=6, n_estimators=20; total time=   0.0s\n",
      "[CV] END bootstrap=True, max_depth=10, max_features=auto, min_samples_leaf=16, min_samples_split=6, n_estimators=20; total time=   0.0s\n",
      "[CV] END bootstrap=True, max_depth=50, max_features=auto, min_samples_leaf=4, min_samples_split=8, n_estimators=60; total time=   0.1s\n",
      "[CV] END bootstrap=True, max_depth=50, max_features=auto, min_samples_leaf=4, min_samples_split=8, n_estimators=60; total time=   0.1s\n",
      "[CV] END bootstrap=True, max_depth=50, max_features=auto, min_samples_leaf=4, min_samples_split=8, n_estimators=60; total time=   0.1s\n",
      "[CV] END bootstrap=False, max_depth=50, max_features=auto, min_samples_leaf=16, min_samples_split=6, n_estimators=50; total time=   0.1s\n",
      "[CV] END bootstrap=False, max_depth=50, max_features=auto, min_samples_leaf=16, min_samples_split=6, n_estimators=50; total time=   0.0s\n",
      "[CV] END bootstrap=False, max_depth=50, max_features=auto, min_samples_leaf=16, min_samples_split=6, n_estimators=50; total time=   0.0s\n",
      "[CV] END bootstrap=True, max_depth=30, max_features=auto, min_samples_leaf=8, min_samples_split=4, n_estimators=90; total time=   0.1s\n",
      "[CV] END bootstrap=True, max_depth=30, max_features=auto, min_samples_leaf=8, min_samples_split=4, n_estimators=90; total time=   0.1s\n",
      "[CV] END bootstrap=True, max_depth=30, max_features=auto, min_samples_leaf=8, min_samples_split=4, n_estimators=90; total time=   0.1s\n",
      "[CV] END bootstrap=True, max_depth=20, max_features=sqrt, min_samples_leaf=4, min_samples_split=6, n_estimators=100; total time=   0.2s\n",
      "[CV] END bootstrap=True, max_depth=20, max_features=sqrt, min_samples_leaf=4, min_samples_split=6, n_estimators=100; total time=   0.2s\n",
      "[CV] END bootstrap=True, max_depth=20, max_features=sqrt, min_samples_leaf=4, min_samples_split=6, n_estimators=100; total time=   0.2s\n",
      "[CV] END bootstrap=True, max_depth=10, max_features=auto, min_samples_leaf=8, min_samples_split=2, n_estimators=70; total time=   0.1s\n",
      "[CV] END bootstrap=True, max_depth=10, max_features=auto, min_samples_leaf=8, min_samples_split=2, n_estimators=70; total time=   0.1s\n",
      "[CV] END bootstrap=True, max_depth=10, max_features=auto, min_samples_leaf=8, min_samples_split=2, n_estimators=70; total time=   0.1s\n",
      "[CV] END bootstrap=True, max_depth=40, max_features=auto, min_samples_leaf=8, min_samples_split=2, n_estimators=80; total time=   0.1s\n",
      "[CV] END bootstrap=True, max_depth=40, max_features=auto, min_samples_leaf=8, min_samples_split=2, n_estimators=80; total time=   0.1s\n",
      "[CV] END bootstrap=True, max_depth=40, max_features=auto, min_samples_leaf=8, min_samples_split=2, n_estimators=80; total time=   0.1s\n",
      "[CV] END bootstrap=True, max_depth=10, max_features=sqrt, min_samples_leaf=2, min_samples_split=6, n_estimators=40; total time=   0.0s\n",
      "[CV] END bootstrap=True, max_depth=10, max_features=sqrt, min_samples_leaf=2, min_samples_split=6, n_estimators=40; total time=   0.1s\n",
      "[CV] END bootstrap=True, max_depth=10, max_features=sqrt, min_samples_leaf=2, min_samples_split=6, n_estimators=40; total time=   0.1s\n",
      "[CV] END bootstrap=False, max_depth=50, max_features=sqrt, min_samples_leaf=2, min_samples_split=2, n_estimators=30; total time=   0.1s\n",
      "[CV] END bootstrap=False, max_depth=50, max_features=sqrt, min_samples_leaf=2, min_samples_split=2, n_estimators=30; total time=   0.1s\n",
      "[CV] END bootstrap=False, max_depth=50, max_features=sqrt, min_samples_leaf=2, min_samples_split=2, n_estimators=30; total time=   0.1s\n",
      "[CV] END bootstrap=True, max_depth=None, max_features=auto, min_samples_leaf=4, min_samples_split=4, n_estimators=20; total time=   0.0s\n",
      "[CV] END bootstrap=True, max_depth=None, max_features=auto, min_samples_leaf=4, min_samples_split=4, n_estimators=20; total time=   0.0s\n",
      "[CV] END bootstrap=True, max_depth=None, max_features=auto, min_samples_leaf=4, min_samples_split=4, n_estimators=20; total time=   0.0s\n",
      "[CV] END bootstrap=True, max_depth=20, max_features=sqrt, min_samples_leaf=2, min_samples_split=4, n_estimators=20; total time=   0.0s\n",
      "[CV] END bootstrap=True, max_depth=20, max_features=sqrt, min_samples_leaf=2, min_samples_split=4, n_estimators=20; total time=   0.0s\n",
      "[CV] END bootstrap=True, max_depth=20, max_features=sqrt, min_samples_leaf=2, min_samples_split=4, n_estimators=20; total time=   0.0s\n",
      "[CV] END bootstrap=True, max_depth=10, max_features=sqrt, min_samples_leaf=4, min_samples_split=10, n_estimators=40; total time=   0.0s\n",
      "[CV] END bootstrap=True, max_depth=10, max_features=sqrt, min_samples_leaf=4, min_samples_split=10, n_estimators=40; total time=   0.1s\n",
      "[CV] END bootstrap=True, max_depth=10, max_features=sqrt, min_samples_leaf=4, min_samples_split=10, n_estimators=40; total time=   0.0s\n",
      "[CV] END bootstrap=False, max_depth=20, max_features=auto, min_samples_leaf=2, min_samples_split=10, n_estimators=40; total time=   0.1s\n",
      "[CV] END bootstrap=False, max_depth=20, max_features=auto, min_samples_leaf=2, min_samples_split=10, n_estimators=40; total time=   0.1s\n",
      "[CV] END bootstrap=False, max_depth=20, max_features=auto, min_samples_leaf=2, min_samples_split=10, n_estimators=40; total time=   0.1s\n",
      "[CV] END bootstrap=True, max_depth=None, max_features=auto, min_samples_leaf=4, min_samples_split=8, n_estimators=90; total time=   0.2s\n",
      "[CV] END bootstrap=True, max_depth=None, max_features=auto, min_samples_leaf=4, min_samples_split=8, n_estimators=90; total time=   0.2s\n",
      "[CV] END bootstrap=True, max_depth=None, max_features=auto, min_samples_leaf=4, min_samples_split=8, n_estimators=90; total time=   0.2s\n",
      "[CV] END bootstrap=True, max_depth=50, max_features=auto, min_samples_leaf=8, min_samples_split=8, n_estimators=80; total time=   0.1s\n",
      "[CV] END bootstrap=True, max_depth=50, max_features=auto, min_samples_leaf=8, min_samples_split=8, n_estimators=80; total time=   0.1s\n",
      "[CV] END bootstrap=True, max_depth=50, max_features=auto, min_samples_leaf=8, min_samples_split=8, n_estimators=80; total time=   0.2s\n",
      "[CV] END bootstrap=False, max_depth=50, max_features=sqrt, min_samples_leaf=4, min_samples_split=2, n_estimators=20; total time=   0.0s\n",
      "[CV] END bootstrap=False, max_depth=50, max_features=sqrt, min_samples_leaf=4, min_samples_split=2, n_estimators=20; total time=   0.1s\n",
      "[CV] END bootstrap=False, max_depth=50, max_features=sqrt, min_samples_leaf=4, min_samples_split=2, n_estimators=20; total time=   0.1s\n",
      "[CV] END bootstrap=True, max_depth=10, max_features=sqrt, min_samples_leaf=2, min_samples_split=4, n_estimators=100; total time=   0.3s\n",
      "[CV] END bootstrap=True, max_depth=10, max_features=sqrt, min_samples_leaf=2, min_samples_split=4, n_estimators=100; total time=   0.3s\n",
      "[CV] END bootstrap=True, max_depth=10, max_features=sqrt, min_samples_leaf=2, min_samples_split=4, n_estimators=100; total time=   0.3s\n",
      "[CV] END bootstrap=True, max_depth=10, max_features=auto, min_samples_leaf=8, min_samples_split=4, n_estimators=80; total time=   0.2s\n",
      "[CV] END bootstrap=True, max_depth=10, max_features=auto, min_samples_leaf=8, min_samples_split=4, n_estimators=80; total time=   0.2s\n",
      "[CV] END bootstrap=True, max_depth=10, max_features=auto, min_samples_leaf=8, min_samples_split=4, n_estimators=80; total time=   0.2s\n"
     ]
    },
    {
     "name": "stdout",
     "output_type": "stream",
     "text": [
      "[CV] END bootstrap=True, max_depth=20, max_features=auto, min_samples_leaf=16, min_samples_split=10, n_estimators=70; total time=   0.1s\n",
      "[CV] END bootstrap=True, max_depth=20, max_features=auto, min_samples_leaf=16, min_samples_split=10, n_estimators=70; total time=   0.2s\n",
      "[CV] END bootstrap=True, max_depth=20, max_features=auto, min_samples_leaf=16, min_samples_split=10, n_estimators=70; total time=   0.2s\n",
      "[CV] END bootstrap=False, max_depth=50, max_features=sqrt, min_samples_leaf=16, min_samples_split=6, n_estimators=10; total time=   0.0s\n",
      "[CV] END bootstrap=False, max_depth=50, max_features=sqrt, min_samples_leaf=16, min_samples_split=6, n_estimators=10; total time=   0.0s\n",
      "[CV] END bootstrap=False, max_depth=50, max_features=sqrt, min_samples_leaf=16, min_samples_split=6, n_estimators=10; total time=   0.0s\n",
      "[CV] END bootstrap=False, max_depth=20, max_features=auto, min_samples_leaf=16, min_samples_split=2, n_estimators=80; total time=   0.3s\n",
      "[CV] END bootstrap=False, max_depth=20, max_features=auto, min_samples_leaf=16, min_samples_split=2, n_estimators=80; total time=   0.2s\n",
      "[CV] END bootstrap=False, max_depth=20, max_features=auto, min_samples_leaf=16, min_samples_split=2, n_estimators=80; total time=   0.2s\n",
      "[CV] END bootstrap=True, max_depth=None, max_features=sqrt, min_samples_leaf=1, min_samples_split=4, n_estimators=50; total time=   0.2s\n",
      "[CV] END bootstrap=True, max_depth=None, max_features=sqrt, min_samples_leaf=1, min_samples_split=4, n_estimators=50; total time=   0.2s\n",
      "[CV] END bootstrap=True, max_depth=None, max_features=sqrt, min_samples_leaf=1, min_samples_split=4, n_estimators=50; total time=   0.2s\n",
      "[CV] END bootstrap=False, max_depth=50, max_features=auto, min_samples_leaf=4, min_samples_split=4, n_estimators=30; total time=   0.1s\n",
      "[CV] END bootstrap=False, max_depth=50, max_features=auto, min_samples_leaf=4, min_samples_split=4, n_estimators=30; total time=   0.1s\n",
      "[CV] END bootstrap=False, max_depth=50, max_features=auto, min_samples_leaf=4, min_samples_split=4, n_estimators=30; total time=   0.1s\n",
      "[CV] END bootstrap=False, max_depth=30, max_features=auto, min_samples_leaf=1, min_samples_split=2, n_estimators=70; total time=   0.4s\n",
      "[CV] END bootstrap=False, max_depth=30, max_features=auto, min_samples_leaf=1, min_samples_split=2, n_estimators=70; total time=   0.4s\n",
      "[CV] END bootstrap=False, max_depth=30, max_features=auto, min_samples_leaf=1, min_samples_split=2, n_estimators=70; total time=   0.4s\n",
      "[CV] END bootstrap=True, max_depth=40, max_features=sqrt, min_samples_leaf=4, min_samples_split=6, n_estimators=20; total time=   0.1s\n",
      "[CV] END bootstrap=True, max_depth=40, max_features=sqrt, min_samples_leaf=4, min_samples_split=6, n_estimators=20; total time=   0.1s\n",
      "[CV] END bootstrap=True, max_depth=40, max_features=sqrt, min_samples_leaf=4, min_samples_split=6, n_estimators=20; total time=   0.0s\n",
      "[CV] END bootstrap=False, max_depth=None, max_features=sqrt, min_samples_leaf=1, min_samples_split=2, n_estimators=70; total time=   0.3s\n",
      "[CV] END bootstrap=False, max_depth=None, max_features=sqrt, min_samples_leaf=1, min_samples_split=2, n_estimators=70; total time=   0.3s\n",
      "[CV] END bootstrap=False, max_depth=None, max_features=sqrt, min_samples_leaf=1, min_samples_split=2, n_estimators=70; total time=   0.3s\n",
      "[CV] END bootstrap=False, max_depth=10, max_features=auto, min_samples_leaf=8, min_samples_split=10, n_estimators=40; total time=   0.1s\n",
      "[CV] END bootstrap=False, max_depth=10, max_features=auto, min_samples_leaf=8, min_samples_split=10, n_estimators=40; total time=   0.1s\n",
      "[CV] END bootstrap=False, max_depth=10, max_features=auto, min_samples_leaf=8, min_samples_split=10, n_estimators=40; total time=   0.1s\n",
      "[CV] END bootstrap=False, max_depth=20, max_features=sqrt, min_samples_leaf=1, min_samples_split=2, n_estimators=50; total time=   0.3s\n",
      "[CV] END bootstrap=False, max_depth=20, max_features=sqrt, min_samples_leaf=1, min_samples_split=2, n_estimators=50; total time=   0.3s\n",
      "[CV] END bootstrap=False, max_depth=20, max_features=sqrt, min_samples_leaf=1, min_samples_split=2, n_estimators=50; total time=   0.3s\n",
      "[CV] END bootstrap=False, max_depth=None, max_features=auto, min_samples_leaf=4, min_samples_split=6, n_estimators=60; total time=   0.3s\n",
      "[CV] END bootstrap=False, max_depth=None, max_features=auto, min_samples_leaf=4, min_samples_split=6, n_estimators=60; total time=   0.3s\n",
      "[CV] END bootstrap=False, max_depth=None, max_features=auto, min_samples_leaf=4, min_samples_split=6, n_estimators=60; total time=   0.3s\n",
      "[CV] END bootstrap=False, max_depth=40, max_features=sqrt, min_samples_leaf=4, min_samples_split=10, n_estimators=50; total time=   0.2s\n",
      "[CV] END bootstrap=False, max_depth=40, max_features=sqrt, min_samples_leaf=4, min_samples_split=10, n_estimators=50; total time=   0.2s\n",
      "[CV] END bootstrap=False, max_depth=40, max_features=sqrt, min_samples_leaf=4, min_samples_split=10, n_estimators=50; total time=   0.3s\n",
      "[CV] END bootstrap=False, max_depth=30, max_features=auto, min_samples_leaf=4, min_samples_split=2, n_estimators=30; total time=   0.1s\n",
      "[CV] END bootstrap=False, max_depth=30, max_features=auto, min_samples_leaf=4, min_samples_split=2, n_estimators=30; total time=   0.1s\n",
      "[CV] END bootstrap=False, max_depth=30, max_features=auto, min_samples_leaf=4, min_samples_split=2, n_estimators=30; total time=   0.1s\n",
      "[CV] END bootstrap=True, max_depth=30, max_features=sqrt, min_samples_leaf=1, min_samples_split=4, n_estimators=20; total time=   0.1s\n",
      "[CV] END bootstrap=True, max_depth=30, max_features=sqrt, min_samples_leaf=1, min_samples_split=4, n_estimators=20; total time=   0.1s\n",
      "[CV] END bootstrap=True, max_depth=30, max_features=sqrt, min_samples_leaf=1, min_samples_split=4, n_estimators=20; total time=   0.1s\n",
      "[CV] END bootstrap=True, max_depth=50, max_features=sqrt, min_samples_leaf=2, min_samples_split=8, n_estimators=90; total time=   0.3s\n",
      "[CV] END bootstrap=True, max_depth=50, max_features=sqrt, min_samples_leaf=2, min_samples_split=8, n_estimators=90; total time=   0.3s\n",
      "[CV] END bootstrap=True, max_depth=50, max_features=sqrt, min_samples_leaf=2, min_samples_split=8, n_estimators=90; total time=   0.3s\n",
      "[CV] END bootstrap=True, max_depth=10, max_features=auto, min_samples_leaf=2, min_samples_split=8, n_estimators=50; total time=   0.1s\n",
      "[CV] END bootstrap=True, max_depth=10, max_features=auto, min_samples_leaf=2, min_samples_split=8, n_estimators=50; total time=   0.1s\n",
      "[CV] END bootstrap=True, max_depth=10, max_features=auto, min_samples_leaf=2, min_samples_split=8, n_estimators=50; total time=   0.1s\n",
      "[CV] END bootstrap=False, max_depth=20, max_features=sqrt, min_samples_leaf=2, min_samples_split=6, n_estimators=20; total time=   0.1s\n",
      "[CV] END bootstrap=False, max_depth=20, max_features=sqrt, min_samples_leaf=2, min_samples_split=6, n_estimators=20; total time=   0.1s\n",
      "[CV] END bootstrap=False, max_depth=20, max_features=sqrt, min_samples_leaf=2, min_samples_split=6, n_estimators=20; total time=   0.1s\n",
      "[CV] END bootstrap=True, max_depth=None, max_features=auto, min_samples_leaf=8, min_samples_split=2, n_estimators=40; total time=   0.1s\n",
      "[CV] END bootstrap=True, max_depth=None, max_features=auto, min_samples_leaf=8, min_samples_split=2, n_estimators=40; total time=   0.1s\n",
      "[CV] END bootstrap=True, max_depth=None, max_features=auto, min_samples_leaf=8, min_samples_split=2, n_estimators=40; total time=   0.1s\n",
      "[CV] END bootstrap=False, max_depth=None, max_features=auto, min_samples_leaf=1, min_samples_split=10, n_estimators=60; total time=   0.3s\n",
      "[CV] END bootstrap=False, max_depth=None, max_features=auto, min_samples_leaf=1, min_samples_split=10, n_estimators=60; total time=   0.3s\n",
      "[CV] END bootstrap=False, max_depth=None, max_features=auto, min_samples_leaf=1, min_samples_split=10, n_estimators=60; total time=   0.3s\n",
      "[CV] END bootstrap=True, max_depth=None, max_features=auto, min_samples_leaf=16, min_samples_split=10, n_estimators=70; total time=   0.1s\n",
      "[CV] END bootstrap=True, max_depth=None, max_features=auto, min_samples_leaf=16, min_samples_split=10, n_estimators=70; total time=   0.1s\n",
      "[CV] END bootstrap=True, max_depth=None, max_features=auto, min_samples_leaf=16, min_samples_split=10, n_estimators=70; total time=   0.1s\n",
      "[CV] END bootstrap=True, max_depth=None, max_features=sqrt, min_samples_leaf=4, min_samples_split=2, n_estimators=90; total time=   0.3s\n"
     ]
    },
    {
     "name": "stdout",
     "output_type": "stream",
     "text": [
      "[CV] END bootstrap=True, max_depth=None, max_features=sqrt, min_samples_leaf=4, min_samples_split=2, n_estimators=90; total time=   0.3s\n",
      "[CV] END bootstrap=True, max_depth=None, max_features=sqrt, min_samples_leaf=4, min_samples_split=2, n_estimators=90; total time=   0.3s\n",
      "[CV] END bootstrap=True, max_depth=20, max_features=sqrt, min_samples_leaf=16, min_samples_split=10, n_estimators=70; total time=   0.1s\n",
      "[CV] END bootstrap=True, max_depth=20, max_features=sqrt, min_samples_leaf=16, min_samples_split=10, n_estimators=70; total time=   0.1s\n",
      "[CV] END bootstrap=True, max_depth=20, max_features=sqrt, min_samples_leaf=16, min_samples_split=10, n_estimators=70; total time=   0.1s\n",
      "[CV] END bootstrap=True, max_depth=10, max_features=auto, min_samples_leaf=16, min_samples_split=6, n_estimators=90; total time=   0.2s\n",
      "[CV] END bootstrap=True, max_depth=10, max_features=auto, min_samples_leaf=16, min_samples_split=6, n_estimators=90; total time=   0.2s\n",
      "[CV] END bootstrap=True, max_depth=10, max_features=auto, min_samples_leaf=16, min_samples_split=6, n_estimators=90; total time=   0.2s\n",
      "[CV] END bootstrap=False, max_depth=10, max_features=sqrt, min_samples_leaf=1, min_samples_split=4, n_estimators=50; total time=   0.1s\n",
      "[CV] END bootstrap=False, max_depth=10, max_features=sqrt, min_samples_leaf=1, min_samples_split=4, n_estimators=50; total time=   0.1s\n",
      "[CV] END bootstrap=False, max_depth=10, max_features=sqrt, min_samples_leaf=1, min_samples_split=4, n_estimators=50; total time=   0.1s\n",
      "[CV] END bootstrap=False, max_depth=40, max_features=sqrt, min_samples_leaf=2, min_samples_split=6, n_estimators=90; total time=   0.4s\n",
      "[CV] END bootstrap=False, max_depth=40, max_features=sqrt, min_samples_leaf=2, min_samples_split=6, n_estimators=90; total time=   0.4s\n",
      "[CV] END bootstrap=False, max_depth=40, max_features=sqrt, min_samples_leaf=2, min_samples_split=6, n_estimators=90; total time=   0.4s\n",
      "[CV] END bootstrap=False, max_depth=20, max_features=sqrt, min_samples_leaf=8, min_samples_split=10, n_estimators=30; total time=   0.1s\n",
      "[CV] END bootstrap=False, max_depth=20, max_features=sqrt, min_samples_leaf=8, min_samples_split=10, n_estimators=30; total time=   0.1s\n",
      "[CV] END bootstrap=False, max_depth=20, max_features=sqrt, min_samples_leaf=8, min_samples_split=10, n_estimators=30; total time=   0.1s\n",
      "[CV] END bootstrap=False, max_depth=50, max_features=sqrt, min_samples_leaf=16, min_samples_split=2, n_estimators=100; total time=   0.2s\n",
      "[CV] END bootstrap=False, max_depth=50, max_features=sqrt, min_samples_leaf=16, min_samples_split=2, n_estimators=100; total time=   0.3s\n",
      "[CV] END bootstrap=False, max_depth=50, max_features=sqrt, min_samples_leaf=16, min_samples_split=2, n_estimators=100; total time=   0.2s\n",
      "[CV] END bootstrap=False, max_depth=20, max_features=sqrt, min_samples_leaf=2, min_samples_split=8, n_estimators=30; total time=   0.1s\n",
      "[CV] END bootstrap=False, max_depth=20, max_features=sqrt, min_samples_leaf=2, min_samples_split=8, n_estimators=30; total time=   0.1s\n",
      "[CV] END bootstrap=False, max_depth=20, max_features=sqrt, min_samples_leaf=2, min_samples_split=8, n_estimators=30; total time=   0.1s\n",
      "[CV] END bootstrap=True, max_depth=40, max_features=auto, min_samples_leaf=8, min_samples_split=2, n_estimators=30; total time=   0.1s\n",
      "[CV] END bootstrap=True, max_depth=40, max_features=auto, min_samples_leaf=8, min_samples_split=2, n_estimators=30; total time=   0.1s\n",
      "[CV] END bootstrap=True, max_depth=40, max_features=auto, min_samples_leaf=8, min_samples_split=2, n_estimators=30; total time=   0.1s\n",
      "[CV] END bootstrap=True, max_depth=10, max_features=auto, min_samples_leaf=2, min_samples_split=6, n_estimators=100; total time=   0.3s\n",
      "[CV] END bootstrap=True, max_depth=10, max_features=auto, min_samples_leaf=2, min_samples_split=6, n_estimators=100; total time=   0.3s\n",
      "[CV] END bootstrap=True, max_depth=10, max_features=auto, min_samples_leaf=2, min_samples_split=6, n_estimators=100; total time=   0.2s\n",
      "[CV] END bootstrap=True, max_depth=20, max_features=sqrt, min_samples_leaf=16, min_samples_split=4, n_estimators=50; total time=   0.1s\n",
      "[CV] END bootstrap=True, max_depth=20, max_features=sqrt, min_samples_leaf=16, min_samples_split=4, n_estimators=50; total time=   0.1s\n",
      "[CV] END bootstrap=True, max_depth=20, max_features=sqrt, min_samples_leaf=16, min_samples_split=4, n_estimators=50; total time=   0.1s\n",
      "[CV] END bootstrap=True, max_depth=20, max_features=sqrt, min_samples_leaf=8, min_samples_split=6, n_estimators=70; total time=   0.2s\n",
      "[CV] END bootstrap=True, max_depth=20, max_features=sqrt, min_samples_leaf=8, min_samples_split=6, n_estimators=70; total time=   0.2s\n",
      "[CV] END bootstrap=True, max_depth=20, max_features=sqrt, min_samples_leaf=8, min_samples_split=6, n_estimators=70; total time=   0.2s\n",
      "[CV] END bootstrap=True, max_depth=20, max_features=sqrt, min_samples_leaf=1, min_samples_split=10, n_estimators=50; total time=   0.2s\n",
      "[CV] END bootstrap=True, max_depth=20, max_features=sqrt, min_samples_leaf=1, min_samples_split=10, n_estimators=50; total time=   0.1s\n",
      "[CV] END bootstrap=True, max_depth=20, max_features=sqrt, min_samples_leaf=1, min_samples_split=10, n_estimators=50; total time=   0.2s\n",
      "[CV] END bootstrap=False, max_depth=10, max_features=sqrt, min_samples_leaf=4, min_samples_split=6, n_estimators=100; total time=   0.3s\n",
      "[CV] END bootstrap=False, max_depth=10, max_features=sqrt, min_samples_leaf=4, min_samples_split=6, n_estimators=100; total time=   0.3s\n",
      "[CV] END bootstrap=False, max_depth=10, max_features=sqrt, min_samples_leaf=4, min_samples_split=6, n_estimators=100; total time=   0.3s\n",
      "[CV] END bootstrap=False, max_depth=10, max_features=auto, min_samples_leaf=8, min_samples_split=4, n_estimators=50; total time=   0.1s\n",
      "[CV] END bootstrap=False, max_depth=10, max_features=auto, min_samples_leaf=8, min_samples_split=4, n_estimators=50; total time=   0.1s\n",
      "[CV] END bootstrap=False, max_depth=10, max_features=auto, min_samples_leaf=8, min_samples_split=4, n_estimators=50; total time=   0.1s\n",
      "[CV] END bootstrap=False, max_depth=40, max_features=auto, min_samples_leaf=8, min_samples_split=2, n_estimators=80; total time=   0.3s\n",
      "[CV] END bootstrap=False, max_depth=40, max_features=auto, min_samples_leaf=8, min_samples_split=2, n_estimators=80; total time=   0.3s\n",
      "[CV] END bootstrap=False, max_depth=40, max_features=auto, min_samples_leaf=8, min_samples_split=2, n_estimators=80; total time=   0.3s\n",
      "[CV] END bootstrap=False, max_depth=10, max_features=sqrt, min_samples_leaf=2, min_samples_split=4, n_estimators=20; total time=   0.0s\n",
      "[CV] END bootstrap=False, max_depth=10, max_features=sqrt, min_samples_leaf=2, min_samples_split=4, n_estimators=20; total time=   0.0s\n",
      "[CV] END bootstrap=False, max_depth=10, max_features=sqrt, min_samples_leaf=2, min_samples_split=4, n_estimators=20; total time=   0.0s\n",
      "[CV] END bootstrap=False, max_depth=20, max_features=sqrt, min_samples_leaf=8, min_samples_split=8, n_estimators=50; total time=   0.1s\n",
      "[CV] END bootstrap=False, max_depth=20, max_features=sqrt, min_samples_leaf=8, min_samples_split=8, n_estimators=50; total time=   0.2s\n",
      "[CV] END bootstrap=False, max_depth=20, max_features=sqrt, min_samples_leaf=8, min_samples_split=8, n_estimators=50; total time=   0.1s\n",
      "[CV] END bootstrap=True, max_depth=30, max_features=auto, min_samples_leaf=2, min_samples_split=6, n_estimators=50; total time=   0.2s\n",
      "[CV] END bootstrap=True, max_depth=30, max_features=auto, min_samples_leaf=2, min_samples_split=6, n_estimators=50; total time=   0.2s\n",
      "[CV] END bootstrap=True, max_depth=30, max_features=auto, min_samples_leaf=2, min_samples_split=6, n_estimators=50; total time=   0.2s\n",
      "[CV] END bootstrap=False, max_depth=40, max_features=sqrt, min_samples_leaf=2, min_samples_split=10, n_estimators=10; total time=   0.0s\n",
      "[CV] END bootstrap=False, max_depth=40, max_features=sqrt, min_samples_leaf=2, min_samples_split=10, n_estimators=10; total time=   0.0s\n",
      "[CV] END bootstrap=False, max_depth=40, max_features=sqrt, min_samples_leaf=2, min_samples_split=10, n_estimators=10; total time=   0.0s\n",
      "[CV] END bootstrap=False, max_depth=30, max_features=auto, min_samples_leaf=8, min_samples_split=8, n_estimators=40; total time=   0.1s\n",
      "[CV] END bootstrap=False, max_depth=30, max_features=auto, min_samples_leaf=8, min_samples_split=8, n_estimators=40; total time=   0.1s\n"
     ]
    },
    {
     "name": "stdout",
     "output_type": "stream",
     "text": [
      "[CV] END bootstrap=False, max_depth=30, max_features=auto, min_samples_leaf=8, min_samples_split=8, n_estimators=40; total time=   0.1s\n",
      "[CV] END bootstrap=True, max_depth=50, max_features=auto, min_samples_leaf=1, min_samples_split=6, n_estimators=50; total time=   0.2s\n",
      "[CV] END bootstrap=True, max_depth=50, max_features=auto, min_samples_leaf=1, min_samples_split=6, n_estimators=50; total time=   0.2s\n",
      "[CV] END bootstrap=True, max_depth=50, max_features=auto, min_samples_leaf=1, min_samples_split=6, n_estimators=50; total time=   0.2s\n",
      "[CV] END bootstrap=False, max_depth=None, max_features=auto, min_samples_leaf=8, min_samples_split=6, n_estimators=80; total time=   0.3s\n",
      "[CV] END bootstrap=False, max_depth=None, max_features=auto, min_samples_leaf=8, min_samples_split=6, n_estimators=80; total time=   0.3s\n",
      "[CV] END bootstrap=False, max_depth=None, max_features=auto, min_samples_leaf=8, min_samples_split=6, n_estimators=80; total time=   0.3s\n",
      "[CV] END bootstrap=False, max_depth=40, max_features=auto, min_samples_leaf=4, min_samples_split=8, n_estimators=50; total time=   0.2s\n",
      "[CV] END bootstrap=False, max_depth=40, max_features=auto, min_samples_leaf=4, min_samples_split=8, n_estimators=50; total time=   0.2s\n",
      "[CV] END bootstrap=False, max_depth=40, max_features=auto, min_samples_leaf=4, min_samples_split=8, n_estimators=50; total time=   0.2s\n",
      "[CV] END bootstrap=True, max_depth=40, max_features=auto, min_samples_leaf=16, min_samples_split=10, n_estimators=60; total time=   0.1s\n",
      "[CV] END bootstrap=True, max_depth=40, max_features=auto, min_samples_leaf=16, min_samples_split=10, n_estimators=60; total time=   0.1s\n",
      "[CV] END bootstrap=True, max_depth=40, max_features=auto, min_samples_leaf=16, min_samples_split=10, n_estimators=60; total time=   0.1s\n",
      "[CV] END bootstrap=False, max_depth=10, max_features=auto, min_samples_leaf=4, min_samples_split=10, n_estimators=40; total time=   0.1s\n",
      "[CV] END bootstrap=False, max_depth=10, max_features=auto, min_samples_leaf=4, min_samples_split=10, n_estimators=40; total time=   0.1s\n",
      "[CV] END bootstrap=False, max_depth=10, max_features=auto, min_samples_leaf=4, min_samples_split=10, n_estimators=40; total time=   0.1s\n",
      "[CV] END bootstrap=False, max_depth=10, max_features=sqrt, min_samples_leaf=1, min_samples_split=4, n_estimators=40; total time=   0.1s\n",
      "[CV] END bootstrap=False, max_depth=10, max_features=sqrt, min_samples_leaf=1, min_samples_split=4, n_estimators=40; total time=   0.1s\n",
      "[CV] END bootstrap=False, max_depth=10, max_features=sqrt, min_samples_leaf=1, min_samples_split=4, n_estimators=40; total time=   0.1s\n",
      "[CV] END bootstrap=False, max_depth=10, max_features=auto, min_samples_leaf=4, min_samples_split=6, n_estimators=20; total time=   0.0s\n",
      "[CV] END bootstrap=False, max_depth=10, max_features=auto, min_samples_leaf=4, min_samples_split=6, n_estimators=20; total time=   0.0s\n",
      "[CV] END bootstrap=False, max_depth=10, max_features=auto, min_samples_leaf=4, min_samples_split=6, n_estimators=20; total time=   0.0s\n",
      "[CV] END bootstrap=True, max_depth=30, max_features=sqrt, min_samples_leaf=16, min_samples_split=2, n_estimators=20; total time=   0.0s\n",
      "[CV] END bootstrap=True, max_depth=30, max_features=sqrt, min_samples_leaf=16, min_samples_split=2, n_estimators=20; total time=   0.0s\n",
      "[CV] END bootstrap=True, max_depth=30, max_features=sqrt, min_samples_leaf=16, min_samples_split=2, n_estimators=20; total time=   0.0s\n",
      "[CV] END bootstrap=True, max_depth=10, max_features=sqrt, min_samples_leaf=8, min_samples_split=8, n_estimators=100; total time=   0.3s\n",
      "[CV] END bootstrap=True, max_depth=10, max_features=sqrt, min_samples_leaf=8, min_samples_split=8, n_estimators=100; total time=   0.2s\n",
      "[CV] END bootstrap=True, max_depth=10, max_features=sqrt, min_samples_leaf=8, min_samples_split=8, n_estimators=100; total time=   0.3s\n",
      "[CV] END bootstrap=False, max_depth=10, max_features=sqrt, min_samples_leaf=2, min_samples_split=4, n_estimators=70; total time=   0.2s\n",
      "[CV] END bootstrap=False, max_depth=10, max_features=sqrt, min_samples_leaf=2, min_samples_split=4, n_estimators=70; total time=   0.2s\n",
      "[CV] END bootstrap=False, max_depth=10, max_features=sqrt, min_samples_leaf=2, min_samples_split=4, n_estimators=70; total time=   0.2s\n",
      "[CV] END bootstrap=False, max_depth=40, max_features=auto, min_samples_leaf=1, min_samples_split=10, n_estimators=40; total time=   0.2s\n",
      "[CV] END bootstrap=False, max_depth=40, max_features=auto, min_samples_leaf=1, min_samples_split=10, n_estimators=40; total time=   0.2s\n",
      "[CV] END bootstrap=False, max_depth=40, max_features=auto, min_samples_leaf=1, min_samples_split=10, n_estimators=40; total time=   0.2s\n",
      "[CV] END bootstrap=True, max_depth=None, max_features=sqrt, min_samples_leaf=16, min_samples_split=8, n_estimators=20; total time=   0.0s\n",
      "[CV] END bootstrap=True, max_depth=None, max_features=sqrt, min_samples_leaf=16, min_samples_split=8, n_estimators=20; total time=   0.0s\n",
      "[CV] END bootstrap=True, max_depth=None, max_features=sqrt, min_samples_leaf=16, min_samples_split=8, n_estimators=20; total time=   0.0s\n",
      "[CV] END bootstrap=True, max_depth=50, max_features=auto, min_samples_leaf=2, min_samples_split=8, n_estimators=10; total time=   0.0s\n",
      "[CV] END bootstrap=True, max_depth=50, max_features=auto, min_samples_leaf=2, min_samples_split=8, n_estimators=10; total time=   0.0s\n",
      "[CV] END bootstrap=True, max_depth=50, max_features=auto, min_samples_leaf=2, min_samples_split=8, n_estimators=10; total time=   0.0s\n",
      "[CV] END bootstrap=False, max_depth=30, max_features=auto, min_samples_leaf=1, min_samples_split=6, n_estimators=10; total time=   0.0s\n",
      "[CV] END bootstrap=False, max_depth=30, max_features=auto, min_samples_leaf=1, min_samples_split=6, n_estimators=10; total time=   0.0s\n",
      "[CV] END bootstrap=False, max_depth=30, max_features=auto, min_samples_leaf=1, min_samples_split=6, n_estimators=10; total time=   0.0s\n",
      "[CV] END bootstrap=True, max_depth=30, max_features=sqrt, min_samples_leaf=16, min_samples_split=2, n_estimators=50; total time=   0.1s\n",
      "[CV] END bootstrap=True, max_depth=30, max_features=sqrt, min_samples_leaf=16, min_samples_split=2, n_estimators=50; total time=   0.1s\n",
      "[CV] END bootstrap=True, max_depth=30, max_features=sqrt, min_samples_leaf=16, min_samples_split=2, n_estimators=50; total time=   0.1s\n",
      "[CV] END bootstrap=True, max_depth=10, max_features=sqrt, min_samples_leaf=1, min_samples_split=2, n_estimators=50; total time=   0.1s\n",
      "[CV] END bootstrap=True, max_depth=10, max_features=sqrt, min_samples_leaf=1, min_samples_split=2, n_estimators=50; total time=   0.1s\n",
      "[CV] END bootstrap=True, max_depth=10, max_features=sqrt, min_samples_leaf=1, min_samples_split=2, n_estimators=50; total time=   0.1s\n",
      "[CV] END bootstrap=True, max_depth=10, max_features=sqrt, min_samples_leaf=16, min_samples_split=4, n_estimators=60; total time=   0.1s\n",
      "[CV] END bootstrap=True, max_depth=10, max_features=sqrt, min_samples_leaf=16, min_samples_split=4, n_estimators=60; total time=   0.1s\n",
      "[CV] END bootstrap=True, max_depth=10, max_features=sqrt, min_samples_leaf=16, min_samples_split=4, n_estimators=60; total time=   0.1s\n",
      "[CV] END bootstrap=True, max_depth=50, max_features=auto, min_samples_leaf=4, min_samples_split=4, n_estimators=80; total time=   0.3s\n",
      "[CV] END bootstrap=True, max_depth=50, max_features=auto, min_samples_leaf=4, min_samples_split=4, n_estimators=80; total time=   0.3s\n",
      "[CV] END bootstrap=True, max_depth=50, max_features=auto, min_samples_leaf=4, min_samples_split=4, n_estimators=80; total time=   0.3s\n",
      "[CV] END bootstrap=True, max_depth=20, max_features=auto, min_samples_leaf=1, min_samples_split=2, n_estimators=70; total time=   0.2s\n",
      "[CV] END bootstrap=True, max_depth=20, max_features=auto, min_samples_leaf=1, min_samples_split=2, n_estimators=70; total time=   0.2s\n",
      "[CV] END bootstrap=True, max_depth=20, max_features=auto, min_samples_leaf=1, min_samples_split=2, n_estimators=70; total time=   0.2s\n",
      "[CV] END bootstrap=False, max_depth=30, max_features=sqrt, min_samples_leaf=1, min_samples_split=6, n_estimators=20; total time=   0.1s\n",
      "[CV] END bootstrap=False, max_depth=30, max_features=sqrt, min_samples_leaf=1, min_samples_split=6, n_estimators=20; total time=   0.1s\n",
      "[CV] END bootstrap=False, max_depth=30, max_features=sqrt, min_samples_leaf=1, min_samples_split=6, n_estimators=20; total time=   0.1s\n"
     ]
    },
    {
     "name": "stdout",
     "output_type": "stream",
     "text": [
      "[CV] END bootstrap=False, max_depth=30, max_features=sqrt, min_samples_leaf=1, min_samples_split=8, n_estimators=90; total time=   0.4s\n",
      "[CV] END bootstrap=False, max_depth=30, max_features=sqrt, min_samples_leaf=1, min_samples_split=8, n_estimators=90; total time=   0.4s\n",
      "[CV] END bootstrap=False, max_depth=30, max_features=sqrt, min_samples_leaf=1, min_samples_split=8, n_estimators=90; total time=   0.4s\n",
      "[CV] END bootstrap=False, max_depth=30, max_features=auto, min_samples_leaf=16, min_samples_split=4, n_estimators=40; total time=   0.1s\n",
      "[CV] END bootstrap=False, max_depth=30, max_features=auto, min_samples_leaf=16, min_samples_split=4, n_estimators=40; total time=   0.1s\n",
      "[CV] END bootstrap=False, max_depth=30, max_features=auto, min_samples_leaf=16, min_samples_split=4, n_estimators=40; total time=   0.1s\n",
      "[CV] END bootstrap=True, max_depth=10, max_features=auto, min_samples_leaf=16, min_samples_split=8, n_estimators=40; total time=   0.1s\n",
      "[CV] END bootstrap=True, max_depth=10, max_features=auto, min_samples_leaf=16, min_samples_split=8, n_estimators=40; total time=   0.1s\n",
      "[CV] END bootstrap=True, max_depth=10, max_features=auto, min_samples_leaf=16, min_samples_split=8, n_estimators=40; total time=   0.1s\n",
      "[CV] END bootstrap=True, max_depth=20, max_features=auto, min_samples_leaf=2, min_samples_split=2, n_estimators=40; total time=   0.1s\n",
      "[CV] END bootstrap=True, max_depth=20, max_features=auto, min_samples_leaf=2, min_samples_split=2, n_estimators=40; total time=   0.1s\n",
      "[CV] END bootstrap=True, max_depth=20, max_features=auto, min_samples_leaf=2, min_samples_split=2, n_estimators=40; total time=   0.1s\n",
      "[CV] END bootstrap=False, max_depth=50, max_features=sqrt, min_samples_leaf=2, min_samples_split=4, n_estimators=50; total time=   0.2s\n",
      "[CV] END bootstrap=False, max_depth=50, max_features=sqrt, min_samples_leaf=2, min_samples_split=4, n_estimators=50; total time=   0.2s\n",
      "[CV] END bootstrap=False, max_depth=50, max_features=sqrt, min_samples_leaf=2, min_samples_split=4, n_estimators=50; total time=   0.2s\n",
      "[CV] END bootstrap=True, max_depth=20, max_features=auto, min_samples_leaf=1, min_samples_split=10, n_estimators=50; total time=   0.2s\n",
      "[CV] END bootstrap=True, max_depth=20, max_features=auto, min_samples_leaf=1, min_samples_split=10, n_estimators=50; total time=   0.1s\n",
      "[CV] END bootstrap=True, max_depth=20, max_features=auto, min_samples_leaf=1, min_samples_split=10, n_estimators=50; total time=   0.1s\n",
      "[CV] END bootstrap=False, max_depth=20, max_features=auto, min_samples_leaf=16, min_samples_split=2, n_estimators=10; total time=   0.0s\n",
      "[CV] END bootstrap=False, max_depth=20, max_features=auto, min_samples_leaf=16, min_samples_split=2, n_estimators=10; total time=   0.0s\n",
      "[CV] END bootstrap=False, max_depth=20, max_features=auto, min_samples_leaf=16, min_samples_split=2, n_estimators=10; total time=   0.0s\n",
      "[CV] END bootstrap=False, max_depth=20, max_features=auto, min_samples_leaf=1, min_samples_split=10, n_estimators=10; total time=   0.0s\n",
      "[CV] END bootstrap=False, max_depth=20, max_features=auto, min_samples_leaf=1, min_samples_split=10, n_estimators=10; total time=   0.0s\n",
      "[CV] END bootstrap=False, max_depth=20, max_features=auto, min_samples_leaf=1, min_samples_split=10, n_estimators=10; total time=   0.0s\n",
      "[CV] END bootstrap=True, max_depth=None, max_features=sqrt, min_samples_leaf=1, min_samples_split=8, n_estimators=90; total time=   0.3s\n",
      "[CV] END bootstrap=True, max_depth=None, max_features=sqrt, min_samples_leaf=1, min_samples_split=8, n_estimators=90; total time=   0.3s\n",
      "[CV] END bootstrap=True, max_depth=None, max_features=sqrt, min_samples_leaf=1, min_samples_split=8, n_estimators=90; total time=   0.4s\n",
      "[CV] END bootstrap=True, max_depth=None, max_features=sqrt, min_samples_leaf=4, min_samples_split=4, n_estimators=50; total time=   0.2s\n",
      "[CV] END bootstrap=True, max_depth=None, max_features=sqrt, min_samples_leaf=4, min_samples_split=4, n_estimators=50; total time=   0.2s\n",
      "[CV] END bootstrap=True, max_depth=None, max_features=sqrt, min_samples_leaf=4, min_samples_split=4, n_estimators=50; total time=   0.2s\n",
      "[CV] END bootstrap=True, max_depth=50, max_features=auto, min_samples_leaf=2, min_samples_split=8, n_estimators=40; total time=   0.1s\n",
      "[CV] END bootstrap=True, max_depth=50, max_features=auto, min_samples_leaf=2, min_samples_split=8, n_estimators=40; total time=   0.1s\n",
      "[CV] END bootstrap=True, max_depth=50, max_features=auto, min_samples_leaf=2, min_samples_split=8, n_estimators=40; total time=   0.1s\n",
      "[CV] END bootstrap=False, max_depth=None, max_features=auto, min_samples_leaf=1, min_samples_split=10, n_estimators=30; total time=   0.1s\n",
      "[CV] END bootstrap=False, max_depth=None, max_features=auto, min_samples_leaf=1, min_samples_split=10, n_estimators=30; total time=   0.1s\n",
      "[CV] END bootstrap=False, max_depth=None, max_features=auto, min_samples_leaf=1, min_samples_split=10, n_estimators=30; total time=   0.1s\n",
      "[CV] END bootstrap=True, max_depth=10, max_features=sqrt, min_samples_leaf=2, min_samples_split=2, n_estimators=90; total time=   0.2s\n",
      "[CV] END bootstrap=True, max_depth=10, max_features=sqrt, min_samples_leaf=2, min_samples_split=2, n_estimators=90; total time=   0.2s\n",
      "[CV] END bootstrap=True, max_depth=10, max_features=sqrt, min_samples_leaf=2, min_samples_split=2, n_estimators=90; total time=   0.3s\n",
      "[CV] END bootstrap=True, max_depth=20, max_features=auto, min_samples_leaf=16, min_samples_split=4, n_estimators=10; total time=   0.0s\n",
      "[CV] END bootstrap=True, max_depth=20, max_features=auto, min_samples_leaf=16, min_samples_split=4, n_estimators=10; total time=   0.0s\n",
      "[CV] END bootstrap=True, max_depth=20, max_features=auto, min_samples_leaf=16, min_samples_split=4, n_estimators=10; total time=   0.0s\n",
      "[CV] END bootstrap=False, max_depth=30, max_features=auto, min_samples_leaf=4, min_samples_split=2, n_estimators=40; total time=   0.2s\n",
      "[CV] END bootstrap=False, max_depth=30, max_features=auto, min_samples_leaf=4, min_samples_split=2, n_estimators=40; total time=   0.2s\n",
      "[CV] END bootstrap=False, max_depth=30, max_features=auto, min_samples_leaf=4, min_samples_split=2, n_estimators=40; total time=   0.2s\n",
      "[CV] END bootstrap=True, max_depth=40, max_features=auto, min_samples_leaf=2, min_samples_split=8, n_estimators=10; total time=   0.0s\n",
      "[CV] END bootstrap=True, max_depth=40, max_features=auto, min_samples_leaf=2, min_samples_split=8, n_estimators=10; total time=   0.0s\n",
      "[CV] END bootstrap=True, max_depth=40, max_features=auto, min_samples_leaf=2, min_samples_split=8, n_estimators=10; total time=   0.0s\n",
      "[CV] END bootstrap=True, max_depth=30, max_features=sqrt, min_samples_leaf=2, min_samples_split=4, n_estimators=10; total time=   0.0s\n",
      "[CV] END bootstrap=True, max_depth=30, max_features=sqrt, min_samples_leaf=2, min_samples_split=4, n_estimators=10; total time=   0.0s\n",
      "[CV] END bootstrap=True, max_depth=30, max_features=sqrt, min_samples_leaf=2, min_samples_split=4, n_estimators=10; total time=   0.0s\n",
      "[CV] END bootstrap=True, max_depth=20, max_features=auto, min_samples_leaf=4, min_samples_split=6, n_estimators=60; total time=   0.2s\n",
      "[CV] END bootstrap=True, max_depth=20, max_features=auto, min_samples_leaf=4, min_samples_split=6, n_estimators=60; total time=   0.2s\n",
      "[CV] END bootstrap=True, max_depth=20, max_features=auto, min_samples_leaf=4, min_samples_split=6, n_estimators=60; total time=   0.2s\n",
      "[CV] END bootstrap=True, max_depth=10, max_features=auto, min_samples_leaf=1, min_samples_split=6, n_estimators=40; total time=   0.1s\n",
      "[CV] END bootstrap=True, max_depth=10, max_features=auto, min_samples_leaf=1, min_samples_split=6, n_estimators=40; total time=   0.1s\n",
      "[CV] END bootstrap=True, max_depth=10, max_features=auto, min_samples_leaf=1, min_samples_split=6, n_estimators=40; total time=   0.1s\n"
     ]
    },
    {
     "data": {
      "text/plain": [
       "RandomizedSearchCV(cv=3, estimator=RandomForestClassifier(), n_iter=100,\n",
       "                   param_distributions={'bootstrap': [True, False],\n",
       "                                        'max_depth': [10, 20, 30, 40, 50, None],\n",
       "                                        'max_features': ['auto', 'sqrt'],\n",
       "                                        'min_samples_leaf': [1, 2, 4, 8, 16],\n",
       "                                        'min_samples_split': [2, 4, 6, 8, 10],\n",
       "                                        'n_estimators': [10, 20, 30, 40, 50, 60,\n",
       "                                                         70, 80, 90, 100]},\n",
       "                   random_state=42, verbose=2)"
      ]
     },
     "execution_count": 162,
     "metadata": {},
     "output_type": "execute_result"
    }
   ],
   "source": [
    "model2 = RandomForestClassifier()\n",
    "random_search = RandomizedSearchCV(estimator = model2, param_distributions = param_grid,  \n",
    "                                   n_iter = 100, cv = 3, verbose=2, random_state=42)\n",
    "random_search.fit(X_res, y_res)"
   ]
  },
  {
   "cell_type": "code",
   "execution_count": 163,
   "id": "e05165b3",
   "metadata": {},
   "outputs": [
    {
     "data": {
      "text/plain": [
       "{'n_estimators': 70,\n",
       " 'min_samples_split': 2,\n",
       " 'min_samples_leaf': 1,\n",
       " 'max_features': 'auto',\n",
       " 'max_depth': 30,\n",
       " 'bootstrap': False}"
      ]
     },
     "execution_count": 163,
     "metadata": {},
     "output_type": "execute_result"
    }
   ],
   "source": [
    "random_search.best_params_"
   ]
  },
  {
   "cell_type": "code",
   "execution_count": 164,
   "id": "d0fd38ea",
   "metadata": {},
   "outputs": [],
   "source": [
    "model2 = RandomForestClassifier(n_estimators=70, min_samples_split=2, min_samples_leaf=1, bootstrap=False, random_state=42)"
   ]
  },
  {
   "cell_type": "code",
   "execution_count": 165,
   "id": "34b0a82d",
   "metadata": {},
   "outputs": [],
   "source": [
    "model2.fit(X_res, y_res)\n",
    "y_pred = model2.predict(X_test)"
   ]
  },
  {
   "cell_type": "code",
   "execution_count": 166,
   "id": "c81c708e",
   "metadata": {},
   "outputs": [
    {
     "name": "stderr",
     "output_type": "stream",
     "text": [
      "C:\\Anaconda3\\lib\\site-packages\\sklearn\\utils\\deprecation.py:87: FutureWarning: Function plot_confusion_matrix is deprecated; Function `plot_confusion_matrix` is deprecated in 1.0 and will be removed in 1.2. Use one of the class methods: ConfusionMatrixDisplay.from_predictions or ConfusionMatrixDisplay.from_estimator.\n",
      "  warnings.warn(msg, category=FutureWarning)\n"
     ]
    },
    {
     "data": {
      "text/plain": [
       "<sklearn.metrics._plot.confusion_matrix.ConfusionMatrixDisplay at 0x264372ad220>"
      ]
     },
     "execution_count": 166,
     "metadata": {},
     "output_type": "execute_result"
    },
    {
     "data": {
      "image/png": "[encoded data removed]",
      "text/plain": [
       "<Figure size 432x288 with 2 Axes>"
      ]
     },
     "metadata": {
      "needs_background": "light"
     },
     "output_type": "display_data"
    }
   ],
   "source": [
    "plot_confusion_matrix(model2, X_test, y_test)"
   ]
  },
  {
   "cell_type": "code",
   "execution_count": 167,
   "id": "7fc00cb4",
   "metadata": {},
   "outputs": [
    {
     "name": "stdout",
     "output_type": "stream",
     "text": [
      "              precision    recall  f1-score   support\n",
      "\n",
      "           0       0.95      0.99      0.97       232\n",
      "           1       0.00      0.00      0.00        13\n",
      "\n",
      "    accuracy                           0.94       245\n",
      "   macro avg       0.47      0.50      0.48       245\n",
      "weighted avg       0.90      0.94      0.92       245\n",
      "\n"
     ]
    }
   ],
   "source": [
    "print(classification_report(y_test, y_pred))"
   ]
  },
  {
   "cell_type": "markdown",
   "id": "41ab1344",
   "metadata": {},
   "source": [
    "### LSTM"
   ]
  },
  {
   "cell_type": "code",
   "execution_count": 189,
   "id": "4297b1d8",
   "metadata": {},
   "outputs": [],
   "source": [
    "X_train, X_test, y_train, y_test = train_test_split(X, y, test_size=0.3, random_state=42)"
   ]
  },
  {
   "cell_type": "code",
   "execution_count": 190,
   "id": "3b101478",
   "metadata": {},
   "outputs": [],
   "source": [
    "max_words = 3000\n",
    "max_len = 100\n",
    "tok = Tokenizer(num_words=max_words)\n",
    "tok.fit_on_texts(X_train)\n",
    "seq = tok.texts_to_sequences(X_train)\n",
    "seq_matrix = pad_sequences(seq, maxlen=max_len)"
   ]
  },
  {
   "cell_type": "code",
   "execution_count": 191,
   "id": "3e0eb7aa",
   "metadata": {},
   "outputs": [],
   "source": [
    "model3 = Sequential()\n",
    "model3.add(Embedding(3000, 64, input_length=100))\n",
    "model3.add(LSTM(64, activation='relu'))\n",
    "model3.add(Dense(256, activation='relu'))\n",
    "model3.add(Dropout(0.2))\n",
    "model3.add(Dense(128, activation='relu'))\n",
    "model3.add(Dropout(0.2))\n",
    "model3.add(Dense(64, activation='relu'))\n",
    "model3.add(Dropout(0.2))\n",
    "model3.add(Dense(32, activation='relu'))\n",
    "model3.add(Dropout(0.2))\n",
    "model3.add(Dense(1, activation='sigmoid'))\n",
    "model3.compile(loss=keras.losses.BinaryCrossentropy(from_logits=False), optimizer='adam', metrics=['accuracy'])"
   ]
  },
  {
   "cell_type": "code",
   "execution_count": 192,
   "id": "a67ff1f6",
   "metadata": {},
   "outputs": [
    {
     "name": "stdout",
     "output_type": "stream",
     "text": [
      "Model: \"sequential_4\"\n",
      "_________________________________________________________________\n",
      " Layer (type)                Output Shape              Param #   \n",
      "=================================================================\n",
      " embedding_4 (Embedding)     (None, 100, 64)           192000    \n",
      "                                                                 \n",
      " lstm_4 (LSTM)               (None, 64)                33024     \n",
      "                                                                 \n",
      " dense_18 (Dense)            (None, 256)               16640     \n",
      "                                                                 \n",
      " dropout_14 (Dropout)        (None, 256)               0         \n",
      "                                                                 \n",
      " dense_19 (Dense)            (None, 128)               32896     \n",
      "                                                                 \n",
      " dropout_15 (Dropout)        (None, 128)               0         \n",
      "                                                                 \n",
      " dense_20 (Dense)            (None, 64)                8256      \n",
      "                                                                 \n",
      " dropout_16 (Dropout)        (None, 64)                0         \n",
      "                                                                 \n",
      " dense_21 (Dense)            (None, 32)                2080      \n",
      "                                                                 \n",
      " dropout_17 (Dropout)        (None, 32)                0         \n",
      "                                                                 \n",
      " dense_22 (Dense)            (None, 1)                 33        \n",
      "                                                                 \n",
      "=================================================================\n",
      "Total params: 284,929\n",
      "Trainable params: 284,929\n",
      "Non-trainable params: 0\n",
      "_________________________________________________________________\n"
     ]
    }
   ],
   "source": [
    "model3.summary()"
   ]
  },
  {
   "cell_type": "code",
   "execution_count": 193,
   "id": "bf88837a",
   "metadata": {},
   "outputs": [
    {
     "name": "stdout",
     "output_type": "stream",
     "text": [
      "Epoch 1/25\n",
      "18/18 [==============================] - 3s 43ms/step - loss: 0.6155 - accuracy: 0.8704\n",
      "Epoch 2/25\n",
      "18/18 [==============================] - 1s 40ms/step - loss: 0.2848 - accuracy: 0.9194\n",
      "Epoch 3/25\n",
      "18/18 [==============================] - 1s 39ms/step - loss: 0.2450 - accuracy: 0.9212\n",
      "Epoch 4/25\n",
      "18/18 [==============================] - 1s 40ms/step - loss: 0.1886 - accuracy: 0.9212\n",
      "Epoch 5/25\n",
      "18/18 [==============================] - 1s 39ms/step - loss: 0.1260 - accuracy: 0.9212\n",
      "Epoch 6/25\n",
      "18/18 [==============================] - 1s 41ms/step - loss: 2561.3088 - accuracy: 0.9212\n",
      "Epoch 7/25\n",
      "18/18 [==============================] - 1s 40ms/step - loss: 0.1032 - accuracy: 0.9212\n",
      "Epoch 8/25\n",
      "18/18 [==============================] - 1s 38ms/step - loss: 0.0643 - accuracy: 0.9212\n",
      "Epoch 9/25\n",
      "18/18 [==============================] - 1s 38ms/step - loss: 0.0621 - accuracy: 0.9807\n",
      "Epoch 10/25\n",
      "18/18 [==============================] - 1s 40ms/step - loss: 0.0376 - accuracy: 0.9982\n",
      "Epoch 11/25\n",
      "18/18 [==============================] - 1s 44ms/step - loss: 0.0132 - accuracy: 0.9982\n",
      "Epoch 12/25\n",
      "18/18 [==============================] - 1s 46ms/step - loss: 0.0021 - accuracy: 1.0000\n",
      "Epoch 13/25\n",
      "18/18 [==============================] - 1s 44ms/step - loss: 6.2342e-04 - accuracy: 1.0000\n",
      "Epoch 14/25\n",
      "18/18 [==============================] - 1s 45ms/step - loss: 2.3641e-04 - accuracy: 1.0000\n",
      "Epoch 15/25\n",
      "18/18 [==============================] - 1s 47ms/step - loss: 0.0010 - accuracy: 1.0000\n",
      "Epoch 16/25\n",
      "18/18 [==============================] - 1s 44ms/step - loss: 14809804.0000 - accuracy: 0.9947\n",
      "Epoch 17/25\n",
      "18/18 [==============================] - 1s 45ms/step - loss: 0.0328 - accuracy: 0.9912\n",
      "Epoch 18/25\n",
      "18/18 [==============================] - 1s 44ms/step - loss: 0.0165 - accuracy: 0.9982\n",
      "Epoch 19/25\n",
      "18/18 [==============================] - 1s 45ms/step - loss: 0.0050 - accuracy: 1.0000\n",
      "Epoch 20/25\n",
      "18/18 [==============================] - 1s 48ms/step - loss: 0.0019 - accuracy: 1.0000\n",
      "Epoch 21/25\n",
      "18/18 [==============================] - 1s 47ms/step - loss: 9.0634e-04 - accuracy: 1.0000\n",
      "Epoch 22/25\n",
      "18/18 [==============================] - 1s 47ms/step - loss: 5.9360e-04 - accuracy: 1.0000\n",
      "Epoch 23/25\n",
      "18/18 [==============================] - 1s 44ms/step - loss: 2.2982e-04 - accuracy: 1.0000\n",
      "Epoch 24/25\n",
      "18/18 [==============================] - 1s 46ms/step - loss: 0.0012 - accuracy: 1.0000\n",
      "Epoch 25/25\n",
      "18/18 [==============================] - 1s 48ms/step - loss: 1.3465e-04 - accuracy: 1.0000\n"
     ]
    },
    {
     "data": {
      "text/plain": [
       "<keras.callbacks.History at 0x264559a32e0>"
      ]
     },
     "execution_count": 193,
     "metadata": {},
     "output_type": "execute_result"
    }
   ],
   "source": [
    "model3.fit(seq_matrix, y_train, batch_size=32, epochs=25)"
   ]
  },
  {
   "cell_type": "code",
   "execution_count": 194,
   "id": "251b3fd6",
   "metadata": {},
   "outputs": [],
   "source": [
    "test_seq = tok.texts_to_sequences(X_test)\n",
    "test_seq_matrix = pad_sequences(test_seq,maxlen=max_len)"
   ]
  },
  {
   "cell_type": "code",
   "execution_count": 195,
   "id": "5f285eb2",
   "metadata": {},
   "outputs": [
    {
     "name": "stdout",
     "output_type": "stream",
     "text": [
      "8/8 [==============================] - 0s 15ms/step - loss: 0.5373 - accuracy: 0.9347\n",
      "Test loss: 0.5372709035873413\n",
      "Test accuracy: 0.9346938729286194\n"
     ]
    }
   ],
   "source": [
    "score = model3.evaluate(test_seq_matrix, y_test)\n",
    "print(\"Test loss:\", score[0])\n",
    "print(\"Test accuracy:\", score[1])"
   ]
  },
  {
   "cell_type": "code",
   "execution_count": 196,
   "id": "4a69691d",
   "metadata": {},
   "outputs": [
    {
     "name": "stdout",
     "output_type": "stream",
     "text": [
      "8/8 [==============================] - 0s 18ms/step\n"
     ]
    }
   ],
   "source": [
    "pred = model3.predict(test_seq_matrix)\n",
    "y_pred = np.where(pred < 0.5, 0, 1)"
   ]
  },
  {
   "cell_type": "code",
   "execution_count": 197,
   "id": "77e70c61",
   "metadata": {},
   "outputs": [
    {
     "data": {
      "text/plain": [
       "array([[2.41690066e-12],\n",
       "       [4.02156619e-09],\n",
       "       [9.03212116e-10],\n",
       "       [1.80829351e-09],\n",
       "       [7.53523025e-04],\n",
       "       [9.99987185e-01],\n",
       "       [1.55261429e-10],\n",
       "       [3.21339483e-11],\n",
       "       [6.80370815e-10],\n",
       "       [5.38009452e-04],\n",
       "       [3.30002449e-11],\n",
       "       [9.94323660e-03],\n",
       "       [2.54141411e-14],\n",
       "       [1.71872780e-05],\n",
       "       [9.66658235e-01],\n",
       "       [1.81935125e-08],\n",
       "       [6.20525270e-07],\n",
       "       [8.64872729e-10],\n",
       "       [1.21823732e-11],\n",
       "       [1.63232221e-06],\n",
       "       [1.39539145e-06],\n",
       "       [1.15519727e-09],\n",
       "       [1.55196813e-05],\n",
       "       [3.79394606e-11],\n",
       "       [1.18704491e-11],\n",
       "       [1.38073544e-08],\n",
       "       [2.22561275e-10],\n",
       "       [2.70138507e-08],\n",
       "       [3.31669321e-06],\n",
       "       [9.25163890e-10],\n",
       "       [2.02493354e-07],\n",
       "       [3.84979241e-04],\n",
       "       [3.74884554e-03],\n",
       "       [1.33838575e-05],\n",
       "       [3.11925579e-02],\n",
       "       [9.99980390e-01],\n",
       "       [3.37424694e-07],\n",
       "       [4.06693035e-09],\n",
       "       [2.18230928e-03],\n",
       "       [1.48260282e-04],\n",
       "       [9.97038066e-01],\n",
       "       [7.80183427e-07],\n",
       "       [2.11902389e-07],\n",
       "       [2.54422361e-07],\n",
       "       [6.04714407e-03],\n",
       "       [7.26490418e-15],\n",
       "       [1.17830048e-07],\n",
       "       [3.82114180e-08],\n",
       "       [7.74845632e-10],\n",
       "       [1.64167138e-10],\n",
       "       [2.47143680e-06],\n",
       "       [4.17343590e-11],\n",
       "       [1.41490486e-09],\n",
       "       [5.97497099e-04],\n",
       "       [9.36300967e-06],\n",
       "       [5.49153413e-07],\n",
       "       [2.95626000e-06],\n",
       "       [3.97702010e-12],\n",
       "       [8.30446489e-10],\n",
       "       [1.48155750e-05],\n",
       "       [5.98965717e-17],\n",
       "       [7.90602712e-07],\n",
       "       [1.34134923e-12],\n",
       "       [1.11378118e-09],\n",
       "       [9.67758429e-10],\n",
       "       [3.72589420e-05],\n",
       "       [2.16267182e-09],\n",
       "       [1.58703347e-06],\n",
       "       [7.38713378e-03],\n",
       "       [3.45681947e-05],\n",
       "       [3.99225570e-07],\n",
       "       [1.06702846e-05],\n",
       "       [2.36575451e-12],\n",
       "       [2.88886417e-06],\n",
       "       [6.66399141e-12],\n",
       "       [2.24964856e-11],\n",
       "       [1.45116439e-06],\n",
       "       [1.41215476e-03],\n",
       "       [1.27710643e-06],\n",
       "       [5.73866110e-09],\n",
       "       [5.89833508e-05],\n",
       "       [3.82369483e-11],\n",
       "       [1.26138687e-01],\n",
       "       [9.77663994e-01],\n",
       "       [4.64346428e-09],\n",
       "       [2.76049672e-09],\n",
       "       [4.41466383e-08],\n",
       "       [6.35922402e-02],\n",
       "       [2.05863626e-06],\n",
       "       [1.40396628e-09],\n",
       "       [6.88144355e-05],\n",
       "       [6.24134872e-14],\n",
       "       [8.08118880e-02],\n",
       "       [2.99689036e-05],\n",
       "       [2.02889857e-03],\n",
       "       [2.45920742e-08],\n",
       "       [1.91824959e-11],\n",
       "       [2.23827399e-07],\n",
       "       [2.91897226e-08],\n",
       "       [3.21182512e-08],\n",
       "       [1.37557159e-04],\n",
       "       [2.22725703e-05],\n",
       "       [4.38906754e-05],\n",
       "       [2.16229423e-03],\n",
       "       [9.34612672e-08],\n",
       "       [6.84127505e-14],\n",
       "       [1.35704949e-08],\n",
       "       [1.17536014e-09],\n",
       "       [7.10163048e-13],\n",
       "       [1.39203530e-06],\n",
       "       [1.04188444e-02],\n",
       "       [2.08179465e-08],\n",
       "       [2.03592854e-09],\n",
       "       [1.19445920e-01],\n",
       "       [9.23054913e-08],\n",
       "       [4.14052695e-01],\n",
       "       [2.79835821e-09],\n",
       "       [5.42136114e-09],\n",
       "       [5.70048986e-09],\n",
       "       [1.26361371e-07],\n",
       "       [1.31469477e-07],\n",
       "       [1.55487760e-05],\n",
       "       [9.85499753e-08],\n",
       "       [1.10780170e-10],\n",
       "       [3.88161855e-12],\n",
       "       [2.18420348e-09],\n",
       "       [6.20180266e-16],\n",
       "       [2.85119237e-11],\n",
       "       [3.74004205e-09],\n",
       "       [9.99238551e-01],\n",
       "       [1.82866445e-03],\n",
       "       [1.88746699e-03],\n",
       "       [7.77072243e-12],\n",
       "       [4.30867016e-01],\n",
       "       [3.41385942e-09],\n",
       "       [5.37250899e-02],\n",
       "       [1.50107937e-07],\n",
       "       [9.18754239e-10],\n",
       "       [9.92433513e-09],\n",
       "       [1.31313158e-02],\n",
       "       [1.49958419e-06],\n",
       "       [9.98075008e-01],\n",
       "       [3.55470140e-04],\n",
       "       [5.95814374e-04],\n",
       "       [4.02677998e-08],\n",
       "       [3.37739971e-06],\n",
       "       [1.25028512e-11],\n",
       "       [2.03347304e-06],\n",
       "       [1.72610370e-10],\n",
       "       [5.29495736e-09],\n",
       "       [7.78417508e-09],\n",
       "       [6.44058900e-07],\n",
       "       [3.09257221e-12],\n",
       "       [3.12425280e-10],\n",
       "       [8.25769365e-01],\n",
       "       [1.59851310e-12],\n",
       "       [1.62026381e-09],\n",
       "       [2.08179465e-08],\n",
       "       [9.39357605e-08],\n",
       "       [5.99165145e-15],\n",
       "       [6.29467540e-04],\n",
       "       [9.52836581e-06],\n",
       "       [5.18353638e-10],\n",
       "       [2.35664839e-08],\n",
       "       [4.11498213e-08],\n",
       "       [1.36170156e-05],\n",
       "       [1.65442952e-06],\n",
       "       [3.20818661e-09],\n",
       "       [4.42682668e-10],\n",
       "       [5.17164125e-08],\n",
       "       [4.67721506e-09],\n",
       "       [2.08164685e-09],\n",
       "       [7.44271745e-07],\n",
       "       [4.57428273e-09],\n",
       "       [3.46493749e-08],\n",
       "       [1.29416189e-09],\n",
       "       [5.08646147e-09],\n",
       "       [4.88402520e-06],\n",
       "       [1.91877498e-05],\n",
       "       [3.27704470e-07],\n",
       "       [9.83064638e-07],\n",
       "       [2.66198157e-11],\n",
       "       [8.11518741e-10],\n",
       "       [1.27136121e-10],\n",
       "       [6.87396877e-08],\n",
       "       [1.68886399e-05],\n",
       "       [8.48998302e-12],\n",
       "       [3.27665795e-04],\n",
       "       [2.74699879e-16],\n",
       "       [1.00415391e-10],\n",
       "       [1.71958800e-06],\n",
       "       [2.45717624e-09],\n",
       "       [4.66489567e-08],\n",
       "       [6.76818445e-07],\n",
       "       [4.74476437e-05],\n",
       "       [1.00901254e-01],\n",
       "       [5.05786630e-08],\n",
       "       [1.89110449e-06],\n",
       "       [3.96185591e-08],\n",
       "       [2.60987598e-02],\n",
       "       [5.07014306e-07],\n",
       "       [9.97933447e-01],\n",
       "       [2.37209399e-08],\n",
       "       [2.34263889e-12],\n",
       "       [1.80513453e-08],\n",
       "       [1.25785232e-06],\n",
       "       [7.69732742e-06],\n",
       "       [7.43806368e-08],\n",
       "       [5.69719930e-07],\n",
       "       [3.26703031e-12],\n",
       "       [3.18960083e-05],\n",
       "       [3.39894879e-20],\n",
       "       [1.10528913e-06],\n",
       "       [3.35176975e-01],\n",
       "       [9.52303351e-04],\n",
       "       [2.30180353e-06],\n",
       "       [5.54685103e-05],\n",
       "       [1.48361112e-04],\n",
       "       [3.46142826e-09],\n",
       "       [2.50845146e-03],\n",
       "       [5.16334246e-08],\n",
       "       [3.92742129e-03],\n",
       "       [2.02769836e-08],\n",
       "       [6.32301408e-07],\n",
       "       [4.13372947e-11],\n",
       "       [9.98553157e-01],\n",
       "       [5.13015777e-07],\n",
       "       [7.40260973e-08],\n",
       "       [5.53375748e-11],\n",
       "       [2.51361693e-04],\n",
       "       [3.37997241e-10],\n",
       "       [1.30362005e-05],\n",
       "       [2.69223950e-08],\n",
       "       [6.17796699e-12],\n",
       "       [4.35309655e-09],\n",
       "       [4.59377552e-05],\n",
       "       [7.85207376e-05],\n",
       "       [8.29620550e-09],\n",
       "       [2.04889468e-04],\n",
       "       [2.00809270e-01],\n",
       "       [5.14518455e-08],\n",
       "       [3.85361018e-05],\n",
       "       [5.09219229e-01],\n",
       "       [6.53916317e-08],\n",
       "       [1.07667031e-08]], dtype=float32)"
      ]
     },
     "execution_count": 197,
     "metadata": {},
     "output_type": "execute_result"
    }
   ],
   "source": [
    "pred"
   ]
  },
  {
   "cell_type": "code",
   "execution_count": 198,
   "id": "ef47a9a8",
   "metadata": {},
   "outputs": [
    {
     "data": {
      "text/plain": [
       "array([[225,   7],\n",
       "       [  9,   4]], dtype=int64)"
      ]
     },
     "execution_count": 198,
     "metadata": {},
     "output_type": "execute_result"
    }
   ],
   "source": [
    "confusion_matrix(y_test, y_pred)"
   ]
  },
  {
   "cell_type": "code",
   "execution_count": 199,
   "id": "8b05d045",
   "metadata": {},
   "outputs": [
    {
     "name": "stdout",
     "output_type": "stream",
     "text": [
      "              precision    recall  f1-score   support\n",
      "\n",
      "           0       0.96      0.97      0.97       232\n",
      "           1       0.36      0.31      0.33        13\n",
      "\n",
      "    accuracy                           0.93       245\n",
      "   macro avg       0.66      0.64      0.65       245\n",
      "weighted avg       0.93      0.93      0.93       245\n",
      "\n"
     ]
    }
   ],
   "source": [
    "print(classification_report(y_test, y_pred))"
   ]
  },
  {
   "cell_type": "code",
   "execution_count": 200,
   "id": "90242e9d",
   "metadata": {},
   "outputs": [],
   "source": [
    "lstm_pred = y_pred"
   ]
  },
  {
   "cell_type": "markdown",
   "id": "f2bdd713",
   "metadata": {},
   "source": [
    "### AdaBoost"
   ]
  },
  {
   "cell_type": "code",
   "execution_count": 201,
   "id": "651c3309",
   "metadata": {},
   "outputs": [],
   "source": [
    "X_train, X_test, y_train, y_test = train_test_split(X_encoded, y, test_size=0.3, random_state=42)"
   ]
  },
  {
   "cell_type": "code",
   "execution_count": 202,
   "id": "355b7ac8",
   "metadata": {},
   "outputs": [],
   "source": [
    "ada = AdaBoostClassifier(random_state=42)"
   ]
  },
  {
   "cell_type": "code",
   "execution_count": 203,
   "id": "3f33e8a8",
   "metadata": {},
   "outputs": [],
   "source": [
    "param_grid = {\n",
    "    'n_estimators': [10, 20, 30, 40, 50, 60, 70, 80, 90, 100],\n",
    "    'learning_rate': [0.1, 0.2, 0.5, 0.8, 1.0, 10]\n",
    "}"
   ]
  },
  {
   "cell_type": "code",
   "execution_count": 204,
   "id": "e0173981",
   "metadata": {},
   "outputs": [],
   "source": [
    "random_search = RandomizedSearchCV(estimator = ada, param_distributions = param_grid,  n_iter = 100, cv = 3, verbose=2, random_state=42)"
   ]
  },
  {
   "cell_type": "code",
   "execution_count": 205,
   "id": "daddeda1",
   "metadata": {},
   "outputs": [
    {
     "name": "stderr",
     "output_type": "stream",
     "text": [
      "C:\\Anaconda3\\lib\\site-packages\\sklearn\\model_selection\\_search.py:292: UserWarning: The total space of parameters 60 is smaller than n_iter=100. Running 60 iterations. For exhaustive searches, use GridSearchCV.\n",
      "  warnings.warn(\n"
     ]
    },
    {
     "name": "stdout",
     "output_type": "stream",
     "text": [
      "Fitting 3 folds for each of 60 candidates, totalling 180 fits\n",
      "[CV] END .................learning_rate=0.1, n_estimators=10; total time=   0.2s\n",
      "[CV] END .................learning_rate=0.1, n_estimators=10; total time=   0.2s\n",
      "[CV] END .................learning_rate=0.1, n_estimators=10; total time=   0.2s\n",
      "[CV] END .................learning_rate=0.1, n_estimators=20; total time=   0.5s\n",
      "[CV] END .................learning_rate=0.1, n_estimators=20; total time=   0.4s\n",
      "[CV] END .................learning_rate=0.1, n_estimators=20; total time=   0.4s\n",
      "[CV] END .................learning_rate=0.1, n_estimators=30; total time=   0.6s\n",
      "[CV] END .................learning_rate=0.1, n_estimators=30; total time=   0.6s\n",
      "[CV] END .................learning_rate=0.1, n_estimators=30; total time=   0.7s\n",
      "[CV] END .................learning_rate=0.1, n_estimators=40; total time=   0.8s\n",
      "[CV] END .................learning_rate=0.1, n_estimators=40; total time=   1.0s\n",
      "[CV] END .................learning_rate=0.1, n_estimators=40; total time=   0.9s\n",
      "[CV] END .................learning_rate=0.1, n_estimators=50; total time=   1.1s\n",
      "[CV] END .................learning_rate=0.1, n_estimators=50; total time=   1.1s\n",
      "[CV] END .................learning_rate=0.1, n_estimators=50; total time=   1.1s\n",
      "[CV] END .................learning_rate=0.1, n_estimators=60; total time=   1.3s\n",
      "[CV] END .................learning_rate=0.1, n_estimators=60; total time=   1.3s\n",
      "[CV] END .................learning_rate=0.1, n_estimators=60; total time=   1.3s\n",
      "[CV] END .................learning_rate=0.1, n_estimators=70; total time=   1.5s\n",
      "[CV] END .................learning_rate=0.1, n_estimators=70; total time=   1.5s\n",
      "[CV] END .................learning_rate=0.1, n_estimators=70; total time=   1.5s\n",
      "[CV] END .................learning_rate=0.1, n_estimators=80; total time=   1.8s\n",
      "[CV] END .................learning_rate=0.1, n_estimators=80; total time=   1.8s\n",
      "[CV] END .................learning_rate=0.1, n_estimators=80; total time=   1.8s\n",
      "[CV] END .................learning_rate=0.1, n_estimators=90; total time=   2.0s\n",
      "[CV] END .................learning_rate=0.1, n_estimators=90; total time=   2.0s\n",
      "[CV] END .................learning_rate=0.1, n_estimators=90; total time=   2.0s\n",
      "[CV] END ................learning_rate=0.1, n_estimators=100; total time=   2.3s\n",
      "[CV] END ................learning_rate=0.1, n_estimators=100; total time=   2.2s\n",
      "[CV] END ................learning_rate=0.1, n_estimators=100; total time=   2.3s\n",
      "[CV] END .................learning_rate=0.2, n_estimators=10; total time=   0.2s\n",
      "[CV] END .................learning_rate=0.2, n_estimators=10; total time=   0.2s\n",
      "[CV] END .................learning_rate=0.2, n_estimators=10; total time=   0.2s\n",
      "[CV] END .................learning_rate=0.2, n_estimators=20; total time=   0.4s\n",
      "[CV] END .................learning_rate=0.2, n_estimators=20; total time=   0.4s\n",
      "[CV] END .................learning_rate=0.2, n_estimators=20; total time=   0.4s\n",
      "[CV] END .................learning_rate=0.2, n_estimators=30; total time=   0.6s\n",
      "[CV] END .................learning_rate=0.2, n_estimators=30; total time=   0.6s\n",
      "[CV] END .................learning_rate=0.2, n_estimators=30; total time=   0.6s\n",
      "[CV] END .................learning_rate=0.2, n_estimators=40; total time=   0.8s\n",
      "[CV] END .................learning_rate=0.2, n_estimators=40; total time=   0.8s\n",
      "[CV] END .................learning_rate=0.2, n_estimators=40; total time=   0.9s\n",
      "[CV] END .................learning_rate=0.2, n_estimators=50; total time=   1.1s\n",
      "[CV] END .................learning_rate=0.2, n_estimators=50; total time=   1.1s\n",
      "[CV] END .................learning_rate=0.2, n_estimators=50; total time=   1.1s\n",
      "[CV] END .................learning_rate=0.2, n_estimators=60; total time=   1.3s\n",
      "[CV] END .................learning_rate=0.2, n_estimators=60; total time=   1.3s\n",
      "[CV] END .................learning_rate=0.2, n_estimators=60; total time=   1.4s\n",
      "[CV] END .................learning_rate=0.2, n_estimators=70; total time=   1.6s\n",
      "[CV] END .................learning_rate=0.2, n_estimators=70; total time=   1.6s\n",
      "[CV] END .................learning_rate=0.2, n_estimators=70; total time=   1.5s\n",
      "[CV] END .................learning_rate=0.2, n_estimators=80; total time=   1.8s\n",
      "[CV] END .................learning_rate=0.2, n_estimators=80; total time=   1.7s\n",
      "[CV] END .................learning_rate=0.2, n_estimators=80; total time=   1.8s\n",
      "[CV] END .................learning_rate=0.2, n_estimators=90; total time=   2.0s\n",
      "[CV] END .................learning_rate=0.2, n_estimators=90; total time=   2.0s\n",
      "[CV] END .................learning_rate=0.2, n_estimators=90; total time=   2.0s\n",
      "[CV] END ................learning_rate=0.2, n_estimators=100; total time=   2.2s\n",
      "[CV] END ................learning_rate=0.2, n_estimators=100; total time=   2.2s\n",
      "[CV] END ................learning_rate=0.2, n_estimators=100; total time=   2.3s\n",
      "[CV] END .................learning_rate=0.5, n_estimators=10; total time=   0.2s\n",
      "[CV] END .................learning_rate=0.5, n_estimators=10; total time=   0.2s\n",
      "[CV] END .................learning_rate=0.5, n_estimators=10; total time=   0.2s\n",
      "[CV] END .................learning_rate=0.5, n_estimators=20; total time=   0.4s\n",
      "[CV] END .................learning_rate=0.5, n_estimators=20; total time=   0.4s\n",
      "[CV] END .................learning_rate=0.5, n_estimators=20; total time=   0.4s\n",
      "[CV] END .................learning_rate=0.5, n_estimators=30; total time=   0.6s\n",
      "[CV] END .................learning_rate=0.5, n_estimators=30; total time=   0.6s\n",
      "[CV] END .................learning_rate=0.5, n_estimators=30; total time=   0.7s\n",
      "[CV] END .................learning_rate=0.5, n_estimators=40; total time=   0.9s\n",
      "[CV] END .................learning_rate=0.5, n_estimators=40; total time=   0.8s\n",
      "[CV] END .................learning_rate=0.5, n_estimators=40; total time=   0.9s\n",
      "[CV] END .................learning_rate=0.5, n_estimators=50; total time=   1.1s\n",
      "[CV] END .................learning_rate=0.5, n_estimators=50; total time=   1.1s\n",
      "[CV] END .................learning_rate=0.5, n_estimators=50; total time=   1.1s\n",
      "[CV] END .................learning_rate=0.5, n_estimators=60; total time=   1.3s\n",
      "[CV] END .................learning_rate=0.5, n_estimators=60; total time=   1.3s\n",
      "[CV] END .................learning_rate=0.5, n_estimators=60; total time=   1.3s\n",
      "[CV] END .................learning_rate=0.5, n_estimators=70; total time=   1.5s\n",
      "[CV] END .................learning_rate=0.5, n_estimators=70; total time=   1.5s\n",
      "[CV] END .................learning_rate=0.5, n_estimators=70; total time=   1.6s\n",
      "[CV] END .................learning_rate=0.5, n_estimators=80; total time=   1.8s\n",
      "[CV] END .................learning_rate=0.5, n_estimators=80; total time=   1.8s\n",
      "[CV] END .................learning_rate=0.5, n_estimators=80; total time=   1.8s\n",
      "[CV] END .................learning_rate=0.5, n_estimators=90; total time=   1.9s\n",
      "[CV] END .................learning_rate=0.5, n_estimators=90; total time=   2.0s\n",
      "[CV] END .................learning_rate=0.5, n_estimators=90; total time=   2.0s\n",
      "[CV] END ................learning_rate=0.5, n_estimators=100; total time=   2.6s\n",
      "[CV] END ................learning_rate=0.5, n_estimators=100; total time=   2.5s\n",
      "[CV] END ................learning_rate=0.5, n_estimators=100; total time=   2.3s\n",
      "[CV] END .................learning_rate=0.8, n_estimators=10; total time=   0.2s\n",
      "[CV] END .................learning_rate=0.8, n_estimators=10; total time=   0.2s\n",
      "[CV] END .................learning_rate=0.8, n_estimators=10; total time=   0.2s\n",
      "[CV] END .................learning_rate=0.8, n_estimators=20; total time=   0.4s\n",
      "[CV] END .................learning_rate=0.8, n_estimators=20; total time=   0.4s\n",
      "[CV] END .................learning_rate=0.8, n_estimators=20; total time=   0.4s\n",
      "[CV] END .................learning_rate=0.8, n_estimators=30; total time=   0.6s\n",
      "[CV] END .................learning_rate=0.8, n_estimators=30; total time=   0.7s\n",
      "[CV] END .................learning_rate=0.8, n_estimators=30; total time=   0.6s\n",
      "[CV] END .................learning_rate=0.8, n_estimators=40; total time=   0.8s\n",
      "[CV] END .................learning_rate=0.8, n_estimators=40; total time=   0.9s\n"
     ]
    },
    {
     "name": "stdout",
     "output_type": "stream",
     "text": [
      "[CV] END .................learning_rate=0.8, n_estimators=40; total time=   0.8s\n",
      "[CV] END .................learning_rate=0.8, n_estimators=50; total time=   1.1s\n",
      "[CV] END .................learning_rate=0.8, n_estimators=50; total time=   1.1s\n",
      "[CV] END .................learning_rate=0.8, n_estimators=50; total time=   1.1s\n",
      "[CV] END .................learning_rate=0.8, n_estimators=60; total time=   1.3s\n",
      "[CV] END .................learning_rate=0.8, n_estimators=60; total time=   1.3s\n",
      "[CV] END .................learning_rate=0.8, n_estimators=60; total time=   1.3s\n",
      "[CV] END .................learning_rate=0.8, n_estimators=70; total time=   1.5s\n",
      "[CV] END .................learning_rate=0.8, n_estimators=70; total time=   1.6s\n",
      "[CV] END .................learning_rate=0.8, n_estimators=70; total time=   1.5s\n",
      "[CV] END .................learning_rate=0.8, n_estimators=80; total time=   1.8s\n",
      "[CV] END .................learning_rate=0.8, n_estimators=80; total time=   1.8s\n",
      "[CV] END .................learning_rate=0.8, n_estimators=80; total time=   1.8s\n",
      "[CV] END .................learning_rate=0.8, n_estimators=90; total time=   2.0s\n",
      "[CV] END .................learning_rate=0.8, n_estimators=90; total time=   2.0s\n",
      "[CV] END .................learning_rate=0.8, n_estimators=90; total time=   2.0s\n",
      "[CV] END ................learning_rate=0.8, n_estimators=100; total time=   2.2s\n",
      "[CV] END ................learning_rate=0.8, n_estimators=100; total time=   2.2s\n",
      "[CV] END ................learning_rate=0.8, n_estimators=100; total time=   2.2s\n",
      "[CV] END .................learning_rate=1.0, n_estimators=10; total time=   0.2s\n",
      "[CV] END .................learning_rate=1.0, n_estimators=10; total time=   0.2s\n",
      "[CV] END .................learning_rate=1.0, n_estimators=10; total time=   0.2s\n",
      "[CV] END .................learning_rate=1.0, n_estimators=20; total time=   0.4s\n",
      "[CV] END .................learning_rate=1.0, n_estimators=20; total time=   0.4s\n",
      "[CV] END .................learning_rate=1.0, n_estimators=20; total time=   0.4s\n",
      "[CV] END .................learning_rate=1.0, n_estimators=30; total time=   0.6s\n",
      "[CV] END .................learning_rate=1.0, n_estimators=30; total time=   0.6s\n",
      "[CV] END .................learning_rate=1.0, n_estimators=30; total time=   0.6s\n",
      "[CV] END .................learning_rate=1.0, n_estimators=40; total time=   0.8s\n",
      "[CV] END .................learning_rate=1.0, n_estimators=40; total time=   0.9s\n",
      "[CV] END .................learning_rate=1.0, n_estimators=40; total time=   0.9s\n",
      "[CV] END .................learning_rate=1.0, n_estimators=50; total time=   1.1s\n",
      "[CV] END .................learning_rate=1.0, n_estimators=50; total time=   1.1s\n",
      "[CV] END .................learning_rate=1.0, n_estimators=50; total time=   1.1s\n",
      "[CV] END .................learning_rate=1.0, n_estimators=60; total time=   1.3s\n",
      "[CV] END .................learning_rate=1.0, n_estimators=60; total time=   1.3s\n",
      "[CV] END .................learning_rate=1.0, n_estimators=60; total time=   1.3s\n",
      "[CV] END .................learning_rate=1.0, n_estimators=70; total time=   1.6s\n",
      "[CV] END .................learning_rate=1.0, n_estimators=70; total time=   1.6s\n",
      "[CV] END .................learning_rate=1.0, n_estimators=70; total time=   1.6s\n",
      "[CV] END .................learning_rate=1.0, n_estimators=80; total time=   1.7s\n",
      "[CV] END .................learning_rate=1.0, n_estimators=80; total time=   1.8s\n",
      "[CV] END .................learning_rate=1.0, n_estimators=80; total time=   1.8s\n",
      "[CV] END .................learning_rate=1.0, n_estimators=90; total time=   2.0s\n",
      "[CV] END .................learning_rate=1.0, n_estimators=90; total time=   1.9s\n",
      "[CV] END .................learning_rate=1.0, n_estimators=90; total time=   2.0s\n",
      "[CV] END ................learning_rate=1.0, n_estimators=100; total time=   2.2s\n",
      "[CV] END ................learning_rate=1.0, n_estimators=100; total time=   2.2s\n",
      "[CV] END ................learning_rate=1.0, n_estimators=100; total time=   2.2s\n",
      "[CV] END ..................learning_rate=10, n_estimators=10; total time=   0.1s\n",
      "[CV] END ..................learning_rate=10, n_estimators=10; total time=   0.1s\n",
      "[CV] END ..................learning_rate=10, n_estimators=10; total time=   0.1s\n",
      "[CV] END ..................learning_rate=10, n_estimators=20; total time=   0.3s\n",
      "[CV] END ..................learning_rate=10, n_estimators=20; total time=   0.2s\n",
      "[CV] END ..................learning_rate=10, n_estimators=20; total time=   0.3s\n",
      "[CV] END ..................learning_rate=10, n_estimators=30; total time=   0.4s\n",
      "[CV] END ..................learning_rate=10, n_estimators=30; total time=   0.4s\n",
      "[CV] END ..................learning_rate=10, n_estimators=30; total time=   0.4s\n",
      "[CV] END ..................learning_rate=10, n_estimators=40; total time=   0.5s\n",
      "[CV] END ..................learning_rate=10, n_estimators=40; total time=   0.5s\n",
      "[CV] END ..................learning_rate=10, n_estimators=40; total time=   0.6s\n",
      "[CV] END ..................learning_rate=10, n_estimators=50; total time=   0.7s\n",
      "[CV] END ..................learning_rate=10, n_estimators=50; total time=   0.7s\n",
      "[CV] END ..................learning_rate=10, n_estimators=50; total time=   0.7s\n",
      "[CV] END ..................learning_rate=10, n_estimators=60; total time=   0.8s\n",
      "[CV] END ..................learning_rate=10, n_estimators=60; total time=   0.8s\n",
      "[CV] END ..................learning_rate=10, n_estimators=60; total time=   0.8s\n",
      "[CV] END ..................learning_rate=10, n_estimators=70; total time=   1.1s\n",
      "[CV] END ..................learning_rate=10, n_estimators=70; total time=   1.0s\n",
      "[CV] END ..................learning_rate=10, n_estimators=70; total time=   1.0s\n",
      "[CV] END ..................learning_rate=10, n_estimators=80; total time=   1.1s\n",
      "[CV] END ..................learning_rate=10, n_estimators=80; total time=   1.1s\n",
      "[CV] END ..................learning_rate=10, n_estimators=80; total time=   1.2s\n",
      "[CV] END ..................learning_rate=10, n_estimators=90; total time=   1.3s\n",
      "[CV] END ..................learning_rate=10, n_estimators=90; total time=   1.3s\n",
      "[CV] END ..................learning_rate=10, n_estimators=90; total time=   1.5s\n",
      "[CV] END .................learning_rate=10, n_estimators=100; total time=   1.8s\n",
      "[CV] END .................learning_rate=10, n_estimators=100; total time=   1.5s\n",
      "[CV] END .................learning_rate=10, n_estimators=100; total time=   1.6s\n"
     ]
    },
    {
     "data": {
      "text/plain": [
       "RandomizedSearchCV(cv=3, estimator=AdaBoostClassifier(random_state=42),\n",
       "                   n_iter=100,\n",
       "                   param_distributions={'learning_rate': [0.1, 0.2, 0.5, 0.8,\n",
       "                                                          1.0, 10],\n",
       "                                        'n_estimators': [10, 20, 30, 40, 50, 60,\n",
       "                                                         70, 80, 90, 100]},\n",
       "                   random_state=42, verbose=2)"
      ]
     },
     "execution_count": 205,
     "metadata": {},
     "output_type": "execute_result"
    }
   ],
   "source": [
    "random_search.fit(X_res, y_res)"
   ]
  },
  {
   "cell_type": "code",
   "execution_count": 206,
   "id": "98895565",
   "metadata": {},
   "outputs": [
    {
     "data": {
      "text/plain": [
       "{'n_estimators': 100, 'learning_rate': 1.0}"
      ]
     },
     "execution_count": 206,
     "metadata": {},
     "output_type": "execute_result"
    }
   ],
   "source": [
    "res_dict = random_search.best_params_\n",
    "res_dict"
   ]
  },
  {
   "cell_type": "code",
   "execution_count": 207,
   "id": "e74d40c6",
   "metadata": {},
   "outputs": [],
   "source": [
    "ada = AdaBoostClassifier(n_estimators = res_dict['n_estimators'], learning_rate = res_dict['learning_rate'], \n",
    "                        random_state=42)"
   ]
  },
  {
   "cell_type": "code",
   "execution_count": 208,
   "id": "3330cb25",
   "metadata": {},
   "outputs": [
    {
     "data": {
      "text/plain": [
       "AdaBoostClassifier(n_estimators=100, random_state=42)"
      ]
     },
     "execution_count": 208,
     "metadata": {},
     "output_type": "execute_result"
    }
   ],
   "source": [
    "ada.fit(X_res, y_res)"
   ]
  },
  {
   "cell_type": "code",
   "execution_count": 209,
   "id": "00c42736",
   "metadata": {},
   "outputs": [],
   "source": [
    "y_pred = ada.predict(X_test)"
   ]
  },
  {
   "cell_type": "code",
   "execution_count": 210,
   "id": "43939cfd",
   "metadata": {},
   "outputs": [
    {
     "name": "stderr",
     "output_type": "stream",
     "text": [
      "C:\\Anaconda3\\lib\\site-packages\\sklearn\\utils\\deprecation.py:87: FutureWarning: Function plot_confusion_matrix is deprecated; Function `plot_confusion_matrix` is deprecated in 1.0 and will be removed in 1.2. Use one of the class methods: ConfusionMatrixDisplay.from_predictions or ConfusionMatrixDisplay.from_estimator.\n",
      "  warnings.warn(msg, category=FutureWarning)\n"
     ]
    },
    {
     "data": {
      "text/plain": [
       "<sklearn.metrics._plot.confusion_matrix.ConfusionMatrixDisplay at 0x2645637f520>"
      ]
     },
     "execution_count": 210,
     "metadata": {},
     "output_type": "execute_result"
    },
    {
     "data": {
      "image/png": "[encoded data removed]",
      "text/plain": [
       "<Figure size 432x288 with 2 Axes>"
      ]
     },
     "metadata": {
      "needs_background": "light"
     },
     "output_type": "display_data"
    }
   ],
   "source": [
    "plot_confusion_matrix(ada, X_test, y_test)"
   ]
  },
  {
   "cell_type": "code",
   "execution_count": 211,
   "id": "cb1181a6",
   "metadata": {
    "scrolled": true
   },
   "outputs": [
    {
     "name": "stdout",
     "output_type": "stream",
     "text": [
      "              precision    recall  f1-score   support\n",
      "\n",
      "           0       0.98      0.97      0.97       232\n",
      "           1       0.53      0.69      0.60        13\n",
      "\n",
      "    accuracy                           0.95       245\n",
      "   macro avg       0.76      0.83      0.79       245\n",
      "weighted avg       0.96      0.95      0.95       245\n",
      "\n"
     ]
    }
   ],
   "source": [
    "print(classification_report(y_test, y_pred))"
   ]
  },
  {
   "cell_type": "code",
   "execution_count": 212,
   "id": "913a243b",
   "metadata": {},
   "outputs": [],
   "source": [
    "ada_pred = y_pred"
   ]
  },
  {
   "cell_type": "markdown",
   "id": "e4972086",
   "metadata": {},
   "source": [
    "### One Class SVM"
   ]
  },
  {
   "cell_type": "code",
   "execution_count": 213,
   "id": "d5d8b196",
   "metadata": {},
   "outputs": [],
   "source": [
    "ocsvm = OneClassSVM()"
   ]
  },
  {
   "cell_type": "code",
   "execution_count": 214,
   "id": "3d341a3a",
   "metadata": {},
   "outputs": [],
   "source": [
    "ocsvm = OneClassSVM(kernel = 'rbf')"
   ]
  },
  {
   "cell_type": "code",
   "execution_count": 215,
   "id": "83494b1a",
   "metadata": {},
   "outputs": [
    {
     "data": {
      "text/plain": [
       "OneClassSVM()"
      ]
     },
     "execution_count": 215,
     "metadata": {},
     "output_type": "execute_result"
    }
   ],
   "source": [
    "ocsvm.fit(X_res, y_res)"
   ]
  },
  {
   "cell_type": "code",
   "execution_count": 216,
   "id": "ad868d3a",
   "metadata": {},
   "outputs": [],
   "source": [
    "y_pred = ocsvm.predict(X_test)"
   ]
  },
  {
   "cell_type": "code",
   "execution_count": 217,
   "id": "076aa7f8",
   "metadata": {},
   "outputs": [
    {
     "data": {
      "text/plain": [
       "array([-1, -1, -1, -1, -1, -1, -1, -1, -1, -1, -1, -1, -1, -1,  1, -1, -1,\n",
       "       -1, -1, -1, -1, -1, -1,  1, -1, -1, -1, -1, -1,  1, -1, -1, -1,  1,\n",
       "       -1, -1, -1, -1, -1, -1, -1, -1, -1, -1, -1, -1, -1, -1, -1, -1, -1,\n",
       "       -1,  1, -1, -1, -1, -1, -1, -1, -1, -1, -1, -1, -1, -1, -1,  1,  1,\n",
       "       -1, -1, -1, -1, -1, -1, -1, -1,  1, -1, -1, -1, -1, -1, -1, -1, -1,\n",
       "        1, -1, -1, -1, -1, -1, -1, -1, -1, -1, -1, -1, -1, -1,  1, -1, -1,\n",
       "       -1, -1, -1, -1, -1, -1, -1, -1, -1,  1, -1,  1, -1, -1, -1, -1, -1,\n",
       "       -1,  1,  1, -1,  1, -1,  1, -1, -1, -1, -1, -1, -1,  1, -1, -1, -1,\n",
       "        1, -1,  1, -1, -1,  1, -1,  1, -1,  1, -1,  1, -1, -1, -1, -1, -1,\n",
       "       -1,  1, -1, -1,  1, -1, -1, -1, -1, -1, -1, -1,  1, -1, -1, -1,  1,\n",
       "       -1,  1, -1, -1, -1, -1, -1, -1,  1,  1,  1, -1, -1, -1,  1, -1, -1,\n",
       "       -1, -1, -1, -1, -1, -1,  1,  1, -1, -1, -1, -1, -1,  1, -1, -1, -1,\n",
       "        1, -1, -1,  1, -1, -1, -1, -1, -1,  1, -1, -1,  1,  1, -1,  1,  1,\n",
       "        1, -1,  1, -1, -1, -1,  1, -1, -1, -1,  1, -1, -1,  1,  1, -1,  1,\n",
       "       -1, -1,  1, -1, -1, -1, -1], dtype=int64)"
      ]
     },
     "execution_count": 217,
     "metadata": {},
     "output_type": "execute_result"
    }
   ],
   "source": [
    "y_pred"
   ]
  },
  {
   "cell_type": "code",
   "execution_count": 218,
   "id": "ee35e6a9",
   "metadata": {},
   "outputs": [],
   "source": [
    "y_pred = np.vectorize(lambda x: 0 if x == -1 else x)(y_pred)"
   ]
  },
  {
   "cell_type": "code",
   "execution_count": 219,
   "id": "6793dc9a",
   "metadata": {
    "scrolled": true
   },
   "outputs": [
    {
     "name": "stdout",
     "output_type": "stream",
     "text": [
      "              precision    recall  f1-score   support\n",
      "\n",
      "           0       0.96      0.81      0.88       232\n",
      "           1       0.10      0.38      0.16        13\n",
      "\n",
      "    accuracy                           0.78       245\n",
      "   macro avg       0.53      0.60      0.52       245\n",
      "weighted avg       0.91      0.78      0.84       245\n",
      "\n"
     ]
    }
   ],
   "source": [
    "print(classification_report(y_test, y_pred))"
   ]
  },
  {
   "cell_type": "code",
   "execution_count": 220,
   "id": "adc028c2",
   "metadata": {},
   "outputs": [],
   "source": [
    "res = pd.DataFrame([lr_pred, lstm_pred, ada_pred]).transpose()"
   ]
  },
  {
   "cell_type": "code",
   "execution_count": 221,
   "id": "ba9ed572",
   "metadata": {},
   "outputs": [
    {
     "data": {
      "text/html": [
       "<div>\n",
       "<style scoped>\n",
       "    .dataframe tbody tr th:only-of-type {\n",
       "        vertical-align: middle;\n",
       "    }\n",
       "\n",
       "    .dataframe tbody tr th {\n",
       "        vertical-align: top;\n",
       "    }\n",
       "\n",
       "    .dataframe thead th {\n",
       "        text-align: right;\n",
       "    }\n",
       "</style>\n",
       "<table border=\"1\" class=\"dataframe\">\n",
       "  <thead>\n",
       "    <tr style=\"text-align: right;\">\n",
       "      <th></th>\n",
       "      <th>0</th>\n",
       "      <th>1</th>\n",
       "      <th>2</th>\n",
       "    </tr>\n",
       "  </thead>\n",
       "  <tbody>\n",
       "    <tr>\n",
       "      <th>0</th>\n",
       "      <td>0</td>\n",
       "      <td>[0]</td>\n",
       "      <td>0</td>\n",
       "    </tr>\n",
       "    <tr>\n",
       "      <th>1</th>\n",
       "      <td>0</td>\n",
       "      <td>[0]</td>\n",
       "      <td>0</td>\n",
       "    </tr>\n",
       "    <tr>\n",
       "      <th>2</th>\n",
       "      <td>0</td>\n",
       "      <td>[0]</td>\n",
       "      <td>0</td>\n",
       "    </tr>\n",
       "    <tr>\n",
       "      <th>3</th>\n",
       "      <td>0</td>\n",
       "      <td>[0]</td>\n",
       "      <td>0</td>\n",
       "    </tr>\n",
       "    <tr>\n",
       "      <th>4</th>\n",
       "      <td>0</td>\n",
       "      <td>[0]</td>\n",
       "      <td>0</td>\n",
       "    </tr>\n",
       "    <tr>\n",
       "      <th>...</th>\n",
       "      <td>...</td>\n",
       "      <td>...</td>\n",
       "      <td>...</td>\n",
       "    </tr>\n",
       "    <tr>\n",
       "      <th>240</th>\n",
       "      <td>0</td>\n",
       "      <td>[0]</td>\n",
       "      <td>0</td>\n",
       "    </tr>\n",
       "    <tr>\n",
       "      <th>241</th>\n",
       "      <td>0</td>\n",
       "      <td>[0]</td>\n",
       "      <td>0</td>\n",
       "    </tr>\n",
       "    <tr>\n",
       "      <th>242</th>\n",
       "      <td>0</td>\n",
       "      <td>[1]</td>\n",
       "      <td>0</td>\n",
       "    </tr>\n",
       "    <tr>\n",
       "      <th>243</th>\n",
       "      <td>0</td>\n",
       "      <td>[0]</td>\n",
       "      <td>0</td>\n",
       "    </tr>\n",
       "    <tr>\n",
       "      <th>244</th>\n",
       "      <td>0</td>\n",
       "      <td>[0]</td>\n",
       "      <td>0</td>\n",
       "    </tr>\n",
       "  </tbody>\n",
       "</table>\n",
       "<p>245 rows × 3 columns</p>\n",
       "</div>"
      ],
      "text/plain": [
       "     0    1  2\n",
       "0    0  [0]  0\n",
       "1    0  [0]  0\n",
       "2    0  [0]  0\n",
       "3    0  [0]  0\n",
       "4    0  [0]  0\n",
       "..  ..  ... ..\n",
       "240  0  [0]  0\n",
       "241  0  [0]  0\n",
       "242  0  [1]  0\n",
       "243  0  [0]  0\n",
       "244  0  [0]  0\n",
       "\n",
       "[245 rows x 3 columns]"
      ]
     },
     "execution_count": 221,
     "metadata": {},
     "output_type": "execute_result"
    }
   ],
   "source": [
    "res"
   ]
  },
  {
   "cell_type": "code",
   "execution_count": 222,
   "id": "29937725",
   "metadata": {},
   "outputs": [],
   "source": [
    "res[1] = res[1].apply(lambda x: x[0])"
   ]
  },
  {
   "cell_type": "code",
   "execution_count": 223,
   "id": "a385683a",
   "metadata": {},
   "outputs": [
    {
     "data": {
      "text/html": [
       "<div>\n",
       "<style scoped>\n",
       "    .dataframe tbody tr th:only-of-type {\n",
       "        vertical-align: middle;\n",
       "    }\n",
       "\n",
       "    .dataframe tbody tr th {\n",
       "        vertical-align: top;\n",
       "    }\n",
       "\n",
       "    .dataframe thead th {\n",
       "        text-align: right;\n",
       "    }\n",
       "</style>\n",
       "<table border=\"1\" class=\"dataframe\">\n",
       "  <thead>\n",
       "    <tr style=\"text-align: right;\">\n",
       "      <th></th>\n",
       "      <th>0</th>\n",
       "      <th>1</th>\n",
       "      <th>2</th>\n",
       "    </tr>\n",
       "  </thead>\n",
       "  <tbody>\n",
       "    <tr>\n",
       "      <th>0</th>\n",
       "      <td>0</td>\n",
       "      <td>0</td>\n",
       "      <td>0</td>\n",
       "    </tr>\n",
       "    <tr>\n",
       "      <th>1</th>\n",
       "      <td>0</td>\n",
       "      <td>0</td>\n",
       "      <td>0</td>\n",
       "    </tr>\n",
       "    <tr>\n",
       "      <th>2</th>\n",
       "      <td>0</td>\n",
       "      <td>0</td>\n",
       "      <td>0</td>\n",
       "    </tr>\n",
       "    <tr>\n",
       "      <th>3</th>\n",
       "      <td>0</td>\n",
       "      <td>0</td>\n",
       "      <td>0</td>\n",
       "    </tr>\n",
       "    <tr>\n",
       "      <th>4</th>\n",
       "      <td>0</td>\n",
       "      <td>0</td>\n",
       "      <td>0</td>\n",
       "    </tr>\n",
       "    <tr>\n",
       "      <th>...</th>\n",
       "      <td>...</td>\n",
       "      <td>...</td>\n",
       "      <td>...</td>\n",
       "    </tr>\n",
       "    <tr>\n",
       "      <th>240</th>\n",
       "      <td>0</td>\n",
       "      <td>0</td>\n",
       "      <td>0</td>\n",
       "    </tr>\n",
       "    <tr>\n",
       "      <th>241</th>\n",
       "      <td>0</td>\n",
       "      <td>0</td>\n",
       "      <td>0</td>\n",
       "    </tr>\n",
       "    <tr>\n",
       "      <th>242</th>\n",
       "      <td>0</td>\n",
       "      <td>1</td>\n",
       "      <td>0</td>\n",
       "    </tr>\n",
       "    <tr>\n",
       "      <th>243</th>\n",
       "      <td>0</td>\n",
       "      <td>0</td>\n",
       "      <td>0</td>\n",
       "    </tr>\n",
       "    <tr>\n",
       "      <th>244</th>\n",
       "      <td>0</td>\n",
       "      <td>0</td>\n",
       "      <td>0</td>\n",
       "    </tr>\n",
       "  </tbody>\n",
       "</table>\n",
       "<p>245 rows × 3 columns</p>\n",
       "</div>"
      ],
      "text/plain": [
       "     0  1  2\n",
       "0    0  0  0\n",
       "1    0  0  0\n",
       "2    0  0  0\n",
       "3    0  0  0\n",
       "4    0  0  0\n",
       "..  .. .. ..\n",
       "240  0  0  0\n",
       "241  0  0  0\n",
       "242  0  1  0\n",
       "243  0  0  0\n",
       "244  0  0  0\n",
       "\n",
       "[245 rows x 3 columns]"
      ]
     },
     "execution_count": 223,
     "metadata": {},
     "output_type": "execute_result"
    }
   ],
   "source": [
    "res"
   ]
  },
  {
   "cell_type": "code",
   "execution_count": 224,
   "id": "a19fc248",
   "metadata": {},
   "outputs": [],
   "source": [
    "res['total'] = res.mode(axis=1)[0]"
   ]
  },
  {
   "cell_type": "code",
   "execution_count": 225,
   "id": "1a9bf971",
   "metadata": {},
   "outputs": [
    {
     "data": {
      "text/plain": [
       "0      0\n",
       "1      0\n",
       "2      0\n",
       "3      0\n",
       "4      0\n",
       "      ..\n",
       "240    0\n",
       "241    0\n",
       "242    0\n",
       "243    0\n",
       "244    0\n",
       "Name: total, Length: 245, dtype: int64"
      ]
     },
     "execution_count": 225,
     "metadata": {},
     "output_type": "execute_result"
    }
   ],
   "source": [
    "res['total']"
   ]
  },
  {
   "cell_type": "code",
   "execution_count": 226,
   "id": "f3fa9cfe",
   "metadata": {},
   "outputs": [
    {
     "data": {
      "text/html": [
       "<div>\n",
       "<style scoped>\n",
       "    .dataframe tbody tr th:only-of-type {\n",
       "        vertical-align: middle;\n",
       "    }\n",
       "\n",
       "    .dataframe tbody tr th {\n",
       "        vertical-align: top;\n",
       "    }\n",
       "\n",
       "    .dataframe thead th {\n",
       "        text-align: right;\n",
       "    }\n",
       "</style>\n",
       "<table border=\"1\" class=\"dataframe\">\n",
       "  <thead>\n",
       "    <tr style=\"text-align: right;\">\n",
       "      <th></th>\n",
       "      <th>0</th>\n",
       "      <th>1</th>\n",
       "      <th>2</th>\n",
       "      <th>total</th>\n",
       "    </tr>\n",
       "  </thead>\n",
       "  <tbody>\n",
       "    <tr>\n",
       "      <th>0</th>\n",
       "      <td>0</td>\n",
       "      <td>0</td>\n",
       "      <td>0</td>\n",
       "      <td>0</td>\n",
       "    </tr>\n",
       "    <tr>\n",
       "      <th>1</th>\n",
       "      <td>0</td>\n",
       "      <td>0</td>\n",
       "      <td>0</td>\n",
       "      <td>0</td>\n",
       "    </tr>\n",
       "    <tr>\n",
       "      <th>2</th>\n",
       "      <td>0</td>\n",
       "      <td>0</td>\n",
       "      <td>0</td>\n",
       "      <td>0</td>\n",
       "    </tr>\n",
       "    <tr>\n",
       "      <th>3</th>\n",
       "      <td>0</td>\n",
       "      <td>0</td>\n",
       "      <td>0</td>\n",
       "      <td>0</td>\n",
       "    </tr>\n",
       "    <tr>\n",
       "      <th>4</th>\n",
       "      <td>0</td>\n",
       "      <td>0</td>\n",
       "      <td>0</td>\n",
       "      <td>0</td>\n",
       "    </tr>\n",
       "    <tr>\n",
       "      <th>...</th>\n",
       "      <td>...</td>\n",
       "      <td>...</td>\n",
       "      <td>...</td>\n",
       "      <td>...</td>\n",
       "    </tr>\n",
       "    <tr>\n",
       "      <th>240</th>\n",
       "      <td>0</td>\n",
       "      <td>0</td>\n",
       "      <td>0</td>\n",
       "      <td>0</td>\n",
       "    </tr>\n",
       "    <tr>\n",
       "      <th>241</th>\n",
       "      <td>0</td>\n",
       "      <td>0</td>\n",
       "      <td>0</td>\n",
       "      <td>0</td>\n",
       "    </tr>\n",
       "    <tr>\n",
       "      <th>242</th>\n",
       "      <td>0</td>\n",
       "      <td>1</td>\n",
       "      <td>0</td>\n",
       "      <td>0</td>\n",
       "    </tr>\n",
       "    <tr>\n",
       "      <th>243</th>\n",
       "      <td>0</td>\n",
       "      <td>0</td>\n",
       "      <td>0</td>\n",
       "      <td>0</td>\n",
       "    </tr>\n",
       "    <tr>\n",
       "      <th>244</th>\n",
       "      <td>0</td>\n",
       "      <td>0</td>\n",
       "      <td>0</td>\n",
       "      <td>0</td>\n",
       "    </tr>\n",
       "  </tbody>\n",
       "</table>\n",
       "<p>245 rows × 4 columns</p>\n",
       "</div>"
      ],
      "text/plain": [
       "     0  1  2  total\n",
       "0    0  0  0      0\n",
       "1    0  0  0      0\n",
       "2    0  0  0      0\n",
       "3    0  0  0      0\n",
       "4    0  0  0      0\n",
       "..  .. .. ..    ...\n",
       "240  0  0  0      0\n",
       "241  0  0  0      0\n",
       "242  0  1  0      0\n",
       "243  0  0  0      0\n",
       "244  0  0  0      0\n",
       "\n",
       "[245 rows x 4 columns]"
      ]
     },
     "execution_count": 226,
     "metadata": {},
     "output_type": "execute_result"
    }
   ],
   "source": [
    "res"
   ]
  },
  {
   "cell_type": "code",
   "execution_count": 231,
   "id": "14eb2cd3",
   "metadata": {},
   "outputs": [
    {
     "data": {
      "text/plain": [
       "array([[228,   4],\n",
       "       [  4,   9]], dtype=int64)"
      ]
     },
     "execution_count": 231,
     "metadata": {},
     "output_type": "execute_result"
    }
   ],
   "source": [
    "confusion_matrix(y_test, res['total'])"
   ]
  },
  {
   "cell_type": "code",
   "execution_count": 230,
   "id": "55574bfa",
   "metadata": {},
   "outputs": [
    {
     "name": "stdout",
     "output_type": "stream",
     "text": [
      "              precision    recall  f1-score   support\n",
      "\n",
      "           0       0.98      0.98      0.98       232\n",
      "           1       0.69      0.69      0.69        13\n",
      "\n",
      "    accuracy                           0.97       245\n",
      "   macro avg       0.84      0.84      0.84       245\n",
      "weighted avg       0.97      0.97      0.97       245\n",
      "\n"
     ]
    }
   ],
   "source": [
    "print(classification_report(y_test, res['total']))\n"
   ]
  },
  {
   "cell_type": "code",
   "execution_count": 228,
   "id": "d87199e7",
   "metadata": {},
   "outputs": [
    {
     "name": "stdout",
     "output_type": "stream",
     "text": [
      "0.9673469387755103\n",
      "0.6923076923076923\n",
      "0.6923076923076923\n",
      "0.6923076923076923\n"
     ]
    }
   ],
   "source": [
    "print(accuracy_score(y_test, res['total']))\n",
    "print(precision_score(y_test, res['total']))\n",
    "print(recall_score(y_test, res['total']))\n",
    "print(f1_score(y_test, res['total']))"
   ]
  },
  {
   "cell_type": "code",
   "execution_count": 291,
   "id": "4ed5145f",
   "metadata": {},
   "outputs": [],
   "source": [
    "lr_17 = 'lr_17_model.sav'\n",
    "lstm_17 = 'lstm_17_model.sav'\n",
    "ada_17 = 'ada_17_model.sav'\n",
    "tfidf_17 = 'tfidf_17_model.sav'\n",
    "tok_17 = 'tok_17_model.pickle'"
   ]
  },
  {
   "cell_type": "code",
   "execution_count": 292,
   "id": "ed833efb",
   "metadata": {},
   "outputs": [],
   "source": [
    "pickle.dump(tfidf, open(tfidf_17, 'wb'))\n",
    "pickle.dump(model1, open(lr_17, 'wb'))\n",
    "model3.save('lstm_17_model.h5')\n",
    "pickle.dump(ada, open(ada_17, 'wb'))\n",
    "pickle.dump(tok, open(tok_17, 'wb'))"
   ]
  },
  {
   "cell_type": "markdown",
   "id": "e018170f",
   "metadata": {},
   "source": [
    "## Attribute 15 Second Layer"
   ]
  },
  {
   "cell_type": "code",
   "execution_count": 26,
   "id": "46bc89cf",
   "metadata": {},
   "outputs": [],
   "source": [
    "df_ext_ones = pd.read_csv('ext_ones_labelled.csv')"
   ]
  },
  {
   "cell_type": "code",
   "execution_count": 27,
   "id": "288d602b",
   "metadata": {},
   "outputs": [
    {
     "data": {
      "text/html": [
       "<div>\n",
       "<style scoped>\n",
       "    .dataframe tbody tr th:only-of-type {\n",
       "        vertical-align: middle;\n",
       "    }\n",
       "\n",
       "    .dataframe tbody tr th {\n",
       "        vertical-align: top;\n",
       "    }\n",
       "\n",
       "    .dataframe thead th {\n",
       "        text-align: right;\n",
       "    }\n",
       "</style>\n",
       "<table border=\"1\" class=\"dataframe\">\n",
       "  <thead>\n",
       "    <tr style=\"text-align: right;\">\n",
       "      <th></th>\n",
       "      <th>words</th>\n",
       "      <th>GT</th>\n",
       "      <th>new_GT</th>\n",
       "    </tr>\n",
       "  </thead>\n",
       "  <tbody>\n",
       "    <tr>\n",
       "      <th>0</th>\n",
       "      <td>The certified locations are audited by externa...</td>\n",
       "      <td>1</td>\n",
       "      <td>0</td>\n",
       "    </tr>\n",
       "    <tr>\n",
       "      <th>1</th>\n",
       "      <td>GRI 102-56 see Assurance Report With the excep...</td>\n",
       "      <td>1</td>\n",
       "      <td>0</td>\n",
       "    </tr>\n",
       "    <tr>\n",
       "      <th>2</th>\n",
       "      <td>We conducted our assurance engagement in accor...</td>\n",
       "      <td>1</td>\n",
       "      <td>0</td>\n",
       "    </tr>\n",
       "    <tr>\n",
       "      <th>3</th>\n",
       "      <td>Tian LLP has provided limited assurance on sel...</td>\n",
       "      <td>1</td>\n",
       "      <td>1</td>\n",
       "    </tr>\n",
       "    <tr>\n",
       "      <th>4</th>\n",
       "      <td>And the result will be audited by a third part...</td>\n",
       "      <td>1</td>\n",
       "      <td>0</td>\n",
       "    </tr>\n",
       "  </tbody>\n",
       "</table>\n",
       "</div>"
      ],
      "text/plain": [
       "                                               words  GT  new_GT\n",
       "0  The certified locations are audited by externa...   1       0\n",
       "1  GRI 102-56 see Assurance Report With the excep...   1       0\n",
       "2  We conducted our assurance engagement in accor...   1       0\n",
       "3  Tian LLP has provided limited assurance on sel...   1       1\n",
       "4  And the result will be audited by a third part...   1       0"
      ]
     },
     "execution_count": 27,
     "metadata": {},
     "output_type": "execute_result"
    }
   ],
   "source": [
    "df_ext_ones.head()"
   ]
  },
  {
   "cell_type": "code",
   "execution_count": null,
   "id": "f05a4a92",
   "metadata": {},
   "outputs": [],
   "source": [
    "X = df_ext_ones['words']\n",
    "y = df_ext_ones['new_GT']"
   ]
  }
 ],
 "metadata": {
  "kernelspec": {
   "display_name": "Python 3 (ipykernel)",
   "language": "python",
   "name": "python3"
  },
  "language_info": {
   "codemirror_mode": {
    "name": "ipython",
    "version": 3
   },
   "file_extension": ".py",
   "mimetype": "text/x-python",
   "name": "python",
   "nbconvert_exporter": "python",
   "pygments_lexer": "ipython3",
   "version": "3.9.12"
  }
 },
 "nbformat": 4,
 "nbformat_minor": 5
}
