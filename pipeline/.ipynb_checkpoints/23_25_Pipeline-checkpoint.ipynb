{
 "cells": [
  {
   "cell_type": "markdown",
   "metadata": {
    "id": "jK5jAIfGgJxM"
   },
   "source": [
    "## Import libaries"
   ]
  },
  {
   "cell_type": "code",
   "execution_count": 1,
   "metadata": {
    "colab": {
     "base_uri": "https://localhost:8080/"
    },
    "id": "0OWlXrey80xy",
    "outputId": "3dea4a7c-141a-4b37-e3f6-de67c8fccff5"
   },
   "outputs": [
    {
     "name": "stderr",
     "output_type": "stream",
     "text": [
      "[nltk_data] Downloading package punkt to C:\\Users\\Chen\n",
      "[nltk_data]     Wei\\AppData\\Roaming\\nltk_data...\n",
      "[nltk_data]   Package punkt is already up-to-date!\n",
      "[nltk_data] Downloading package stopwords to C:\\Users\\Chen\n",
      "[nltk_data]     Wei\\AppData\\Roaming\\nltk_data...\n",
      "[nltk_data]   Package stopwords is already up-to-date!\n",
      "[nltk_data] Downloading package omw-1.4 to C:\\Users\\Chen\n",
      "[nltk_data]     Wei\\AppData\\Roaming\\nltk_data...\n",
      "[nltk_data]   Package omw-1.4 is already up-to-date!\n",
      "[nltk_data] Downloading package wordnet to C:\\Users\\Chen\n",
      "[nltk_data]     Wei\\AppData\\Roaming\\nltk_data...\n",
      "[nltk_data]   Package wordnet is already up-to-date!\n"
     ]
    }
   ],
   "source": [
    "# # Mount on google drive\n",
    "# from google.colab import drive\n",
    "# drive.mount('/content/gdrive')\n",
    "\n",
    "# General\n",
    "import pandas as pd\n",
    "import numpy as np\n",
    "import re\n",
    "\n",
    "# Load models\n",
    "from keras.models import load_model\n",
    "import pickle\n",
    "\n",
    "# Text pre-processing\n",
    "import nltk\n",
    "from nltk.tokenize import TreebankWordTokenizer\n",
    "from nltk.stem.snowball import SnowballStemmer\n",
    "from nltk.stem import WordNetLemmatizer \n",
    "nltk.download('punkt')\n",
    "nltk.download('stopwords')\n",
    "nltk.download('omw-1.4')\n",
    "nltk.download('wordnet')\n",
    "import gensim\n",
    "from gensim.parsing.preprocessing import remove_stopwords\n",
    "stopwords = gensim.parsing.preprocessing.STOPWORDS"
   ]
  },
  {
   "cell_type": "markdown",
   "metadata": {
    "id": "tOWFq1AW9uE4"
   },
   "source": [
    "## Functions"
   ]
  },
  {
   "cell_type": "code",
   "execution_count": 2,
   "metadata": {
    "id": "iYU-Ir4u6ull"
   },
   "outputs": [],
   "source": [
    "def load_models():\n",
    "\n",
    "  # relevance_vectorizer = pickle.load(open('gdrive/My Drive/BT4103/saved_models/relevance/vectorizer.pkl', 'rb'))\n",
    "  # relevance_model = pickle.load(open('gdrive/My Drive/BT4103/saved_models/relevance/rf.pkl', 'rb'))\n",
    "  # scale_vectorizer = pickle.load(open('gdrive/My Drive/BT4103/saved_models/scale/vectorizer.pkl', 'rb'))\n",
    "  # scale_model = load_model('gdrive/My Drive/BT4103/saved_models/scale/nn.h5')\n",
    "\n",
    "    relevance_vectorizer = pickle.load(open('relevance_vectorizer.pkl', 'rb'))\n",
    "    relevance_model = pickle.load(open('relevance_rf.pkl', 'rb'))\n",
    "    scale_vectorizer = pickle.load(open('scale_vectorizer.pkl', 'rb'))\n",
    "    scale_model = load_model('scale_nn.h5')\n",
    "\n",
    "    return relevance_vectorizer, relevance_model, scale_vectorizer, scale_model"
   ]
  },
  {
   "cell_type": "code",
   "execution_count": 4,
   "metadata": {
    "id": "PUxRYluKRKup"
   },
   "outputs": [],
   "source": [
    "def clean(line):\n",
    "    line = re.sub(r'[0-9\\.]+', '', line) # remove digits\n",
    "    line = re.sub(r'[^\\w\\s]','', line) # remove punctuation\n",
    "    return line\n",
    "\n",
    "def stemming(line):\n",
    "    stemmer = SnowballStemmer(language='english')\n",
    "    return [stemmer.stem(token) for token in line]\n",
    "\n",
    "def lemmatization(line):\n",
    "    lemmatizer = WordNetLemmatizer()\n",
    "    return [lemmatizer.lemmatize(token) for token in line]\n",
    "\n",
    "def remove_stop_words(line):\n",
    "    return [remove_stopwords(token) for token in line]\n",
    "\n",
    "def pre_processing(line):\n",
    "    tokenizer = TreebankWordTokenizer()\n",
    "\n",
    "    tokenized_line = tokenizer.tokenize(clean(line))\n",
    "    preprocessed_line = stemming(lemmatization(remove_stop_words(tokenized_line)))\n",
    "    \n",
    "    return ' '.join([token for token in preprocessed_line if token != ''])"
   ]
  },
  {
   "cell_type": "code",
   "execution_count": 36,
   "metadata": {
    "id": "AXxss3qf8wkf"
   },
   "outputs": [],
   "source": [
    "def keyword_filter(df, keywords):\n",
    "    filtered = []\n",
    "    for s in np.array(df['sentence']):\n",
    "        sentence = s.lower()\n",
    "    for k in keywords:\n",
    "        if k in sentence:\n",
    "            filtered.append([s, k])\n",
    "    \n",
    "    filtered_df = pd.DataFrame(filtered, columns=['sentence', 'keyword(s)']).groupby(['sentence']).agg({'keyword(s)': lambda x: list(x.unique())}).reset_index()\n",
    "    return filtered_df"
   ]
  },
  {
   "cell_type": "code",
   "execution_count": 6,
   "metadata": {
    "id": "pKbvpBKkB081"
   },
   "outputs": [],
   "source": [
    "def predict(X, vectorizer, model, pred_type):\n",
    "    X_vec = pd.DataFrame(vectorizer.transform(X['preprocessed']).todense(), columns=vectorizer.get_feature_names_out())\n",
    "    if pred_type == 'relevance':\n",
    "        y_pred = model.predict(X_vec)\n",
    "    elif pred_type == 'scale':\n",
    "        y_pred = [i+1 for i in np.argmax(model.predict(X_vec, verbose=0), axis=1)]\n",
    "    df = pd.DataFrame({'sentence': X['sentence'],'preprocessed': X['preprocessed'], 'pred_label': y_pred})\n",
    "    return df"
   ]
  },
  {
   "cell_type": "code",
   "execution_count": 7,
   "metadata": {
    "id": "isB87ibYImjY"
   },
   "outputs": [],
   "source": [
    "def is_quantitative(x):\n",
    "    x = x.lower()\n",
    "\n",
    "    x = re.sub(\"[2][0][0-5][0-9]\", \"\", x) #remove years\n",
    "    x = re.sub(\"fy[0-9]+\", \"\", x) #remove numbers that represent financial year e.g. FY21\n",
    "    x = re.sub(\"tier\\s*[0-9]\", \"\", x) #remove numbers related to tiers\n",
    "    x = re.sub(\"scope\\s*[0-9]\", \"\", x) #remove numbers related to scope\n",
    "    x = re.sub(\"co2\", \"\", x) #remove 'CO2'\n",
    "    x = re.sub(\"cid.+\", \"\", x) #remove 'cid'\n",
    "    x = re.sub(\"[0-9]+[:)]|[#]+[0-9]\", \"\", x) #remove numbers for indexing e.g. 1) or #1 or 1:\n",
    "\n",
    "    return re.search(\"supplier\", x) and len(re.findall(r'\\d+', x)) > 0"
   ]
  },
  {
   "cell_type": "code",
   "execution_count": 34,
   "metadata": {
    "id": "8VoYRUycJd8s"
   },
   "outputs": [],
   "source": [
    "def get_attribute_23_25(df):\n",
    "    # load trained models\n",
    "    relevance_vectorizer, relevance_model, scale_vectorizer, scale_model = load_models()\n",
    "\n",
    "    # keyword filter and preprocessing\n",
    "    df_filtered = keyword_filter(df, ['supplier', 'supply chain', 'value chain'])\n",
    "    print(df_filtered)\n",
    "    df_filtered['preprocessed'] = df_filtered['sentence'].apply(lambda x: pre_processing(x))\n",
    "\n",
    "    # predict\n",
    "    relevance = predict(df_filtered, relevance_vectorizer, relevance_model, 'relevance')\n",
    "    scale = predict(relevance[relevance['pred_label'] == True], scale_vectorizer, scale_model, 'scale')\n",
    "\n",
    "    # get final results\n",
    "    relevance['quantitative'] = relevance['sentence'].apply(lambda x: is_quantitative(x))\n",
    "    relevant = pd.DataFrame(relevance[relevance['pred_label'] == True]['sentence'])\n",
    "    attribute_23 = pd.DataFrame(relevance[(relevance['quantitative'] == True) & (relevance['pred_label'] == True)]['sentence'])\n",
    "    attribute_25 = list(set(scale['pred_label']))\n",
    "\n",
    "    print('# Relevant sentences found: ' + str(relevant.shape[0]))\n",
    "\n",
    "    return attribute_23, attribute_25, relevant"
   ]
  },
  {
   "cell_type": "markdown",
   "metadata": {
    "id": "XQlxjSbVMJYu"
   },
   "source": [
    "## Predict Attribute 23, 25"
   ]
  },
  {
   "cell_type": "code",
   "execution_count": 7,
   "metadata": {
    "id": "GKgUyF6PByCh"
   },
   "outputs": [],
   "source": [
    "pd.set_option('display.max_colwidth', None)\n",
    "# Read dataset with raw sentences (no preprocessing)\n",
    "# Path to be changed accordingly\n",
    "df = pd.read_csv('gdrive/My Drive/AY2223S1/BT4103/data/labelled.csv')[['sentence', 'page']]"
   ]
  },
  {
   "cell_type": "code",
   "execution_count": 38,
   "metadata": {},
   "outputs": [],
   "source": [
    "df = pd.read_csv('ubm.csv')"
   ]
  },
  {
   "cell_type": "code",
   "execution_count": 39,
   "metadata": {
    "colab": {
     "base_uri": "https://localhost:8080/",
     "height": 206
    },
    "id": "F-t8SP9WeY7r",
    "outputId": "3075e860-5774-4af1-b68c-25ea0d89bea1"
   },
   "outputs": [
    {
     "data": {
      "text/html": [
       "<div>\n",
       "<style scoped>\n",
       "    .dataframe tbody tr th:only-of-type {\n",
       "        vertical-align: middle;\n",
       "    }\n",
       "\n",
       "    .dataframe tbody tr th {\n",
       "        vertical-align: top;\n",
       "    }\n",
       "\n",
       "    .dataframe thead th {\n",
       "        text-align: right;\n",
       "    }\n",
       "</style>\n",
       "<table border=\"1\" class=\"dataframe\">\n",
       "  <thead>\n",
       "    <tr style=\"text-align: right;\">\n",
       "      <th></th>\n",
       "      <th>words</th>\n",
       "    </tr>\n",
       "  </thead>\n",
       "  <tbody>\n",
       "    <tr>\n",
       "      <th>0</th>\n",
       "      <td>The dividend is paid in the following nancial ...</td>\n",
       "    </tr>\n",
       "    <tr>\n",
       "      <th>1</th>\n",
       "      <td>The dividend proposal for 2021 is subject to t...</td>\n",
       "    </tr>\n",
       "    <tr>\n",
       "      <th>2</th>\n",
       "      <td>G as in Governance UBM &amp; Sustainability 3.</td>\n",
       "    </tr>\n",
       "    <tr>\n",
       "      <th>3</th>\n",
       "      <td>Important information 7.</td>\n",
       "    </tr>\n",
       "    <tr>\n",
       "      <th>4</th>\n",
       "      <td>Maly-GrtnerCOODear Shareholders,Dear Stakehold...</td>\n",
       "    </tr>\n",
       "  </tbody>\n",
       "</table>\n",
       "</div>"
      ],
      "text/plain": [
       "                                               words\n",
       "0  The dividend is paid in the following nancial ...\n",
       "1  The dividend proposal for 2021 is subject to t...\n",
       "2         G as in Governance UBM & Sustainability 3.\n",
       "3                           Important information 7.\n",
       "4  Maly-GrtnerCOODear Shareholders,Dear Stakehold..."
      ]
     },
     "execution_count": 39,
     "metadata": {},
     "output_type": "execute_result"
    }
   ],
   "source": [
    "df.head()"
   ]
  },
  {
   "cell_type": "code",
   "execution_count": 40,
   "metadata": {},
   "outputs": [],
   "source": [
    "df = df.rename(columns={'words': 'sentence'})"
   ]
  },
  {
   "cell_type": "code",
   "execution_count": 41,
   "metadata": {},
   "outputs": [
    {
     "data": {
      "text/html": [
       "<div>\n",
       "<style scoped>\n",
       "    .dataframe tbody tr th:only-of-type {\n",
       "        vertical-align: middle;\n",
       "    }\n",
       "\n",
       "    .dataframe tbody tr th {\n",
       "        vertical-align: top;\n",
       "    }\n",
       "\n",
       "    .dataframe thead th {\n",
       "        text-align: right;\n",
       "    }\n",
       "</style>\n",
       "<table border=\"1\" class=\"dataframe\">\n",
       "  <thead>\n",
       "    <tr style=\"text-align: right;\">\n",
       "      <th></th>\n",
       "      <th>sentence</th>\n",
       "    </tr>\n",
       "  </thead>\n",
       "  <tbody>\n",
       "    <tr>\n",
       "      <th>0</th>\n",
       "      <td>The dividend is paid in the following nancial ...</td>\n",
       "    </tr>\n",
       "    <tr>\n",
       "      <th>1</th>\n",
       "      <td>The dividend proposal for 2021 is subject to t...</td>\n",
       "    </tr>\n",
       "    <tr>\n",
       "      <th>2</th>\n",
       "      <td>G as in Governance UBM &amp; Sustainability 3.</td>\n",
       "    </tr>\n",
       "    <tr>\n",
       "      <th>3</th>\n",
       "      <td>Important information 7.</td>\n",
       "    </tr>\n",
       "    <tr>\n",
       "      <th>4</th>\n",
       "      <td>Maly-GrtnerCOODear Shareholders,Dear Stakehold...</td>\n",
       "    </tr>\n",
       "    <tr>\n",
       "      <th>...</th>\n",
       "      <td>...</td>\n",
       "    </tr>\n",
       "    <tr>\n",
       "      <th>1100</th>\n",
       "      <td>The amounts were rounded based on the compensa...</td>\n",
       "    </tr>\n",
       "    <tr>\n",
       "      <th>1101</th>\n",
       "      <td>However, rounding, typesetting and printing er...</td>\n",
       "    </tr>\n",
       "    <tr>\n",
       "      <th>1102</th>\n",
       "      <td>This ESG report is published in English and Ge...</td>\n",
       "    </tr>\n",
       "    <tr>\n",
       "      <th>1103</th>\n",
       "      <td>In the event of a discrepancy or deviation, th...</td>\n",
       "    </tr>\n",
       "    <tr>\n",
       "      <th>1104</th>\n",
       "      <td>This ESG report was printed on Olin regular ab...</td>\n",
       "    </tr>\n",
       "  </tbody>\n",
       "</table>\n",
       "<p>1105 rows × 1 columns</p>\n",
       "</div>"
      ],
      "text/plain": [
       "                                               sentence\n",
       "0     The dividend is paid in the following nancial ...\n",
       "1     The dividend proposal for 2021 is subject to t...\n",
       "2            G as in Governance UBM & Sustainability 3.\n",
       "3                              Important information 7.\n",
       "4     Maly-GrtnerCOODear Shareholders,Dear Stakehold...\n",
       "...                                                 ...\n",
       "1100  The amounts were rounded based on the compensa...\n",
       "1101  However, rounding, typesetting and printing er...\n",
       "1102  This ESG report is published in English and Ge...\n",
       "1103  In the event of a discrepancy or deviation, th...\n",
       "1104  This ESG report was printed on Olin regular ab...\n",
       "\n",
       "[1105 rows x 1 columns]"
      ]
     },
     "execution_count": 41,
     "metadata": {},
     "output_type": "execute_result"
    }
   ],
   "source": [
    "df"
   ]
  },
  {
   "cell_type": "code",
   "execution_count": 42,
   "metadata": {
    "colab": {
     "base_uri": "https://localhost:8080/"
    },
    "id": "vpp8NhPcMyao",
    "outputId": "7eacb68f-7857-4023-a999-2e244e17010f"
   },
   "outputs": [
    {
     "name": "stdout",
     "output_type": "stream",
     "text": [
      "None\n"
     ]
    },
    {
     "ename": "TypeError",
     "evalue": "'NoneType' object is not subscriptable",
     "output_type": "error",
     "traceback": [
      "\u001b[1;31m---------------------------------------------------------------------------\u001b[0m",
      "\u001b[1;31mTypeError\u001b[0m                                 Traceback (most recent call last)",
      "Input \u001b[1;32mIn [42]\u001b[0m, in \u001b[0;36m<cell line: 1>\u001b[1;34m()\u001b[0m\n\u001b[1;32m----> 1\u001b[0m attribute_23, attribute_25, relevant \u001b[38;5;241m=\u001b[39m \u001b[43mget_attribute_23_25\u001b[49m\u001b[43m(\u001b[49m\u001b[43mdf\u001b[49m\u001b[43m)\u001b[49m\n",
      "Input \u001b[1;32mIn [34]\u001b[0m, in \u001b[0;36mget_attribute_23_25\u001b[1;34m(df)\u001b[0m\n\u001b[0;32m      6\u001b[0m df_filtered \u001b[38;5;241m=\u001b[39m keyword_filter(df, [\u001b[38;5;124m'\u001b[39m\u001b[38;5;124msupplier\u001b[39m\u001b[38;5;124m'\u001b[39m, \u001b[38;5;124m'\u001b[39m\u001b[38;5;124msupply chain\u001b[39m\u001b[38;5;124m'\u001b[39m, \u001b[38;5;124m'\u001b[39m\u001b[38;5;124mvalue chain\u001b[39m\u001b[38;5;124m'\u001b[39m])\n\u001b[0;32m      7\u001b[0m \u001b[38;5;28mprint\u001b[39m(df_filtered)\n\u001b[1;32m----> 8\u001b[0m df_filtered[\u001b[38;5;124m'\u001b[39m\u001b[38;5;124mpreprocessed\u001b[39m\u001b[38;5;124m'\u001b[39m] \u001b[38;5;241m=\u001b[39m \u001b[43mdf_filtered\u001b[49m\u001b[43m[\u001b[49m\u001b[38;5;124;43m'\u001b[39;49m\u001b[38;5;124;43msentence\u001b[39;49m\u001b[38;5;124;43m'\u001b[39;49m\u001b[43m]\u001b[49m\u001b[38;5;241m.\u001b[39mapply(\u001b[38;5;28;01mlambda\u001b[39;00m x: pre_processing(x))\n\u001b[0;32m     10\u001b[0m \u001b[38;5;66;03m# predict\u001b[39;00m\n\u001b[0;32m     11\u001b[0m relevance \u001b[38;5;241m=\u001b[39m predict(df_filtered, relevance_vectorizer, relevance_model, \u001b[38;5;124m'\u001b[39m\u001b[38;5;124mrelevance\u001b[39m\u001b[38;5;124m'\u001b[39m)\n",
      "\u001b[1;31mTypeError\u001b[0m: 'NoneType' object is not subscriptable"
     ]
    }
   ],
   "source": [
    "attribute_23, attribute_25, relevant = get_attribute_23_25(df)"
   ]
  },
  {
   "cell_type": "code",
   "execution_count": null,
   "metadata": {
    "colab": {
     "base_uri": "https://localhost:8080/",
     "height": 389
    },
    "id": "MC1Uk7KUOON0",
    "outputId": "1087091e-976e-4ca0-b79e-f95e7686292d"
   },
   "outputs": [
    {
     "data": {
      "text/html": [
       "\n",
       "  <div id=\"df-85916ac9-0cb1-454d-8614-c38615719d47\">\n",
       "    <div class=\"colab-df-container\">\n",
       "      <div>\n",
       "<style scoped>\n",
       "    .dataframe tbody tr th:only-of-type {\n",
       "        vertical-align: middle;\n",
       "    }\n",
       "\n",
       "    .dataframe tbody tr th {\n",
       "        vertical-align: top;\n",
       "    }\n",
       "\n",
       "    .dataframe thead th {\n",
       "        text-align: right;\n",
       "    }\n",
       "</style>\n",
       "<table border=\"1\" class=\"dataframe\">\n",
       "  <thead>\n",
       "    <tr style=\"text-align: right;\">\n",
       "      <th></th>\n",
       "      <th>sentence</th>\n",
       "    </tr>\n",
       "  </thead>\n",
       "  <tbody>\n",
       "    <tr>\n",
       "      <th>78</th>\n",
       "      <td>Among newly selected suppliers in fiscal 2020, 100% of them met both Nissan(cid:96)s social standards and basic environmental principles.</td>\n",
       "    </tr>\n",
       "    <tr>\n",
       "      <th>79</th>\n",
       "      <td>Among our new supplier nominations in 2021, we have achieved over 70% secondary PGM use, reducing roughly 480,000 t CO emissions in the coming three years.</td>\n",
       "    </tr>\n",
       "    <tr>\n",
       "      <th>80</th>\n",
       "      <td>Among the achievements of 2021 were the first estimate of upstream Scope 3 emissions (7 Mt CO2 equivalent) with EcoAct, the launch of a collective climate approach with 1,000 suppliers and the adoption of a target for the Companys 400 leading suppliers.</td>\n",
       "    </tr>\n",
       "    <tr>\n",
       "      <th>83</th>\n",
       "      <td>Amount of scrap steel and aluminium recycled from production process (in t) 45,000 71,000 Scrap steel 2020 2021 Scrap aluminium 2020 2021 0 10,402 INTRODUCTION FUNDAMENTALS PRODUCTS AND SERVICES PRODUCTION, OPER ATION AND SUPPLIER NETWORK EMPLOYEE AND SOCIET Y OTHER INFORMATION Scrap steel and aluminium recycling system at our Plant Dadong.</td>\n",
       "    </tr>\n",
       "    <tr>\n",
       "      <th>96</th>\n",
       "      <td>Annual Purchase Value purchased from Tier 1 suppliers evaluated on CSR Percentage of complaints raised by Supervisory Authorities for customer privacy/data protection infringements handled within 1 month Number of convictions of noncompliance concerning product and service information and labeling or marketing communications Number of nameplates/models on which an LCA have been performed Percentage of nameplates with ZEV offering Share of ZEV in sales mix Waste normalized/vehicle produced Percentage of waste recovered out of total waste generated VOC emissions from paint shops normalized in g/m2 painted and kg/vehicle produced Total water withdrawal Total water withdrawn normalized in m3/vehicle produced Percentage of plants that have done a RENATU evaluation CSR scores of Stellantis suppliers assessed by Ecovadis Average Human Rights scores of Stellantis Tier1 suppliers assessed by independent third party Assessed suppliers for which corrective action plans have been developed for Human Rights issues 22.</td>\n",
       "    </tr>\n",
       "  </tbody>\n",
       "</table>\n",
       "</div>\n",
       "      <button class=\"colab-df-convert\" onclick=\"convertToInteractive('df-85916ac9-0cb1-454d-8614-c38615719d47')\"\n",
       "              title=\"Convert this dataframe to an interactive table.\"\n",
       "              style=\"display:none;\">\n",
       "        \n",
       "  <svg xmlns=\"http://www.w3.org/2000/svg\" height=\"24px\"viewBox=\"0 0 24 24\"\n",
       "       width=\"24px\">\n",
       "    <path d=\"M0 0h24v24H0V0z\" fill=\"none\"/>\n",
       "    <path d=\"M18.56 5.44l.94 2.06.94-2.06 2.06-.94-2.06-.94-.94-2.06-.94 2.06-2.06.94zm-11 1L8.5 8.5l.94-2.06 2.06-.94-2.06-.94L8.5 2.5l-.94 2.06-2.06.94zm10 10l.94 2.06.94-2.06 2.06-.94-2.06-.94-.94-2.06-.94 2.06-2.06.94z\"/><path d=\"M17.41 7.96l-1.37-1.37c-.4-.4-.92-.59-1.43-.59-.52 0-1.04.2-1.43.59L10.3 9.45l-7.72 7.72c-.78.78-.78 2.05 0 2.83L4 21.41c.39.39.9.59 1.41.59.51 0 1.02-.2 1.41-.59l7.78-7.78 2.81-2.81c.8-.78.8-2.07 0-2.86zM5.41 20L4 18.59l7.72-7.72 1.47 1.35L5.41 20z\"/>\n",
       "  </svg>\n",
       "      </button>\n",
       "      \n",
       "  <style>\n",
       "    .colab-df-container {\n",
       "      display:flex;\n",
       "      flex-wrap:wrap;\n",
       "      gap: 12px;\n",
       "    }\n",
       "\n",
       "    .colab-df-convert {\n",
       "      background-color: #E8F0FE;\n",
       "      border: none;\n",
       "      border-radius: 50%;\n",
       "      cursor: pointer;\n",
       "      display: none;\n",
       "      fill: #1967D2;\n",
       "      height: 32px;\n",
       "      padding: 0 0 0 0;\n",
       "      width: 32px;\n",
       "    }\n",
       "\n",
       "    .colab-df-convert:hover {\n",
       "      background-color: #E2EBFA;\n",
       "      box-shadow: 0px 1px 2px rgba(60, 64, 67, 0.3), 0px 1px 3px 1px rgba(60, 64, 67, 0.15);\n",
       "      fill: #174EA6;\n",
       "    }\n",
       "\n",
       "    [theme=dark] .colab-df-convert {\n",
       "      background-color: #3B4455;\n",
       "      fill: #D2E3FC;\n",
       "    }\n",
       "\n",
       "    [theme=dark] .colab-df-convert:hover {\n",
       "      background-color: #434B5C;\n",
       "      box-shadow: 0px 1px 3px 1px rgba(0, 0, 0, 0.15);\n",
       "      filter: drop-shadow(0px 1px 2px rgba(0, 0, 0, 0.3));\n",
       "      fill: #FFFFFF;\n",
       "    }\n",
       "  </style>\n",
       "\n",
       "      <script>\n",
       "        const buttonEl =\n",
       "          document.querySelector('#df-85916ac9-0cb1-454d-8614-c38615719d47 button.colab-df-convert');\n",
       "        buttonEl.style.display =\n",
       "          google.colab.kernel.accessAllowed ? 'block' : 'none';\n",
       "\n",
       "        async function convertToInteractive(key) {\n",
       "          const element = document.querySelector('#df-85916ac9-0cb1-454d-8614-c38615719d47');\n",
       "          const dataTable =\n",
       "            await google.colab.kernel.invokeFunction('convertToInteractive',\n",
       "                                                     [key], {});\n",
       "          if (!dataTable) return;\n",
       "\n",
       "          const docLinkHtml = 'Like what you see? Visit the ' +\n",
       "            '<a target=\"_blank\" href=https://colab.research.google.com/notebooks/data_table.ipynb>data table notebook</a>'\n",
       "            + ' to learn more about interactive tables.';\n",
       "          element.innerHTML = '';\n",
       "          dataTable['output_type'] = 'display_data';\n",
       "          await google.colab.output.renderOutput(dataTable, element);\n",
       "          const docLink = document.createElement('div');\n",
       "          docLink.innerHTML = docLinkHtml;\n",
       "          element.appendChild(docLink);\n",
       "        }\n",
       "      </script>\n",
       "    </div>\n",
       "  </div>\n",
       "  "
      ],
      "text/plain": [
       "                                                                                                                                                                                                                                                                                                                                                                                                                                                                                                                                                                                                                                                                                                                                                                                                                                                                                                                                                                                                                                                        sentence\n",
       "78                                                                                                                                                                                                                                                                                                                                                                                                                                                                                                                                                                                                                                                                                                                                                                                                                                                                                                                     Among newly selected suppliers in fiscal 2020, 100% of them met both Nissan(cid:96)s social standards and basic environmental principles.\n",
       "79                                                                                                                                                                                                                                                                                                                                                                                                                                                                                                                                                                                                                                                                                                                                                                                                                                                                                                   Among our new supplier nominations in 2021, we have achieved over 70% secondary PGM use, reducing roughly 480,000 t CO emissions in the coming three years.\n",
       "80                                                                                                                                                                                                                                                                                                                                                                                                                                                                                                                                                                                                                                                                                                                                                                                                 Among the achievements of 2021 were the first estimate of upstream Scope 3 emissions (7 Mt CO2 equivalent) with EcoAct, the launch of a collective climate approach with 1,000 suppliers and the adoption of a target for the Companys 400 leading suppliers.\n",
       "83                                                                                                                                                                                                                                                                                                                                                                                                                                                                                                                                                                                                                                                                                                        Amount of scrap steel and aluminium recycled from production process (in t) 45,000 71,000 Scrap steel 2020 2021 Scrap aluminium 2020 2021 0 10,402 INTRODUCTION FUNDAMENTALS PRODUCTS AND SERVICES PRODUCTION, OPER ATION AND SUPPLIER NETWORK EMPLOYEE AND SOCIET Y OTHER INFORMATION Scrap steel and aluminium recycling system at our Plant Dadong.\n",
       "96  Annual Purchase Value purchased from Tier 1 suppliers evaluated on CSR Percentage of complaints raised by Supervisory Authorities for customer privacy/data protection infringements handled within 1 month Number of convictions of noncompliance concerning product and service information and labeling or marketing communications Number of nameplates/models on which an LCA have been performed Percentage of nameplates with ZEV offering Share of ZEV in sales mix Waste normalized/vehicle produced Percentage of waste recovered out of total waste generated VOC emissions from paint shops normalized in g/m2 painted and kg/vehicle produced Total water withdrawal Total water withdrawn normalized in m3/vehicle produced Percentage of plants that have done a RENATU evaluation CSR scores of Stellantis suppliers assessed by Ecovadis Average Human Rights scores of Stellantis Tier1 suppliers assessed by independent third party Assessed suppliers for which corrective action plans have been developed for Human Rights issues 22."
      ]
     },
     "execution_count": 98,
     "metadata": {},
     "output_type": "execute_result"
    }
   ],
   "source": [
    "attribute_23.head()"
   ]
  },
  {
   "cell_type": "code",
   "execution_count": null,
   "metadata": {
    "colab": {
     "base_uri": "https://localhost:8080/"
    },
    "id": "oP572mFNLc0H",
    "outputId": "627046a4-9dad-4273-c5ae-d245942ac9d9"
   },
   "outputs": [
    {
     "data": {
      "text/plain": [
       "[1, 2, 3]"
      ]
     },
     "execution_count": 93,
     "metadata": {},
     "output_type": "execute_result"
    }
   ],
   "source": [
    "attribute_25"
   ]
  },
  {
   "cell_type": "code",
   "execution_count": null,
   "metadata": {
    "colab": {
     "base_uri": "https://localhost:8080/",
     "height": 320
    },
    "id": "S5CVHWjpLeXm",
    "outputId": "3562ed7b-37a3-482a-90ce-2b2e1c5389c6"
   },
   "outputs": [
    {
     "data": {
      "text/html": [
       "\n",
       "  <div id=\"df-2a2c8f94-cc6e-4fb4-811b-0adc0369facc\">\n",
       "    <div class=\"colab-df-container\">\n",
       "      <div>\n",
       "<style scoped>\n",
       "    .dataframe tbody tr th:only-of-type {\n",
       "        vertical-align: middle;\n",
       "    }\n",
       "\n",
       "    .dataframe tbody tr th {\n",
       "        vertical-align: top;\n",
       "    }\n",
       "\n",
       "    .dataframe thead th {\n",
       "        text-align: right;\n",
       "    }\n",
       "</style>\n",
       "<table border=\"1\" class=\"dataframe\">\n",
       "  <thead>\n",
       "    <tr style=\"text-align: right;\">\n",
       "      <th></th>\n",
       "      <th>sentence</th>\n",
       "    </tr>\n",
       "  </thead>\n",
       "  <tbody>\n",
       "    <tr>\n",
       "      <th>2</th>\n",
       "      <td>A NET ZERO COMMITMENT TO SUPPORT THE PLANETS CARBON NEUTRALITY Stellantis targets to become Carbon Net Zero on the whole value chain by 2038, with single digit percent compensation of residual emissions vs 2021 level.</td>\n",
       "    </tr>\n",
       "    <tr>\n",
       "      <th>4</th>\n",
       "      <td>A circular economy mindset to enlarge the lifespan of a vehicle: green materials: Their wider application requires the development of robust supply chains and more research on new materials.</td>\n",
       "    </tr>\n",
       "    <tr>\n",
       "      <th>6</th>\n",
       "      <td>A description of how waterrelated impacts are addressed, including how the organization works with stakeholders to steward water as a shared resource, and how it engages with suppliers or customers with significant waterrelated impacts.</td>\n",
       "    </tr>\n",
       "    <tr>\n",
       "      <th>8</th>\n",
       "      <td>A failure by suppliers to meet applicable environmental laws or regulations may lead to a disruption of Stellantis supply chain or to raw materials and components price increases.</td>\n",
       "    </tr>\n",
       "    <tr>\n",
       "      <th>11</th>\n",
       "      <td>A growing element in our due diligence efforts, the SAQ is used to assess supplier sustainability and to support Ford in identifying social and environmental risks throughout our supply base.</td>\n",
       "    </tr>\n",
       "  </tbody>\n",
       "</table>\n",
       "</div>\n",
       "      <button class=\"colab-df-convert\" onclick=\"convertToInteractive('df-2a2c8f94-cc6e-4fb4-811b-0adc0369facc')\"\n",
       "              title=\"Convert this dataframe to an interactive table.\"\n",
       "              style=\"display:none;\">\n",
       "        \n",
       "  <svg xmlns=\"http://www.w3.org/2000/svg\" height=\"24px\"viewBox=\"0 0 24 24\"\n",
       "       width=\"24px\">\n",
       "    <path d=\"M0 0h24v24H0V0z\" fill=\"none\"/>\n",
       "    <path d=\"M18.56 5.44l.94 2.06.94-2.06 2.06-.94-2.06-.94-.94-2.06-.94 2.06-2.06.94zm-11 1L8.5 8.5l.94-2.06 2.06-.94-2.06-.94L8.5 2.5l-.94 2.06-2.06.94zm10 10l.94 2.06.94-2.06 2.06-.94-2.06-.94-.94-2.06-.94 2.06-2.06.94z\"/><path d=\"M17.41 7.96l-1.37-1.37c-.4-.4-.92-.59-1.43-.59-.52 0-1.04.2-1.43.59L10.3 9.45l-7.72 7.72c-.78.78-.78 2.05 0 2.83L4 21.41c.39.39.9.59 1.41.59.51 0 1.02-.2 1.41-.59l7.78-7.78 2.81-2.81c.8-.78.8-2.07 0-2.86zM5.41 20L4 18.59l7.72-7.72 1.47 1.35L5.41 20z\"/>\n",
       "  </svg>\n",
       "      </button>\n",
       "      \n",
       "  <style>\n",
       "    .colab-df-container {\n",
       "      display:flex;\n",
       "      flex-wrap:wrap;\n",
       "      gap: 12px;\n",
       "    }\n",
       "\n",
       "    .colab-df-convert {\n",
       "      background-color: #E8F0FE;\n",
       "      border: none;\n",
       "      border-radius: 50%;\n",
       "      cursor: pointer;\n",
       "      display: none;\n",
       "      fill: #1967D2;\n",
       "      height: 32px;\n",
       "      padding: 0 0 0 0;\n",
       "      width: 32px;\n",
       "    }\n",
       "\n",
       "    .colab-df-convert:hover {\n",
       "      background-color: #E2EBFA;\n",
       "      box-shadow: 0px 1px 2px rgba(60, 64, 67, 0.3), 0px 1px 3px 1px rgba(60, 64, 67, 0.15);\n",
       "      fill: #174EA6;\n",
       "    }\n",
       "\n",
       "    [theme=dark] .colab-df-convert {\n",
       "      background-color: #3B4455;\n",
       "      fill: #D2E3FC;\n",
       "    }\n",
       "\n",
       "    [theme=dark] .colab-df-convert:hover {\n",
       "      background-color: #434B5C;\n",
       "      box-shadow: 0px 1px 3px 1px rgba(0, 0, 0, 0.15);\n",
       "      filter: drop-shadow(0px 1px 2px rgba(0, 0, 0, 0.3));\n",
       "      fill: #FFFFFF;\n",
       "    }\n",
       "  </style>\n",
       "\n",
       "      <script>\n",
       "        const buttonEl =\n",
       "          document.querySelector('#df-2a2c8f94-cc6e-4fb4-811b-0adc0369facc button.colab-df-convert');\n",
       "        buttonEl.style.display =\n",
       "          google.colab.kernel.accessAllowed ? 'block' : 'none';\n",
       "\n",
       "        async function convertToInteractive(key) {\n",
       "          const element = document.querySelector('#df-2a2c8f94-cc6e-4fb4-811b-0adc0369facc');\n",
       "          const dataTable =\n",
       "            await google.colab.kernel.invokeFunction('convertToInteractive',\n",
       "                                                     [key], {});\n",
       "          if (!dataTable) return;\n",
       "\n",
       "          const docLinkHtml = 'Like what you see? Visit the ' +\n",
       "            '<a target=\"_blank\" href=https://colab.research.google.com/notebooks/data_table.ipynb>data table notebook</a>'\n",
       "            + ' to learn more about interactive tables.';\n",
       "          element.innerHTML = '';\n",
       "          dataTable['output_type'] = 'display_data';\n",
       "          await google.colab.output.renderOutput(dataTable, element);\n",
       "          const docLink = document.createElement('div');\n",
       "          docLink.innerHTML = docLinkHtml;\n",
       "          element.appendChild(docLink);\n",
       "        }\n",
       "      </script>\n",
       "    </div>\n",
       "  </div>\n",
       "  "
      ],
      "text/plain": [
       "                                                                                                                                                                                                                                        sentence\n",
       "2                      A NET ZERO COMMITMENT TO SUPPORT THE PLANETS CARBON NEUTRALITY Stellantis targets to become Carbon Net Zero on the whole value chain by 2038, with single digit percent compensation of residual emissions vs 2021 level.\n",
       "4                                                 A circular economy mindset to enlarge the lifespan of a vehicle: green materials: Their wider application requires the development of robust supply chains and more research on new materials.\n",
       "6   A description of how waterrelated impacts are addressed, including how the organization works with stakeholders to steward water as a shared resource, and how it engages with suppliers or customers with significant waterrelated impacts.\n",
       "8                                                            A failure by suppliers to meet applicable environmental laws or regulations may lead to a disruption of Stellantis supply chain or to raw materials and components price increases.\n",
       "11                                               A growing element in our due diligence efforts, the SAQ is used to assess supplier sustainability and to support Ford in identifying social and environmental risks throughout our supply base."
      ]
     },
     "execution_count": 118,
     "metadata": {},
     "output_type": "execute_result"
    }
   ],
   "source": [
    "relevant.head()"
   ]
  }
 ],
 "metadata": {
  "colab": {
   "collapsed_sections": [
    "jK5jAIfGgJxM",
    "XQlxjSbVMJYu"
   ],
   "provenance": [],
   "toc_visible": true
  },
  "kernelspec": {
   "display_name": "Python 3 (ipykernel)",
   "language": "python",
   "name": "python3"
  },
  "language_info": {
   "codemirror_mode": {
    "name": "ipython",
    "version": 3
   },
   "file_extension": ".py",
   "mimetype": "text/x-python",
   "name": "python",
   "nbconvert_exporter": "python",
   "pygments_lexer": "ipython3",
   "version": "3.9.12"
  }
 },
 "nbformat": 4,
 "nbformat_minor": 1
}
