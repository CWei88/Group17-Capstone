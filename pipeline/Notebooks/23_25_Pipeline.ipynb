{
 "cells": [
  {
   "cell_type": "markdown",
   "metadata": {
    "id": "jK5jAIfGgJxM"
   },
   "source": [
    "## Import libaries"
   ]
  },
  {
   "cell_type": "code",
   "execution_count": 1,
   "metadata": {
    "colab": {
     "base_uri": "https://localhost:8080/"
    },
    "id": "0OWlXrey80xy",
    "outputId": "3dea4a7c-141a-4b37-e3f6-de67c8fccff5"
   },
   "outputs": [
    {
     "name": "stderr",
     "output_type": "stream",
     "text": [
      "[nltk_data] Downloading package punkt to C:\\Users\\Chen\n",
      "[nltk_data]     Wei\\AppData\\Roaming\\nltk_data...\n",
      "[nltk_data]   Package punkt is already up-to-date!\n",
      "[nltk_data] Downloading package stopwords to C:\\Users\\Chen\n",
      "[nltk_data]     Wei\\AppData\\Roaming\\nltk_data...\n",
      "[nltk_data]   Package stopwords is already up-to-date!\n",
      "[nltk_data] Downloading package omw-1.4 to C:\\Users\\Chen\n",
      "[nltk_data]     Wei\\AppData\\Roaming\\nltk_data...\n",
      "[nltk_data]   Package omw-1.4 is already up-to-date!\n",
      "[nltk_data] Downloading package wordnet to C:\\Users\\Chen\n",
      "[nltk_data]     Wei\\AppData\\Roaming\\nltk_data...\n",
      "[nltk_data]   Package wordnet is already up-to-date!\n"
     ]
    }
   ],
   "source": [
    "# # Mount on google drive\n",
    "# from google.colab import drive\n",
    "# drive.mount('/content/gdrive')\n",
    "\n",
    "# General\n",
    "import pandas as pd\n",
    "import numpy as np\n",
    "import re\n",
    "\n",
    "# Load models\n",
    "from keras.models import load_model\n",
    "import pickle\n",
    "\n",
    "# Text pre-processing\n",
    "import nltk\n",
    "from nltk.tokenize import TreebankWordTokenizer\n",
    "from nltk.stem.snowball import SnowballStemmer\n",
    "from nltk.stem import WordNetLemmatizer \n",
    "nltk.download('punkt')\n",
    "nltk.download('stopwords')\n",
    "nltk.download('omw-1.4')\n",
    "nltk.download('wordnet')\n",
    "import gensim\n",
    "from gensim.parsing.preprocessing import remove_stopwords\n",
    "stopwords = gensim.parsing.preprocessing.STOPWORDS"
   ]
  },
  {
   "cell_type": "markdown",
   "metadata": {
    "id": "tOWFq1AW9uE4"
   },
   "source": [
    "## Functions"
   ]
  },
  {
   "cell_type": "code",
   "execution_count": 2,
   "metadata": {
    "id": "iYU-Ir4u6ull"
   },
   "outputs": [],
   "source": [
    "def load_models():\n",
    "\n",
    "  # relevance_vectorizer = pickle.load(open('gdrive/My Drive/BT4103/saved_models/relevance/vectorizer.pkl', 'rb'))\n",
    "  # relevance_model = pickle.load(open('gdrive/My Drive/BT4103/saved_models/relevance/rf.pkl', 'rb'))\n",
    "  # scale_vectorizer = pickle.load(open('gdrive/My Drive/BT4103/saved_models/scale/vectorizer.pkl', 'rb'))\n",
    "  # scale_model = load_model('gdrive/My Drive/BT4103/saved_models/scale/nn.h5')\n",
    "\n",
    "    relevance_vectorizer = pickle.load(open('models/relevance_vectorizer.pkl', 'rb'))\n",
    "    relevance_model = pickle.load(open('models/relevance_rf.pkl', 'rb'))\n",
    "    scale_vectorizer = pickle.load(open('models/scale_vectorizer.pkl', 'rb'))\n",
    "    scale_model = load_model('models/scale_nn.h5')\n",
    "\n",
    "    return relevance_vectorizer, relevance_model, scale_vectorizer, scale_model"
   ]
  },
  {
   "cell_type": "code",
   "execution_count": 3,
   "metadata": {
    "id": "PUxRYluKRKup"
   },
   "outputs": [],
   "source": [
    "def clean(line):\n",
    "    line = re.sub(r'[0-9\\.]+', '', line) # remove digits\n",
    "    line = re.sub(r'[^\\w\\s]','', line) # remove punctuation\n",
    "    return line\n",
    "\n",
    "def stemming(line):\n",
    "    stemmer = SnowballStemmer(language='english')\n",
    "    return [stemmer.stem(token) for token in line]\n",
    "\n",
    "def lemmatization(line):\n",
    "    lemmatizer = WordNetLemmatizer()\n",
    "    return [lemmatizer.lemmatize(token) for token in line]\n",
    "\n",
    "def remove_stop_words(line):\n",
    "    return [remove_stopwords(token) for token in line]\n",
    "\n",
    "def pre_processing(line):\n",
    "    tokenizer = TreebankWordTokenizer()\n",
    "\n",
    "    tokenized_line = tokenizer.tokenize(clean(line))\n",
    "    preprocessed_line = stemming(lemmatization(remove_stop_words(tokenized_line)))\n",
    "    \n",
    "    return ' '.join([token for token in preprocessed_line if token != ''])"
   ]
  },
  {
   "cell_type": "code",
   "execution_count": 4,
   "metadata": {
    "id": "AXxss3qf8wkf"
   },
   "outputs": [],
   "source": [
    "def keyword_filter(df, keywords):\n",
    "    filtered = []\n",
    "    for s in np.array(df['sentence']):\n",
    "        sentence = s.lower()\n",
    "    for k in keywords:\n",
    "        if k in sentence:\n",
    "            filtered.append([s, k])\n",
    "    \n",
    "    filtered_df = pd.DataFrame(filtered, columns=['sentence', 'keyword(s)']).groupby(['sentence']).agg({'keyword(s)': lambda x: list(x.unique())}).reset_index()\n",
    "    return filtered_df"
   ]
  },
  {
   "cell_type": "code",
   "execution_count": 5,
   "metadata": {
    "id": "pKbvpBKkB081"
   },
   "outputs": [],
   "source": [
    "def predict(X, vectorizer, model, pred_type):\n",
    "    X_vec = pd.DataFrame(vectorizer.transform(X['preprocessed']).todense(), columns=vectorizer.get_feature_names_out())\n",
    "    if pred_type == 'relevance':\n",
    "        y_pred = model.predict(X_vec)\n",
    "    elif pred_type == 'scale':\n",
    "        y_pred = [i+1 for i in np.argmax(model.predict(X_vec, verbose=0), axis=1)]\n",
    "    df = pd.DataFrame({'sentence': X['sentence'],'preprocessed': X['preprocessed'], 'pred_label': y_pred})\n",
    "    return df"
   ]
  },
  {
   "cell_type": "code",
   "execution_count": 6,
   "metadata": {
    "id": "isB87ibYImjY"
   },
   "outputs": [],
   "source": [
    "def is_quantitative(x):\n",
    "    x = x.lower()\n",
    "\n",
    "    x = re.sub(\"[2][0][0-5][0-9]\", \"\", x) #remove years\n",
    "    x = re.sub(\"fy[0-9]+\", \"\", x) #remove numbers that represent financial year e.g. FY21\n",
    "    x = re.sub(\"tier\\s*[0-9]\", \"\", x) #remove numbers related to tiers\n",
    "    x = re.sub(\"scope\\s*[0-9]\", \"\", x) #remove numbers related to scope\n",
    "    x = re.sub(\"co2\", \"\", x) #remove 'CO2'\n",
    "    x = re.sub(\"cid.+\", \"\", x) #remove 'cid'\n",
    "    x = re.sub(\"[0-9]+[:)]|[#]+[0-9]\", \"\", x) #remove numbers for indexing e.g. 1) or #1 or 1:\n",
    "\n",
    "    return re.search(\"supplier\", x) and len(re.findall(r'\\d+', x)) > 0"
   ]
  },
  {
   "cell_type": "code",
   "execution_count": 21,
   "metadata": {
    "id": "8VoYRUycJd8s"
   },
   "outputs": [],
   "source": [
    "def get_attribute_23_25(df):\n",
    "    # load trained models\n",
    "    relevance_vectorizer, relevance_model, scale_vectorizer, scale_model = load_models()\n",
    "\n",
    "    # keyword filter and preprocessing\n",
    "    df_filtered = keyword_filter(df, ['supplier', 'supply chain', 'value chain'])\n",
    "    print(df_filtered)\n",
    "    if df_filtered.empty:\n",
    "        return df_filtered, [0], df_filtered\n",
    "    df_filtered['preprocessed'] = df_filtered['sentence'].apply(lambda x: pre_processing(x))\n",
    "\n",
    "    # predict\n",
    "    relevance = predict(df_filtered, relevance_vectorizer, relevance_model, 'relevance')\n",
    "    scale = predict(relevance[relevance['pred_label'] == True], scale_vectorizer, scale_model, 'scale')\n",
    "\n",
    "    # get final results\n",
    "    relevance['quantitative'] = relevance['sentence'].apply(lambda x: is_quantitative(x))\n",
    "    relevant = pd.DataFrame(relevance[relevance['pred_label'] == True]['sentence'])\n",
    "    attribute_23 = pd.DataFrame(relevance[(relevance['quantitative'] == True) & (relevance['pred_label'] == True)]['sentence'])\n",
    "    attribute_25 = list(set(scale['pred_label']))\n",
    "\n",
    "    print('# Relevant sentences found: ' + str(relevant.shape[0]))\n",
    "\n",
    "    return attribute_23, attribute_25, relevant"
   ]
  },
  {
   "cell_type": "markdown",
   "metadata": {
    "id": "XQlxjSbVMJYu"
   },
   "source": [
    "## Predict Attribute 23, 25"
   ]
  },
  {
   "cell_type": "code",
   "execution_count": 7,
   "metadata": {
    "id": "GKgUyF6PByCh"
   },
   "outputs": [],
   "source": [
    "pd.set_option('display.max_colwidth', None)\n",
    "# Read dataset with raw sentences (no preprocessing)\n",
    "# Path to be changed accordingly\n",
    "df = pd.read_csv('gdrive/My Drive/AY2223S1/BT4103/data/labelled.csv')[['sentence', 'page']]"
   ]
  },
  {
   "cell_type": "code",
   "execution_count": 8,
   "metadata": {},
   "outputs": [],
   "source": [
    "df = pd.read_csv('ubm.csv')"
   ]
  },
  {
   "cell_type": "code",
   "execution_count": 9,
   "metadata": {
    "colab": {
     "base_uri": "https://localhost:8080/",
     "height": 206
    },
    "id": "F-t8SP9WeY7r",
    "outputId": "3075e860-5774-4af1-b68c-25ea0d89bea1"
   },
   "outputs": [
    {
     "data": {
      "text/html": [
       "<div>\n",
       "<style scoped>\n",
       "    .dataframe tbody tr th:only-of-type {\n",
       "        vertical-align: middle;\n",
       "    }\n",
       "\n",
       "    .dataframe tbody tr th {\n",
       "        vertical-align: top;\n",
       "    }\n",
       "\n",
       "    .dataframe thead th {\n",
       "        text-align: right;\n",
       "    }\n",
       "</style>\n",
       "<table border=\"1\" class=\"dataframe\">\n",
       "  <thead>\n",
       "    <tr style=\"text-align: right;\">\n",
       "      <th></th>\n",
       "      <th>sentence</th>\n",
       "    </tr>\n",
       "  </thead>\n",
       "  <tbody>\n",
       "    <tr>\n",
       "      <th>0</th>\n",
       "      <td>The dividend is paid in the following nancial ...</td>\n",
       "    </tr>\n",
       "    <tr>\n",
       "      <th>1</th>\n",
       "      <td>The dividend proposal for 2021 is subject to t...</td>\n",
       "    </tr>\n",
       "    <tr>\n",
       "      <th>2</th>\n",
       "      <td>G as in Governance UBM &amp; Sustainability 3.</td>\n",
       "    </tr>\n",
       "    <tr>\n",
       "      <th>3</th>\n",
       "      <td>Important information 7.</td>\n",
       "    </tr>\n",
       "    <tr>\n",
       "      <th>4</th>\n",
       "      <td>Maly-GrtnerCOODear Shareholders,Dear Stakehold...</td>\n",
       "    </tr>\n",
       "  </tbody>\n",
       "</table>\n",
       "</div>"
      ],
      "text/plain": [
       "                                            sentence\n",
       "0  The dividend is paid in the following nancial ...\n",
       "1  The dividend proposal for 2021 is subject to t...\n",
       "2         G as in Governance UBM & Sustainability 3.\n",
       "3                           Important information 7.\n",
       "4  Maly-GrtnerCOODear Shareholders,Dear Stakehold..."
      ]
     },
     "execution_count": 9,
     "metadata": {},
     "output_type": "execute_result"
    }
   ],
   "source": [
    "df.head()"
   ]
  },
  {
   "cell_type": "code",
   "execution_count": 10,
   "metadata": {},
   "outputs": [],
   "source": [
    "df = df.rename(columns={'words': 'sentence'})"
   ]
  },
  {
   "cell_type": "code",
   "execution_count": 11,
   "metadata": {},
   "outputs": [
    {
     "data": {
      "text/html": [
       "<div>\n",
       "<style scoped>\n",
       "    .dataframe tbody tr th:only-of-type {\n",
       "        vertical-align: middle;\n",
       "    }\n",
       "\n",
       "    .dataframe tbody tr th {\n",
       "        vertical-align: top;\n",
       "    }\n",
       "\n",
       "    .dataframe thead th {\n",
       "        text-align: right;\n",
       "    }\n",
       "</style>\n",
       "<table border=\"1\" class=\"dataframe\">\n",
       "  <thead>\n",
       "    <tr style=\"text-align: right;\">\n",
       "      <th></th>\n",
       "      <th>sentence</th>\n",
       "    </tr>\n",
       "  </thead>\n",
       "  <tbody>\n",
       "    <tr>\n",
       "      <th>0</th>\n",
       "      <td>The dividend is paid in the following nancial ...</td>\n",
       "    </tr>\n",
       "    <tr>\n",
       "      <th>1</th>\n",
       "      <td>The dividend proposal for 2021 is subject to t...</td>\n",
       "    </tr>\n",
       "    <tr>\n",
       "      <th>2</th>\n",
       "      <td>G as in Governance UBM &amp; Sustainability 3.</td>\n",
       "    </tr>\n",
       "    <tr>\n",
       "      <th>3</th>\n",
       "      <td>Important information 7.</td>\n",
       "    </tr>\n",
       "    <tr>\n",
       "      <th>4</th>\n",
       "      <td>Maly-GrtnerCOODear Shareholders,Dear Stakehold...</td>\n",
       "    </tr>\n",
       "    <tr>\n",
       "      <th>...</th>\n",
       "      <td>...</td>\n",
       "    </tr>\n",
       "    <tr>\n",
       "      <th>1100</th>\n",
       "      <td>The amounts were rounded based on the compensa...</td>\n",
       "    </tr>\n",
       "    <tr>\n",
       "      <th>1101</th>\n",
       "      <td>However, rounding, typesetting and printing er...</td>\n",
       "    </tr>\n",
       "    <tr>\n",
       "      <th>1102</th>\n",
       "      <td>This ESG report is published in English and Ge...</td>\n",
       "    </tr>\n",
       "    <tr>\n",
       "      <th>1103</th>\n",
       "      <td>In the event of a discrepancy or deviation, th...</td>\n",
       "    </tr>\n",
       "    <tr>\n",
       "      <th>1104</th>\n",
       "      <td>This ESG report was printed on Olin regular ab...</td>\n",
       "    </tr>\n",
       "  </tbody>\n",
       "</table>\n",
       "<p>1105 rows × 1 columns</p>\n",
       "</div>"
      ],
      "text/plain": [
       "                                               sentence\n",
       "0     The dividend is paid in the following nancial ...\n",
       "1     The dividend proposal for 2021 is subject to t...\n",
       "2            G as in Governance UBM & Sustainability 3.\n",
       "3                              Important information 7.\n",
       "4     Maly-GrtnerCOODear Shareholders,Dear Stakehold...\n",
       "...                                                 ...\n",
       "1100  The amounts were rounded based on the compensa...\n",
       "1101  However, rounding, typesetting and printing er...\n",
       "1102  This ESG report is published in English and Ge...\n",
       "1103  In the event of a discrepancy or deviation, th...\n",
       "1104  This ESG report was printed on Olin regular ab...\n",
       "\n",
       "[1105 rows x 1 columns]"
      ]
     },
     "execution_count": 11,
     "metadata": {},
     "output_type": "execute_result"
    }
   ],
   "source": [
    "df"
   ]
  },
  {
   "cell_type": "code",
   "execution_count": 17,
   "metadata": {
    "colab": {
     "base_uri": "https://localhost:8080/"
    },
    "id": "vpp8NhPcMyao",
    "outputId": "7eacb68f-7857-4023-a999-2e244e17010f"
   },
   "outputs": [
    {
     "name": "stdout",
     "output_type": "stream",
     "text": [
      "Empty DataFrame\n",
      "Columns: [sentence, keyword(s)]\n",
      "Index: []\n"
     ]
    }
   ],
   "source": [
    "attribute_23, attribute_25, relevant = get_attribute_23_25(df)"
   ]
  },
  {
   "cell_type": "code",
   "execution_count": 22,
   "metadata": {
    "colab": {
     "base_uri": "https://localhost:8080/",
     "height": 389
    },
    "id": "MC1Uk7KUOON0",
    "outputId": "1087091e-976e-4ca0-b79e-f95e7686292d"
   },
   "outputs": [
    {
     "data": {
      "text/html": [
       "<div>\n",
       "<style scoped>\n",
       "    .dataframe tbody tr th:only-of-type {\n",
       "        vertical-align: middle;\n",
       "    }\n",
       "\n",
       "    .dataframe tbody tr th {\n",
       "        vertical-align: top;\n",
       "    }\n",
       "\n",
       "    .dataframe thead th {\n",
       "        text-align: right;\n",
       "    }\n",
       "</style>\n",
       "<table border=\"1\" class=\"dataframe\">\n",
       "  <thead>\n",
       "    <tr style=\"text-align: right;\">\n",
       "      <th></th>\n",
       "      <th>sentence</th>\n",
       "    </tr>\n",
       "  </thead>\n",
       "  <tbody>\n",
       "    <tr>\n",
       "      <th>0</th>\n",
       "      <td>The dividend is paid in the following nancial ...</td>\n",
       "    </tr>\n",
       "    <tr>\n",
       "      <th>1</th>\n",
       "      <td>The dividend proposal for 2021 is subject to t...</td>\n",
       "    </tr>\n",
       "    <tr>\n",
       "      <th>2</th>\n",
       "      <td>G as in Governance UBM &amp; Sustainability 3.</td>\n",
       "    </tr>\n",
       "    <tr>\n",
       "      <th>3</th>\n",
       "      <td>Important information 7.</td>\n",
       "    </tr>\n",
       "    <tr>\n",
       "      <th>4</th>\n",
       "      <td>Maly-GrtnerCOODear Shareholders,Dear Stakehold...</td>\n",
       "    </tr>\n",
       "  </tbody>\n",
       "</table>\n",
       "</div>"
      ],
      "text/plain": [
       "                                            sentence\n",
       "0  The dividend is paid in the following nancial ...\n",
       "1  The dividend proposal for 2021 is subject to t...\n",
       "2         G as in Governance UBM & Sustainability 3.\n",
       "3                           Important information 7.\n",
       "4  Maly-GrtnerCOODear Shareholders,Dear Stakehold..."
      ]
     },
     "execution_count": 22,
     "metadata": {},
     "output_type": "execute_result"
    }
   ],
   "source": [
    "attribute_23.head()"
   ]
  },
  {
   "cell_type": "code",
   "execution_count": 23,
   "metadata": {
    "colab": {
     "base_uri": "https://localhost:8080/"
    },
    "id": "oP572mFNLc0H",
    "outputId": "627046a4-9dad-4273-c5ae-d245942ac9d9"
   },
   "outputs": [
    {
     "data": {
      "text/plain": [
       "[0]"
      ]
     },
     "execution_count": 23,
     "metadata": {},
     "output_type": "execute_result"
    }
   ],
   "source": [
    "attribute_25"
   ]
  },
  {
   "cell_type": "code",
   "execution_count": 24,
   "metadata": {
    "colab": {
     "base_uri": "https://localhost:8080/",
     "height": 320
    },
    "id": "S5CVHWjpLeXm",
    "outputId": "3562ed7b-37a3-482a-90ce-2b2e1c5389c6"
   },
   "outputs": [
    {
     "data": {
      "text/html": [
       "<div>\n",
       "<style scoped>\n",
       "    .dataframe tbody tr th:only-of-type {\n",
       "        vertical-align: middle;\n",
       "    }\n",
       "\n",
       "    .dataframe tbody tr th {\n",
       "        vertical-align: top;\n",
       "    }\n",
       "\n",
       "    .dataframe thead th {\n",
       "        text-align: right;\n",
       "    }\n",
       "</style>\n",
       "<table border=\"1\" class=\"dataframe\">\n",
       "  <thead>\n",
       "    <tr style=\"text-align: right;\">\n",
       "      <th></th>\n",
       "      <th>sentence</th>\n",
       "    </tr>\n",
       "  </thead>\n",
       "  <tbody>\n",
       "    <tr>\n",
       "      <th>0</th>\n",
       "      <td>The dividend is paid in the following nancial ...</td>\n",
       "    </tr>\n",
       "    <tr>\n",
       "      <th>1</th>\n",
       "      <td>The dividend proposal for 2021 is subject to t...</td>\n",
       "    </tr>\n",
       "    <tr>\n",
       "      <th>2</th>\n",
       "      <td>G as in Governance UBM &amp; Sustainability 3.</td>\n",
       "    </tr>\n",
       "    <tr>\n",
       "      <th>3</th>\n",
       "      <td>Important information 7.</td>\n",
       "    </tr>\n",
       "    <tr>\n",
       "      <th>4</th>\n",
       "      <td>Maly-GrtnerCOODear Shareholders,Dear Stakehold...</td>\n",
       "    </tr>\n",
       "  </tbody>\n",
       "</table>\n",
       "</div>"
      ],
      "text/plain": [
       "                                            sentence\n",
       "0  The dividend is paid in the following nancial ...\n",
       "1  The dividend proposal for 2021 is subject to t...\n",
       "2         G as in Governance UBM & Sustainability 3.\n",
       "3                           Important information 7.\n",
       "4  Maly-GrtnerCOODear Shareholders,Dear Stakehold..."
      ]
     },
     "execution_count": 24,
     "metadata": {},
     "output_type": "execute_result"
    }
   ],
   "source": [
    "relevant.head()"
   ]
  },
  {
   "cell_type": "code",
   "execution_count": null,
   "metadata": {},
   "outputs": [],
   "source": []
  }
 ],
 "metadata": {
  "colab": {
   "collapsed_sections": [
    "jK5jAIfGgJxM",
    "XQlxjSbVMJYu"
   ],
   "provenance": [],
   "toc_visible": true
  },
  "kernelspec": {
   "display_name": "Python 3 (ipykernel)",
   "language": "python",
   "name": "python3"
  },
  "language_info": {
   "codemirror_mode": {
    "name": "ipython",
    "version": 3
   },
   "file_extension": ".py",
   "mimetype": "text/x-python",
   "name": "python",
   "nbconvert_exporter": "python",
   "pygments_lexer": "ipython3",
   "version": "3.9.12"
  }
 },
 "nbformat": 4,
 "nbformat_minor": 1
}
