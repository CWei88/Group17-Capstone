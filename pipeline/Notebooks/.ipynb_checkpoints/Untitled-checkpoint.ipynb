{
 "cells": [
  {
   "cell_type": "code",
   "execution_count": 8,
   "id": "f995ffd3",
   "metadata": {},
   "outputs": [],
   "source": [
    "import numpy as np\n",
    "import pandas as pd\n",
    "import PyPDF2\n",
    "import tabula\n",
    "from tabula import read_pdf\n",
    "import io\n",
    "from functools import reduce\n",
    "from pdfminer.high_level import extract_text\n",
    "import pdf2image\n",
    "\n",
    "\n",
    "import os\n",
    "import re\n",
    "import fitz"
   ]
  },
  {
   "cell_type": "code",
   "execution_count": 23,
   "id": "fb839cd0",
   "metadata": {},
   "outputs": [],
   "source": [
    "def retrieve_images(file_path,  output_path, keywords=[r'scope \\d', 'location-based', 'market-based'], table_only=True):\n",
    "    dataset_list = os.listdir(file_path)\n",
    "    for file in dataset_list:\n",
    "        #reading pdf file to filter keywords\n",
    "        pdfFile = open(file_path + '/' + file, 'rb')\n",
    "        pdfReader = PyPDF2.PdfFileReader(pdfFile)\n",
    "        totpages = pdfReader.numPages\n",
    "        \n",
    "        print(\"Starting with file: \" + file)\n",
    "        page_with_keywords = []\n",
    "        for p in range(pdfReader.numPages):\n",
    "            text = pdfReader.pages[p].extract_text().lower()\n",
    "            if any(re.search(x, text) for x in keywords):\n",
    "                if (p+1) not in page_with_keywords:\n",
    "                    page_with_keywords.append(p + 1)\n",
    "        \n",
    "        ## Filter for only tables.\n",
    "        if table_only:\n",
    "            table_pages = {}\n",
    "            for i in page_with_keywords:\n",
    "                pdf = read_pdf(file_path + '/' + file, pages=i, stream=True, pandas_options={'header':'None'}, multiple_tables=True, output_format='json')\n",
    "                if len(pdf) > 0:\n",
    "                    table_pages[i] = []\n",
    "                    for j in range(len(pdf)):\n",
    "                        coord = [pdf[j]['top'], pdf[j]['left'], pdf[j]['height'] + pdf[j]['top'], pdf[j]['width'] + pdf[j]['left']]\n",
    "                        res = table_pages[i]\n",
    "                        res.append(coord)\n",
    "                        table_pages[i] = res\n",
    "            page_with_keywords = table_pages\n",
    "        \n",
    "        ##Extract images\n",
    "        doc = fitz.open(file_path + '/' + file)\n",
    "        for i in page_with_keywords.keys():\n",
    "            print(f\"Extracting page: {i}\")\n",
    "            page = doc.load_page((i-1))\n",
    "            val = page_with_keywords[i]\n",
    "            for j in range(len(val)):\n",
    "                coord = val[j]\n",
    "                irect = fitz.IRect(coord[0], coord[1], coord[2], coord[3])\n",
    "                pix = page.get_pixmap(clip=irect)\n",
    "                output = str(file.split('.')[0]) + '_page_' + str(i) + '.png'\n",
    "                pix.save(output_path + '/' + output, '.png')\n",
    "        \n",
    "        print('Finished with file: ' + file)\n",
    "    return \"\""
   ]
  },
  {
   "cell_type": "code",
   "execution_count": 24,
   "id": "38427c73",
   "metadata": {},
   "outputs": [],
   "source": [
    "input_path = 'test_dataset/test'\n",
    "output_path = 'test_dataset'"
   ]
  },
  {
   "cell_type": "code",
   "execution_count": 25,
   "id": "3c4d9f3a",
   "metadata": {},
   "outputs": [
    {
     "name": "stderr",
     "output_type": "stream",
     "text": [
      "Xref table not zero-indexed. ID numbers for objects will be corrected.\n"
     ]
    },
    {
     "name": "stdout",
     "output_type": "stream",
     "text": [
      "Starting with file: sustainability-accounts-2021-citycon(2).pdf\n",
      "Extracting page: 9\n",
      "Extracting page: 30\n",
      "Extracting page: 31\n",
      "Finished with file: sustainability-accounts-2021-citycon(2).pdf\n"
     ]
    },
    {
     "data": {
      "text/plain": [
       "''"
      ]
     },
     "execution_count": 25,
     "metadata": {},
     "output_type": "execute_result"
    }
   ],
   "source": [
    "retrieve_images(input_path, output_path)"
   ]
  },
  {
   "cell_type": "code",
   "execution_count": null,
   "id": "15e483b6",
   "metadata": {},
   "outputs": [],
   "source": [
    "im"
   ]
  }
 ],
 "metadata": {
  "kernelspec": {
   "display_name": "Python 3 (ipykernel)",
   "language": "python",
   "name": "python3"
  },
  "language_info": {
   "codemirror_mode": {
    "name": "ipython",
    "version": 3
   },
   "file_extension": ".py",
   "mimetype": "text/x-python",
   "name": "python",
   "nbconvert_exporter": "python",
   "pygments_lexer": "ipython3",
   "version": "3.9.12"
  }
 },
 "nbformat": 4,
 "nbformat_minor": 5
}
