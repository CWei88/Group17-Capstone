{
 "cells": [
  {
   "cell_type": "code",
   "execution_count": 1,
   "id": "462f9af0",
   "metadata": {},
   "outputs": [
    {
     "name": "stdout",
     "output_type": "stream",
     "text": [
      "Requirement already satisfied: pdf2image in c:\\anaconda3\\lib\\site-packages (1.16.0)\n",
      "Requirement already satisfied: pillow in c:\\anaconda3\\lib\\site-packages (from pdf2image) (9.0.1)\n"
     ]
    }
   ],
   "source": [
    "!pip install pdf2image"
   ]
  },
  {
   "cell_type": "code",
   "execution_count": 2,
   "id": "cb333065",
   "metadata": {},
   "outputs": [
    {
     "name": "stderr",
     "output_type": "stream",
     "text": [
      "[nltk_data] Downloading package punkt to C:\\Users\\Chen\n",
      "[nltk_data]     Wei\\AppData\\Roaming\\nltk_data...\n",
      "[nltk_data]   Package punkt is already up-to-date!\n",
      "[nltk_data] Downloading package stopwords to C:\\Users\\Chen\n",
      "[nltk_data]     Wei\\AppData\\Roaming\\nltk_data...\n",
      "[nltk_data]   Package stopwords is already up-to-date!\n",
      "[nltk_data] Downloading package omw-1.4 to C:\\Users\\Chen\n",
      "[nltk_data]     Wei\\AppData\\Roaming\\nltk_data...\n",
      "[nltk_data]   Package omw-1.4 is already up-to-date!\n"
     ]
    },
    {
     "name": "stdout",
     "output_type": "stream",
     "text": [
      "✔ Download and installation successful\n",
      "You can now load the package via spacy.load('en_core_web_sm')\n"
     ]
    }
   ],
   "source": [
    "import pandas as pd\n",
    "import os\n",
    "import numpy as np\n",
    "\n",
    "\n",
    "import warnings\n",
    "warnings.filterwarnings(\"ignore\")\n",
    "\n",
    "# Others\n",
    "import string\n",
    "import re\n",
    "import io\n",
    "\n",
    "# Pdf Extraction Model\n",
    "import spacy\n",
    "spacy.cli.download(\"en_core_web_sm\")\n",
    "nlp = spacy.load(\"en_core_web_sm\", disable=['ner'])\n",
    "\n",
    "import numpy as np\n",
    "import pandas as pd\n",
    "import PyPDF2\n",
    "import tabula\n",
    "from tabula import read_pdf\n",
    "from tabulate import tabulate\n",
    "import io\n",
    "import camelot\n",
    "from functools import reduce\n",
    "from pdfminer.high_level import extract_text\n",
    "import pdf2image\n",
    "\n",
    "DATA_FOLDER = \"datasets/automobile\""
   ]
  },
  {
   "cell_type": "code",
   "execution_count": 3,
   "id": "efd8938f",
   "metadata": {},
   "outputs": [],
   "source": [
    "import fitz"
   ]
  },
  {
   "cell_type": "code",
   "execution_count": 4,
   "id": "c2fb20a9",
   "metadata": {},
   "outputs": [
    {
     "data": {
      "text/plain": [
       "['scope \\\\d', 'location-based', 'market-based']"
      ]
     },
     "execution_count": 4,
     "metadata": {},
     "output_type": "execute_result"
    }
   ],
   "source": [
    "keywords = [r'scope \\d', 'location-based', 'market-based']\n",
    "keywords = [x.lower() for x in keywords]\n",
    "keywords"
   ]
  },
  {
   "cell_type": "code",
   "execution_count": 5,
   "id": "30cbdc37",
   "metadata": {},
   "outputs": [
    {
     "data": {
      "text/plain": [
       "<re.Match object; span=(0, 7), match='scope 1'>"
      ]
     },
     "execution_count": 5,
     "metadata": {},
     "output_type": "execute_result"
    }
   ],
   "source": [
    "re.search(r'scope \\d', 'scope 1')"
   ]
  },
  {
   "cell_type": "code",
   "execution_count": 6,
   "id": "f5f41e82",
   "metadata": {},
   "outputs": [
    {
     "data": {
      "text/plain": [
       "False"
      ]
     },
     "execution_count": 6,
     "metadata": {},
     "output_type": "execute_result"
    }
   ],
   "source": [
    "r'scope \\d' in 'scope 2'"
   ]
  },
  {
   "cell_type": "code",
   "execution_count": 7,
   "id": "59c3a2f0",
   "metadata": {},
   "outputs": [],
   "source": [
    "DATA_FOLDER = 'sample_datasets/automobile'\n",
    "list_dataset = os.listdir(DATA_FOLDER)\n",
    "pdfFile = open(DATA_FOLDER + '/BMW Sustainability Report 2021.pdf', 'rb')\n",
    "pdfReader = PyPDF2.PdfFileReader(pdfFile)\n",
    "totpages = pdfReader.numPages\n",
    "\n",
    "\n",
    "page_with_keywords = []\n",
    "for p in range(pdfReader.numPages):\n",
    "    text = pdfReader.pages[p].extract_text().lower()\n",
    "    if any(re.search(x, text) for x in keywords):\n",
    "        page_with_keywords.append(p + 1)"
   ]
  },
  {
   "cell_type": "code",
   "execution_count": 8,
   "id": "c7bec7e0",
   "metadata": {
    "scrolled": true
   },
   "outputs": [
    {
     "data": {
      "text/plain": [
       "[9, 45, 96, 108, 109, 113, 116]"
      ]
     },
     "execution_count": 8,
     "metadata": {},
     "output_type": "execute_result"
    }
   ],
   "source": [
    "page_with_keywords"
   ]
  },
  {
   "cell_type": "code",
   "execution_count": 9,
   "id": "acd43c33",
   "metadata": {},
   "outputs": [],
   "source": [
    "## Table check\n",
    "table_pages = []\n",
    "for i in page_with_keywords:\n",
    "    pdf = read_pdf(DATA_FOLDER + '/BMW Sustainability Report 2021.pdf', pages=i, stream=True, pandas_options={'header':'None'}, multiple_tables=True)\n",
    "    if len(pdf) > 0:\n",
    "        table_pages.append(i)"
   ]
  },
  {
   "cell_type": "code",
   "execution_count": 10,
   "id": "3de8500f",
   "metadata": {},
   "outputs": [
    {
     "data": {
      "text/plain": [
       "[9, 45, 96, 109, 113]"
      ]
     },
     "execution_count": 10,
     "metadata": {},
     "output_type": "execute_result"
    }
   ],
   "source": [
    "table_pages"
   ]
  },
  {
   "cell_type": "code",
   "execution_count": 11,
   "id": "8be01bcf",
   "metadata": {},
   "outputs": [],
   "source": [
    "def get_images_keyword(file_path, keywords, output_path, table_only=False):\n",
    "    dataset_list = os.listdir(file_path)\n",
    "    for file in dataset_list:\n",
    "        #reading pdf file to filter keywords\n",
    "        pdfFile = open(file_path + '/' + file, 'rb')\n",
    "        pdfReader = PyPDF2.PdfFileReader(pdfFile)\n",
    "        totpages = pdfReader.numPages\n",
    "        \n",
    "        print(\"Starting with file: \" + file)\n",
    "        page_with_keywords = []\n",
    "        for p in range(pdfReader.numPages):\n",
    "            text = pdfReader.pages[p].extract_text().lower()\n",
    "            if any(re.search(x, text) for x in keywords):\n",
    "                if (p+1) not in page_with_keywords:\n",
    "                    page_with_keywords.append(p + 1)\n",
    "        \n",
    "        ## Filter for only tables.\n",
    "        if table_only:\n",
    "            table_pages = []\n",
    "            for i in page_with_keywords:\n",
    "                pdf = read_pdf(file_path + '/' + file, pages=i, stream=True, pandas_options={'header':'None'}, multiple_tables=True)\n",
    "                if len(pdf) > 0:\n",
    "                    table_pages.append(i)\n",
    "            page_with_keywords = table_pages\n",
    "        \n",
    "        ##Extract images\n",
    "        for i in page_with_keywords:\n",
    "            pdf2image.convert_from_path(file_path + '/' + file, output_folder = output_path, fmt='png', \n",
    "                                       first_page = i, last_page = i, output_file = str(file) + str(i))\n",
    "        \n",
    "        print('Finished with file: ' + file)\n",
    "    return \"\"\n",
    "    "
   ]
  },
  {
   "cell_type": "code",
   "execution_count": 12,
   "id": "26752cf4",
   "metadata": {},
   "outputs": [],
   "source": [
    "DATA_FOLDER = 'sample_datasets/real_estate'"
   ]
  },
  {
   "cell_type": "code",
   "execution_count": 15,
   "id": "da0414d1",
   "metadata": {},
   "outputs": [
    {
     "name": "stderr",
     "output_type": "stream",
     "text": [
      "Xref table not zero-indexed. ID numbers for objects will be corrected.\n"
     ]
    },
    {
     "name": "stdout",
     "output_type": "stream",
     "text": [
      "Starting with file: British Land 2022 Sustainability Report.pdf\n",
      "Finished with file: British Land 2022 Sustainability Report.pdf\n",
      "Starting with file: CDL 2022 Sustainability Report.pdf\n",
      "Finished with file: CDL 2022 Sustainability Report.pdf\n",
      "Starting with file: CICT 2021 Annual Report.pdf\n"
     ]
    },
    {
     "name": "stderr",
     "output_type": "stream",
     "text": [
      "Xref table not zero-indexed. ID numbers for objects will be corrected.\n"
     ]
    },
    {
     "name": "stdout",
     "output_type": "stream",
     "text": [
      "Finished with file: CICT 2021 Annual Report.pdf\n",
      "Starting with file: First Capital REIT ESG Roadmap.pdf\n",
      "Finished with file: First Capital REIT ESG Roadmap.pdf\n",
      "Starting with file: GPT 2021 Sustainability Report.pdf\n"
     ]
    },
    {
     "name": "stderr",
     "output_type": "stream",
     "text": [
      "Xref table not zero-indexed. ID numbers for objects will be corrected.\n"
     ]
    },
    {
     "name": "stdout",
     "output_type": "stream",
     "text": [
      "Finished with file: GPT 2021 Sustainability Report.pdf\n",
      "Starting with file: Hammerson 2021 Sustainability Report.pdf\n"
     ]
    },
    {
     "name": "stderr",
     "output_type": "stream",
     "text": [
      "Got stderr: Oct 27, 2022 11:22:09 PM org.apache.pdfbox.contentstream.PDFStreamEngine operatorException\n",
      "SEVERE: Cannot read JPEG2000 image: Java Advanced Imaging (JAI) Image I/O Tools are not installed\n",
      "Oct 27, 2022 11:22:10 PM org.apache.pdfbox.contentstream.PDFStreamEngine operatorException\n",
      "SEVERE: Cannot read JPEG2000 image: Java Advanced Imaging (JAI) Image I/O Tools are not installed\n",
      "Oct 27, 2022 11:22:10 PM org.apache.pdfbox.contentstream.PDFStreamEngine operatorException\n",
      "SEVERE: Cannot read JPEG2000 image: Java Advanced Imaging (JAI) Image I/O Tools are not installed\n",
      "Oct 27, 2022 11:22:10 PM org.apache.pdfbox.contentstream.PDFStreamEngine operatorException\n",
      "SEVERE: Cannot read JPEG2000 image: Java Advanced Imaging (JAI) Image I/O Tools are not installed\n",
      "Oct 27, 2022 11:22:10 PM org.apache.pdfbox.contentstream.PDFStreamEngine operatorException\n",
      "SEVERE: Cannot read JPEG2000 image: Java Advanced Imaging (JAI) Image I/O Tools are not installed\n",
      "Oct 27, 2022 11:22:10 PM org.apache.pdfbox.contentstream.PDFStreamEngine operatorException\n",
      "SEVERE: Cannot read JPEG2000 image: Java Advanced Imaging (JAI) Image I/O Tools are not installed\n",
      "Oct 27, 2022 11:22:11 PM org.apache.pdfbox.contentstream.PDFStreamEngine operatorException\n",
      "SEVERE: Cannot read JPEG2000 image: Java Advanced Imaging (JAI) Image I/O Tools are not installed\n",
      "Oct 27, 2022 11:22:11 PM org.apache.pdfbox.contentstream.PDFStreamEngine operatorException\n",
      "SEVERE: Cannot read JPEG2000 image: Java Advanced Imaging (JAI) Image I/O Tools are not installed\n",
      "Oct 27, 2022 11:22:11 PM org.apache.pdfbox.contentstream.PDFStreamEngine operatorException\n",
      "SEVERE: Cannot read JPEG2000 image: Java Advanced Imaging (JAI) Image I/O Tools are not installed\n",
      "Oct 27, 2022 11:22:11 PM org.apache.pdfbox.contentstream.PDFStreamEngine operatorException\n",
      "SEVERE: Cannot read JPEG2000 image: Java Advanced Imaging (JAI) Image I/O Tools are not installed\n",
      "Oct 27, 2022 11:22:12 PM org.apache.pdfbox.contentstream.PDFStreamEngine operatorException\n",
      "SEVERE: Cannot read JPEG2000 image: Java Advanced Imaging (JAI) Image I/O Tools are not installed\n",
      "Oct 27, 2022 11:22:12 PM org.apache.pdfbox.contentstream.PDFStreamEngine operatorException\n",
      "SEVERE: Cannot read JPEG2000 image: Java Advanced Imaging (JAI) Image I/O Tools are not installed\n",
      "Oct 27, 2022 11:22:12 PM org.apache.pdfbox.contentstream.PDFStreamEngine operatorException\n",
      "SEVERE: Cannot read JPEG2000 image: Java Advanced Imaging (JAI) Image I/O Tools are not installed\n",
      "Oct 27, 2022 11:22:12 PM org.apache.pdfbox.contentstream.PDFStreamEngine operatorException\n",
      "SEVERE: Cannot read JPEG2000 image: Java Advanced Imaging (JAI) Image I/O Tools are not installed\n",
      "Oct 27, 2022 11:22:12 PM org.apache.pdfbox.contentstream.PDFStreamEngine operatorException\n",
      "SEVERE: Cannot read JPEG2000 image: Java Advanced Imaging (JAI) Image I/O Tools are not installed\n",
      "\n",
      "Got stderr: Oct 27, 2022 11:22:14 PM org.apache.pdfbox.contentstream.PDFStreamEngine operatorException\n",
      "SEVERE: Cannot read JPEG2000 image: Java Advanced Imaging (JAI) Image I/O Tools are not installed\n",
      "Oct 27, 2022 11:22:15 PM org.apache.pdfbox.contentstream.PDFStreamEngine operatorException\n",
      "SEVERE: Cannot read JPEG2000 image: Java Advanced Imaging (JAI) Image I/O Tools are not installed\n",
      "Oct 27, 2022 11:22:15 PM org.apache.pdfbox.contentstream.PDFStreamEngine operatorException\n",
      "SEVERE: Cannot read JPEG2000 image: Java Advanced Imaging (JAI) Image I/O Tools are not installed\n",
      "Oct 27, 2022 11:22:16 PM org.apache.pdfbox.contentstream.PDFStreamEngine operatorException\n",
      "SEVERE: Cannot read JPEG2000 image: Java Advanced Imaging (JAI) Image I/O Tools are not installed\n",
      "Oct 27, 2022 11:22:17 PM org.apache.pdfbox.contentstream.PDFStreamEngine operatorException\n",
      "SEVERE: Cannot read JPEG2000 image: Java Advanced Imaging (JAI) Image I/O Tools are not installed\n",
      "Oct 27, 2022 11:22:17 PM org.apache.pdfbox.contentstream.PDFStreamEngine operatorException\n",
      "SEVERE: Cannot read JPEG2000 image: Java Advanced Imaging (JAI) Image I/O Tools are not installed\n",
      "\n",
      "Got stderr: Oct 27, 2022 11:22:19 PM org.apache.pdfbox.contentstream.PDFStreamEngine operatorException\n",
      "SEVERE: Cannot read JPEG2000 image: Java Advanced Imaging (JAI) Image I/O Tools are not installed\n",
      "Oct 27, 2022 11:22:20 PM org.apache.pdfbox.contentstream.PDFStreamEngine operatorException\n",
      "SEVERE: Cannot read JPEG2000 image: Java Advanced Imaging (JAI) Image I/O Tools are not installed\n",
      "Oct 27, 2022 11:22:20 PM org.apache.pdfbox.contentstream.PDFStreamEngine operatorException\n",
      "SEVERE: Cannot read JPEG2000 image: Java Advanced Imaging (JAI) Image I/O Tools are not installed\n",
      "Oct 27, 2022 11:22:20 PM org.apache.pdfbox.contentstream.PDFStreamEngine operatorException\n",
      "SEVERE: Cannot read JPEG2000 image: Java Advanced Imaging (JAI) Image I/O Tools are not installed\n",
      "Oct 27, 2022 11:22:21 PM org.apache.pdfbox.contentstream.PDFStreamEngine operatorException\n",
      "SEVERE: Cannot read JPEG2000 image: Java Advanced Imaging (JAI) Image I/O Tools are not installed\n",
      "Oct 27, 2022 11:22:21 PM org.apache.pdfbox.contentstream.PDFStreamEngine operatorException\n",
      "SEVERE: Cannot read JPEG2000 image: Java Advanced Imaging (JAI) Image I/O Tools are not installed\n",
      "Oct 27, 2022 11:22:22 PM org.apache.pdfbox.contentstream.PDFStreamEngine operatorException\n",
      "SEVERE: Cannot read JPEG2000 image: Java Advanced Imaging (JAI) Image I/O Tools are not installed\n",
      "Oct 27, 2022 11:22:22 PM org.apache.pdfbox.contentstream.PDFStreamEngine operatorException\n",
      "SEVERE: Cannot read JPEG2000 image: Java Advanced Imaging (JAI) Image I/O Tools are not installed\n",
      "Oct 27, 2022 11:22:22 PM org.apache.pdfbox.contentstream.PDFStreamEngine operatorException\n",
      "SEVERE: Cannot read JPEG2000 image: Java Advanced Imaging (JAI) Image I/O Tools are not installed\n",
      "\n",
      "Got stderr: Oct 27, 2022 11:22:24 PM org.apache.pdfbox.contentstream.PDFStreamEngine operatorException\n",
      "SEVERE: Cannot read JPEG2000 image: Java Advanced Imaging (JAI) Image I/O Tools are not installed\n",
      "Oct 27, 2022 11:22:24 PM org.apache.pdfbox.contentstream.PDFStreamEngine operatorException\n",
      "SEVERE: Cannot read JPEG2000 image: Java Advanced Imaging (JAI) Image I/O Tools are not installed\n",
      "Oct 27, 2022 11:22:24 PM org.apache.pdfbox.contentstream.PDFStreamEngine operatorException\n",
      "SEVERE: Cannot read JPEG2000 image: Java Advanced Imaging (JAI) Image I/O Tools are not installed\n",
      "Oct 27, 2022 11:22:25 PM org.apache.pdfbox.contentstream.PDFStreamEngine operatorException\n",
      "SEVERE: Cannot read JPEG2000 image: Java Advanced Imaging (JAI) Image I/O Tools are not installed\n",
      "Oct 27, 2022 11:22:26 PM org.apache.pdfbox.contentstream.PDFStreamEngine operatorException\n",
      "SEVERE: Cannot read JPEG2000 image: Java Advanced Imaging (JAI) Image I/O Tools are not installed\n",
      "Oct 27, 2022 11:22:26 PM org.apache.pdfbox.contentstream.PDFStreamEngine operatorException\n",
      "SEVERE: Cannot read JPEG2000 image: Java Advanced Imaging (JAI) Image I/O Tools are not installed\n",
      "Oct 27, 2022 11:22:26 PM org.apache.pdfbox.contentstream.PDFStreamEngine operatorException\n",
      "SEVERE: Cannot read JPEG2000 image: Java Advanced Imaging (JAI) Image I/O Tools are not installed\n",
      "Oct 27, 2022 11:22:27 PM org.apache.pdfbox.contentstream.PDFStreamEngine operatorException\n",
      "SEVERE: Cannot read JPEG2000 image: Java Advanced Imaging (JAI) Image I/O Tools are not installed\n",
      "Oct 27, 2022 11:22:27 PM org.apache.pdfbox.contentstream.PDFStreamEngine operatorException\n",
      "SEVERE: Cannot read JPEG2000 image: Java Advanced Imaging (JAI) Image I/O Tools are not installed\n",
      "\n",
      "Got stderr: Oct 27, 2022 11:22:29 PM org.apache.pdfbox.contentstream.PDFStreamEngine operatorException\n",
      "SEVERE: Cannot read JPEG2000 image: Java Advanced Imaging (JAI) Image I/O Tools are not installed\n",
      "Oct 27, 2022 11:22:29 PM org.apache.pdfbox.contentstream.PDFStreamEngine operatorException\n",
      "SEVERE: Cannot read JPEG2000 image: Java Advanced Imaging (JAI) Image I/O Tools are not installed\n",
      "Oct 27, 2022 11:22:30 PM org.apache.pdfbox.contentstream.PDFStreamEngine operatorException\n",
      "SEVERE: Cannot read JPEG2000 image: Java Advanced Imaging (JAI) Image I/O Tools are not installed\n",
      "\n",
      "Got stderr: Oct 27, 2022 11:22:33 PM org.apache.pdfbox.contentstream.PDFStreamEngine operatorException\n",
      "SEVERE: Cannot read JPEG2000 image: Java Advanced Imaging (JAI) Image I/O Tools are not installed\n",
      "Oct 27, 2022 11:22:33 PM org.apache.pdfbox.contentstream.PDFStreamEngine operatorException\n",
      "SEVERE: Cannot read JPEG2000 image: Java Advanced Imaging (JAI) Image I/O Tools are not installed\n",
      "Oct 27, 2022 11:22:33 PM org.apache.pdfbox.contentstream.PDFStreamEngine operatorException\n",
      "SEVERE: Cannot read JPEG2000 image: Java Advanced Imaging (JAI) Image I/O Tools are not installed\n",
      "Oct 27, 2022 11:22:34 PM org.apache.pdfbox.contentstream.PDFStreamEngine operatorException\n",
      "SEVERE: Cannot read JPEG2000 image: Java Advanced Imaging (JAI) Image I/O Tools are not installed\n",
      "Oct 27, 2022 11:22:35 PM org.apache.pdfbox.contentstream.PDFStreamEngine operatorException\n",
      "SEVERE: Cannot read JPEG2000 image: Java Advanced Imaging (JAI) Image I/O Tools are not installed\n",
      "Oct 27, 2022 11:22:35 PM org.apache.pdfbox.contentstream.PDFStreamEngine operatorException\n",
      "SEVERE: Cannot read JPEG2000 image: Java Advanced Imaging (JAI) Image I/O Tools are not installed\n",
      "Oct 27, 2022 11:22:35 PM org.apache.pdfbox.contentstream.PDFStreamEngine operatorException\n",
      "SEVERE: Cannot read JPEG2000 image: Java Advanced Imaging (JAI) Image I/O Tools are not installed\n",
      "Oct 27, 2022 11:22:35 PM org.apache.pdfbox.contentstream.PDFStreamEngine operatorException\n",
      "SEVERE: Cannot read JPEG2000 image: Java Advanced Imaging (JAI) Image I/O Tools are not installed\n",
      "Oct 27, 2022 11:22:36 PM org.apache.pdfbox.contentstream.PDFStreamEngine operatorException\n",
      "SEVERE: Cannot read JPEG2000 image: Java Advanced Imaging (JAI) Image I/O Tools are not installed\n",
      "Oct 27, 2022 11:22:36 PM org.apache.pdfbox.contentstream.PDFStreamEngine operatorException\n",
      "SEVERE: Cannot read JPEG2000 image: Java Advanced Imaging (JAI) Image I/O Tools are not installed\n",
      "Oct 27, 2022 11:22:36 PM org.apache.pdfbox.contentstream.PDFStreamEngine operatorException\n",
      "SEVERE: Cannot read JPEG2000 image: Java Advanced Imaging (JAI) Image I/O Tools are not installed\n",
      "Oct 27, 2022 11:22:36 PM org.apache.pdfbox.contentstream.PDFStreamEngine operatorException\n",
      "SEVERE: Cannot read JPEG2000 image: Java Advanced Imaging (JAI) Image I/O Tools are not installed\n",
      "Oct 27, 2022 11:22:36 PM org.apache.pdfbox.contentstream.PDFStreamEngine operatorException\n",
      "SEVERE: Cannot read JPEG2000 image: Java Advanced Imaging (JAI) Image I/O Tools are not installed\n",
      "\n"
     ]
    },
    {
     "name": "stderr",
     "output_type": "stream",
     "text": [
      "Got stderr: Oct 27, 2022 11:22:38 PM org.apache.pdfbox.contentstream.PDFStreamEngine operatorException\r\n",
      "SEVERE: Cannot read JPEG2000 image: Java Advanced Imaging (JAI) Image I/O Tools are not installed\r\n",
      "Oct 27, 2022 11:22:39 PM org.apache.pdfbox.contentstream.PDFStreamEngine operatorException\r\n",
      "SEVERE: Cannot read JPEG2000 image: Java Advanced Imaging (JAI) Image I/O Tools are not installed\r\n",
      "Oct 27, 2022 11:22:40 PM org.apache.pdfbox.contentstream.PDFStreamEngine operatorException\r\n",
      "SEVERE: Cannot read JPEG2000 image: Java Advanced Imaging (JAI) Image I/O Tools are not installed\r\n",
      "Oct 27, 2022 11:22:42 PM org.apache.pdfbox.contentstream.PDFStreamEngine operatorException\r\n",
      "SEVERE: Cannot read JPEG2000 image: Java Advanced Imaging (JAI) Image I/O Tools are not installed\r\n",
      "Oct 27, 2022 11:22:43 PM org.apache.pdfbox.contentstream.PDFStreamEngine operatorException\r\n",
      "SEVERE: Cannot read JPEG2000 image: Java Advanced Imaging (JAI) Image I/O Tools are not installed\r\n",
      "Oct 27, 2022 11:22:43 PM org.apache.pdfbox.contentstream.PDFStreamEngine operatorException\r\n",
      "SEVERE: Cannot read JPEG2000 image: Java Advanced Imaging (JAI) Image I/O Tools are not installed\r\n",
      "Oct 27, 2022 11:22:44 PM org.apache.pdfbox.contentstream.PDFStreamEngine operatorException\r\n",
      "SEVERE: Cannot read JPEG2000 image: Java Advanced Imaging (JAI) Image I/O Tools are not installed\r\n",
      "Oct 27, 2022 11:22:45 PM org.apache.pdfbox.contentstream.PDFStreamEngine operatorException\r\n",
      "SEVERE: Cannot read JPEG2000 image: Java Advanced Imaging (JAI) Image I/O Tools are not installed\r\n",
      "Oct 27, 2022 11:22:45 PM org.apache.pdfbox.contentstream.PDFStreamEngine operatorException\r\n",
      "SEVERE: Cannot read JPEG2000 image: Java Advanced Imaging (JAI) Image I/O Tools are not installed\r\n",
      "Oct 27, 2022 11:22:45 PM org.apache.pdfbox.contentstream.PDFStreamEngine operatorException\r\n",
      "SEVERE: Cannot read JPEG2000 image: Java Advanced Imaging (JAI) Image I/O Tools are not installed\r\n",
      "\n"
     ]
    },
    {
     "name": "stdout",
     "output_type": "stream",
     "text": [
      "Finished with file: Hammerson 2021 Sustainability Report.pdf\n",
      "Starting with file: Icade 2021 URD.pdf\n"
     ]
    },
    {
     "name": "stderr",
     "output_type": "stream",
     "text": [
      "Got stderr: Oct 27, 2022 11:25:07 PM org.apache.pdfbox.pdmodel.graphics.color.PDICCBased ensureDisplayProfile\r\n",
      "WARNING: ICC profile is Perceptual, ignoring, treating as Display class\r\n",
      "Oct 27, 2022 11:25:09 PM org.apache.pdfbox.pdmodel.graphics.color.PDICCBased ensureDisplayProfile\r\n",
      "WARNING: ICC profile is Perceptual, ignoring, treating as Display class\r\n",
      "\n"
     ]
    },
    {
     "name": "stdout",
     "output_type": "stream",
     "text": [
      "Finished with file: Icade 2021 URD.pdf\n",
      "Starting with file: Klepierre 2021 URD.pdf\n"
     ]
    },
    {
     "name": "stderr",
     "output_type": "stream",
     "text": [
      "Got stderr: Oct 27, 2022 11:26:57 PM org.apache.pdfbox.pdmodel.font.PDSimpleFont toUnicode\n",
      "WARNING: No Unicode mapping for f_f (142) in font QBQXVG+Calibre_CC-Regular\n",
      "\n",
      "Xref table not zero-indexed. ID numbers for objects will be corrected.\n"
     ]
    },
    {
     "name": "stdout",
     "output_type": "stream",
     "text": [
      "Finished with file: Klepierre 2021 URD.pdf\n",
      "Starting with file: Prologis 2021-22 ESG Report.pdf\n"
     ]
    },
    {
     "name": "stderr",
     "output_type": "stream",
     "text": [
      "Xref table not zero-indexed. ID numbers for objects will be corrected.\n"
     ]
    },
    {
     "name": "stdout",
     "output_type": "stream",
     "text": [
      "Finished with file: Prologis 2021-22 ESG Report.pdf\n",
      "Starting with file: Swire Pacific 2021 Sustainability Report.pdf\n",
      "Finished with file: Swire Pacific 2021 Sustainability Report.pdf\n"
     ]
    },
    {
     "data": {
      "text/plain": [
       "''"
      ]
     },
     "execution_count": 15,
     "metadata": {},
     "output_type": "execute_result"
    }
   ],
   "source": [
    "get_images_keyword(DATA_FOLDER, keywords, 'images_datasets_tables/real_estate_images', table_only = True)"
   ]
  },
  {
   "cell_type": "code",
   "execution_count": null,
   "id": "ce5f3ba6",
   "metadata": {},
   "outputs": [],
   "source": []
  },
  {
   "cell_type": "code",
   "execution_count": null,
   "id": "78a6da36",
   "metadata": {},
   "outputs": [],
   "source": []
  }
 ],
 "metadata": {
  "kernelspec": {
   "display_name": "Python 3 (ipykernel)",
   "language": "python",
   "name": "python3"
  },
  "language_info": {
   "codemirror_mode": {
    "name": "ipython",
    "version": 3
   },
   "file_extension": ".py",
   "mimetype": "text/x-python",
   "name": "python",
   "nbconvert_exporter": "python",
   "pygments_lexer": "ipython3",
   "version": "3.9.12"
  }
 },
 "nbformat": 4,
 "nbformat_minor": 5
}
