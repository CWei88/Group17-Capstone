{
 "cells": [
  {
   "cell_type": "code",
   "execution_count": 9,
   "id": "55b3c65c",
   "metadata": {},
   "outputs": [],
   "source": [
    "import os\n",
    "import re\n",
    "\n",
    "import numpy as np\n",
    "import pandas as pd\n",
    "import PyPDF2\n",
    "import tabula\n",
    "from tabula import read_pdf\n",
    "from tabulate import tabulate\n",
    "import io\n",
    "import camelot\n",
    "from functools import reduce\n",
    "from pdfminer.high_level import extract_text\n",
    "import fitz"
   ]
  },
  {
   "cell_type": "code",
   "execution_count": 24,
   "id": "584fd1a6",
   "metadata": {},
   "outputs": [],
   "source": [
    "def retrieve_images(file_path,  output_path, keywords=[r'scope \\d', 'location-based', 'market-based'], table_only=True):\n",
    "    dataset_list = os.listdir(file_path)\n",
    "    for file in dataset_list:\n",
    "        #reading pdf file to filter keywords\n",
    "        pdfFile = open(file_path + '/' + file, 'rb')\n",
    "        pdfReader = PyPDF2.PdfFileReader(pdfFile)\n",
    "        totpages = pdfReader.numPages\n",
    "        \n",
    "        print(\"Starting with file: \" + file)\n",
    "        page_with_keywords = []\n",
    "        for p in range(pdfReader.numPages):\n",
    "            text = pdfReader.pages[p].extract_text().lower()\n",
    "            if any(re.search(x, text) for x in keywords):\n",
    "                if (p+1) not in page_with_keywords:\n",
    "                    page_with_keywords.append(p + 1)\n",
    "        \n",
    "        ## Filter for only tables.\n",
    "        if table_only:\n",
    "            table_pages = []\n",
    "            for i in page_with_keywords:\n",
    "                pdf = read_pdf(file_path + '/' + file, pages=i, stream=True, pandas_options={'header':'None'}, multiple_tables=True)\n",
    "                if len(pdf) > 0:\n",
    "                    table_pages.append(i)\n",
    "            page_with_keywords = table_pages\n",
    "        \n",
    "        ##Extract images\n",
    "        doc = fitz.open(file_path + '/' + file)\n",
    "        for i in page_with_keywords:\n",
    "            page = doc.load_page((i-1))\n",
    "            pix = page.get_pixmap()\n",
    "            output = output_path + '/' + str(file.split('.')[0]) + '_page_' + str(i) + '.png'\n",
    "            print(output)\n",
    "            pix.save(output)\n",
    "        \n",
    "        print('Finished with file: ' + file)\n",
    "    return \"\""
   ]
  },
  {
   "cell_type": "code",
   "execution_count": 14,
   "id": "04108f38",
   "metadata": {},
   "outputs": [],
   "source": [
    "DATA_FOLDER = 'test_dataset/documents'"
   ]
  },
  {
   "cell_type": "code",
   "execution_count": 25,
   "id": "ed196827",
   "metadata": {},
   "outputs": [
    {
     "name": "stderr",
     "output_type": "stream",
     "text": [
      "Xref table not zero-indexed. ID numbers for objects will be corrected.\n"
     ]
    },
    {
     "name": "stdout",
     "output_type": "stream",
     "text": [
      "Starting with file: alstria_Sustainability_Report_2020_2021-1.pdf\n"
     ]
    },
    {
     "name": "stderr",
     "output_type": "stream",
     "text": [
      "Got stderr: Nov 10, 2022 11:40:55 AM org.apache.pdfbox.pdmodel.font.PDSimpleFont toUnicode\n",
      "WARNING: No Unicode mapping for f_f_i (30) in font NLOUBS+SyntaxNextLTPro-Bold\n",
      "\n",
      "Got stderr: Nov 10, 2022 11:41:29 AM org.apache.pdfbox.pdmodel.font.PDSimpleFont toUnicode\n",
      "WARNING: No Unicode mapping for f_f_i (31) in font QBOXRM+SyntaxNextLTPro-Regular\n",
      "\n",
      "Got stderr: Nov 10, 2022 11:41:49 AM org.apache.pdfbox.pdmodel.font.PDSimpleFont toUnicode\n",
      "WARNING: No Unicode mapping for f_f_i (30) in font NLOUBS+SyntaxNextLTPro-Bold\n",
      "\n"
     ]
    },
    {
     "name": "stdout",
     "output_type": "stream",
     "text": [
      "test_dataset/images/alstria_Sustainability_Report_2020_2021-1_page_23.png\n",
      "test_dataset/images/alstria_Sustainability_Report_2020_2021-1_page_29.png\n",
      "test_dataset/images/alstria_Sustainability_Report_2020_2021-1_page_34.png\n",
      "test_dataset/images/alstria_Sustainability_Report_2020_2021-1_page_36.png\n",
      "test_dataset/images/alstria_Sustainability_Report_2020_2021-1_page_70.png\n",
      "test_dataset/images/alstria_Sustainability_Report_2020_2021-1_page_76.png\n",
      "test_dataset/images/alstria_Sustainability_Report_2020_2021-1_page_82.png\n",
      "test_dataset/images/alstria_Sustainability_Report_2020_2021-1_page_83.png\n",
      "test_dataset/images/alstria_Sustainability_Report_2020_2021-1_page_84.png\n",
      "test_dataset/images/alstria_Sustainability_Report_2020_2021-1_page_85.png\n",
      "test_dataset/images/alstria_Sustainability_Report_2020_2021-1_page_86.png\n",
      "test_dataset/images/alstria_Sustainability_Report_2020_2021-1_page_87.png\n",
      "test_dataset/images/alstria_Sustainability_Report_2020_2021-1_page_90.png\n",
      "test_dataset/images/alstria_Sustainability_Report_2020_2021-1_page_91.png\n",
      "test_dataset/images/alstria_Sustainability_Report_2020_2021-1_page_92.png\n",
      "test_dataset/images/alstria_Sustainability_Report_2020_2021-1_page_96.png\n",
      "Finished with file: alstria_Sustainability_Report_2020_2021-1.pdf\n",
      "Starting with file: nrg-2021-sustainability-report.pdf\n"
     ]
    },
    {
     "name": "stderr",
     "output_type": "stream",
     "text": [
      "Got stderr: Nov 10, 2022 11:43:04 AM org.apache.pdfbox.contentstream.PDFStreamEngine operatorException\n",
      "SEVERE: Cannot read JPEG2000 image: Java Advanced Imaging (JAI) Image I/O Tools are not installed\n",
      "Nov 10, 2022 11:43:05 AM org.apache.pdfbox.contentstream.PDFStreamEngine operatorException\n",
      "SEVERE: Cannot read JPEG2000 image: Java Advanced Imaging (JAI) Image I/O Tools are not installed\n",
      "Nov 10, 2022 11:43:06 AM org.apache.pdfbox.contentstream.PDFStreamEngine operatorException\n",
      "SEVERE: Cannot read JPEG2000 image: Java Advanced Imaging (JAI) Image I/O Tools are not installed\n",
      "\n",
      "Xref table not zero-indexed. ID numbers for objects will be corrected.\n"
     ]
    },
    {
     "name": "stdout",
     "output_type": "stream",
     "text": [
      "test_dataset/images/nrg-2021-sustainability-report_page_49.png\n",
      "Finished with file: nrg-2021-sustainability-report.pdf\n",
      "Starting with file: sustainability-accounts-2021-citycon(2).pdf\n",
      "test_dataset/images/sustainability-accounts-2021-citycon(2)_page_9.png\n",
      "test_dataset/images/sustainability-accounts-2021-citycon(2)_page_30.png\n",
      "test_dataset/images/sustainability-accounts-2021-citycon(2)_page_31.png\n",
      "Finished with file: sustainability-accounts-2021-citycon(2).pdf\n",
      "Starting with file: ubm_esg_report_2021.pdf\n",
      "test_dataset/images/ubm_esg_report_2021_page_116.png\n",
      "test_dataset/images/ubm_esg_report_2021_page_117.png\n",
      "test_dataset/images/ubm_esg_report_2021_page_118.png\n",
      "test_dataset/images/ubm_esg_report_2021_page_119.png\n",
      "test_dataset/images/ubm_esg_report_2021_page_120.png\n",
      "Finished with file: ubm_esg_report_2021.pdf\n"
     ]
    },
    {
     "data": {
      "text/plain": [
       "''"
      ]
     },
     "execution_count": 25,
     "metadata": {},
     "output_type": "execute_result"
    }
   ],
   "source": [
    "retrieve_images(DATA_FOLDER, 'test_dataset/images', table_only=True)"
   ]
  },
  {
   "cell_type": "code",
   "execution_count": null,
   "id": "669e412b",
   "metadata": {},
   "outputs": [],
   "source": []
  }
 ],
 "metadata": {
  "kernelspec": {
   "display_name": "Python 3 (ipykernel)",
   "language": "python",
   "name": "python3"
  },
  "language_info": {
   "codemirror_mode": {
    "name": "ipython",
    "version": 3
   },
   "file_extension": ".py",
   "mimetype": "text/x-python",
   "name": "python",
   "nbconvert_exporter": "python",
   "pygments_lexer": "ipython3",
   "version": "3.9.12"
  }
 },
 "nbformat": 4,
 "nbformat_minor": 5
}
