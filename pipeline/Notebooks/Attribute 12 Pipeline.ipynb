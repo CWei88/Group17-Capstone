{
 "cells": [
  {
   "cell_type": "code",
   "execution_count": 1,
   "id": "ced07a5d-dc7a-452f-8897-88479301c5fe",
   "metadata": {},
   "outputs": [],
   "source": [
    "import pandas as pd\n",
    "import numpy as np\n",
    "import string\n",
    "import warnings\n",
    "warnings.filterwarnings(\"ignore\")\n",
    "import sys  \n",
    "import os\n",
    "from dateutil.parser import parse\n",
    "# Enable logging for gensim - optional\n",
    "import logging\n",
    "logging.basicConfig(format='%(asctime)s : %(levelname)s : %(message)s', level=logging.ERROR)\n",
    "# Others\n",
    "import requests\n",
    "import string\n",
    "import re\n",
    "from pprint import pprint\n",
    "from tqdm.notebook import tqdm\n",
    "import io\n",
    "import nltk\n",
    "from nltk.stem.snowball import SnowballStemmer\n",
    "import spacy\n",
    "# spacy.cli.download(\"en_core_web_sm\")\n",
    "nlp = spacy.load(\"en_core_web_sm\", disable=['ner'])\n",
    "# NLTK Stop words\n",
    "from nltk.corpus import stopwords\n",
    "stop_words = stopwords.words('english')\n",
    "import pickle #pickle模块\n",
    "import tensorflow as tf\n",
    "from utils import extract_pdf,extract_pages_sentences,keyword_filter,custom_standardization,removeStopWords,stemSentence"
   ]
  },
  {
   "cell_type": "code",
   "execution_count": 2,
   "id": "7ca9bc7f-8cf1-40af-a8ef-0b2a2e8da9ac",
   "metadata": {},
   "outputs": [],
   "source": [
    "def predict(pdf_file,model,vectorizer):\n",
    "    text = extract_pdf(pdf_file)\n",
    "    pages_content, pages_sentences = extract_pages_sentences(spacy.load(\"en_core_web_sm\"),text)\n",
    "    df = keyword_filter(pages_sentences,['net-zero','net-zero','carbon neutral','commitment','target','long term','2030','2040','2045','2050',' neutrality','carbon free','carbon-free','zero emission','zero GHG emission','zero CO2 emission','SBTi','Science Based Targets initiative'])\n",
    "    df = df.reset_index()\n",
    "    df['sentence1'] = df['sentence'].apply(lambda x:tf.compat.as_str_any(custom_standardization(x).numpy()))\n",
    "    df['sentence1'] = df['sentence1'].apply(lambda x:removeStopWords(str(x)))\n",
    "    df['sentence1'] = df['sentence1'].apply(lambda x:stemSentence(str(x)))\n",
    "    X = vectorizer.transform(df['sentence'])\n",
    "    res = model.predict(X)\n",
    "    sentences = list(df[res == 1]['sentence'])\n",
    "    if len(sentences)>0:\n",
    "        label = 'Yes'\n",
    "    else:\n",
    "        label = 'False'\n",
    "    return label, sentences"
   ]
  },
  {
   "cell_type": "code",
   "execution_count": 5,
   "id": "2ea36113-0087-4a3a-8a27-a551fae2f3ca",
   "metadata": {},
   "outputs": [],
   "source": [
    "file = 'test_dataset/documents/ubm_esg_report_2021.pdf'\n",
    "with open('models/model_12.pkl', 'rb') as f:\n",
    "    model = pickle.load(f)\n",
    "with open('models/vectorizer_12.pkl', 'rb') as f:\n",
    "    vectorizer = pickle.load( f)"
   ]
  },
  {
   "cell_type": "code",
   "execution_count": 6,
   "id": "0c15b924-2d21-43e1-b72f-247f936ed012",
   "metadata": {},
   "outputs": [
    {
     "data": {
      "text/plain": [
       "('Yes',\n",
       " ['With the announcement of the Green Deal, the European Union under-scored its intention to make Europe the first climate-neutral continent in the world by 2050.',\n",
       "  'This important interim goal in the Green Deal will put Europe on course to become the worlds first climate-neutral continent by 2050.'])"
      ]
     },
     "execution_count": 6,
     "metadata": {},
     "output_type": "execute_result"
    }
   ],
   "source": [
    "predict(file,model,vectorizer)"
   ]
  },
  {
   "cell_type": "code",
   "execution_count": null,
   "id": "6a7eec1f-873a-4c71-97f2-ee3492dd14f9",
   "metadata": {},
   "outputs": [],
   "source": []
  }
 ],
 "metadata": {
  "kernelspec": {
   "display_name": "Python 3 (ipykernel)",
   "language": "python",
   "name": "python3"
  },
  "language_info": {
   "codemirror_mode": {
    "name": "ipython",
    "version": 3
   },
   "file_extension": ".py",
   "mimetype": "text/x-python",
   "name": "python",
   "nbconvert_exporter": "python",
   "pygments_lexer": "ipython3",
   "version": "3.9.12"
  }
 },
 "nbformat": 4,
 "nbformat_minor": 5
}
